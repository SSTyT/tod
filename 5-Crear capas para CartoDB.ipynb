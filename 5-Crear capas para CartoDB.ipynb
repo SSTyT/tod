{
 "cells": [
  {
   "cell_type": "markdown",
   "metadata": {},
   "source": [
    "# Mergear shps para crear las capas de CartoDB"
   ]
  },
  {
   "cell_type": "markdown",
   "metadata": {},
   "source": [
    "CartoDB permite el uso de sólo 4 capas para sus usuarios básicos, de manera que se mergearán los shps creando 4 capas principales: \n",
    "    1. Divisiones políticas de la CABA y sus indicadores (radios, fracciones, barrios y comunas)\n",
    "    2. Buffers de los points y sus indicadores.\n",
    "    3. Estaciones de subte, metrobús y ferrocarril.\n",
    "    4. Líneas de subte, metrobús, ferrocarril y colectivos."
   ]
  },
  {
   "cell_type": "code",
   "execution_count": 44,
   "metadata": {
    "collapsed": false
   },
   "outputs": [],
   "source": [
    "import os\n",
    "import scripts.path_finders as pf\n",
    "from scripts.cartodb_layers import merge_shapefiles\n",
    "import shapefile\n",
    "from scripts.create_indicators import get_or_create_indicators_df\n",
    "from scripts import recalculate_indicators"
   ]
  },
  {
   "cell_type": "markdown",
   "metadata": {},
   "source": [
    "## 1. Divisiones políticas de la CABA y sus indicadores (radios, fracciones, barrios y comunas)"
   ]
  },
  {
   "cell_type": "code",
   "execution_count": 45,
   "metadata": {
    "collapsed": false
   },
   "outputs": [],
   "source": [
    "paths_1 = {\n",
    "    \"RADIO\": pf.get_indic(\"RADIO\", \"shp\"),\n",
    "    \"BARRIO\": pf.get_indic(\"BARRIO\", \"shp\"),\n",
    "    \"DPTO\": pf.get_indic(\"comunas_censo_2010\"),\n",
    "    \"FRAC\": pf.get_indic(\"fracciones_censo_2010\")\n",
    "}\n",
    "group_fields_by_sf = {\n",
    "    \"RADIO\": {\"co_frac_ra\": \"id_div\"},\n",
    "    \"FRAC\": {\"co_fracc\": \"id_div\"},\n",
    "    \"BARRIO\": {\"barrios\": \"id_div\"},\n",
    "    \"DPTO\": {\"comunas\": \"id_div\"}\n",
    "}\n",
    "divs_path = pf.get_indic(\"divisiones\")"
   ]
  },
  {
   "cell_type": "code",
   "execution_count": 46,
   "metadata": {
    "collapsed": false
   },
   "outputs": [
    {
     "data": {
      "text/plain": [
       "{'BARRIO': u'/Users/abenassi/github/tod/indicadores/barrios_censo_2010/barrios_censo_2010',\n",
       " 'DPTO': u'/Users/abenassi/github/tod/indicadores/comunas_censo_2010/comunas_censo_2010',\n",
       " 'FRAC': u'/Users/abenassi/github/tod/indicadores/fracciones_censo_2010/fracciones_censo_2010',\n",
       " 'RADIO': u'/Users/abenassi/github/tod/indicadores/radios_censo_2010/radios_censo_2010'}"
      ]
     },
     "execution_count": 46,
     "metadata": {},
     "output_type": "execute_result"
    }
   ],
   "source": [
    "paths_1"
   ]
  },
  {
   "cell_type": "code",
   "execution_count": 47,
   "metadata": {
    "collapsed": false,
    "scrolled": true
   },
   "outputs": [
    {
     "name": "stdout",
     "output_type": "stream",
     "text": [
      "Merging 5 FRAC            fracciones_censo_2010\n",
      "Merging 5 DPTO            comunas_censo_2010\n",
      "Merging 5 RADIO           radios_censo_2010\n",
      "Merging 5 BARRIO          barrios_censo_2010\n"
     ]
    }
   ],
   "source": [
    "w = merge_shapefiles(paths_1, divs_path, group_fields_by_sf=group_fields_by_sf, \n",
    "                     prj_path=pf.get_prj(\"gkba_corregido\"))"
   ]
  },
  {
   "cell_type": "markdown",
   "metadata": {},
   "source": [
    "## 2. Estaciones de subte, metrobús y ferrocarril."
   ]
  },
  {
   "cell_type": "code",
   "execution_count": 48,
   "metadata": {
    "collapsed": true
   },
   "outputs": [],
   "source": [
    "paths_2 = {\n",
    "    \"est_sub_prem\": pf.get_shp(\"estaciones-premetro\"),\n",
    "    \"est_ffcc\": pf.get_shp(\"estaciones-ferrocarril\"),\n",
    "    \"est_subte\": pf.get_shp(\"subte-estaciones\"),\n",
    "    \"est_metrobus\": pf.get_shp(\"metrobus-estaciones\")\n",
    "}\n",
    "group_fields = {\n",
    "    \"estacion\": [\"estacion\", \"nombre\"],\n",
    "    \"linea\": [\"linea\", \"metrobus\", \"lineasub\"]\n",
    "}\n",
    "est_path = pf.get_indic(\"estaciones\")"
   ]
  },
  {
   "cell_type": "code",
   "execution_count": 49,
   "metadata": {
    "collapsed": false
   },
   "outputs": [
    {
     "name": "stdout",
     "output_type": "stream",
     "text": [
      "Merging 1 est_metrobus    estaciones_de_metrobus\n",
      "Merging 1 est_ffcc        estaciones_de_ferrocarril\n",
      "Merging 1 est_sub_prem    estaciones_de_premetro\n",
      "Merging 1 est_subte       estaciones_de_subte\n"
     ]
    }
   ],
   "source": [
    "merge_shapefiles(paths_2, est_path, group_fields=group_fields, prj_path=pf.get_prj(\"gkba_corregido\"))"
   ]
  },
  {
   "cell_type": "markdown",
   "metadata": {},
   "source": [
    "## 3. Líneas de subte, metrobús, ferrocarril y colectivos."
   ]
  },
  {
   "cell_type": "code",
   "execution_count": 50,
   "metadata": {
    "collapsed": false
   },
   "outputs": [],
   "source": [
    "paths_3 = {\n",
    "    \"lin_colectivos\": pf.get_shp(\"recorridos_de_colectivos\"),\n",
    "    \"lin_sub_prem\": pf.get_shp(\"recorrido-premetro\"),\n",
    "    \"lin_metrobus\": pf.get_shp(\"recorrido_metrobus\"),\n",
    "    \"lin_ffcc\": pf.get_shp(\"linea-ferrocarril\"),\n",
    "    \"lin_subte\": pf.get_shp(\"subte-lineas\")\n",
    "}\n",
    "group_fields = {\n",
    "    \"linea\": [\"linea\", \"metrobus\", \"lineasub\"]\n",
    "}\n",
    "lines_path = pf.get_indic(\"lineas\")"
   ]
  },
  {
   "cell_type": "code",
   "execution_count": 51,
   "metadata": {
    "collapsed": false
   },
   "outputs": [
    {
     "name": "stdout",
     "output_type": "stream",
     "text": [
      "Merging 3 lin_ffcc        linea ferrocarril_1991\n",
      "Merging 3 lin_metrobus    recorrido_de_metrobus\n",
      "Merging 3 lin_subte       red_de_subte\n",
      "Merging 3 lin_sub_prem    red_de_premetro\n",
      "Merging 3 lin_colectivos  recorridos_de_colectivos\n"
     ]
    }
   ],
   "source": [
    "merge_shapefiles(paths_3, lines_path, group_fields=group_fields, prj_path=pf.get_prj(\"gkba_corregido\"))"
   ]
  },
  {
   "cell_type": "markdown",
   "metadata": {},
   "source": [
    "## 4. Buffers de las estaciones y sus indicadores."
   ]
  },
  {
   "cell_type": "code",
   "execution_count": 52,
   "metadata": {
    "collapsed": true
   },
   "outputs": [],
   "source": [
    "replacements = {\n",
    "    \"accesibilidad_en_estaciones_de_subte\": \"est_sub_acc\",\n",
    "    \"estaciones_de_ferrocarril\": \"est_ffcc\",\n",
    "    \"estaciones_de_metrobus\": \"est_metrobus\",\n",
    "    \"estaciones_de_premetro\": \"est_sub_prem\",\n",
    "    \"estaciones_de_subte\": \"est_subte\"\n",
    "}\n",
    "group_fields = {\n",
    "    \"estacion\": [\"estacion\", \"nombre\"],\n",
    "    \"linea\": [\"linea\", \"metrobus\"]\n",
    "}\n",
    "buffers_dir = pf.get(\"indicadores/buffers\")\n",
    "buffers_est_path = pf.get_indic(\"buffers_estaciones\")"
   ]
  },
  {
   "cell_type": "code",
   "execution_count": 53,
   "metadata": {
    "collapsed": false
   },
   "outputs": [
    {
     "name": "stdout",
     "output_type": "stream",
     "text": [
      "Merging 5 est_subte-buffer750 estaciones_de_subte-buffer750\n",
      "Merging 5 est_metrobus-buffer500 estaciones_de_metrobus-buffer500\n",
      "Merging 5 est_metrobus-buffer750 estaciones_de_metrobus-buffer750\n",
      "Merging 5 est_sub_prem-buffer500 estaciones_de_premetro-buffer500\n",
      "Merging 5 est_sub_prem-buffer300 estaciones_de_premetro-buffer300\n",
      "Merging 5 recorrido_de_metrobus-buffer2000 recorrido_de_metrobus-buffer2000\n",
      "Merging 5 recorrido_de_metrobus-buffer1500 recorrido_de_metrobus-buffer1500\n",
      "Merging 5 est_metrobus-buffer1500 estaciones_de_metrobus-buffer1500\n",
      "Merging 5 est_subte-buffer500 estaciones_de_subte-buffer500\n",
      "Merging 5 est_ffcc-buffer2000 estaciones_de_ferrocarril-buffer2000\n",
      "Merging 5 est_sub_prem-buffer1000 estaciones_de_premetro-buffer1000\n",
      "Merging 5 est_subte-buffer2000 estaciones_de_subte-buffer2000\n",
      "Merging 5 est_metrobus-buffer300 estaciones_de_metrobus-buffer300\n",
      "Merging 5 est_metrobus-buffer1000 estaciones_de_metrobus-buffer1000\n",
      "Merging 5 est_ffcc-buffer1500 estaciones_de_ferrocarril-buffer1500\n",
      "Merging 5 est_ffcc-buffer500 estaciones_de_ferrocarril-buffer500\n",
      "Merging 5 est_sub_prem-buffer2000 estaciones_de_premetro-buffer2000\n",
      "Merging 5 est_ffcc-buffer1000 estaciones_de_ferrocarril-buffer1000\n",
      "Merging 5 est_subte-buffer300 estaciones_de_subte-buffer300\n",
      "Merging 5 est_ffcc-buffer300 estaciones_de_ferrocarril-buffer300\n",
      "Merging 5 est_ffcc-buffer750 estaciones_de_ferrocarril-buffer750\n",
      "Merging 5 recorrido_de_metrobus-buffer300 recorrido_de_metrobus-buffer300\n",
      "Merging 5 est_metrobus-buffer2000 estaciones_de_metrobus-buffer2000\n",
      "Merging 5 est_subte-buffer1500 estaciones_de_subte-buffer1500\n",
      "Merging 5 est_sub_prem-buffer1500 estaciones_de_premetro-buffer1500\n",
      "Merging 5 recorrido_de_metrobus-buffer1000 recorrido_de_metrobus-buffer1000\n",
      "Merging 5 est_sub_prem-buffer750 estaciones_de_premetro-buffer750\n",
      "Merging 5 est_subte-buffer1000 estaciones_de_subte-buffer1000\n"
     ]
    }
   ],
   "source": [
    "merge_shapefiles(buffers_dir, buffers_est_path, replacements=replacements, group_fields=group_fields,\n",
    "                prj_path=pf.get_prj(\"gkba_corregido\"))"
   ]
  },
  {
   "cell_type": "code",
   "execution_count": null,
   "metadata": {
    "collapsed": true
   },
   "outputs": [],
   "source": []
  }
 ],
 "metadata": {
  "kernelspec": {
   "display_name": "Python 2",
   "language": "python",
   "name": "python2"
  },
  "language_info": {
   "codemirror_mode": {
    "name": "ipython",
    "version": 2
   },
   "file_extension": ".py",
   "mimetype": "text/x-python",
   "name": "python",
   "nbconvert_exporter": "python",
   "pygments_lexer": "ipython2",
   "version": "2.7.10"
  }
 },
 "nbformat": 4,
 "nbformat_minor": 0
}
