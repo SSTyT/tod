{
 "cells": [
  {
   "cell_type": "markdown",
   "metadata": {},
   "source": [
    "# Mergear shps para crear las capas de CartoDB"
   ]
  },
  {
   "cell_type": "markdown",
   "metadata": {},
   "source": [
    "CartoDB permite el uso de sólo 4 capas para sus usuarios básicos, de manera que se mergearán los shps creando 4 capas principales: \n",
    "    1. Divisiones políticas de la CABA y sus indicadores (radios, fracciones, barrios y comunas)\n",
    "    2. Estaciones de subte, metrobús y ferrocarril.\n",
    "    3. Líneas de subte, metrobús, ferrocarril y colectivos.\n",
    "    4. Buffers de los points y sus indicadores."
   ]
  },
  {
   "cell_type": "code",
   "execution_count": 10,
   "metadata": {
    "collapsed": false
   },
   "outputs": [],
   "source": [
    "import os\n",
    "from scripts.path_finders import get_indicators_shp_path, get_indicators_dir, get_indicators_path\n",
    "from scripts.path_finders import get_transport_shp_path\n",
    "from scripts.cartodb_layers import merge_shapefiles\n",
    "import shapefile\n",
    "from scripts.create_indicators import get_or_create_indicators_df\n",
    "from scripts import recalculate_indicators"
   ]
  },
  {
   "cell_type": "markdown",
   "metadata": {},
   "source": [
    "## 1. Divisiones políticas de la CABA y sus indicadores (radios, fracciones, barrios y comunas)"
   ]
  },
  {
   "cell_type": "code",
   "execution_count": 11,
   "metadata": {
    "collapsed": false
   },
   "outputs": [],
   "source": [
    "paths_1 = {\n",
    "    \"RADIO\": get_indicators_shp_path(\"radios_censo_2010\"),\n",
    "    \"BARRIO\": get_indicators_shp_path(\"barrios_censo_2010\"),\n",
    "    \"DPTO\": get_indicators_shp_path(\"comunas_censo_2010\"),\n",
    "    \"FRAC\": get_indicators_shp_path(\"fracciones_censo_2010\")\n",
    "}\n",
    "group_fields_by_sf = {\n",
    "    \"RADIO\": {\"co_frac_ra\": \"id_div\"},\n",
    "    \"FRAC\": {\"co_fracc\": \"id_div\"},\n",
    "    \"BARRIO\": {\"barrios\": \"id_div\"},\n",
    "    \"DPTO\": {\"comunas\": \"id_div\"}\n",
    "}\n",
    "divs_path = os.path.join(get_indicators_dir(), \"divisiones\", \"divisiones\")"
   ]
  },
  {
   "cell_type": "code",
   "execution_count": 12,
   "metadata": {
    "collapsed": false
   },
   "outputs": [
    {
     "name": "stdout",
     "output_type": "stream",
     "text": [
      "Merging 5 FRAC            fracciones_censo_2010\n",
      "Merging 5 DPTO            comunas_censo_2010\n",
      "Merging 5 RADIO           radios_censo_2010\n",
      "Merging 5 BARRIO          barrios_censo_2010\n"
     ]
    }
   ],
   "source": [
    "w = merge_shapefiles(paths_1, divs_path, group_fields_by_sf=group_fields_by_sf)"
   ]
  },
  {
   "cell_type": "markdown",
   "metadata": {},
   "source": [
    "## 2. Estaciones de subte, metrobús y ferrocarril."
   ]
  },
  {
   "cell_type": "code",
   "execution_count": 13,
   "metadata": {
    "collapsed": true
   },
   "outputs": [],
   "source": [
    "paths_2 = {\n",
    "    \"est_sub_prem\": get_transport_shp_path(\"estaciones-premetro\"),\n",
    "    \"est_ffcc\": get_transport_shp_path(\"estaciones-ferrocarril\"),\n",
    "    \"est_subte\": get_transport_shp_path(\"subte-estaciones\"),\n",
    "    \"est_metrobus\": get_transport_shp_path(\"metrobus-estaciones\")\n",
    "}\n",
    "group_fields = {\n",
    "    \"estacion\": [\"estacion\", \"nombre\"]\n",
    "}\n",
    "est_path = os.path.join(get_indicators_dir(), \"estaciones\", \"estaciones\")"
   ]
  },
  {
   "cell_type": "code",
   "execution_count": 14,
   "metadata": {
    "collapsed": false
   },
   "outputs": [
    {
     "name": "stdout",
     "output_type": "stream",
     "text": [
      "Merging 1 est_metrobus    estaciones_de_metrobus\n",
      "Merging 1 est_ffcc        estaciones_de_ferrocarril\n",
      "Merging 1 est_sub_prem    estaciones_de_premetro\n",
      "Merging 1 est_subte       estaciones_de_subte\n"
     ]
    }
   ],
   "source": [
    "merge_shapefiles(paths_2, est_path, group_fields=group_fields)"
   ]
  },
  {
   "cell_type": "markdown",
   "metadata": {},
   "source": [
    "## 3. Líneas de subte, metrobús, ferrocarril y colectivos."
   ]
  },
  {
   "cell_type": "code",
   "execution_count": 15,
   "metadata": {
    "collapsed": false
   },
   "outputs": [],
   "source": [
    "paths_3 = {\n",
    "    \"lin_colectivos\": get_transport_shp_path(\"recorridos_de_colectivos\"),\n",
    "    \"lin_sub_prem\": get_transport_shp_path(\"recorrido-premetro\"),\n",
    "    \"lin_metrobus\": get_transport_shp_path(\"recorrido_metrobus\"),\n",
    "    \"lin_ffcc\": get_transport_shp_path(\"linea-ferrocarril\"),\n",
    "    \"lin_subte\": get_transport_shp_path(\"subte-lineas\")\n",
    "}\n",
    "group_fields = {\n",
    "    \"linea\": [\"linea\", \"metrobus\"]\n",
    "}\n",
    "lines_path = os.path.join(get_indicators_dir(), \"lineas\", \"lineas\")"
   ]
  },
  {
   "cell_type": "code",
   "execution_count": 16,
   "metadata": {
    "collapsed": false
   },
   "outputs": [
    {
     "name": "stdout",
     "output_type": "stream",
     "text": [
      "Merging 3 lin_ffcc        linea ferrocarril_1991\n",
      "Merging 3 lin_metrobus    recorrido_de_metrobus\n",
      "Merging 3 lin_subte       red_de_subte\n",
      "Merging 3 lin_sub_prem    red_de_premetro\n",
      "Merging 3 lin_colectivos  recorridos_de_colectivos\n"
     ]
    }
   ],
   "source": [
    "merge_shapefiles(paths_3, lines_path, group_fields=group_fields)"
   ]
  },
  {
   "cell_type": "markdown",
   "metadata": {},
   "source": [
    "## 4. Buffers de las estaciones y sus indicadores."
   ]
  },
  {
   "cell_type": "code",
   "execution_count": 17,
   "metadata": {
    "collapsed": true
   },
   "outputs": [],
   "source": [
    "replacements = {\n",
    "    \"accesibilidad_en_estaciones_de_subte\": \"est_sub_acc\",\n",
    "    \"estaciones_de_ferrocarril\": \"est_ffcc\",\n",
    "    \"estaciones_de_metrobus\": \"est_metrobus\",\n",
    "    \"estaciones_de_premetro\": \"est_sub_prem\",\n",
    "    \"estaciones_de_subte\": \"est_subte\"\n",
    "}\n",
    "group_fields = {\n",
    "    \"estacion\": [\"estacion\", \"nombre\"],\n",
    "    \"linea\": [\"linea\", \"metrobus\"]\n",
    "}\n",
    "buffers_dir = os.path.join(get_indicators_dir(), \"buffers\")\n",
    "buffers_est_path = os.path.join(get_indicators_dir(), \"buffers_estaciones\", \"buffers_estaciones\")"
   ]
  },
  {
   "cell_type": "code",
   "execution_count": 18,
   "metadata": {
    "collapsed": false
   },
   "outputs": [
    {
     "name": "stdout",
     "output_type": "stream",
     "text": [
      "Merging 5 est_subte-buffer750 estaciones_de_subte-buffer750\n",
      "Merging 5 est_metrobus-buffer500 estaciones_de_metrobus-buffer500\n",
      "Merging 5 est_metrobus-buffer750 estaciones_de_metrobus-buffer750\n",
      "Merging 5 est_sub_prem-buffer500 estaciones_de_premetro-buffer500\n",
      "Merging 5 est_sub_prem-buffer300 estaciones_de_premetro-buffer300\n",
      "Merging 5 est_metrobus-buffer1500 estaciones_de_metrobus-buffer1500\n",
      "Merging 5 est_subte-buffer500 estaciones_de_subte-buffer500\n",
      "Merging 5 est_ffcc-buffer2000 estaciones_de_ferrocarril-buffer2000\n",
      "Merging 5 est_sub_prem-buffer1000 estaciones_de_premetro-buffer1000\n",
      "Merging 5 est_subte-buffer2000 estaciones_de_subte-buffer2000\n",
      "Merging 5 est_metrobus-buffer300 estaciones_de_metrobus-buffer300\n",
      "Merging 5 est_metrobus-buffer1000 estaciones_de_metrobus-buffer1000\n",
      "Merging 5 est_ffcc-buffer1500 estaciones_de_ferrocarril-buffer1500\n",
      "Merging 5 est_ffcc-buffer500 estaciones_de_ferrocarril-buffer500\n",
      "Merging 5 est_sub_prem-buffer2000 estaciones_de_premetro-buffer2000\n",
      "Merging 5 est_ffcc-buffer1000 estaciones_de_ferrocarril-buffer1000\n",
      "Merging 5 est_subte-buffer300 estaciones_de_subte-buffer300\n",
      "Merging 5 est_ffcc-buffer300 estaciones_de_ferrocarril-buffer300\n",
      "Merging 5 est_ffcc-buffer750 estaciones_de_ferrocarril-buffer750\n",
      "Merging 5 est_metrobus-buffer2000 estaciones_de_metrobus-buffer2000\n",
      "Merging 5 est_subte-buffer1500 estaciones_de_subte-buffer1500\n",
      "Merging 5 est_sub_prem-buffer1500 estaciones_de_premetro-buffer1500\n",
      "Merging 5 est_sub_prem-buffer750 estaciones_de_premetro-buffer750\n",
      "Merging 5 est_subte-buffer1000 estaciones_de_subte-buffer1000\n"
     ]
    }
   ],
   "source": [
    "merge_shapefiles(buffers_dir, buffers_est_path, replacements=replacements, group_fields=group_fields)"
   ]
  }
 ],
 "metadata": {
  "kernelspec": {
   "display_name": "Python 2",
   "language": "python",
   "name": "python2"
  },
  "language_info": {
   "codemirror_mode": {
    "name": "ipython",
    "version": 2
   },
   "file_extension": ".py",
   "mimetype": "text/x-python",
   "name": "python",
   "nbconvert_exporter": "python",
   "pygments_lexer": "ipython2",
   "version": "2.7.10"
  }
 },
 "nbformat": 4,
 "nbformat_minor": 0
}
