{
 "cells": [
  {
   "cell_type": "markdown",
   "metadata": {},
   "source": [
    "# Mergear shps para crear las capas de CartoDB"
   ]
  },
  {
   "cell_type": "markdown",
   "metadata": {},
   "source": [
    "CartoDB permite el uso de sólo 4 capas para sus usuarios básicos, de manera que se mergearán los shps creando 4 capas principales: \n",
    "    1. Divisiones políticas de la CABA y sus indicadores (radios, fracciones, barrios y comunas)\n",
    "    2. Estaciones de subte, metrobús y ferrocarril.\n",
    "    3. Líneas de subte, metrobús, ferrocarril y colectivos.\n",
    "    4. Buffers de los points y sus indicadores."
   ]
  },
  {
   "cell_type": "code",
   "execution_count": 7,
   "metadata": {
    "collapsed": false
   },
   "outputs": [
    {
     "name": "stdout",
     "output_type": "stream",
     "text": [
      "\n"
     ]
    }
   ],
   "source": [
    "import os\n",
    "from scripts.path_finders import get_indicators_shp_path, get_indicators_dir, get_indicators_path\n",
    "from scripts.path_finders import get_transport_shp_path\n",
    "from scripts.cartodb_layers import merge_shapefiles\n",
    "import shapefile\n",
    "from scripts.create_indicators import get_or_create_indicators_df\n",
    "from scripts import recalculate_indicators"
   ]
  },
  {
   "cell_type": "markdown",
   "metadata": {},
   "source": [
    "## 1. Divisiones políticas de la CABA y sus indicadores (radios, fracciones, barrios y comunas)"
   ]
  },
  {
   "cell_type": "code",
   "execution_count": 8,
   "metadata": {
    "collapsed": false
   },
   "outputs": [],
   "source": [
    "paths_1 = {\n",
    "    \"RADIO\": get_indicators_shp_path(\"radios_censo_2010\"),\n",
    "    \"BARRIO\": get_indicators_shp_path(\"barrios_censo_2010\"),\n",
    "    \"DPTO\": get_indicators_shp_path(\"comunas_censo_2010\"),\n",
    "    \"FRAC\": get_indicators_shp_path(\"fracciones_censo_2010\")\n",
    "}\n",
    "divs_path = os.path.join(get_indicators_dir(), \"divisiones\", \"divisiones\")"
   ]
  },
  {
   "cell_type": "code",
   "execution_count": 9,
   "metadata": {
    "collapsed": false
   },
   "outputs": [
    {
     "name": "stdout",
     "output_type": "stream",
     "text": [
      "Merging FRAC            fracciones_censo_2010\n",
      "Merging DPTO            comunas_censo_2010\n",
      "Merging RADIO           radios_censo_2010\n",
      "Merging BARRIO          barrios_censo_2010\n"
     ]
    }
   ],
   "source": [
    "merge_shapefiles(paths_1, divs_path)"
   ]
  },
  {
   "cell_type": "markdown",
   "metadata": {},
   "source": [
    "Recalculamos todos los indicadores por barrio."
   ]
  },
  {
   "cell_type": "code",
   "execution_count": 3,
   "metadata": {
    "collapsed": false
   },
   "outputs": [],
   "source": [
    "barrios_shp_dir = \"shp/divisiones/barrios_censo_2010\"\n",
    "recalculate_indicators.recalculate_indicators(barrios_shp_dir, \"RADIO\", skip=[\"14_10_2\"])"
   ]
  },
  {
   "cell_type": "markdown",
   "metadata": {},
   "source": [
    "Chequeamos que los indicadores calculados por barrio sean consistentes con el total de la CABA."
   ]
  },
  {
   "cell_type": "code",
   "execution_count": 4,
   "metadata": {
    "collapsed": true
   },
   "outputs": [],
   "source": [
    "shp_indic_barrios = \"indicadores/barrios_censo_2010/barrios_censo_2010\"\n",
    "shp_indic_comunas = \"indicadores/comunas_censo_2010/comunas_censo_2010\"\n",
    "shp_indic_fracciones = \"indicadores/fracciones_censo_2010/fracciones_censo_2010\"\n",
    "shp_indic_radios = \"indicadores/radios_censo_2010/radios_censo_2010\""
   ]
  },
  {
   "cell_type": "code",
   "execution_count": 5,
   "metadata": {
    "collapsed": true
   },
   "outputs": [],
   "source": [
    "def total_caba_population(shp_indicators):\n",
    "    sf = shapefile.Reader(shp_indicators)\n",
    "    pop_index = [field[0] for field in sf.fields[1:]].index(\"hab\")\n",
    "    return sum((record[pop_index] for record in sf.iterRecords() if record[pop_index] is not None))"
   ]
  },
  {
   "cell_type": "code",
   "execution_count": 6,
   "metadata": {
    "collapsed": false
   },
   "outputs": [
    {
     "name": "stdout",
     "output_type": "stream",
     "text": [
      "2889007.41538\n",
      "0.0\n",
      "2890151.0\n",
      "2890151.0\n",
      "Margen de error"
     ]
    },
    {
     "ename": "ZeroDivisionError",
     "evalue": "float division by zero",
     "output_type": "error",
     "traceback": [
      "\u001b[0;31m---------------------------------------------------------------------------\u001b[0m",
      "\u001b[0;31mZeroDivisionError\u001b[0m                         Traceback (most recent call last)",
      "\u001b[0;32m<ipython-input-6-4e5755f12d1c>\u001b[0m in \u001b[0;36m<module>\u001b[0;34m()\u001b[0m\n\u001b[1;32m      4\u001b[0m \u001b[0;32mprint\u001b[0m \u001b[0mtotal_caba_population\u001b[0m\u001b[0;34m(\u001b[0m\u001b[0mshp_indic_radios\u001b[0m\u001b[0;34m)\u001b[0m\u001b[0;34m\u001b[0m\u001b[0m\n\u001b[1;32m      5\u001b[0m \u001b[0;34m\u001b[0m\u001b[0m\n\u001b[0;32m----> 6\u001b[0;31m \u001b[0;32mprint\u001b[0m \u001b[0;34m\"Margen de error\"\u001b[0m\u001b[0;34m,\u001b[0m \u001b[0mtotal_caba_population\u001b[0m\u001b[0;34m(\u001b[0m\u001b[0mshp_indic_barrios\u001b[0m\u001b[0;34m)\u001b[0m \u001b[0;34m/\u001b[0m \u001b[0mtotal_caba_population\u001b[0m\u001b[0;34m(\u001b[0m\u001b[0mshp_indic_comunas\u001b[0m\u001b[0;34m)\u001b[0m \u001b[0;34m-\u001b[0m \u001b[0;36m1\u001b[0m\u001b[0;34m\u001b[0m\u001b[0m\n\u001b[0m",
      "\u001b[0;31mZeroDivisionError\u001b[0m: float division by zero"
     ]
    }
   ],
   "source": [
    "print total_caba_population(shp_indic_barrios)\n",
    "print total_caba_population(shp_indic_comunas)\n",
    "print total_caba_population(shp_indic_fracciones)\n",
    "print total_caba_population(shp_indic_radios)\n",
    "\n",
    "print \"Margen de error\", total_caba_population(shp_indic_barrios) / total_caba_population(shp_indic_comunas) - 1"
   ]
  },
  {
   "cell_type": "markdown",
   "metadata": {},
   "source": [
    "## 2. Estaciones de subte, metrobús y ferrocarril."
   ]
  },
  {
   "cell_type": "code",
   "execution_count": 114,
   "metadata": {
    "collapsed": true
   },
   "outputs": [],
   "source": [
    "paths_2 = {\n",
    "    \"est_sub_acc\": get_transport_shp_path(\"estaciones-accesibles\"),\n",
    "    \"est_sub_prem\": get_transport_shp_path(\"estaciones-premetro\"),\n",
    "    \"est_ffcc\": get_transport_shp_path(\"estaciones-ferrocarril\"),\n",
    "    \"est_subte\": get_transport_shp_path(\"subte-estaciones\"),\n",
    "    \"est_metrobus\": get_transport_shp_path(\"metrobus-estaciones\")\n",
    "}\n",
    "est_path = os.path.join(get_indicators_dir(), \"estaciones\", \"estaciones\")"
   ]
  },
  {
   "cell_type": "code",
   "execution_count": 115,
   "metadata": {
    "collapsed": false
   },
   "outputs": [
    {
     "name": "stdout",
     "output_type": "stream",
     "text": [
      "Merging est_metrobus    estaciones_de_metrobus\n",
      "Merging est_ffcc        estaciones_de_ferrocarril\n",
      "Merging est_sub_acc     accesibilidad_en_estaciones_de_subte\n",
      "Merging est_sub_prem    estaciones_de_premetro\n",
      "Merging est_subte       estaciones_de_subte\n"
     ]
    }
   ],
   "source": [
    "merge_shapefiles(paths_2, est_path)"
   ]
  },
  {
   "cell_type": "markdown",
   "metadata": {},
   "source": [
    "## 3. Líneas de subte, metrobús, ferrocarril y colectivos."
   ]
  },
  {
   "cell_type": "code",
   "execution_count": 116,
   "metadata": {
    "collapsed": true
   },
   "outputs": [],
   "source": [
    "paths_3 = {\n",
    "    \"lin_colectivos\": get_transport_shp_path(\"recorridos_de_colectivos\"),\n",
    "    \"lin_sub_prem\": get_transport_shp_path(\"recorrido-premetro\"),\n",
    "    \"lin_metrobus\": get_transport_shp_path(\"metrobus-recorrido\"),\n",
    "    \"lin_ffcc\": get_transport_shp_path(\"linea-ferrocarril\"),\n",
    "    \"lin_subte\": get_transport_shp_path(\"subte-lineas\")\n",
    "}\n",
    "lines_path = os.path.join(get_indicators_dir(), \"lineas\", \"lineas\")"
   ]
  },
  {
   "cell_type": "code",
   "execution_count": 117,
   "metadata": {
    "collapsed": false
   },
   "outputs": [
    {
     "name": "stdout",
     "output_type": "stream",
     "text": [
      "Merging lin_ffcc        linea ferrocarril_1991\n",
      "Merging lin_metrobus    recorrido_de_metrobus\n",
      "Merging lin_subte       red_de_subte\n",
      "Merging lin_sub_prem    red_de_premetro\n",
      "Merging lin_colectivos  recorridos_de_colectivos\n"
     ]
    }
   ],
   "source": [
    "merge_shapefiles(paths_3, lines_path)"
   ]
  },
  {
   "cell_type": "markdown",
   "metadata": {},
   "source": [
    "## 4. Buffers de las estaciones y sus indicadores."
   ]
  },
  {
   "cell_type": "code",
   "execution_count": 118,
   "metadata": {
    "collapsed": true
   },
   "outputs": [],
   "source": [
    "replacements = {\n",
    "    \"accesibilidad_en_estaciones_de_subte\": \"est_sub_acc\",\n",
    "    \"estaciones_de_ferrocarril\": \"est_ffcc\",\n",
    "    \"estaciones_de_metrobus\": \"est_metrobus\",\n",
    "    \"estaciones_de_premetro\": \"est_sub_prem\",\n",
    "    \"estaciones_de_subte\": \"est_subte\"\n",
    "}\n",
    "buffers_dir = os.path.join(get_indicators_dir(), \"buffers\")\n",
    "buffers_est_path = os.path.join(get_indicators_dir(), \"buffers_estaciones\", \"buffers_estaciones\")"
   ]
  },
  {
   "cell_type": "code",
   "execution_count": 119,
   "metadata": {
    "collapsed": false
   },
   "outputs": [
    {
     "name": "stdout",
     "output_type": "stream",
     "text": [
      "Merging est_sub_prem-buffer2000 estaciones_de_premetro-buffer2000\n",
      "Merging est_ffcc-buffer2000 estaciones_de_ferrocarril-buffer2000\n",
      "Merging est_metrobus-buffer500 estaciones_de_metrobus-buffer500\n",
      "Merging est_ffcc-buffer1000 estaciones_de_ferrocarril-buffer1000\n",
      "Merging est_sub_prem-buffer1000 estaciones_de_premetro-buffer1000\n",
      "Merging est_metrobus-buffer2000 estaciones_de_metrobus-buffer2000\n",
      "Merging est_subte-buffer1500 estaciones_de_subte-buffer1500\n",
      "Merging est_sub_prem-buffer1500 estaciones_de_premetro-buffer1500\n",
      "Merging est_sub_acc-buffer1500 accesibilidad_en_estaciones_de_subte-buffer1500\n",
      "Merging est_subte-buffer2000 estaciones_de_subte-buffer2000\n",
      "Merging est_sub_acc-buffer500 accesibilidad_en_estaciones_de_subte-buffer500\n",
      "Merging est_subte-buffer500 estaciones_de_subte-buffer500\n",
      "Merging est_sub_prem-buffer500 estaciones_de_premetro-buffer500\n",
      "Merging est_sub_acc-buffer1000 accesibilidad_en_estaciones_de_subte-buffer1000\n",
      "Merging est_sub_acc-buffer2000 accesibilidad_en_estaciones_de_subte-buffer2000\n",
      "Merging est_metrobus-buffer1000 estaciones_de_metrobus-buffer1000\n",
      "Merging est_ffcc-buffer1500 estaciones_de_ferrocarril-buffer1500\n",
      "Merging est_metrobus-buffer1500 estaciones_de_metrobus-buffer1500\n",
      "Merging est_ffcc-buffer500 estaciones_de_ferrocarril-buffer500\n",
      "Merging est_subte-buffer1000 estaciones_de_subte-buffer1000\n"
     ]
    }
   ],
   "source": [
    "merge_shapefiles(buffers_dir, buffers_est_path, replacements=replacements)"
   ]
  }
 ],
 "metadata": {
  "kernelspec": {
   "display_name": "Python 2",
   "language": "python",
   "name": "python2"
  },
  "language_info": {
   "codemirror_mode": {
    "name": "ipython",
    "version": 2
   },
   "file_extension": ".py",
   "mimetype": "text/x-python",
   "name": "python",
   "nbconvert_exporter": "python",
   "pygments_lexer": "ipython2",
   "version": "2.7.10"
  }
 },
 "nbformat": 4,
 "nbformat_minor": 0
}
