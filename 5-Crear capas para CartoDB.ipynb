{
 "cells": [
  {
   "cell_type": "markdown",
   "metadata": {},
   "source": [
    "# Mergear shps para crear las capas de CartoDB"
   ]
  },
  {
   "cell_type": "markdown",
   "metadata": {},
   "source": [
    "CartoDB permite el uso de sólo 4 capas para sus usuarios básicos, de manera que se mergearán los shps creando 4 capas principales: \n",
    "    1. Divisiones políticas de la CABA y sus indicadores (radios, fracciones, barrios y comunas)\n",
    "    2. Points: estaciones de subte, metrobús y ferrocarril.\n",
    "    3. Lines: líneas de subte, metrobús, ferrocarril y colectivos.\n",
    "    4. Buffers: buffers de los points y sus indicadores."
   ]
  },
  {
   "cell_type": "code",
   "execution_count": 89,
   "metadata": {
    "collapsed": false
   },
   "outputs": [],
   "source": [
    "import os\n",
    "from scripts.path_finders import get_indicators_shp_path, get_indicators_dir, get_indicators_path\n",
    "from scripts.cartodb_layers import merge_shapefiles\n",
    "import shapefile\n",
    "from scripts.create_indicators import get_or_create_indicators_df"
   ]
  },
  {
   "cell_type": "code",
   "execution_count": 90,
   "metadata": {
    "collapsed": false
   },
   "outputs": [],
   "source": [
    "paths = {\n",
    "    \"RADIO\": get_indicators_shp_path(\"radios_censo_2010\"),\n",
    "    \"BARRIO\": get_indicators_shp_path(\"barrios_censo_2010\"),\n",
    "    \"DPTO\": get_indicators_shp_path(\"comunas_censo_2010\"),\n",
    "    \"FRAC\": get_indicators_shp_path(\"fracciones_censo_2010\")\n",
    "}"
   ]
  },
  {
   "cell_type": "code",
   "execution_count": 106,
   "metadata": {
    "collapsed": false
   },
   "outputs": [],
   "source": [
    "divs_path = os.path.join(get_indicators_dir(), \"divisiones\", \"divisiones\")"
   ]
  },
  {
   "cell_type": "code",
   "execution_count": 108,
   "metadata": {
    "collapsed": false
   },
   "outputs": [
    {
     "name": "stdout",
     "output_type": "stream",
     "text": [
      "Merging FRAC /Users/abenassi/github/tod/indicadores/fracciones_censo_2010/fracciones_censo_2010\n",
      "Merging DPTO /Users/abenassi/github/tod/indicadores/comunas_censo_2010/comunas_censo_2010\n",
      "Merging RADIO /Users/abenassi/github/tod/indicadores/radios_censo_2010/radios_censo_2010\n",
      "Merging BARRIO /Users/abenassi/github/tod/indicadores/barrios_censo_2010/barrios_censo_2010\n"
     ]
    }
   ],
   "source": [
    "w = merge_shapefiles(paths, divs_path)"
   ]
  },
  {
   "cell_type": "code",
   "execution_count": null,
   "metadata": {
    "collapsed": true
   },
   "outputs": [],
   "source": []
  }
 ],
 "metadata": {
  "kernelspec": {
   "display_name": "Python 2",
   "language": "python",
   "name": "python2"
  },
  "language_info": {
   "codemirror_mode": {
    "name": "ipython",
    "version": 2
   },
   "file_extension": ".py",
   "mimetype": "text/x-python",
   "name": "python",
   "nbconvert_exporter": "python",
   "pygments_lexer": "ipython2",
   "version": "2.7.10"
  }
 },
 "nbformat": 4,
 "nbformat_minor": 0
}
