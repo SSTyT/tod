{
 "cells": [
  {
   "cell_type": "code",
   "execution_count": 1,
   "metadata": {
    "collapsed": false
   },
   "outputs": [
    {
     "name": "stdout",
     "output_type": "stream",
     "text": [
      "PyTables is not installed. No support for HDF output.\n"
     ]
    }
   ],
   "source": [
    "from scripts.path_finders import get_context_shp_path, get_data_dir, get_division_path, get_indicators_path\n",
    "import pandas as pd\n",
    "import shapefile\n",
    "from simpledbf import Dbf5\n",
    "from scripts.geo_utils import iter_shp_as_shapely, get_shapely_shape\n",
    "from scripts.land_use import find_containing_radios, conn_postgis_db\n",
    "from scripts.create_indicators import get_or_create_indicators_df\n",
    "import pandas as pd\n",
    "from simpledbf import Dbf5\n",
    "import re\n",
    "from functools import partial\n",
    "import string"
   ]
  },
  {
   "cell_type": "code",
   "execution_count": 2,
   "metadata": {
    "collapsed": false
   },
   "outputs": [],
   "source": [
    "rus_shp_path = get_context_shp_path(\"rus_con_id_parcelas\")\n",
    "rus_csv_path = os.path.join(get_data_dir(), \"uso-suelo-2011.csv\")\n",
    "clasif_path = os.path.join(get_data_dir(), \"RUS_clasif_rama1.xlsx\")\n",
    "parcelas_csv = os.path.join(get_data_dir(), \"parcelas-100112-wgs84.csv\")"
   ]
  },
  {
   "cell_type": "code",
   "execution_count": 3,
   "metadata": {
    "collapsed": false
   },
   "outputs": [],
   "source": [
    "dbf = Dbf5(rus_shp_path + \".dbf\")\n",
    "df = dbf.to_dataframe()\n",
    "df.columns = [col.upper() for col in df.columns]"
   ]
  },
  {
   "cell_type": "code",
   "execution_count": 4,
   "metadata": {
    "collapsed": false
   },
   "outputs": [],
   "source": [
    "#df = pd.read_csv(rus_csv_path, encoding=\"utf-8\", sep=\";\")\n",
    "df_clasif = pd.read_excel(clasif_path)\n",
    "df_clasif.columns = [col.upper() for col in df_clasif.columns]"
   ]
  },
  {
   "cell_type": "code",
   "execution_count": 5,
   "metadata": {
    "collapsed": false
   },
   "outputs": [
    {
     "data": {
      "text/plain": [
       "Index([        u'ID',    u'SECCION',    u'MANZANA',    u'PARCELA',\n",
       "               u'SM',        u'SMP', u'UNIFICACIO', u'PARCELAS_U',\n",
       "          u'CALLE_1',        u'NUM',    u'CALLE_2',     u'TIPO_1',\n",
       "           u'TIPO_2',      u'PISOS',     u'NOMBRE',        u'D51',\n",
       "              u'D41',        u'D31',        u'D21',     u'BARRIO',\n",
       "           u'COMUNA',       u'ZONA',        u'ANO',      u'RAMA1',\n",
       "        u'SUB_RAMA1',   u'SS_RAMA1',    u'SMP_ALT'],\n",
       "      dtype='object')"
      ]
     },
     "execution_count": 5,
     "metadata": {},
     "output_type": "execute_result"
    }
   ],
   "source": [
    "df.columns"
   ]
  },
  {
   "cell_type": "code",
   "execution_count": 6,
   "metadata": {
    "collapsed": false
   },
   "outputs": [
    {
     "data": {
      "text/plain": [
       "19"
      ]
     },
     "execution_count": 6,
     "metadata": {},
     "output_type": "execute_result"
    }
   ],
   "source": [
    "len(df[pd.isnull(df[\"SMP_ALT\"])])"
   ]
  },
  {
   "cell_type": "code",
   "execution_count": 7,
   "metadata": {
    "collapsed": false
   },
   "outputs": [
    {
     "data": {
      "text/html": [
       "<div>\n",
       "<table border=\"1\" class=\"dataframe\">\n",
       "  <thead>\n",
       "    <tr style=\"text-align: right;\">\n",
       "      <th></th>\n",
       "      <th>RAMA1</th>\n",
       "      <th>COUNT</th>\n",
       "      <th>CLASIFICACION</th>\n",
       "    </tr>\n",
       "  </thead>\n",
       "  <tbody>\n",
       "    <tr>\n",
       "      <th>0</th>\n",
       "      <td>EDIFICIOS</td>\n",
       "      <td>284668</td>\n",
       "      <td>RESIDENCIAL</td>\n",
       "    </tr>\n",
       "    <tr>\n",
       "      <th>1</th>\n",
       "      <td>GARAGE PRIVADO</td>\n",
       "      <td>112170</td>\n",
       "      <td>RESIDENCIAL</td>\n",
       "    </tr>\n",
       "    <tr>\n",
       "      <th>2</th>\n",
       "      <td>COMERCIO</td>\n",
       "      <td>56608</td>\n",
       "      <td>COMERCIAL</td>\n",
       "    </tr>\n",
       "    <tr>\n",
       "      <th>3</th>\n",
       "      <td>LOCAL CERRADO</td>\n",
       "      <td>28805</td>\n",
       "      <td>OTROS</td>\n",
       "    </tr>\n",
       "    <tr>\n",
       "      <th>4</th>\n",
       "      <td>SERVICIOS COMPLEMENTARIOS AL TRANSPORTE</td>\n",
       "      <td>10310</td>\n",
       "      <td>SERVICIOS</td>\n",
       "    </tr>\n",
       "  </tbody>\n",
       "</table>\n",
       "</div>"
      ],
      "text/plain": [
       "                                     RAMA1   COUNT CLASIFICACION\n",
       "0                                EDIFICIOS  284668   RESIDENCIAL\n",
       "1                           GARAGE PRIVADO  112170   RESIDENCIAL\n",
       "2                                 COMERCIO   56608     COMERCIAL\n",
       "3                            LOCAL CERRADO   28805         OTROS\n",
       "4  SERVICIOS COMPLEMENTARIOS AL TRANSPORTE   10310     SERVICIOS"
      ]
     },
     "execution_count": 7,
     "metadata": {},
     "output_type": "execute_result"
    }
   ],
   "source": [
    "df_clasif.head()"
   ]
  },
  {
   "cell_type": "code",
   "execution_count": 8,
   "metadata": {
    "collapsed": false
   },
   "outputs": [
    {
     "data": {
      "text/plain": [
       "RAMA1\n",
       "EDIFICIOS                                  RESIDENCIAL\n",
       "GARAGE PRIVADO                             RESIDENCIAL\n",
       "COMERCIO                                     COMERCIAL\n",
       "LOCAL CERRADO                                    OTROS\n",
       "SERVICIOS COMPLEMENTARIOS AL TRANSPORTE      SERVICIOS\n",
       "Name: CLASIFICACION, dtype: object"
      ]
     },
     "execution_count": 8,
     "metadata": {},
     "output_type": "execute_result"
    }
   ],
   "source": [
    "serie_clasif = df_clasif.set_index(\"RAMA1\")[\"CLASIFICACION\"]\n",
    "serie_clasif.head()"
   ]
  },
  {
   "cell_type": "code",
   "execution_count": 9,
   "metadata": {
    "collapsed": false
   },
   "outputs": [
    {
     "name": "stdout",
     "output_type": "stream",
     "text": [
      "Sólo 7 parcelas no tienen un valor de rama1.\n"
     ]
    }
   ],
   "source": [
    "print \"Sólo\", len(df[pd.isnull(df[\"RAMA1\"])]), \"parcelas no tienen un valor de rama1.\""
   ]
  },
  {
   "cell_type": "code",
   "execution_count": 10,
   "metadata": {
    "collapsed": false
   },
   "outputs": [
    {
     "data": {
      "text/html": [
       "<div>\n",
       "<table border=\"1\" class=\"dataframe\">\n",
       "  <thead>\n",
       "    <tr style=\"text-align: right;\">\n",
       "      <th></th>\n",
       "      <th>ID</th>\n",
       "      <th>SECCION</th>\n",
       "      <th>MANZANA</th>\n",
       "      <th>PARCELA</th>\n",
       "      <th>SM</th>\n",
       "      <th>SMP</th>\n",
       "      <th>UNIFICACIO</th>\n",
       "      <th>PARCELAS_U</th>\n",
       "      <th>CALLE_1</th>\n",
       "      <th>NUM</th>\n",
       "      <th>...</th>\n",
       "      <th>D21</th>\n",
       "      <th>BARRIO</th>\n",
       "      <th>COMUNA</th>\n",
       "      <th>ZONA</th>\n",
       "      <th>ANO</th>\n",
       "      <th>RAMA1</th>\n",
       "      <th>SUB_RAMA1</th>\n",
       "      <th>SS_RAMA1</th>\n",
       "      <th>SMP_ALT</th>\n",
       "      <th>CLASIFICACION</th>\n",
       "    </tr>\n",
       "  </thead>\n",
       "  <tbody>\n",
       "    <tr>\n",
       "      <th>0</th>\n",
       "      <td>5000104</td>\n",
       "      <td>095</td>\n",
       "      <td>025</td>\n",
       "      <td>010</td>\n",
       "      <td>095-025</td>\n",
       "      <td>095-025-010</td>\n",
       "      <td>U</td>\n",
       "      <td>001+002+003+004+005a+006+007+008+</td>\n",
       "      <td>RESERVISTAS ARGENTINOS</td>\n",
       "      <td>6580</td>\n",
       "      <td>...</td>\n",
       "      <td>00</td>\n",
       "      <td>LINIERS</td>\n",
       "      <td>9</td>\n",
       "      <td>OESTE</td>\n",
       "      <td>2012</td>\n",
       "      <td>CALLE</td>\n",
       "      <td>CALLE</td>\n",
       "      <td>NaN</td>\n",
       "      <td>095-022-007c</td>\n",
       "      <td>OTROS</td>\n",
       "    </tr>\n",
       "    <tr>\n",
       "      <th>1</th>\n",
       "      <td>307969</td>\n",
       "      <td>054</td>\n",
       "      <td>045A</td>\n",
       "      <td>009</td>\n",
       "      <td>054-045A</td>\n",
       "      <td>054-045A-009</td>\n",
       "      <td>NaN</td>\n",
       "      <td>NaN</td>\n",
       "      <td>ZELADA</td>\n",
       "      <td>4312</td>\n",
       "      <td>...</td>\n",
       "      <td>00</td>\n",
       "      <td>VILLA LURO</td>\n",
       "      <td>10</td>\n",
       "      <td>OESTE</td>\n",
       "      <td>2011</td>\n",
       "      <td>GARAGE PRIVADO</td>\n",
       "      <td>GARAGE PRIVADO</td>\n",
       "      <td>NaN</td>\n",
       "      <td>054-075-003</td>\n",
       "      <td>RESIDENCIAL</td>\n",
       "    </tr>\n",
       "    <tr>\n",
       "      <th>2</th>\n",
       "      <td>397256</td>\n",
       "      <td>001</td>\n",
       "      <td>074</td>\n",
       "      <td>PLZ1</td>\n",
       "      <td>001-074</td>\n",
       "      <td>001-074-PLZ1</td>\n",
       "      <td>NaN</td>\n",
       "      <td>NaN</td>\n",
       "      <td>LA RABIDA (N) AV.</td>\n",
       "      <td>300</td>\n",
       "      <td>...</td>\n",
       "      <td>00</td>\n",
       "      <td>SAN NICOLAS</td>\n",
       "      <td>1</td>\n",
       "      <td>CENTRO</td>\n",
       "      <td>2010</td>\n",
       "      <td>LOTE</td>\n",
       "      <td>PLAZA</td>\n",
       "      <td>NaN</td>\n",
       "      <td>001-041-000</td>\n",
       "      <td>OTROS</td>\n",
       "    </tr>\n",
       "    <tr>\n",
       "      <th>3</th>\n",
       "      <td>268751</td>\n",
       "      <td>003</td>\n",
       "      <td>062C</td>\n",
       "      <td>002</td>\n",
       "      <td>003-062C</td>\n",
       "      <td>003-062C-002</td>\n",
       "      <td>NaN</td>\n",
       "      <td>NaN</td>\n",
       "      <td>BUTTY, E., Ing.</td>\n",
       "      <td>195</td>\n",
       "      <td>...</td>\n",
       "      <td>00</td>\n",
       "      <td>RETIRO</td>\n",
       "      <td>1</td>\n",
       "      <td>CENTRO</td>\n",
       "      <td>2010</td>\n",
       "      <td>GARAGE PRIVADO</td>\n",
       "      <td>GARAGE PRIVADO</td>\n",
       "      <td>NaN</td>\n",
       "      <td>003-062C-002</td>\n",
       "      <td>RESIDENCIAL</td>\n",
       "    </tr>\n",
       "    <tr>\n",
       "      <th>4</th>\n",
       "      <td>5002079</td>\n",
       "      <td>059</td>\n",
       "      <td>035</td>\n",
       "      <td>015a</td>\n",
       "      <td>059-035</td>\n",
       "      <td>059-035-015a</td>\n",
       "      <td>NaN</td>\n",
       "      <td>NaN</td>\n",
       "      <td>TRELLES, MANUEL R.</td>\n",
       "      <td>1312</td>\n",
       "      <td>...</td>\n",
       "      <td>00</td>\n",
       "      <td>VILLA GRAL. MITRE</td>\n",
       "      <td>11</td>\n",
       "      <td>OESTE</td>\n",
       "      <td>2012</td>\n",
       "      <td>EDIFICIOS</td>\n",
       "      <td>VIVIENDA</td>\n",
       "      <td>NaN</td>\n",
       "      <td>059-035-015a</td>\n",
       "      <td>RESIDENCIAL</td>\n",
       "    </tr>\n",
       "  </tbody>\n",
       "</table>\n",
       "<p>5 rows × 28 columns</p>\n",
       "</div>"
      ],
      "text/plain": [
       "        ID SECCION MANZANA PARCELA        SM           SMP UNIFICACIO  \\\n",
       "0  5000104     095     025     010   095-025   095-025-010          U   \n",
       "1   307969     054    045A     009  054-045A  054-045A-009        NaN   \n",
       "2   397256     001     074    PLZ1   001-074  001-074-PLZ1        NaN   \n",
       "3   268751     003    062C     002  003-062C  003-062C-002        NaN   \n",
       "4  5002079     059     035    015a   059-035  059-035-015a        NaN   \n",
       "\n",
       "                          PARCELAS_U                 CALLE_1   NUM  \\\n",
       "0  001+002+003+004+005a+006+007+008+  RESERVISTAS ARGENTINOS  6580   \n",
       "1                                NaN                  ZELADA  4312   \n",
       "2                                NaN       LA RABIDA (N) AV.   300   \n",
       "3                                NaN         BUTTY, E., Ing.   195   \n",
       "4                                NaN      TRELLES, MANUEL R.  1312   \n",
       "\n",
       "       ...      D21             BARRIO COMUNA    ZONA   ANO           RAMA1  \\\n",
       "0      ...       00            LINIERS      9   OESTE  2012           CALLE   \n",
       "1      ...       00         VILLA LURO     10   OESTE  2011  GARAGE PRIVADO   \n",
       "2      ...       00        SAN NICOLAS      1  CENTRO  2010            LOTE   \n",
       "3      ...       00             RETIRO      1  CENTRO  2010  GARAGE PRIVADO   \n",
       "4      ...       00  VILLA GRAL. MITRE     11   OESTE  2012       EDIFICIOS   \n",
       "\n",
       "        SUB_RAMA1 SS_RAMA1       SMP_ALT CLASIFICACION  \n",
       "0           CALLE      NaN  095-022-007c         OTROS  \n",
       "1  GARAGE PRIVADO      NaN   054-075-003   RESIDENCIAL  \n",
       "2           PLAZA      NaN   001-041-000         OTROS  \n",
       "3  GARAGE PRIVADO      NaN  003-062C-002   RESIDENCIAL  \n",
       "4        VIVIENDA      NaN  059-035-015a   RESIDENCIAL  \n",
       "\n",
       "[5 rows x 28 columns]"
      ]
     },
     "execution_count": 10,
     "metadata": {},
     "output_type": "execute_result"
    }
   ],
   "source": [
    "df = df.join(serie_clasif, on=\"RAMA1\")\n",
    "df.head()"
   ]
  },
  {
   "cell_type": "markdown",
   "metadata": {},
   "source": [
    "* **Calcular el AREA de cada parcela** \n",
    "    * `ALTER TABLE parcelas ADD area float;`\n",
    "    * `UPDATE parcelas SET area = ST_Area(geom);`\n",
    "\n",
    "* **Asignar el radio que contiene a la parcela** \n",
    "    * `ALTER TABLE parcelas ADD CO_FRAC_RA text;`\n",
    "    * `UPDATE parcelas SET CO_FRAC_RA = r.CO_FRAC_RA FROM radios_censo_2010 r WHERE ST_Contains(r.geom, parcelas.geom);`\n",
    "\n",
    "* **Asignar el radio que intersecta a las parcelas que no están completamente contenidas**\n",
    "    * `UPDATE parcelas SET CO_FRAC_RA = r.CO_FRAC_RA FROM radios_censo_2010 r WHERE NOT ST_Contains(r.geom, parcelas.geom) AND ST_Intersects(r.geom, parcelas.geom);`\n",
    "\n",
    "* **Calcular el área intersectada por cada parcela con su radio (esto da un área incompleta)**\n",
    "    * `ALTER TABLE parcelas ADD area_intersect float;`\n",
    "    * `UPDATE parcelas SET area_intersect = ST_Area(ST_Intersection(r.geom, parcelas.geom)) FROM radios_censo_2010 r;`\n",
    "        * Tarda demasiado, al parecer\n",
    "\n",
    "* **Convertir tabla PostGIS en shp:** `pgsql2shp -f parcelas/parcelas -h localhost -p 5432 abenassi \"SELECT * FROM parcelas;\"`\n",
    "\n",
    "* **Asociar id parcela por puntos del RUS presentes dentro de parcelas**\n",
    "    * `UPDATE rus_ciudad_2010_2011 r SET smp_alt = p.smp FROM parcelas p WHERE r.smp_alt is NULL AND ST_DWithin(p.geom, r.geom);`\n",
    "    * `UPDATE rus_ciudad_2010_2011 r SET smp_alt = p.smp FROM parcelas p WHERE r.smp_alt is NULL AND ST_DWithin(p.geom, r.geom, 5);`\n",
    "    * `UPDATE rus_ciudad_2010_2011 r SET smp_alt = p.smp FROM parcelas p WHERE r.smp_alt is NULL AND ST_DWithin(p.geom, r.geom, 10);`\n",
    "    * `UPDATE rus_ciudad_2010_2011 r SET smp_alt = p.smp FROM parcelas p WHERE r.smp_alt is NULL AND ST_DWithin(p.geom, r.geom, 15);`\n",
    "    * Repetir la consulta incrementando el margen de error hasta por lo menos 50 metros.\n",
    "    * `pgsql2shp -f rus_con_id_parcelas/rus_con_id_parcelas -h localhost -p 5432 abenassi \"SELECT * FROM rus_ciudad_2010_2011;\"`\n",
    "    "
   ]
  },
  {
   "cell_type": "code",
   "execution_count": 11,
   "metadata": {
    "collapsed": false
   },
   "outputs": [],
   "source": [
    "parcelas_dbf = Dbf5(\"shp/divisiones/parcelas_joined/parcelas.dbf\")\n",
    "parcelas_df = parcelas_dbf.to_dataframe()\n",
    "parcelas_df.columns = [col.upper() for col in parcelas_df.columns]"
   ]
  },
  {
   "cell_type": "code",
   "execution_count": 12,
   "metadata": {
    "collapsed": false
   },
   "outputs": [
    {
     "data": {
      "text/html": [
       "<div>\n",
       "<table border=\"1\" class=\"dataframe\">\n",
       "  <thead>\n",
       "    <tr style=\"text-align: right;\">\n",
       "      <th></th>\n",
       "      <th>FEATID1</th>\n",
       "      <th>MANZANA</th>\n",
       "      <th>OBS</th>\n",
       "      <th>PARCELA</th>\n",
       "      <th>SECCION</th>\n",
       "      <th>SMP</th>\n",
       "      <th>WEBLINK</th>\n",
       "      <th>PARC_ESQ</th>\n",
       "      <th>ROT_SEC</th>\n",
       "      <th>ROT_PAR</th>\n",
       "      <th>SM</th>\n",
       "      <th>PARTIDA</th>\n",
       "      <th>AREA</th>\n",
       "      <th>CO_FRAC_RA</th>\n",
       "      <th>AREA_INTER</th>\n",
       "    </tr>\n",
       "  </thead>\n",
       "  <tbody>\n",
       "    <tr>\n",
       "      <th>9</th>\n",
       "      <td>380</td>\n",
       "      <td>074</td>\n",
       "      <td>INFORMACION CONSISTENTE</td>\n",
       "      <td>000B</td>\n",
       "      <td>001</td>\n",
       "      <td>001-074-000B</td>\n",
       "      <td>001-074-000B</td>\n",
       "      <td>S</td>\n",
       "      <td>01</td>\n",
       "      <td>NaN</td>\n",
       "      <td>001-074</td>\n",
       "      <td>0</td>\n",
       "      <td>12660.630585</td>\n",
       "      <td>1_12_11</td>\n",
       "      <td>8912.160755</td>\n",
       "    </tr>\n",
       "    <tr>\n",
       "      <th>10</th>\n",
       "      <td>379</td>\n",
       "      <td>074</td>\n",
       "      <td>INFORMACION CONSISTENTE</td>\n",
       "      <td>000A</td>\n",
       "      <td>001</td>\n",
       "      <td>001-074-000A</td>\n",
       "      <td>001-074-000A</td>\n",
       "      <td>S</td>\n",
       "      <td>01</td>\n",
       "      <td>NaN</td>\n",
       "      <td>001-074</td>\n",
       "      <td>0</td>\n",
       "      <td>12988.788728</td>\n",
       "      <td>1_12_11</td>\n",
       "      <td>10078.665520</td>\n",
       "    </tr>\n",
       "    <tr>\n",
       "      <th>2544</th>\n",
       "      <td>97</td>\n",
       "      <td>066B</td>\n",
       "      <td>INFORMACION CONSISTENTE</td>\n",
       "      <td>001a</td>\n",
       "      <td>003</td>\n",
       "      <td>003-066B-001a</td>\n",
       "      <td>003-066B-001a</td>\n",
       "      <td>S</td>\n",
       "      <td>03</td>\n",
       "      <td>NaN</td>\n",
       "      <td>003-066B</td>\n",
       "      <td>0</td>\n",
       "      <td>12270.938034</td>\n",
       "      <td>1_2_11</td>\n",
       "      <td>3709.955453</td>\n",
       "    </tr>\n",
       "    <tr>\n",
       "      <th>2545</th>\n",
       "      <td>96</td>\n",
       "      <td>066B</td>\n",
       "      <td>INFORMACION CONSISTENTE</td>\n",
       "      <td>001b</td>\n",
       "      <td>003</td>\n",
       "      <td>003-066B-001b</td>\n",
       "      <td>003-066B-001b</td>\n",
       "      <td>N</td>\n",
       "      <td>03</td>\n",
       "      <td>NaN</td>\n",
       "      <td>003-066B</td>\n",
       "      <td>0</td>\n",
       "      <td>2255.821207</td>\n",
       "      <td>1_2_11</td>\n",
       "      <td>1756.551665</td>\n",
       "    </tr>\n",
       "    <tr>\n",
       "      <th>2546</th>\n",
       "      <td>95</td>\n",
       "      <td>066B</td>\n",
       "      <td>INFORMACION CONSISTENTE</td>\n",
       "      <td>001c</td>\n",
       "      <td>003</td>\n",
       "      <td>003-066B-001c</td>\n",
       "      <td>003-066B-001c</td>\n",
       "      <td>N</td>\n",
       "      <td>03</td>\n",
       "      <td>NaN</td>\n",
       "      <td>003-066B</td>\n",
       "      <td>0</td>\n",
       "      <td>1299.047379</td>\n",
       "      <td>1_2_4</td>\n",
       "      <td>140.578700</td>\n",
       "    </tr>\n",
       "  </tbody>\n",
       "</table>\n",
       "</div>"
      ],
      "text/plain": [
       "      FEATID1 MANZANA                      OBS PARCELA SECCION            SMP  \\\n",
       "9         380     074  INFORMACION CONSISTENTE    000B     001   001-074-000B   \n",
       "10        379     074  INFORMACION CONSISTENTE    000A     001   001-074-000A   \n",
       "2544       97    066B  INFORMACION CONSISTENTE    001a     003  003-066B-001a   \n",
       "2545       96    066B  INFORMACION CONSISTENTE    001b     003  003-066B-001b   \n",
       "2546       95    066B  INFORMACION CONSISTENTE    001c     003  003-066B-001c   \n",
       "\n",
       "            WEBLINK PARC_ESQ ROT_SEC  ROT_PAR        SM PARTIDA          AREA  \\\n",
       "9      001-074-000B        S      01      NaN   001-074       0  12660.630585   \n",
       "10     001-074-000A        S      01      NaN   001-074       0  12988.788728   \n",
       "2544  003-066B-001a        S      03      NaN  003-066B       0  12270.938034   \n",
       "2545  003-066B-001b        N      03      NaN  003-066B       0   2255.821207   \n",
       "2546  003-066B-001c        N      03      NaN  003-066B       0   1299.047379   \n",
       "\n",
       "     CO_FRAC_RA    AREA_INTER  \n",
       "9       1_12_11   8912.160755  \n",
       "10      1_12_11  10078.665520  \n",
       "2544     1_2_11   3709.955453  \n",
       "2545     1_2_11   1756.551665  \n",
       "2546      1_2_4    140.578700  "
      ]
     },
     "execution_count": 12,
     "metadata": {},
     "output_type": "execute_result"
    }
   ],
   "source": [
    "parcelas_df[pd.notnull(parcelas_df[\"AREA_INTER\"])].head()"
   ]
  },
  {
   "cell_type": "code",
   "execution_count": 13,
   "metadata": {
    "collapsed": true
   },
   "outputs": [],
   "source": [
    "parcelas_df_big = parcelas_df[pd.notnull(parcelas_df[\"AREA_INTER\"])]"
   ]
  },
  {
   "cell_type": "code",
   "execution_count": 14,
   "metadata": {
    "collapsed": false
   },
   "outputs": [],
   "source": [
    "parcelas_df[\"area_ignorada\"] = parcelas_df_big.AREA - parcelas_df_big.AREA_INTER"
   ]
  },
  {
   "cell_type": "code",
   "execution_count": 15,
   "metadata": {
    "collapsed": false
   },
   "outputs": [
    {
     "name": "stdout",
     "output_type": "stream",
     "text": [
      "778 parcelas no están contenidas por un radio.\n"
     ]
    }
   ],
   "source": [
    "print len(parcelas_df[pd.notnull(parcelas_df[\"AREA_INTER\"])]), \"parcelas no están contenidas por un radio.\""
   ]
  },
  {
   "cell_type": "code",
   "execution_count": 16,
   "metadata": {
    "collapsed": false
   },
   "outputs": [
    {
     "name": "stdout",
     "output_type": "stream",
     "text": [
      "0 no tienen radio asignado.\n"
     ]
    }
   ],
   "source": [
    "print len(parcelas_df[pd.isnull(parcelas_df[\"CO_FRAC_RA\"])]), \"no tienen radio asignado.\""
   ]
  },
  {
   "cell_type": "code",
   "execution_count": 17,
   "metadata": {
    "collapsed": false
   },
   "outputs": [
    {
     "name": "stdout",
     "output_type": "stream",
     "text": [
      "3483 radios con algún valor.\n"
     ]
    }
   ],
   "source": [
    "print len(parcelas_df.CO_FRAC_RA.unique()), \"radios con algún valor.\""
   ]
  },
  {
   "cell_type": "code",
   "execution_count": 18,
   "metadata": {
    "collapsed": false
   },
   "outputs": [],
   "source": [
    "def select_area(area_inter, area):\n",
    "    if pd.notnull(area_inter) and area_inter < area:\n",
    "        return area_inter\n",
    "    else:\n",
    "        return area\n",
    "\n",
    "parcelas_df[\"area_calculo\"] = map(select_area, parcelas_df.AREA_INTER, parcelas_df.AREA)"
   ]
  },
  {
   "cell_type": "code",
   "execution_count": 19,
   "metadata": {
    "collapsed": false
   },
   "outputs": [],
   "source": [
    "df_radio = get_or_create_indicators_df(\"RADIO\")"
   ]
  },
  {
   "cell_type": "code",
   "execution_count": 20,
   "metadata": {
    "collapsed": true
   },
   "outputs": [],
   "source": [
    "parcelas_df[\"SMP_ALT\"] = parcelas_df[\"SMP\"]"
   ]
  },
  {
   "cell_type": "code",
   "execution_count": 21,
   "metadata": {
    "collapsed": false
   },
   "outputs": [
    {
     "data": {
      "text/plain": [
       "(246326, 318808)"
      ]
     },
     "execution_count": 21,
     "metadata": {},
     "output_type": "execute_result"
    }
   ],
   "source": [
    "len(df[\"SMP_ALT\"].unique()), len(parcelas_df[\"SMP_ALT\"].unique())"
   ]
  },
  {
   "cell_type": "code",
   "execution_count": 22,
   "metadata": {
    "collapsed": false
   },
   "outputs": [
    {
     "data": {
      "text/html": [
       "<div>\n",
       "<table border=\"1\" class=\"dataframe\">\n",
       "  <thead>\n",
       "    <tr style=\"text-align: right;\">\n",
       "      <th></th>\n",
       "      <th>ID</th>\n",
       "      <th>SECCION</th>\n",
       "      <th>MANZANA</th>\n",
       "      <th>PARCELA</th>\n",
       "      <th>SM</th>\n",
       "      <th>SMP</th>\n",
       "      <th>UNIFICACIO</th>\n",
       "      <th>PARCELAS_U</th>\n",
       "      <th>CALLE_1</th>\n",
       "      <th>NUM</th>\n",
       "      <th>...</th>\n",
       "      <th>ANO</th>\n",
       "      <th>RAMA1</th>\n",
       "      <th>SUB_RAMA1</th>\n",
       "      <th>SS_RAMA1</th>\n",
       "      <th>SMP_ALT</th>\n",
       "      <th>CLASIFICACION</th>\n",
       "      <th>AREA</th>\n",
       "      <th>AREA_INTER</th>\n",
       "      <th>area_calculo</th>\n",
       "      <th>CO_FRAC_RA</th>\n",
       "    </tr>\n",
       "  </thead>\n",
       "  <tbody>\n",
       "    <tr>\n",
       "      <th>0</th>\n",
       "      <td>5000104</td>\n",
       "      <td>095</td>\n",
       "      <td>025</td>\n",
       "      <td>010</td>\n",
       "      <td>095-025</td>\n",
       "      <td>095-025-010</td>\n",
       "      <td>U</td>\n",
       "      <td>001+002+003+004+005a+006+007+008+</td>\n",
       "      <td>RESERVISTAS ARGENTINOS</td>\n",
       "      <td>6580</td>\n",
       "      <td>...</td>\n",
       "      <td>2012</td>\n",
       "      <td>CALLE</td>\n",
       "      <td>CALLE</td>\n",
       "      <td>NaN</td>\n",
       "      <td>095-022-007c</td>\n",
       "      <td>OTROS</td>\n",
       "      <td>412.237442</td>\n",
       "      <td>NaN</td>\n",
       "      <td>412.237442</td>\n",
       "      <td>9_1_5</td>\n",
       "    </tr>\n",
       "    <tr>\n",
       "      <th>1</th>\n",
       "      <td>307969</td>\n",
       "      <td>054</td>\n",
       "      <td>045A</td>\n",
       "      <td>009</td>\n",
       "      <td>054-045A</td>\n",
       "      <td>054-045A-009</td>\n",
       "      <td>NaN</td>\n",
       "      <td>NaN</td>\n",
       "      <td>ZELADA</td>\n",
       "      <td>4312</td>\n",
       "      <td>...</td>\n",
       "      <td>2011</td>\n",
       "      <td>GARAGE PRIVADO</td>\n",
       "      <td>GARAGE PRIVADO</td>\n",
       "      <td>NaN</td>\n",
       "      <td>054-075-003</td>\n",
       "      <td>RESIDENCIAL</td>\n",
       "      <td>108.150579</td>\n",
       "      <td>NaN</td>\n",
       "      <td>108.150579</td>\n",
       "      <td>10_17_7</td>\n",
       "    </tr>\n",
       "    <tr>\n",
       "      <th>2</th>\n",
       "      <td>397256</td>\n",
       "      <td>001</td>\n",
       "      <td>074</td>\n",
       "      <td>PLZ1</td>\n",
       "      <td>001-074</td>\n",
       "      <td>001-074-PLZ1</td>\n",
       "      <td>NaN</td>\n",
       "      <td>NaN</td>\n",
       "      <td>LA RABIDA (N) AV.</td>\n",
       "      <td>300</td>\n",
       "      <td>...</td>\n",
       "      <td>2010</td>\n",
       "      <td>LOTE</td>\n",
       "      <td>PLAZA</td>\n",
       "      <td>NaN</td>\n",
       "      <td>001-041-000</td>\n",
       "      <td>OTROS</td>\n",
       "      <td>12711.557740</td>\n",
       "      <td>NaN</td>\n",
       "      <td>12711.557740</td>\n",
       "      <td>1_12_11</td>\n",
       "    </tr>\n",
       "    <tr>\n",
       "      <th>3</th>\n",
       "      <td>268751</td>\n",
       "      <td>003</td>\n",
       "      <td>062C</td>\n",
       "      <td>002</td>\n",
       "      <td>003-062C</td>\n",
       "      <td>003-062C-002</td>\n",
       "      <td>NaN</td>\n",
       "      <td>NaN</td>\n",
       "      <td>BUTTY, E., Ing.</td>\n",
       "      <td>195</td>\n",
       "      <td>...</td>\n",
       "      <td>2010</td>\n",
       "      <td>GARAGE PRIVADO</td>\n",
       "      <td>GARAGE PRIVADO</td>\n",
       "      <td>NaN</td>\n",
       "      <td>003-062C-002</td>\n",
       "      <td>RESIDENCIAL</td>\n",
       "      <td>2731.794262</td>\n",
       "      <td>NaN</td>\n",
       "      <td>2731.794262</td>\n",
       "      <td>1_7_13</td>\n",
       "    </tr>\n",
       "    <tr>\n",
       "      <th>4</th>\n",
       "      <td>5002079</td>\n",
       "      <td>059</td>\n",
       "      <td>035</td>\n",
       "      <td>015a</td>\n",
       "      <td>059-035</td>\n",
       "      <td>059-035-015a</td>\n",
       "      <td>NaN</td>\n",
       "      <td>NaN</td>\n",
       "      <td>TRELLES, MANUEL R.</td>\n",
       "      <td>1312</td>\n",
       "      <td>...</td>\n",
       "      <td>2012</td>\n",
       "      <td>EDIFICIOS</td>\n",
       "      <td>VIVIENDA</td>\n",
       "      <td>NaN</td>\n",
       "      <td>059-035-015a</td>\n",
       "      <td>RESIDENCIAL</td>\n",
       "      <td>110.436734</td>\n",
       "      <td>NaN</td>\n",
       "      <td>110.436734</td>\n",
       "      <td>11_22_9</td>\n",
       "    </tr>\n",
       "  </tbody>\n",
       "</table>\n",
       "<p>5 rows × 32 columns</p>\n",
       "</div>"
      ],
      "text/plain": [
       "        ID SECCION MANZANA PARCELA        SM           SMP UNIFICACIO  \\\n",
       "0  5000104     095     025     010   095-025   095-025-010          U   \n",
       "1   307969     054    045A     009  054-045A  054-045A-009        NaN   \n",
       "2   397256     001     074    PLZ1   001-074  001-074-PLZ1        NaN   \n",
       "3   268751     003    062C     002  003-062C  003-062C-002        NaN   \n",
       "4  5002079     059     035    015a   059-035  059-035-015a        NaN   \n",
       "\n",
       "                          PARCELAS_U                 CALLE_1   NUM    ...      \\\n",
       "0  001+002+003+004+005a+006+007+008+  RESERVISTAS ARGENTINOS  6580    ...       \n",
       "1                                NaN                  ZELADA  4312    ...       \n",
       "2                                NaN       LA RABIDA (N) AV.   300    ...       \n",
       "3                                NaN         BUTTY, E., Ing.   195    ...       \n",
       "4                                NaN      TRELLES, MANUEL R.  1312    ...       \n",
       "\n",
       "    ANO           RAMA1       SUB_RAMA1  SS_RAMA1       SMP_ALT CLASIFICACION  \\\n",
       "0  2012           CALLE           CALLE       NaN  095-022-007c         OTROS   \n",
       "1  2011  GARAGE PRIVADO  GARAGE PRIVADO       NaN   054-075-003   RESIDENCIAL   \n",
       "2  2010            LOTE           PLAZA       NaN   001-041-000         OTROS   \n",
       "3  2010  GARAGE PRIVADO  GARAGE PRIVADO       NaN  003-062C-002   RESIDENCIAL   \n",
       "4  2012       EDIFICIOS        VIVIENDA       NaN  059-035-015a   RESIDENCIAL   \n",
       "\n",
       "           AREA AREA_INTER  area_calculo CO_FRAC_RA  \n",
       "0    412.237442        NaN    412.237442      9_1_5  \n",
       "1    108.150579        NaN    108.150579    10_17_7  \n",
       "2  12711.557740        NaN  12711.557740    1_12_11  \n",
       "3   2731.794262        NaN   2731.794262     1_7_13  \n",
       "4    110.436734        NaN    110.436734    11_22_9  \n",
       "\n",
       "[5 rows x 32 columns]"
      ]
     },
     "execution_count": 22,
     "metadata": {},
     "output_type": "execute_result"
    }
   ],
   "source": [
    "df = df.join(parcelas_df[[\"SMP_ALT\", \"AREA\", \"AREA_INTER\", \"area_calculo\", \"CO_FRAC_RA\"]].set_index(\"SMP_ALT\"), on=\"SMP_ALT\")\n",
    "df.head()"
   ]
  },
  {
   "cell_type": "code",
   "execution_count": 23,
   "metadata": {
    "collapsed": false
   },
   "outputs": [
    {
     "name": "stdout",
     "output_type": "stream",
     "text": [
      "319475 parcelas con RUS.\n",
      "16 parcelas sin radio asignado.\n",
      "16 parcelas sin area calculada.\n",
      "16 parcelas sin area calculada o intersección.\n",
      "319459 parcelas con area calculada o intersección.\n"
     ]
    }
   ],
   "source": [
    "print len(df[\"SMP\"].unique()), \"parcelas con RUS.\"\n",
    "print len(df[pd.isnull(df[\"CO_FRAC_RA\"])][\"SMP\"].unique()), \"parcelas sin radio asignado.\"\n",
    "print len(df[pd.isnull(df[\"AREA\"])][\"SMP\"].unique()), \"parcelas sin area calculada.\"\n",
    "print len(df[pd.isnull(df[\"area_calculo\"])][\"SMP\"].unique()), \"parcelas sin area calculada o intersección.\"\n",
    "print len(df[pd.notnull(df[\"area_calculo\"])][\"SMP\"].unique()), \"parcelas con area calculada o intersección.\""
   ]
  },
  {
   "cell_type": "code",
   "execution_count": 24,
   "metadata": {
    "collapsed": false
   },
   "outputs": [],
   "source": [
    "smp_count = df.groupby(by=\"SMP\").count()[\"area_calculo\"].to_dict()"
   ]
  },
  {
   "cell_type": "code",
   "execution_count": 25,
   "metadata": {
    "collapsed": true
   },
   "outputs": [],
   "source": [
    "df[\"smp_count\"] = df.SMP.map(smp_count)"
   ]
  },
  {
   "cell_type": "code",
   "execution_count": 26,
   "metadata": {
    "collapsed": false
   },
   "outputs": [],
   "source": [
    "df[\"AREA_POR_USO\"] = df.area_calculo / df.smp_count"
   ]
  },
  {
   "cell_type": "code",
   "execution_count": 27,
   "metadata": {
    "collapsed": false
   },
   "outputs": [
    {
     "data": {
      "text/plain": [
       "CLASIFICACION\n",
       "COMERCIAL       2048.045772\n",
       "INDUSTRIAL       115.208564\n",
       "OTROS           4195.843694\n",
       "RESIDENCIAL    86080.174896\n",
       "SERVICIOS       6965.327564\n",
       "Name: area_calculo, dtype: float64"
      ]
     },
     "execution_count": 27,
     "metadata": {},
     "output_type": "execute_result"
    }
   ],
   "source": [
    "df[df[\"CO_FRAC_RA\"] == \"12_16_1\"].groupby(by=\"CLASIFICACION\").sum()[\"area_calculo\"]"
   ]
  },
  {
   "cell_type": "code",
   "execution_count": 28,
   "metadata": {
    "collapsed": false
   },
   "outputs": [
    {
     "data": {
      "text/plain": [
       "CO_FRAC_RA  CLASIFICACION\n",
       "10_10_1     COMERCIAL        0.033660\n",
       "            OTROS            0.034630\n",
       "            RESIDENCIAL      0.842007\n",
       "            SERVICIOS        0.089703\n",
       "10_10_10    COMERCIAL        0.038908\n",
       "            OTROS            0.029500\n",
       "            RESIDENCIAL      0.897626\n",
       "            SERVICIOS        0.033966\n",
       "10_10_11    COMERCIAL        0.018243\n",
       "            INDUSTRIAL       0.004364\n",
       "            OTROS            0.026961\n",
       "            RESIDENCIAL      0.905902\n",
       "            SERVICIOS        0.044528\n",
       "10_10_12    COMERCIAL        0.051138\n",
       "            INDUSTRIAL       0.012269\n",
       "            OTROS            0.092160\n",
       "            RESIDENCIAL      0.763066\n",
       "            SERVICIOS        0.081367\n",
       "10_10_2     COMERCIAL        0.019170\n",
       "            INDUSTRIAL       0.007257\n",
       "Name: area_calculo, dtype: float64"
      ]
     },
     "execution_count": 28,
     "metadata": {},
     "output_type": "execute_result"
    }
   ],
   "source": [
    "uso_por_radio = df.groupby(by=[\"CO_FRAC_RA\", \"CLASIFICACION\"]).sum()[\"area_calculo\"] / df.groupby(by=\"CO_FRAC_RA\").sum()[\"area_calculo\"]\n",
    "uso_por_radio[:20]"
   ]
  },
  {
   "cell_type": "code",
   "execution_count": 29,
   "metadata": {
    "collapsed": false
   },
   "outputs": [
    {
     "name": "stdout",
     "output_type": "stream",
     "text": [
      "3462 radios tienen el uso del suelo calculado\n"
     ]
    }
   ],
   "source": [
    "print len(uso_por_radio.groupby(level=0)), \"radios tienen el uso del suelo calculado\""
   ]
  },
  {
   "cell_type": "code",
   "execution_count": 30,
   "metadata": {
    "collapsed": false
   },
   "outputs": [],
   "source": [
    "indicators_radio = get_or_create_indicators_df(\"RADIO\")"
   ]
  },
  {
   "cell_type": "code",
   "execution_count": 31,
   "metadata": {
    "collapsed": true
   },
   "outputs": [],
   "source": [
    "def get_land_use(radio, use, serie):\n",
    "    if not radio in serie:\n",
    "        return pd.np.nan\n",
    "    \n",
    "    if use in serie[radio]:\n",
    "        return serie[radio][use]\n",
    "    else:\n",
    "        return 0"
   ]
  },
  {
   "cell_type": "code",
   "execution_count": 32,
   "metadata": {
    "collapsed": true
   },
   "outputs": [],
   "source": [
    "get_residencial_use = partial(get_land_use, use=\"RESIDENCIAL\", serie=uso_por_radio)\n",
    "get_comercial_use = partial(get_land_use, use=\"COMERCIAL\", serie=uso_por_radio)\n",
    "get_industrial_use = partial(get_land_use, use=\"INDUSTRIAL\", serie=uso_por_radio)\n",
    "get_servicios_use = partial(get_land_use, use=\"SERVICIOS\", serie=uso_por_radio)\n",
    "get_otros_use = partial(get_land_use, use=\"OTROS\", serie=uso_por_radio)"
   ]
  },
  {
   "cell_type": "code",
   "execution_count": 33,
   "metadata": {
    "collapsed": false
   },
   "outputs": [],
   "source": [
    "indicators_radio[\"RESIDENCIAL\"] = indicators_radio[\"CO_FRAC_RA\"].map(get_residencial_use)\n",
    "indicators_radio[\"COMERCIAL\"] = indicators_radio[\"CO_FRAC_RA\"].map(get_comercial_use)\n",
    "indicators_radio[\"INDUSTRIAL\"] = indicators_radio[\"CO_FRAC_RA\"].map(get_industrial_use)\n",
    "indicators_radio[\"SERVICIOS\"] = indicators_radio[\"CO_FRAC_RA\"].map(get_servicios_use)\n",
    "indicators_radio[\"OTROS\"] = indicators_radio[\"CO_FRAC_RA\"].map(get_otros_use)"
   ]
  },
  {
   "cell_type": "code",
   "execution_count": 34,
   "metadata": {
    "collapsed": false
   },
   "outputs": [
    {
     "data": {
      "text/html": [
       "<div>\n",
       "<table border=\"1\" class=\"dataframe\">\n",
       "  <thead>\n",
       "    <tr style=\"text-align: right;\">\n",
       "      <th></th>\n",
       "      <th>RESIDENCIAL</th>\n",
       "      <th>COMERCIAL</th>\n",
       "      <th>INDUSTRIAL</th>\n",
       "      <th>SERVICIOS</th>\n",
       "      <th>OTROS</th>\n",
       "    </tr>\n",
       "    <tr>\n",
       "      <th>Código</th>\n",
       "      <th></th>\n",
       "      <th></th>\n",
       "      <th></th>\n",
       "      <th></th>\n",
       "      <th></th>\n",
       "    </tr>\n",
       "  </thead>\n",
       "  <tbody>\n",
       "    <tr>\n",
       "      <th>020152109</th>\n",
       "      <td>0.757814</td>\n",
       "      <td>0.152617</td>\n",
       "      <td>0.000000</td>\n",
       "      <td>0.066023</td>\n",
       "      <td>0.023546</td>\n",
       "    </tr>\n",
       "    <tr>\n",
       "      <th>020152110</th>\n",
       "      <td>0.826795</td>\n",
       "      <td>0.068638</td>\n",
       "      <td>0.000000</td>\n",
       "      <td>0.087407</td>\n",
       "      <td>0.017160</td>\n",
       "    </tr>\n",
       "    <tr>\n",
       "      <th>020152111</th>\n",
       "      <td>0.776228</td>\n",
       "      <td>0.051806</td>\n",
       "      <td>0.007911</td>\n",
       "      <td>0.095694</td>\n",
       "      <td>0.068361</td>\n",
       "    </tr>\n",
       "    <tr>\n",
       "      <th>020152112</th>\n",
       "      <td>0.784045</td>\n",
       "      <td>0.025471</td>\n",
       "      <td>0.000000</td>\n",
       "      <td>0.180040</td>\n",
       "      <td>0.010444</td>\n",
       "    </tr>\n",
       "    <tr>\n",
       "      <th>020152113</th>\n",
       "      <td>0.549967</td>\n",
       "      <td>0.127493</td>\n",
       "      <td>0.010361</td>\n",
       "      <td>0.203038</td>\n",
       "      <td>0.109140</td>\n",
       "    </tr>\n",
       "  </tbody>\n",
       "</table>\n",
       "</div>"
      ],
      "text/plain": [
       "           RESIDENCIAL  COMERCIAL  INDUSTRIAL  SERVICIOS     OTROS\n",
       "Código                                                            \n",
       "020152109     0.757814   0.152617    0.000000   0.066023  0.023546\n",
       "020152110     0.826795   0.068638    0.000000   0.087407  0.017160\n",
       "020152111     0.776228   0.051806    0.007911   0.095694  0.068361\n",
       "020152112     0.784045   0.025471    0.000000   0.180040  0.010444\n",
       "020152113     0.549967   0.127493    0.010361   0.203038  0.109140"
      ]
     },
     "execution_count": 34,
     "metadata": {},
     "output_type": "execute_result"
    }
   ],
   "source": [
    "indicators_radio[[\"RESIDENCIAL\", \"COMERCIAL\", \"INDUSTRIAL\", \"SERVICIOS\", \"OTROS\"]].tail()"
   ]
  },
  {
   "cell_type": "code",
   "execution_count": 35,
   "metadata": {
    "collapsed": false
   },
   "outputs": [
    {
     "name": "stdout",
     "output_type": "stream",
     "text": [
      "Código\n",
      "020010917    0.952765\n",
      "dtype: float64\n"
     ]
    },
    {
     "data": {
      "text/html": [
       "<div>\n",
       "<table border=\"1\" class=\"dataframe\">\n",
       "  <thead>\n",
       "    <tr style=\"text-align: right;\">\n",
       "      <th></th>\n",
       "      <th>RESIDENCIAL</th>\n",
       "      <th>COMERCIAL</th>\n",
       "      <th>INDUSTRIAL</th>\n",
       "      <th>SERVICIOS</th>\n",
       "      <th>OTROS</th>\n",
       "    </tr>\n",
       "    <tr>\n",
       "      <th>Código</th>\n",
       "      <th></th>\n",
       "      <th></th>\n",
       "      <th></th>\n",
       "      <th></th>\n",
       "      <th></th>\n",
       "    </tr>\n",
       "  </thead>\n",
       "  <tbody>\n",
       "    <tr>\n",
       "      <th>020010917</th>\n",
       "      <td>0.125679</td>\n",
       "      <td>0.41391</td>\n",
       "      <td>0.008943</td>\n",
       "      <td>0.329938</td>\n",
       "      <td>0.074295</td>\n",
       "    </tr>\n",
       "  </tbody>\n",
       "</table>\n",
       "</div>"
      ],
      "text/plain": [
       "           RESIDENCIAL  COMERCIAL  INDUSTRIAL  SERVICIOS     OTROS\n",
       "Código                                                            \n",
       "020010917     0.125679    0.41391    0.008943   0.329938  0.074295"
      ]
     },
     "execution_count": 35,
     "metadata": {},
     "output_type": "execute_result"
    }
   ],
   "source": [
    "filtro = indicators_radio[[\"RESIDENCIAL\", \"COMERCIAL\", \"INDUSTRIAL\", \"SERVICIOS\", \"OTROS\"]].sum(axis=1) < 0.99\n",
    "print indicators_radio[filtro][[\"RESIDENCIAL\", \"COMERCIAL\", \"INDUSTRIAL\", \"SERVICIOS\", \"OTROS\"]].sum(axis=1)\n",
    "indicators_radio[filtro][[\"RESIDENCIAL\", \"COMERCIAL\", \"INDUSTRIAL\", \"SERVICIOS\", \"OTROS\"]]"
   ]
  },
  {
   "cell_type": "code",
   "execution_count": 36,
   "metadata": {
    "collapsed": false
   },
   "outputs": [],
   "source": [
    "indicators_radio.loc[\"020010917\", [\"RESIDENCIAL\", \"COMERCIAL\", \"INDUSTRIAL\", \"SERVICIOS\", \"OTROS\"]] = pd.np.nan"
   ]
  },
  {
   "cell_type": "code",
   "execution_count": 37,
   "metadata": {
    "collapsed": false
   },
   "outputs": [],
   "source": [
    "indicators_radio.to_csv(get_indicators_path(\"RADIO\"), encoding=\"utf-8\")"
   ]
  },
  {
   "cell_type": "code",
   "execution_count": null,
   "metadata": {
    "collapsed": true
   },
   "outputs": [],
   "source": []
  }
 ],
 "metadata": {
  "kernelspec": {
   "display_name": "Python 2",
   "language": "python",
   "name": "python2"
  },
  "language_info": {
   "codemirror_mode": {
    "name": "ipython",
    "version": 2
   },
   "file_extension": ".py",
   "mimetype": "text/x-python",
   "name": "python",
   "nbconvert_exporter": "python",
   "pygments_lexer": "ipython2",
   "version": "2.7.10"
  }
 },
 "nbformat": 4,
 "nbformat_minor": 0
}
