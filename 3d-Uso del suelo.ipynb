{
 "cells": [
  {
   "cell_type": "code",
   "execution_count": 237,
   "metadata": {
    "collapsed": false
   },
   "outputs": [],
   "source": [
    "from scripts.path_finders import get_context_shp_path, get_data_dir, get_division_path, get_indicators_path\n",
    "import pandas as pd\n",
    "import shapefile\n",
    "from simpledbf import Dbf5\n",
    "from scripts.geo_utils import iter_shp_as_shapely, get_shapely_shape\n",
    "from scripts.land_use import find_containing_radios, conn_postgis_db\n",
    "import pandas as pd\n",
    "from simpledbf import Dbf5"
   ]
  },
  {
   "cell_type": "code",
   "execution_count": 238,
   "metadata": {
    "collapsed": false
   },
   "outputs": [],
   "source": [
    "rus_shp_path = get_context_shp_path(\"rus-ciudad-2010-2011\")\n",
    "rus_csv_path = os.path.join(get_data_dir(), \"uso-suelo-2011.csv\")\n",
    "clasif_path = os.path.join(get_data_dir(), \"RUS_clasif_rama1.xlsx\")\n",
    "parcelas_csv = os.path.join(get_data_dir(), \"parcelas-100112-wgs84.csv\")"
   ]
  },
  {
   "cell_type": "code",
   "execution_count": 239,
   "metadata": {
    "collapsed": false
   },
   "outputs": [],
   "source": [
    "df = pd.read_csv(rus_csv_path, encoding=\"utf-8\", sep=\";\")\n",
    "df_clasif = pd.read_excel(clasif_path)"
   ]
  },
  {
   "cell_type": "code",
   "execution_count": 240,
   "metadata": {
    "collapsed": false
   },
   "outputs": [
    {
     "data": {
      "text/html": [
       "<div>\n",
       "<table border=\"1\" class=\"dataframe\">\n",
       "  <thead>\n",
       "    <tr style=\"text-align: right;\">\n",
       "      <th></th>\n",
       "      <th>x</th>\n",
       "      <th>y</th>\n",
       "      <th>id</th>\n",
       "      <th>seccion</th>\n",
       "      <th>manzana</th>\n",
       "      <th>parcela</th>\n",
       "      <th>sm</th>\n",
       "      <th>smp</th>\n",
       "      <th>unificacio</th>\n",
       "      <th>parcelas_u</th>\n",
       "      <th>...</th>\n",
       "      <th>d41</th>\n",
       "      <th>d31</th>\n",
       "      <th>d21</th>\n",
       "      <th>barrio</th>\n",
       "      <th>comuna</th>\n",
       "      <th>zona</th>\n",
       "      <th>ano</th>\n",
       "      <th>rama1</th>\n",
       "      <th>sub_rama1</th>\n",
       "      <th>ss_rama1</th>\n",
       "    </tr>\n",
       "  </thead>\n",
       "  <tbody>\n",
       "    <tr>\n",
       "      <th>0</th>\n",
       "      <td>-58.4936</td>\n",
       "      <td>-34.5737</td>\n",
       "      <td>562177</td>\n",
       "      <td>63</td>\n",
       "      <td>066</td>\n",
       "      <td>020B</td>\n",
       "      <td>063-066</td>\n",
       "      <td>063-066-020B</td>\n",
       "      <td>NaN</td>\n",
       "      <td>NaN</td>\n",
       "      <td>...</td>\n",
       "      <td>0</td>\n",
       "      <td>0</td>\n",
       "      <td>0</td>\n",
       "      <td>VILLA URQUIZA</td>\n",
       "      <td>12</td>\n",
       "      <td>OESTE</td>\n",
       "      <td>2011</td>\n",
       "      <td>GARAGE PRIVADO</td>\n",
       "      <td>GARAGE PRIVADO</td>\n",
       "      <td>NaN</td>\n",
       "    </tr>\n",
       "    <tr>\n",
       "      <th>1</th>\n",
       "      <td>-58.4898</td>\n",
       "      <td>-34.5709</td>\n",
       "      <td>562178</td>\n",
       "      <td>63</td>\n",
       "      <td>116</td>\n",
       "      <td>001G</td>\n",
       "      <td>063-116</td>\n",
       "      <td>063-116-001G</td>\n",
       "      <td>NaN</td>\n",
       "      <td>NaN</td>\n",
       "      <td>...</td>\n",
       "      <td>0</td>\n",
       "      <td>0</td>\n",
       "      <td>0</td>\n",
       "      <td>VILLA URQUIZA</td>\n",
       "      <td>12</td>\n",
       "      <td>OESTE</td>\n",
       "      <td>2011</td>\n",
       "      <td>GARAGE PRIVADO</td>\n",
       "      <td>GARAGE PRIVADO</td>\n",
       "      <td>NaN</td>\n",
       "    </tr>\n",
       "    <tr>\n",
       "      <th>2</th>\n",
       "      <td>-58.4892</td>\n",
       "      <td>-34.5714</td>\n",
       "      <td>562179</td>\n",
       "      <td>63</td>\n",
       "      <td>116</td>\n",
       "      <td>006B</td>\n",
       "      <td>063-116</td>\n",
       "      <td>063-116-006B</td>\n",
       "      <td>NaN</td>\n",
       "      <td>NaN</td>\n",
       "      <td>...</td>\n",
       "      <td>0</td>\n",
       "      <td>0</td>\n",
       "      <td>0</td>\n",
       "      <td>VILLA URQUIZA</td>\n",
       "      <td>12</td>\n",
       "      <td>OESTE</td>\n",
       "      <td>2011</td>\n",
       "      <td>EDIFICIOS</td>\n",
       "      <td>VIVIENDA</td>\n",
       "      <td>NaN</td>\n",
       "    </tr>\n",
       "    <tr>\n",
       "      <th>3</th>\n",
       "      <td>-58.4927</td>\n",
       "      <td>-34.5732</td>\n",
       "      <td>562180</td>\n",
       "      <td>63</td>\n",
       "      <td>079</td>\n",
       "      <td>022</td>\n",
       "      <td>063-079</td>\n",
       "      <td>063-079-022</td>\n",
       "      <td>NaN</td>\n",
       "      <td>NaN</td>\n",
       "      <td>...</td>\n",
       "      <td>0</td>\n",
       "      <td>0</td>\n",
       "      <td>0</td>\n",
       "      <td>VILLA URQUIZA</td>\n",
       "      <td>12</td>\n",
       "      <td>OESTE</td>\n",
       "      <td>2011</td>\n",
       "      <td>GARAGE PRIVADO</td>\n",
       "      <td>GARAGE PRIVADO</td>\n",
       "      <td>NaN</td>\n",
       "    </tr>\n",
       "    <tr>\n",
       "      <th>4</th>\n",
       "      <td>-58.4935</td>\n",
       "      <td>-34.5720</td>\n",
       "      <td>562181</td>\n",
       "      <td>63</td>\n",
       "      <td>080</td>\n",
       "      <td>029</td>\n",
       "      <td>063-080</td>\n",
       "      <td>063-080-029</td>\n",
       "      <td>NaN</td>\n",
       "      <td>NaN</td>\n",
       "      <td>...</td>\n",
       "      <td>0</td>\n",
       "      <td>0</td>\n",
       "      <td>0</td>\n",
       "      <td>VILLA URQUIZA</td>\n",
       "      <td>12</td>\n",
       "      <td>OESTE</td>\n",
       "      <td>2011</td>\n",
       "      <td>GARAGE PRIVADO</td>\n",
       "      <td>GARAGE PRIVADO</td>\n",
       "      <td>NaN</td>\n",
       "    </tr>\n",
       "  </tbody>\n",
       "</table>\n",
       "<p>5 rows × 28 columns</p>\n",
       "</div>"
      ],
      "text/plain": [
       "         x        y      id  seccion manzana parcela       sm           smp  \\\n",
       "0 -58.4936 -34.5737  562177       63     066    020B  063-066  063-066-020B   \n",
       "1 -58.4898 -34.5709  562178       63     116    001G  063-116  063-116-001G   \n",
       "2 -58.4892 -34.5714  562179       63     116    006B  063-116  063-116-006B   \n",
       "3 -58.4927 -34.5732  562180       63     079     022  063-079   063-079-022   \n",
       "4 -58.4935 -34.5720  562181       63     080     029  063-080   063-080-029   \n",
       "\n",
       "  unificacio parcelas_u    ...    d41  d31 d21         barrio comuna   zona  \\\n",
       "0        NaN        NaN    ...      0    0   0  VILLA URQUIZA     12  OESTE   \n",
       "1        NaN        NaN    ...      0    0   0  VILLA URQUIZA     12  OESTE   \n",
       "2        NaN        NaN    ...      0    0   0  VILLA URQUIZA     12  OESTE   \n",
       "3        NaN        NaN    ...      0    0   0  VILLA URQUIZA     12  OESTE   \n",
       "4        NaN        NaN    ...      0    0   0  VILLA URQUIZA     12  OESTE   \n",
       "\n",
       "    ano           rama1       sub_rama1  ss_rama1  \n",
       "0  2011  GARAGE PRIVADO  GARAGE PRIVADO       NaN  \n",
       "1  2011  GARAGE PRIVADO  GARAGE PRIVADO       NaN  \n",
       "2  2011       EDIFICIOS        VIVIENDA       NaN  \n",
       "3  2011  GARAGE PRIVADO  GARAGE PRIVADO       NaN  \n",
       "4  2011  GARAGE PRIVADO  GARAGE PRIVADO       NaN  \n",
       "\n",
       "[5 rows x 28 columns]"
      ]
     },
     "execution_count": 240,
     "metadata": {},
     "output_type": "execute_result"
    }
   ],
   "source": [
    "df.head()"
   ]
  },
  {
   "cell_type": "code",
   "execution_count": 241,
   "metadata": {
    "collapsed": false
   },
   "outputs": [
    {
     "data": {
      "text/html": [
       "<div>\n",
       "<table border=\"1\" class=\"dataframe\">\n",
       "  <thead>\n",
       "    <tr style=\"text-align: right;\">\n",
       "      <th></th>\n",
       "      <th>rama1</th>\n",
       "      <th>count</th>\n",
       "      <th>clasificacion</th>\n",
       "    </tr>\n",
       "  </thead>\n",
       "  <tbody>\n",
       "    <tr>\n",
       "      <th>0</th>\n",
       "      <td>EDIFICIOS</td>\n",
       "      <td>284668</td>\n",
       "      <td>RESIDENCIAL</td>\n",
       "    </tr>\n",
       "    <tr>\n",
       "      <th>1</th>\n",
       "      <td>GARAGE PRIVADO</td>\n",
       "      <td>112170</td>\n",
       "      <td>RESIDENCIAL</td>\n",
       "    </tr>\n",
       "    <tr>\n",
       "      <th>2</th>\n",
       "      <td>COMERCIO</td>\n",
       "      <td>56608</td>\n",
       "      <td>COMERCIAL</td>\n",
       "    </tr>\n",
       "    <tr>\n",
       "      <th>3</th>\n",
       "      <td>LOCAL CERRADO</td>\n",
       "      <td>28805</td>\n",
       "      <td>OTROS</td>\n",
       "    </tr>\n",
       "    <tr>\n",
       "      <th>4</th>\n",
       "      <td>SERVICIOS COMPLEMENTARIOS AL TRANSPORTE</td>\n",
       "      <td>10310</td>\n",
       "      <td>SERVICIOS</td>\n",
       "    </tr>\n",
       "  </tbody>\n",
       "</table>\n",
       "</div>"
      ],
      "text/plain": [
       "                                     rama1   count clasificacion\n",
       "0                                EDIFICIOS  284668   RESIDENCIAL\n",
       "1                           GARAGE PRIVADO  112170   RESIDENCIAL\n",
       "2                                 COMERCIO   56608     COMERCIAL\n",
       "3                            LOCAL CERRADO   28805         OTROS\n",
       "4  SERVICIOS COMPLEMENTARIOS AL TRANSPORTE   10310     SERVICIOS"
      ]
     },
     "execution_count": 241,
     "metadata": {},
     "output_type": "execute_result"
    }
   ],
   "source": [
    "df_clasif.head()"
   ]
  },
  {
   "cell_type": "code",
   "execution_count": 242,
   "metadata": {
    "collapsed": false
   },
   "outputs": [
    {
     "data": {
      "text/plain": [
       "rama1\n",
       "EDIFICIOS                                  RESIDENCIAL\n",
       "GARAGE PRIVADO                             RESIDENCIAL\n",
       "COMERCIO                                     COMERCIAL\n",
       "LOCAL CERRADO                                    OTROS\n",
       "SERVICIOS COMPLEMENTARIOS AL TRANSPORTE      SERVICIOS\n",
       "Name: clasificacion, dtype: object"
      ]
     },
     "execution_count": 242,
     "metadata": {},
     "output_type": "execute_result"
    }
   ],
   "source": [
    "serie_clasif = df_clasif.set_index(\"rama1\")[\"clasificacion\"]\n",
    "serie_clasif.head()"
   ]
  },
  {
   "cell_type": "code",
   "execution_count": 243,
   "metadata": {
    "collapsed": false
   },
   "outputs": [
    {
     "name": "stdout",
     "output_type": "stream",
     "text": [
      "Sólo 7 parcelas no tienen un valor de rama1.\n"
     ]
    }
   ],
   "source": [
    "print \"Sólo\", len(df[pd.isnull(df[\"rama1\"])]), \"parcelas no tienen un valor de rama1.\""
   ]
  },
  {
   "cell_type": "code",
   "execution_count": 244,
   "metadata": {
    "collapsed": false
   },
   "outputs": [
    {
     "data": {
      "text/html": [
       "<div>\n",
       "<table border=\"1\" class=\"dataframe\">\n",
       "  <thead>\n",
       "    <tr style=\"text-align: right;\">\n",
       "      <th></th>\n",
       "      <th>x</th>\n",
       "      <th>y</th>\n",
       "      <th>id</th>\n",
       "      <th>seccion</th>\n",
       "      <th>manzana</th>\n",
       "      <th>parcela</th>\n",
       "      <th>sm</th>\n",
       "      <th>smp</th>\n",
       "      <th>unificacio</th>\n",
       "      <th>parcelas_u</th>\n",
       "      <th>...</th>\n",
       "      <th>d31</th>\n",
       "      <th>d21</th>\n",
       "      <th>barrio</th>\n",
       "      <th>comuna</th>\n",
       "      <th>zona</th>\n",
       "      <th>ano</th>\n",
       "      <th>rama1</th>\n",
       "      <th>sub_rama1</th>\n",
       "      <th>ss_rama1</th>\n",
       "      <th>clasificacion</th>\n",
       "    </tr>\n",
       "  </thead>\n",
       "  <tbody>\n",
       "    <tr>\n",
       "      <th>0</th>\n",
       "      <td>-58.4936</td>\n",
       "      <td>-34.5737</td>\n",
       "      <td>562177</td>\n",
       "      <td>63</td>\n",
       "      <td>066</td>\n",
       "      <td>020B</td>\n",
       "      <td>063-066</td>\n",
       "      <td>063-066-020B</td>\n",
       "      <td>NaN</td>\n",
       "      <td>NaN</td>\n",
       "      <td>...</td>\n",
       "      <td>0</td>\n",
       "      <td>0</td>\n",
       "      <td>VILLA URQUIZA</td>\n",
       "      <td>12</td>\n",
       "      <td>OESTE</td>\n",
       "      <td>2011</td>\n",
       "      <td>GARAGE PRIVADO</td>\n",
       "      <td>GARAGE PRIVADO</td>\n",
       "      <td>NaN</td>\n",
       "      <td>RESIDENCIAL</td>\n",
       "    </tr>\n",
       "    <tr>\n",
       "      <th>1</th>\n",
       "      <td>-58.4898</td>\n",
       "      <td>-34.5709</td>\n",
       "      <td>562178</td>\n",
       "      <td>63</td>\n",
       "      <td>116</td>\n",
       "      <td>001G</td>\n",
       "      <td>063-116</td>\n",
       "      <td>063-116-001G</td>\n",
       "      <td>NaN</td>\n",
       "      <td>NaN</td>\n",
       "      <td>...</td>\n",
       "      <td>0</td>\n",
       "      <td>0</td>\n",
       "      <td>VILLA URQUIZA</td>\n",
       "      <td>12</td>\n",
       "      <td>OESTE</td>\n",
       "      <td>2011</td>\n",
       "      <td>GARAGE PRIVADO</td>\n",
       "      <td>GARAGE PRIVADO</td>\n",
       "      <td>NaN</td>\n",
       "      <td>RESIDENCIAL</td>\n",
       "    </tr>\n",
       "    <tr>\n",
       "      <th>2</th>\n",
       "      <td>-58.4892</td>\n",
       "      <td>-34.5714</td>\n",
       "      <td>562179</td>\n",
       "      <td>63</td>\n",
       "      <td>116</td>\n",
       "      <td>006B</td>\n",
       "      <td>063-116</td>\n",
       "      <td>063-116-006B</td>\n",
       "      <td>NaN</td>\n",
       "      <td>NaN</td>\n",
       "      <td>...</td>\n",
       "      <td>0</td>\n",
       "      <td>0</td>\n",
       "      <td>VILLA URQUIZA</td>\n",
       "      <td>12</td>\n",
       "      <td>OESTE</td>\n",
       "      <td>2011</td>\n",
       "      <td>EDIFICIOS</td>\n",
       "      <td>VIVIENDA</td>\n",
       "      <td>NaN</td>\n",
       "      <td>RESIDENCIAL</td>\n",
       "    </tr>\n",
       "    <tr>\n",
       "      <th>3</th>\n",
       "      <td>-58.4927</td>\n",
       "      <td>-34.5732</td>\n",
       "      <td>562180</td>\n",
       "      <td>63</td>\n",
       "      <td>079</td>\n",
       "      <td>022</td>\n",
       "      <td>063-079</td>\n",
       "      <td>063-079-022</td>\n",
       "      <td>NaN</td>\n",
       "      <td>NaN</td>\n",
       "      <td>...</td>\n",
       "      <td>0</td>\n",
       "      <td>0</td>\n",
       "      <td>VILLA URQUIZA</td>\n",
       "      <td>12</td>\n",
       "      <td>OESTE</td>\n",
       "      <td>2011</td>\n",
       "      <td>GARAGE PRIVADO</td>\n",
       "      <td>GARAGE PRIVADO</td>\n",
       "      <td>NaN</td>\n",
       "      <td>RESIDENCIAL</td>\n",
       "    </tr>\n",
       "    <tr>\n",
       "      <th>4</th>\n",
       "      <td>-58.4935</td>\n",
       "      <td>-34.5720</td>\n",
       "      <td>562181</td>\n",
       "      <td>63</td>\n",
       "      <td>080</td>\n",
       "      <td>029</td>\n",
       "      <td>063-080</td>\n",
       "      <td>063-080-029</td>\n",
       "      <td>NaN</td>\n",
       "      <td>NaN</td>\n",
       "      <td>...</td>\n",
       "      <td>0</td>\n",
       "      <td>0</td>\n",
       "      <td>VILLA URQUIZA</td>\n",
       "      <td>12</td>\n",
       "      <td>OESTE</td>\n",
       "      <td>2011</td>\n",
       "      <td>GARAGE PRIVADO</td>\n",
       "      <td>GARAGE PRIVADO</td>\n",
       "      <td>NaN</td>\n",
       "      <td>RESIDENCIAL</td>\n",
       "    </tr>\n",
       "  </tbody>\n",
       "</table>\n",
       "<p>5 rows × 29 columns</p>\n",
       "</div>"
      ],
      "text/plain": [
       "         x        y      id  seccion manzana parcela       sm           smp  \\\n",
       "0 -58.4936 -34.5737  562177       63     066    020B  063-066  063-066-020B   \n",
       "1 -58.4898 -34.5709  562178       63     116    001G  063-116  063-116-001G   \n",
       "2 -58.4892 -34.5714  562179       63     116    006B  063-116  063-116-006B   \n",
       "3 -58.4927 -34.5732  562180       63     079     022  063-079   063-079-022   \n",
       "4 -58.4935 -34.5720  562181       63     080     029  063-080   063-080-029   \n",
       "\n",
       "  unificacio parcelas_u      ...       d31  d21         barrio comuna   zona  \\\n",
       "0        NaN        NaN      ...         0    0  VILLA URQUIZA     12  OESTE   \n",
       "1        NaN        NaN      ...         0    0  VILLA URQUIZA     12  OESTE   \n",
       "2        NaN        NaN      ...         0    0  VILLA URQUIZA     12  OESTE   \n",
       "3        NaN        NaN      ...         0    0  VILLA URQUIZA     12  OESTE   \n",
       "4        NaN        NaN      ...         0    0  VILLA URQUIZA     12  OESTE   \n",
       "\n",
       "    ano           rama1       sub_rama1  ss_rama1  clasificacion  \n",
       "0  2011  GARAGE PRIVADO  GARAGE PRIVADO       NaN    RESIDENCIAL  \n",
       "1  2011  GARAGE PRIVADO  GARAGE PRIVADO       NaN    RESIDENCIAL  \n",
       "2  2011       EDIFICIOS        VIVIENDA       NaN    RESIDENCIAL  \n",
       "3  2011  GARAGE PRIVADO  GARAGE PRIVADO       NaN    RESIDENCIAL  \n",
       "4  2011  GARAGE PRIVADO  GARAGE PRIVADO       NaN    RESIDENCIAL  \n",
       "\n",
       "[5 rows x 29 columns]"
      ]
     },
     "execution_count": 244,
     "metadata": {},
     "output_type": "execute_result"
    }
   ],
   "source": [
    "df = df.join(serie_clasif, on=\"rama1\")\n",
    "df.head()"
   ]
  },
  {
   "cell_type": "markdown",
   "metadata": {},
   "source": [
    "* *Calcular el AREA de cada parcela* \n",
    "    * `ALTER TABLE parcelas ADD area float;`\n",
    "    * `UPDATE parcelas SET area = ST_Area(geom);`\n",
    "* *Asignar el radio que contiene a la parcela* \n",
    "    * `ALTER TABLE parcelas ADD CO_FRAC_RA str;`\n",
    "    * `UPDATE parcelas SET CO_FRAC_RA = r.CO_FRAC_RA FROM radios_censo_2010 r WHERE ST_Contains(r.geom, parcelas.geom);`\n",
    "* *Convertir tabla PostGIS en shp:* `pgsql2shp -f parcelas -h localhost -p 5432 abenassi \"SELECT * FROM parcelas;`"
   ]
  },
  {
   "cell_type": "code",
   "execution_count": 245,
   "metadata": {
    "collapsed": true
   },
   "outputs": [],
   "source": [
    "parcelas_dbf = Dbf5(\"shp/divisiones/parcelas_joined/parcelas.dbf\")"
   ]
  },
  {
   "cell_type": "code",
   "execution_count": 246,
   "metadata": {
    "collapsed": true
   },
   "outputs": [],
   "source": [
    "parcelas_df = parcelas_dbf.to_dataframe()"
   ]
  },
  {
   "cell_type": "code",
   "execution_count": 247,
   "metadata": {
    "collapsed": false
   },
   "outputs": [
    {
     "data": {
      "text/html": [
       "<div>\n",
       "<table border=\"1\" class=\"dataframe\">\n",
       "  <thead>\n",
       "    <tr style=\"text-align: right;\">\n",
       "      <th></th>\n",
       "      <th>FEATID1</th>\n",
       "      <th>MANZANA</th>\n",
       "      <th>OBS</th>\n",
       "      <th>PARCELA</th>\n",
       "      <th>SECCION</th>\n",
       "      <th>SMP</th>\n",
       "      <th>WEBLINK</th>\n",
       "      <th>PARC_ESQ</th>\n",
       "      <th>ROT_SEC</th>\n",
       "      <th>ROT_PAR</th>\n",
       "      <th>SM</th>\n",
       "      <th>PARTIDA</th>\n",
       "      <th>AREA</th>\n",
       "      <th>CO_FRAC_RA</th>\n",
       "    </tr>\n",
       "  </thead>\n",
       "  <tbody>\n",
       "    <tr>\n",
       "      <th>0</th>\n",
       "      <td>389</td>\n",
       "      <td>047</td>\n",
       "      <td>INFORMACION CONSISTENTE</td>\n",
       "      <td>006</td>\n",
       "      <td>001</td>\n",
       "      <td>001-047-006</td>\n",
       "      <td>001-047-006</td>\n",
       "      <td>N</td>\n",
       "      <td>01</td>\n",
       "      <td>NaN</td>\n",
       "      <td>001-047</td>\n",
       "      <td>220257</td>\n",
       "      <td>364.122743</td>\n",
       "      <td>1_9_12</td>\n",
       "    </tr>\n",
       "    <tr>\n",
       "      <th>1</th>\n",
       "      <td>388</td>\n",
       "      <td>047</td>\n",
       "      <td>INFORMACION CONSISTENTE</td>\n",
       "      <td>008</td>\n",
       "      <td>001</td>\n",
       "      <td>001-047-008</td>\n",
       "      <td>001-047-008</td>\n",
       "      <td>N</td>\n",
       "      <td>01</td>\n",
       "      <td>NaN</td>\n",
       "      <td>001-047</td>\n",
       "      <td>220255</td>\n",
       "      <td>280.865662</td>\n",
       "      <td>1_9_12</td>\n",
       "    </tr>\n",
       "    <tr>\n",
       "      <th>2</th>\n",
       "      <td>387</td>\n",
       "      <td>048</td>\n",
       "      <td>INFORMACION CONSISTENTE</td>\n",
       "      <td>008i</td>\n",
       "      <td>001</td>\n",
       "      <td>001-048-008i</td>\n",
       "      <td>001-048-008i</td>\n",
       "      <td>N</td>\n",
       "      <td>01</td>\n",
       "      <td>NaN</td>\n",
       "      <td>001-048</td>\n",
       "      <td>0</td>\n",
       "      <td>395.447053</td>\n",
       "      <td>1_9_11</td>\n",
       "    </tr>\n",
       "    <tr>\n",
       "      <th>3</th>\n",
       "      <td>386</td>\n",
       "      <td>048</td>\n",
       "      <td>INFORMACION CONSISTENTE</td>\n",
       "      <td>016</td>\n",
       "      <td>001</td>\n",
       "      <td>001-048-016</td>\n",
       "      <td>001-048-016</td>\n",
       "      <td>N</td>\n",
       "      <td>01</td>\n",
       "      <td>NaN</td>\n",
       "      <td>001-048</td>\n",
       "      <td>220277</td>\n",
       "      <td>640.551576</td>\n",
       "      <td>1_9_11</td>\n",
       "    </tr>\n",
       "    <tr>\n",
       "      <th>4</th>\n",
       "      <td>385</td>\n",
       "      <td>048</td>\n",
       "      <td>INFORMACION CONSISTENTE</td>\n",
       "      <td>031</td>\n",
       "      <td>001</td>\n",
       "      <td>001-048-031</td>\n",
       "      <td>001-048-031</td>\n",
       "      <td>N</td>\n",
       "      <td>01</td>\n",
       "      <td>NaN</td>\n",
       "      <td>001-048</td>\n",
       "      <td>220293</td>\n",
       "      <td>966.103426</td>\n",
       "      <td>1_9_11</td>\n",
       "    </tr>\n",
       "  </tbody>\n",
       "</table>\n",
       "</div>"
      ],
      "text/plain": [
       "   FEATID1 MANZANA                      OBS PARCELA SECCION           SMP  \\\n",
       "0      389     047  INFORMACION CONSISTENTE     006     001   001-047-006   \n",
       "1      388     047  INFORMACION CONSISTENTE     008     001   001-047-008   \n",
       "2      387     048  INFORMACION CONSISTENTE    008i     001  001-048-008i   \n",
       "3      386     048  INFORMACION CONSISTENTE     016     001   001-048-016   \n",
       "4      385     048  INFORMACION CONSISTENTE     031     001   001-048-031   \n",
       "\n",
       "        WEBLINK PARC_ESQ ROT_SEC  ROT_PAR       SM PARTIDA        AREA  \\\n",
       "0   001-047-006        N      01      NaN  001-047  220257  364.122743   \n",
       "1   001-047-008        N      01      NaN  001-047  220255  280.865662   \n",
       "2  001-048-008i        N      01      NaN  001-048       0  395.447053   \n",
       "3   001-048-016        N      01      NaN  001-048  220277  640.551576   \n",
       "4   001-048-031        N      01      NaN  001-048  220293  966.103426   \n",
       "\n",
       "  CO_FRAC_RA  \n",
       "0     1_9_12  \n",
       "1     1_9_12  \n",
       "2     1_9_11  \n",
       "3     1_9_11  \n",
       "4     1_9_11  "
      ]
     },
     "execution_count": 247,
     "metadata": {},
     "output_type": "execute_result"
    }
   ],
   "source": [
    "parcelas_df.head()"
   ]
  },
  {
   "cell_type": "code",
   "execution_count": 248,
   "metadata": {
    "collapsed": false
   },
   "outputs": [
    {
     "name": "stdout",
     "output_type": "stream",
     "text": [
      "778 parcelas no están contenidas por un radio.\n"
     ]
    }
   ],
   "source": [
    "print len(parcelas_df[pd.isnull(parcelas_df[\"CO_FRAC_RA\"])]), \"parcelas no están contenidas por un radio.\""
   ]
  },
  {
   "cell_type": "code",
   "execution_count": 249,
   "metadata": {
    "collapsed": false
   },
   "outputs": [
    {
     "name": "stdout",
     "output_type": "stream",
     "text": [
      "smp\n"
     ]
    },
    {
     "data": {
      "text/plain": [
       "Index([            u'x',             u'y',            u'id',       u'seccion',\n",
       "             u'manzana',       u'parcela',            u'sm',           u'SMP',\n",
       "          u'unificacio',    u'parcelas_u',       u'calle_1',           u'num',\n",
       "             u'calle_2',        u'tipo_1',        u'tipo_2',         u'pisos',\n",
       "              u'nombre',           u'd51',           u'd41',           u'd31',\n",
       "                 u'd21',        u'barrio',        u'comuna',          u'zona',\n",
       "                 u'ano',         u'rama1',     u'sub_rama1',      u'ss_rama1',\n",
       "       u'clasificacion'],\n",
       "      dtype='object')"
      ]
     },
     "execution_count": 249,
     "metadata": {},
     "output_type": "execute_result"
    }
   ],
   "source": [
    "print df.columns[7]\n",
    "cols = list(df.columns)\n",
    "cols[7] = cols[7].upper()\n",
    "df.columns = cols\n",
    "df.columns"
   ]
  },
  {
   "cell_type": "code",
   "execution_count": 250,
   "metadata": {
    "collapsed": true
   },
   "outputs": [],
   "source": [
    "df[\"SMP\"] = df[\"SMP\"].str.upper()\n",
    "parcelas_df[\"SMP\"] = parcelas_df[\"SMP\"].str.upper()"
   ]
  },
  {
   "cell_type": "code",
   "execution_count": 251,
   "metadata": {
    "collapsed": false
   },
   "outputs": [
    {
     "data": {
      "text/html": [
       "<div>\n",
       "<table border=\"1\" class=\"dataframe\">\n",
       "  <thead>\n",
       "    <tr style=\"text-align: right;\">\n",
       "      <th></th>\n",
       "      <th>x</th>\n",
       "      <th>y</th>\n",
       "      <th>id</th>\n",
       "      <th>seccion</th>\n",
       "      <th>manzana</th>\n",
       "      <th>parcela</th>\n",
       "      <th>sm</th>\n",
       "      <th>SMP</th>\n",
       "      <th>unificacio</th>\n",
       "      <th>parcelas_u</th>\n",
       "      <th>...</th>\n",
       "      <th>barrio</th>\n",
       "      <th>comuna</th>\n",
       "      <th>zona</th>\n",
       "      <th>ano</th>\n",
       "      <th>rama1</th>\n",
       "      <th>sub_rama1</th>\n",
       "      <th>ss_rama1</th>\n",
       "      <th>clasificacion</th>\n",
       "      <th>AREA</th>\n",
       "      <th>CO_FRAC_RA</th>\n",
       "    </tr>\n",
       "  </thead>\n",
       "  <tbody>\n",
       "    <tr>\n",
       "      <th>0</th>\n",
       "      <td>-58.4936</td>\n",
       "      <td>-34.5737</td>\n",
       "      <td>562177</td>\n",
       "      <td>63</td>\n",
       "      <td>066</td>\n",
       "      <td>020B</td>\n",
       "      <td>063-066</td>\n",
       "      <td>063-066-020B</td>\n",
       "      <td>NaN</td>\n",
       "      <td>NaN</td>\n",
       "      <td>...</td>\n",
       "      <td>VILLA URQUIZA</td>\n",
       "      <td>12</td>\n",
       "      <td>OESTE</td>\n",
       "      <td>2011</td>\n",
       "      <td>GARAGE PRIVADO</td>\n",
       "      <td>GARAGE PRIVADO</td>\n",
       "      <td>NaN</td>\n",
       "      <td>RESIDENCIAL</td>\n",
       "      <td>251.412082</td>\n",
       "      <td>12_16_1</td>\n",
       "    </tr>\n",
       "    <tr>\n",
       "      <th>1</th>\n",
       "      <td>-58.4898</td>\n",
       "      <td>-34.5709</td>\n",
       "      <td>562178</td>\n",
       "      <td>63</td>\n",
       "      <td>116</td>\n",
       "      <td>001G</td>\n",
       "      <td>063-116</td>\n",
       "      <td>063-116-001G</td>\n",
       "      <td>NaN</td>\n",
       "      <td>NaN</td>\n",
       "      <td>...</td>\n",
       "      <td>VILLA URQUIZA</td>\n",
       "      <td>12</td>\n",
       "      <td>OESTE</td>\n",
       "      <td>2011</td>\n",
       "      <td>GARAGE PRIVADO</td>\n",
       "      <td>GARAGE PRIVADO</td>\n",
       "      <td>NaN</td>\n",
       "      <td>RESIDENCIAL</td>\n",
       "      <td>129.608734</td>\n",
       "      <td>12_16_3</td>\n",
       "    </tr>\n",
       "    <tr>\n",
       "      <th>2</th>\n",
       "      <td>-58.4892</td>\n",
       "      <td>-34.5714</td>\n",
       "      <td>562179</td>\n",
       "      <td>63</td>\n",
       "      <td>116</td>\n",
       "      <td>006B</td>\n",
       "      <td>063-116</td>\n",
       "      <td>063-116-006B</td>\n",
       "      <td>NaN</td>\n",
       "      <td>NaN</td>\n",
       "      <td>...</td>\n",
       "      <td>VILLA URQUIZA</td>\n",
       "      <td>12</td>\n",
       "      <td>OESTE</td>\n",
       "      <td>2011</td>\n",
       "      <td>EDIFICIOS</td>\n",
       "      <td>VIVIENDA</td>\n",
       "      <td>NaN</td>\n",
       "      <td>RESIDENCIAL</td>\n",
       "      <td>210.973922</td>\n",
       "      <td>12_16_3</td>\n",
       "    </tr>\n",
       "    <tr>\n",
       "      <th>3</th>\n",
       "      <td>-58.4927</td>\n",
       "      <td>-34.5732</td>\n",
       "      <td>562180</td>\n",
       "      <td>63</td>\n",
       "      <td>079</td>\n",
       "      <td>022</td>\n",
       "      <td>063-079</td>\n",
       "      <td>063-079-022</td>\n",
       "      <td>NaN</td>\n",
       "      <td>NaN</td>\n",
       "      <td>...</td>\n",
       "      <td>VILLA URQUIZA</td>\n",
       "      <td>12</td>\n",
       "      <td>OESTE</td>\n",
       "      <td>2011</td>\n",
       "      <td>GARAGE PRIVADO</td>\n",
       "      <td>GARAGE PRIVADO</td>\n",
       "      <td>NaN</td>\n",
       "      <td>RESIDENCIAL</td>\n",
       "      <td>278.004430</td>\n",
       "      <td>12_16_1</td>\n",
       "    </tr>\n",
       "    <tr>\n",
       "      <th>4</th>\n",
       "      <td>-58.4935</td>\n",
       "      <td>-34.5720</td>\n",
       "      <td>562181</td>\n",
       "      <td>63</td>\n",
       "      <td>080</td>\n",
       "      <td>029</td>\n",
       "      <td>063-080</td>\n",
       "      <td>063-080-029</td>\n",
       "      <td>NaN</td>\n",
       "      <td>NaN</td>\n",
       "      <td>...</td>\n",
       "      <td>VILLA URQUIZA</td>\n",
       "      <td>12</td>\n",
       "      <td>OESTE</td>\n",
       "      <td>2011</td>\n",
       "      <td>GARAGE PRIVADO</td>\n",
       "      <td>GARAGE PRIVADO</td>\n",
       "      <td>NaN</td>\n",
       "      <td>RESIDENCIAL</td>\n",
       "      <td>421.064637</td>\n",
       "      <td>12_16_1</td>\n",
       "    </tr>\n",
       "  </tbody>\n",
       "</table>\n",
       "<p>5 rows × 31 columns</p>\n",
       "</div>"
      ],
      "text/plain": [
       "         x        y      id  seccion manzana parcela       sm           SMP  \\\n",
       "0 -58.4936 -34.5737  562177       63     066    020B  063-066  063-066-020B   \n",
       "1 -58.4898 -34.5709  562178       63     116    001G  063-116  063-116-001G   \n",
       "2 -58.4892 -34.5714  562179       63     116    006B  063-116  063-116-006B   \n",
       "3 -58.4927 -34.5732  562180       63     079     022  063-079   063-079-022   \n",
       "4 -58.4935 -34.5720  562181       63     080     029  063-080   063-080-029   \n",
       "\n",
       "  unificacio parcelas_u     ...             barrio  comuna   zona   ano  \\\n",
       "0        NaN        NaN     ...      VILLA URQUIZA      12  OESTE  2011   \n",
       "1        NaN        NaN     ...      VILLA URQUIZA      12  OESTE  2011   \n",
       "2        NaN        NaN     ...      VILLA URQUIZA      12  OESTE  2011   \n",
       "3        NaN        NaN     ...      VILLA URQUIZA      12  OESTE  2011   \n",
       "4        NaN        NaN     ...      VILLA URQUIZA      12  OESTE  2011   \n",
       "\n",
       "            rama1       sub_rama1 ss_rama1  clasificacion        AREA  \\\n",
       "0  GARAGE PRIVADO  GARAGE PRIVADO      NaN    RESIDENCIAL  251.412082   \n",
       "1  GARAGE PRIVADO  GARAGE PRIVADO      NaN    RESIDENCIAL  129.608734   \n",
       "2       EDIFICIOS        VIVIENDA      NaN    RESIDENCIAL  210.973922   \n",
       "3  GARAGE PRIVADO  GARAGE PRIVADO      NaN    RESIDENCIAL  278.004430   \n",
       "4  GARAGE PRIVADO  GARAGE PRIVADO      NaN    RESIDENCIAL  421.064637   \n",
       "\n",
       "   CO_FRAC_RA  \n",
       "0     12_16_1  \n",
       "1     12_16_3  \n",
       "2     12_16_3  \n",
       "3     12_16_1  \n",
       "4     12_16_1  \n",
       "\n",
       "[5 rows x 31 columns]"
      ]
     },
     "execution_count": 251,
     "metadata": {},
     "output_type": "execute_result"
    }
   ],
   "source": [
    "df = df.join(parcelas_df[[\"SMP\", \"AREA\", \"CO_FRAC_RA\"]].set_index(\"SMP\"), on=\"SMP\")\n",
    "df.head()"
   ]
  },
  {
   "cell_type": "code",
   "execution_count": 252,
   "metadata": {
    "collapsed": false
   },
   "outputs": [
    {
     "name": "stdout",
     "output_type": "stream",
     "text": [
      "555755 parcelas con RUS.\n",
      "11632 parcelas sin radio asignado.\n",
      "10538 parcelas sin area calculada.\n"
     ]
    }
   ],
   "source": [
    "print len(df), \"parcelas con RUS.\"\n",
    "print len(df[pd.isnull(df[\"CO_FRAC_RA\"])]), \"parcelas sin radio asignado.\"\n",
    "print len(df[pd.isnull(df[\"AREA\"])]), \"parcelas sin area calculada.\""
   ]
  },
  {
   "cell_type": "code",
   "execution_count": 253,
   "metadata": {
    "collapsed": true
   },
   "outputs": [],
   "source": [
    "df[\"AREA_POR_USO\"] = df[\"AREA\"] / df.groupby(by=\"SMP\").count()[\"AREA\"]"
   ]
  },
  {
   "cell_type": "code",
   "execution_count": 254,
   "metadata": {
    "collapsed": false
   },
   "outputs": [
    {
     "data": {
      "text/plain": [
       "clasificacion\n",
       "COMERCIAL       3812.530654\n",
       "OTROS           5292.368953\n",
       "RESIDENCIAL    90414.301674\n",
       "SERVICIOS       5381.848152\n",
       "Name: AREA, dtype: float64"
      ]
     },
     "execution_count": 254,
     "metadata": {},
     "output_type": "execute_result"
    }
   ],
   "source": [
    "df[df[\"CO_FRAC_RA\"] == \"12_16_1\"].groupby(by=\"clasificacion\").sum()[\"AREA\"]"
   ]
  },
  {
   "cell_type": "code",
   "execution_count": 255,
   "metadata": {
    "collapsed": false
   },
   "outputs": [
    {
     "data": {
      "text/plain": [
       "CO_FRAC_RA  clasificacion\n",
       "10_10_1     COMERCIAL        0.038155\n",
       "            OTROS            0.035857\n",
       "            RESIDENCIAL      0.843454\n",
       "            SERVICIOS        0.082533\n",
       "10_10_10    COMERCIAL        0.045252\n",
       "            OTROS            0.028980\n",
       "            RESIDENCIAL      0.891986\n",
       "            SERVICIOS        0.033782\n",
       "10_10_11    COMERCIAL        0.017029\n",
       "            INDUSTRIAL       0.004169\n",
       "            OTROS            0.031078\n",
       "            RESIDENCIAL      0.902656\n",
       "            SERVICIOS        0.045068\n",
       "10_10_12    COMERCIAL        0.051756\n",
       "            INDUSTRIAL       0.009026\n",
       "            OTROS            0.089479\n",
       "            RESIDENCIAL      0.763907\n",
       "            SERVICIOS        0.085832\n",
       "10_10_2     COMERCIAL        0.019215\n",
       "            INDUSTRIAL       0.005497\n",
       "Name: AREA, dtype: float64"
      ]
     },
     "execution_count": 255,
     "metadata": {},
     "output_type": "execute_result"
    }
   ],
   "source": [
    "uso_por_radio = df.groupby(by=[\"CO_FRAC_RA\", \"clasificacion\"]).sum()[\"AREA\"] / df.groupby(by=\"CO_FRAC_RA\").sum()[\"AREA\"]\n",
    "uso_por_radio[:20]"
   ]
  },
  {
   "cell_type": "code",
   "execution_count": 256,
   "metadata": {
    "collapsed": false
   },
   "outputs": [
    {
     "name": "stdout",
     "output_type": "stream",
     "text": [
      "3439 radios tienen el uso del suelo calculado\n"
     ]
    }
   ],
   "source": [
    "print len(uso_por_radio.groupby(level=0)), \"radios tienen el uso del suelo calculado\""
   ]
  },
  {
   "cell_type": "code",
   "execution_count": 257,
   "metadata": {
    "collapsed": false
   },
   "outputs": [],
   "source": [
    "from scripts.create_indicators import get_or_create_indicators_df\n",
    "\n",
    "indicators_radio = get_or_create_indicators_df(\"RADIO\")\n",
    "old_index = indicators_radio.index.copy()\n",
    "indicators_radio = indicators_radio.set_index(\"CO_FRAC_RA\")"
   ]
  },
  {
   "cell_type": "code",
   "execution_count": 258,
   "metadata": {
    "collapsed": true
   },
   "outputs": [],
   "source": [
    "def get_land_use(radio, use, serie):\n",
    "    if not radio in serie:\n",
    "        return pd.np.nan\n",
    "    \n",
    "    if use in serie[radio]:\n",
    "        return serie[radio][use]\n",
    "    else:\n",
    "        return 0"
   ]
  },
  {
   "cell_type": "code",
   "execution_count": 259,
   "metadata": {
    "collapsed": true
   },
   "outputs": [],
   "source": [
    "from functools import partial"
   ]
  },
  {
   "cell_type": "code",
   "execution_count": 260,
   "metadata": {
    "collapsed": true
   },
   "outputs": [],
   "source": [
    "get_comercial_use = partial(get_land_use, use=\"COMERCIAL\", serie=uso_por_radio)\n",
    "get_industrial_use = partial(get_land_use, use=\"INDUSTRIAL\", serie=uso_por_radio)\n",
    "get_servicios_use = partial(get_land_use, use=\"SERVICIOS\", serie=uso_por_radio)\n",
    "get_otros_use = partial(get_land_use, use=\"OTROS\", serie=uso_por_radio)"
   ]
  },
  {
   "cell_type": "code",
   "execution_count": 261,
   "metadata": {
    "collapsed": false
   },
   "outputs": [],
   "source": [
    "indicators_radio[\"COMERCIAL\"] = map(get_comercial_use, indicators_radio.index)\n",
    "indicators_radio[\"INDUSTRIAL\"] = map(get_industrial_use, indicators_radio.index)\n",
    "indicators_radio[\"SERVICIOS\"] = map(get_servicios_use, indicators_radio.index)\n",
    "indicators_radio[\"OTROS\"] = map(get_otros_use, indicators_radio.index)"
   ]
  },
  {
   "cell_type": "code",
   "execution_count": 262,
   "metadata": {
    "collapsed": false
   },
   "outputs": [
    {
     "data": {
      "text/html": [
       "<div>\n",
       "<table border=\"1\" class=\"dataframe\">\n",
       "  <thead>\n",
       "    <tr style=\"text-align: right;\">\n",
       "      <th></th>\n",
       "      <th>empleo</th>\n",
       "      <th>desocup</th>\n",
       "      <th>inact</th>\n",
       "      <th>ocup_viv</th>\n",
       "      <th>0_14</th>\n",
       "      <th>15_64</th>\n",
       "      <th>mas_65</th>\n",
       "      <th>hab</th>\n",
       "      <th>con_satisf</th>\n",
       "      <th>con_basica</th>\n",
       "      <th>...</th>\n",
       "      <th>reach_area</th>\n",
       "      <th>COMERCIAL</th>\n",
       "      <th>INDUSTRIAL</th>\n",
       "      <th>SERVICIOS</th>\n",
       "      <th>OTROS</th>\n",
       "      <th>educ_priv</th>\n",
       "      <th>educ_pub</th>\n",
       "      <th>hospitales</th>\n",
       "      <th>esp_verde</th>\n",
       "      <th>nse_alt</th>\n",
       "    </tr>\n",
       "    <tr>\n",
       "      <th>CO_FRAC_RA</th>\n",
       "      <th></th>\n",
       "      <th></th>\n",
       "      <th></th>\n",
       "      <th></th>\n",
       "      <th></th>\n",
       "      <th></th>\n",
       "      <th></th>\n",
       "      <th></th>\n",
       "      <th></th>\n",
       "      <th></th>\n",
       "      <th></th>\n",
       "      <th></th>\n",
       "      <th></th>\n",
       "      <th></th>\n",
       "      <th></th>\n",
       "      <th></th>\n",
       "      <th></th>\n",
       "      <th></th>\n",
       "      <th></th>\n",
       "      <th></th>\n",
       "      <th></th>\n",
       "    </tr>\n",
       "  </thead>\n",
       "  <tbody>\n",
       "    <tr>\n",
       "      <th>15_21_9</th>\n",
       "      <td>0.740891</td>\n",
       "      <td>0.035149</td>\n",
       "      <td>0.238866</td>\n",
       "      <td>0.746063</td>\n",
       "      <td>0.141367</td>\n",
       "      <td>0.698725</td>\n",
       "      <td>0.159907</td>\n",
       "      <td>863</td>\n",
       "      <td>0.796834</td>\n",
       "      <td>0.203166</td>\n",
       "      <td>...</td>\n",
       "      <td>42.880817</td>\n",
       "      <td>0.157499</td>\n",
       "      <td>0.000000</td>\n",
       "      <td>0.078906</td>\n",
       "      <td>0.015775</td>\n",
       "      <td>0</td>\n",
       "      <td>0</td>\n",
       "      <td>0</td>\n",
       "      <td>0</td>\n",
       "      <td>3</td>\n",
       "    </tr>\n",
       "    <tr>\n",
       "      <th>15_21_10</th>\n",
       "      <td>0.716763</td>\n",
       "      <td>0.031250</td>\n",
       "      <td>0.267823</td>\n",
       "      <td>0.708010</td>\n",
       "      <td>0.153344</td>\n",
       "      <td>0.698206</td>\n",
       "      <td>0.148450</td>\n",
       "      <td>613</td>\n",
       "      <td>0.868613</td>\n",
       "      <td>0.062044</td>\n",
       "      <td>...</td>\n",
       "      <td>41.830951</td>\n",
       "      <td>0.073954</td>\n",
       "      <td>0.000000</td>\n",
       "      <td>0.093680</td>\n",
       "      <td>0.012688</td>\n",
       "      <td>0</td>\n",
       "      <td>0</td>\n",
       "      <td>0</td>\n",
       "      <td>0</td>\n",
       "      <td>3</td>\n",
       "    </tr>\n",
       "    <tr>\n",
       "      <th>15_21_11</th>\n",
       "      <td>0.811037</td>\n",
       "      <td>0.030000</td>\n",
       "      <td>0.168896</td>\n",
       "      <td>0.739726</td>\n",
       "      <td>0.142037</td>\n",
       "      <td>0.736011</td>\n",
       "      <td>0.121951</td>\n",
       "      <td>697</td>\n",
       "      <td>0.956790</td>\n",
       "      <td>0.030864</td>\n",
       "      <td>...</td>\n",
       "      <td>16.986219</td>\n",
       "      <td>0.056333</td>\n",
       "      <td>0.009658</td>\n",
       "      <td>0.102227</td>\n",
       "      <td>0.029582</td>\n",
       "      <td>0</td>\n",
       "      <td>0</td>\n",
       "      <td>0</td>\n",
       "      <td>0</td>\n",
       "      <td>3</td>\n",
       "    </tr>\n",
       "    <tr>\n",
       "      <th>15_21_12</th>\n",
       "      <td>0.760820</td>\n",
       "      <td>0.037464</td>\n",
       "      <td>0.216401</td>\n",
       "      <td>0.778986</td>\n",
       "      <td>0.139216</td>\n",
       "      <td>0.735294</td>\n",
       "      <td>0.125490</td>\n",
       "      <td>510</td>\n",
       "      <td>0.860465</td>\n",
       "      <td>0.074419</td>\n",
       "      <td>...</td>\n",
       "      <td>16.858104</td>\n",
       "      <td>0.029522</td>\n",
       "      <td>0.000000</td>\n",
       "      <td>0.209995</td>\n",
       "      <td>0.011504</td>\n",
       "      <td>0</td>\n",
       "      <td>0</td>\n",
       "      <td>0</td>\n",
       "      <td>0</td>\n",
       "      <td>3</td>\n",
       "    </tr>\n",
       "    <tr>\n",
       "      <th>15_21_13</th>\n",
       "      <td>0.691517</td>\n",
       "      <td>0.046099</td>\n",
       "      <td>0.244216</td>\n",
       "      <td>0.770161</td>\n",
       "      <td>0.130726</td>\n",
       "      <td>0.689385</td>\n",
       "      <td>0.179888</td>\n",
       "      <td>895</td>\n",
       "      <td>0.869110</td>\n",
       "      <td>0.099476</td>\n",
       "      <td>...</td>\n",
       "      <td>50.842914</td>\n",
       "      <td>0.132925</td>\n",
       "      <td>0.017719</td>\n",
       "      <td>0.198981</td>\n",
       "      <td>0.114428</td>\n",
       "      <td>0</td>\n",
       "      <td>0</td>\n",
       "      <td>0</td>\n",
       "      <td>0</td>\n",
       "      <td>3</td>\n",
       "    </tr>\n",
       "  </tbody>\n",
       "</table>\n",
       "<p>5 rows × 35 columns</p>\n",
       "</div>"
      ],
      "text/plain": [
       "              empleo   desocup     inact  ocup_viv      0_14     15_64  \\\n",
       "CO_FRAC_RA                                                               \n",
       "15_21_9     0.740891  0.035149  0.238866  0.746063  0.141367  0.698725   \n",
       "15_21_10    0.716763  0.031250  0.267823  0.708010  0.153344  0.698206   \n",
       "15_21_11    0.811037  0.030000  0.168896  0.739726  0.142037  0.736011   \n",
       "15_21_12    0.760820  0.037464  0.216401  0.778986  0.139216  0.735294   \n",
       "15_21_13    0.691517  0.046099  0.244216  0.770161  0.130726  0.689385   \n",
       "\n",
       "              mas_65  hab  con_satisf  con_basica   ...     reach_area  \\\n",
       "CO_FRAC_RA                                          ...                  \n",
       "15_21_9     0.159907  863    0.796834    0.203166   ...      42.880817   \n",
       "15_21_10    0.148450  613    0.868613    0.062044   ...      41.830951   \n",
       "15_21_11    0.121951  697    0.956790    0.030864   ...      16.986219   \n",
       "15_21_12    0.125490  510    0.860465    0.074419   ...      16.858104   \n",
       "15_21_13    0.179888  895    0.869110    0.099476   ...      50.842914   \n",
       "\n",
       "            COMERCIAL  INDUSTRIAL  SERVICIOS     OTROS  educ_priv  educ_pub  \\\n",
       "CO_FRAC_RA                                                                    \n",
       "15_21_9      0.157499    0.000000   0.078906  0.015775          0         0   \n",
       "15_21_10     0.073954    0.000000   0.093680  0.012688          0         0   \n",
       "15_21_11     0.056333    0.009658   0.102227  0.029582          0         0   \n",
       "15_21_12     0.029522    0.000000   0.209995  0.011504          0         0   \n",
       "15_21_13     0.132925    0.017719   0.198981  0.114428          0         0   \n",
       "\n",
       "            hospitales  esp_verde  nse_alt  \n",
       "CO_FRAC_RA                                  \n",
       "15_21_9              0          0        3  \n",
       "15_21_10             0          0        3  \n",
       "15_21_11             0          0        3  \n",
       "15_21_12             0          0        3  \n",
       "15_21_13             0          0        3  \n",
       "\n",
       "[5 rows x 35 columns]"
      ]
     },
     "execution_count": 262,
     "metadata": {},
     "output_type": "execute_result"
    }
   ],
   "source": [
    "indicators_radio.tail()"
   ]
  },
  {
   "cell_type": "code",
   "execution_count": 263,
   "metadata": {
    "collapsed": false
   },
   "outputs": [],
   "source": [
    "radio_index = indicators_radio.index.copy()\n",
    "indicators_radio = indicators_radio.set_index(old_index)\n",
    "indicators_radio[\"CO_FRAC_RA\"] = radio_index\n",
    "indicators_radio.to_csv(get_indicators_path(\"RADIO\"), encoding=\"utf-8\")"
   ]
  },
  {
   "cell_type": "code",
   "execution_count": null,
   "metadata": {
    "collapsed": true
   },
   "outputs": [],
   "source": []
  }
 ],
 "metadata": {
  "kernelspec": {
   "display_name": "Python 2",
   "language": "python",
   "name": "python2"
  },
  "language_info": {
   "codemirror_mode": {
    "name": "ipython",
    "version": 2
   },
   "file_extension": ".py",
   "mimetype": "text/x-python",
   "name": "python",
   "nbconvert_exporter": "python",
   "pygments_lexer": "ipython2",
   "version": "2.7.10"
  }
 },
 "nbformat": 4,
 "nbformat_minor": 0
}
