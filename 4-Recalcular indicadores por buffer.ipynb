{
 "cells": [
  {
   "cell_type": "markdown",
   "metadata": {},
   "source": [
    "# Recalcula indicadores de radios y fracciones censales por buffer"
   ]
  },
  {
   "cell_type": "markdown",
   "metadata": {},
   "source": [
    "Los indicadores calculados por buffer son un promedio ponderado de los indicadores de radios y fracciones censales que intersectan el buffer. "
   ]
  },
  {
   "cell_type": "code",
   "execution_count": 15,
   "metadata": {
    "collapsed": false
   },
   "outputs": [],
   "source": [
    "import shapefile\n",
    "from scripts import utils\n",
    "from scripts import buffer_indicators"
   ]
  },
  {
   "cell_type": "code",
   "execution_count": 16,
   "metadata": {
    "collapsed": true
   },
   "outputs": [],
   "source": [
    "buffer_shp_path = \"shp/transporte/buffers/estaciones_de_subte-buffer500/estaciones_de_subte-buffer500\""
   ]
  },
  {
   "cell_type": "code",
   "execution_count": 17,
   "metadata": {
    "collapsed": false
   },
   "outputs": [],
   "source": [
    "buffer_indicators.calculate_buffer_shp_indicators(buffer_shp_path, \"FRAC\")"
   ]
  },
  {
   "cell_type": "code",
   "execution_count": 18,
   "metadata": {
    "collapsed": false
   },
   "outputs": [
    {
     "name": "stdout",
     "output_type": "stream",
     "text": [
      "Calculating accesibilidad_en_estaciones_de_subte-buffer1000 indicators\n",
      "Calculating accesibilidad_en_estaciones_de_subte-buffer1500 indicators\n",
      "Calculating accesibilidad_en_estaciones_de_subte-buffer2000 indicators\n",
      "Calculating accesibilidad_en_estaciones_de_subte-buffer500 indicators\n",
      "Calculating estaciones_de_ferrocarril-buffer1000 indicators\n",
      "Calculating estaciones_de_ferrocarril-buffer1500 indicators\n",
      "Calculating estaciones_de_ferrocarril-buffer2000 indicators\n",
      "Calculating estaciones_de_ferrocarril-buffer500 indicators\n",
      "Calculating estaciones_de_metrobus-buffer1000 indicators\n",
      "Calculating estaciones_de_metrobus-buffer1500 indicators\n",
      "Calculating estaciones_de_metrobus-buffer2000 indicators\n",
      "Calculating estaciones_de_metrobus-buffer500 indicators\n",
      "Calculating estaciones_de_premetro-buffer1000 indicators\n",
      "Calculating estaciones_de_premetro-buffer1500 indicators\n",
      "Calculating estaciones_de_premetro-buffer2000 indicators\n",
      "Calculating estaciones_de_premetro-buffer500 indicators\n",
      "Calculating estaciones_de_subte-buffer1000 indicators\n",
      "Calculating estaciones_de_subte-buffer1500 indicators\n",
      "Calculating estaciones_de_subte-buffer2000 indicators\n",
      "Calculating estaciones_de_subte-buffer500 indicators\n",
      "Calculating ferrocarriles-buffer1000 indicators\n",
      "Calculating ferrocarriles-buffer1500 indicators\n",
      "Calculating ferrocarriles-buffer2000 indicators\n",
      "Calculating ferrocarriles-buffer500 indicators\n",
      "Calculating linea ferrocarril_1991-buffer1000 indicators\n",
      "Calculating linea ferrocarril_1991-buffer1500 indicators\n",
      "Calculating linea ferrocarril_1991-buffer500 indicators\n",
      "Calculating recorrido_de_metrobus-buffer1000 indicators\n",
      "Calculating recorrido_de_metrobus-buffer1500 indicators\n",
      "Calculating recorrido_de_metrobus-buffer2000 indicators\n",
      "Calculating red_de_premetro-buffer1000 indicators\n",
      "Calculating red_de_premetro-buffer1500 indicators\n",
      "Calculating red_de_premetro-buffer2000 indicators\n",
      "Calculating red_de_premetro-buffer500 indicators\n",
      "Calculating red_de_subte-buffer1000 indicators\n",
      "Calculating red_de_subte-buffer1500 indicators\n",
      "Calculating red_de_subte-buffer2000 indicators\n",
      "Calculating red_de_subte-buffer500 indicators\n"
     ]
    }
   ],
   "source": [
    "buffer_indicators.main(skip=[\"14_10_2\"], recalculate=True, area_level=\"RADIO\")"
   ]
  },
  {
   "cell_type": "code",
   "execution_count": null,
   "metadata": {
    "collapsed": true
   },
   "outputs": [],
   "source": []
  },
  {
   "cell_type": "code",
   "execution_count": null,
   "metadata": {
    "collapsed": true
   },
   "outputs": [],
   "source": []
  }
 ],
 "metadata": {
  "kernelspec": {
   "display_name": "Python 2",
   "language": "python",
   "name": "python2"
  },
  "language_info": {
   "codemirror_mode": {
    "name": "ipython",
    "version": 2
   },
   "file_extension": ".py",
   "mimetype": "text/x-python",
   "name": "python",
   "nbconvert_exporter": "python",
   "pygments_lexer": "ipython2",
   "version": "2.7.10"
  }
 },
 "nbformat": 4,
 "nbformat_minor": 0
}
