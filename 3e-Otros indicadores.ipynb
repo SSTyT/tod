{
 "cells": [
  {
   "cell_type": "code",
   "execution_count": 25,
   "metadata": {
    "collapsed": false
   },
   "outputs": [],
   "source": [
    "from scripts.green_land import calculate_green_spaces\n",
    "from scripts.count_points import count_points\n",
    "from scripts.path_finders import get_division_path, get_context_shp_path\n",
    "from scripts.create_indicators import add_indicator"
   ]
  },
  {
   "cell_type": "markdown",
   "metadata": {},
   "source": [
    "Calculamos la incidencia de espacios verdes en cada radio censal."
   ]
  },
  {
   "cell_type": "code",
   "execution_count": 26,
   "metadata": {
    "collapsed": true
   },
   "outputs": [],
   "source": [
    "radio_shp = get_division_path(\"radios_censo_2010\")\n",
    "green_privados_shp = get_context_shp_path(\"espacios-verdes-privados\")\n",
    "green_publicos_shp = get_context_shp_path(\"espacios-verdes-publicos\")"
   ]
  },
  {
   "cell_type": "code",
   "execution_count": 27,
   "metadata": {
    "collapsed": false
   },
   "outputs": [
    {
     "name": "stdout",
     "output_type": "stream",
     "text": []
    }
   ],
   "source": [
    "radios_green = calculate_green_spaces(radio_shp, [green_privados_shp, green_publicos_shp])"
   ]
  },
  {
   "cell_type": "code",
   "execution_count": 28,
   "metadata": {
    "collapsed": false
   },
   "outputs": [
    {
     "data": {
      "text/plain": [
       "0.5412636715077378"
      ]
     },
     "execution_count": 28,
     "metadata": {},
     "output_type": "execute_result"
    }
   ],
   "source": [
    "radios_green[\"1_13_14\"]"
   ]
  },
  {
   "cell_type": "markdown",
   "metadata": {},
   "source": [
    "Contamos la cantidad de hospitales y establecimientos educativos por cada radio censal."
   ]
  },
  {
   "cell_type": "code",
   "execution_count": 29,
   "metadata": {
    "collapsed": true
   },
   "outputs": [],
   "source": [
    "hospitales_shp = get_context_shp_path(\"hospitales\")\n",
    "educ_privados_shp = get_context_shp_path(\"Establecimientos Educativos Privados\")\n",
    "educ_publicos_shp = get_context_shp_path(\"Establecimientos Educativos Publicos\")"
   ]
  },
  {
   "cell_type": "code",
   "execution_count": 30,
   "metadata": {
    "collapsed": false
   },
   "outputs": [],
   "source": [
    "hospitales = count_points(hospitales_shp, radio_shp)"
   ]
  },
  {
   "cell_type": "code",
   "execution_count": 31,
   "metadata": {
    "collapsed": false
   },
   "outputs": [
    {
     "name": "stdout",
     "output_type": "stream",
     "text": [
      "36 hospitales contados\n"
     ]
    }
   ],
   "source": [
    "print sum(hospitales.values()), \"hospitales contados\""
   ]
  },
  {
   "cell_type": "code",
   "execution_count": 32,
   "metadata": {
    "collapsed": true
   },
   "outputs": [],
   "source": [
    "educ_privados = count_points(educ_privados_shp, radio_shp)\n",
    "educ_publicos = count_points(educ_publicos_shp, radio_shp)"
   ]
  },
  {
   "cell_type": "code",
   "execution_count": 33,
   "metadata": {
    "collapsed": false
   },
   "outputs": [
    {
     "name": "stdout",
     "output_type": "stream",
     "text": [
      "982 establecimientos educativos privados contados\n",
      "955 establecimientos educativos públicos contados\n"
     ]
    }
   ],
   "source": [
    "print sum(educ_privados.values()), \"establecimientos educativos privados contados\"\n",
    "print sum(educ_publicos.values()), \"establecimientos educativos públicos contados\""
   ]
  },
  {
   "cell_type": "markdown",
   "metadata": {},
   "source": [
    "Agregamos los indicadores"
   ]
  },
  {
   "cell_type": "code",
   "execution_count": 34,
   "metadata": {
    "collapsed": false
   },
   "outputs": [],
   "source": [
    "df = add_indicator(\"RADIO\", \"educ_priv\", educ_privados)\n",
    "df = add_indicator(\"RADIO\", \"educ_pub\", educ_publicos)\n",
    "df = add_indicator(\"RADIO\", \"hospitales\", hospitales)\n",
    "df = add_indicator(\"RADIO\", \"esp_verde\", radios_green)"
   ]
  },
  {
   "cell_type": "code",
   "execution_count": null,
   "metadata": {
    "collapsed": true
   },
   "outputs": [],
   "source": []
  }
 ],
 "metadata": {
  "kernelspec": {
   "display_name": "Python 2",
   "language": "python",
   "name": "python2"
  },
  "language_info": {
   "codemirror_mode": {
    "name": "ipython",
    "version": 2
   },
   "file_extension": ".py",
   "mimetype": "text/x-python",
   "name": "python",
   "nbconvert_exporter": "python",
   "pygments_lexer": "ipython2",
   "version": "2.7.10"
  }
 },
 "nbformat": 4,
 "nbformat_minor": 0
}
