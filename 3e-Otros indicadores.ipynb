{
 "cells": [
  {
   "cell_type": "markdown",
   "metadata": {},
   "source": [
    "# Cálculo de otros indicadores simples"
   ]
  },
  {
   "cell_type": "markdown",
   "metadata": {},
   "source": [
    "En este notebook se calculan indicadores sencillos varios."
   ]
  },
  {
   "cell_type": "code",
   "execution_count": 6,
   "metadata": {
    "collapsed": false
   },
   "outputs": [],
   "source": [
    "from scripts.green_land import calculate_green_spaces\n",
    "from scripts.count_points import count_points\n",
    "from scripts.path_finders import get_division_path, get_context_shp_path, get_transport_shp_path\n",
    "from scripts.path_finders import  get_area_level_shp_path\n",
    "from scripts.create_indicators import add_indicator, get_or_create_indicators_df, add_dbf_indicator_by_id\n",
    "import shapefile\n",
    "from simpledbf import Dbf5\n",
    "from shapely.geometry import MultiPoint\n",
    "from scripts.geo_utils import iter_shp_as_shapely"
   ]
  },
  {
   "cell_type": "code",
   "execution_count": 7,
   "metadata": {
    "collapsed": false
   },
   "outputs": [],
   "source": [
    "radio_shp = get_division_path(\"radios_censo_2010\")\n",
    "fracc_shp = get_division_path(\"fracciones_caba_censo_2010\")\n",
    "#barrio_shp = get_division_path(\"barrios_censo_2010\")\n",
    "comuna_shp = get_division_path(\"comunas_caba_censo_2010\")"
   ]
  },
  {
   "cell_type": "markdown",
   "metadata": {},
   "source": [
    "## 1. Incidencia de espacios verdes"
   ]
  },
  {
   "cell_type": "markdown",
   "metadata": {},
   "source": [
    "Calculamos la incidencia de espacios verdes en cada radio censal."
   ]
  },
  {
   "cell_type": "code",
   "execution_count": 8,
   "metadata": {
    "collapsed": true
   },
   "outputs": [],
   "source": [
    "green_privados_shp = get_context_shp_path(\"espacios-verdes-privados\")\n",
    "green_publicos_shp = get_context_shp_path(\"espacios-verdes-publicos\")"
   ]
  },
  {
   "cell_type": "code",
   "execution_count": 9,
   "metadata": {
    "collapsed": false
   },
   "outputs": [],
   "source": [
    "# puede tardar bastante\n",
    "radios_green = calculate_green_spaces(radio_shp, [green_privados_shp, green_publicos_shp])"
   ]
  },
  {
   "cell_type": "code",
   "execution_count": 10,
   "metadata": {
    "collapsed": false
   },
   "outputs": [],
   "source": [
    "radios_green[\"1_13_14\"]"
   ]
  },
  {
   "cell_type": "markdown",
   "metadata": {},
   "source": [
    "Agregamos el indicador a la base"
   ]
  },
  {
   "cell_type": "code",
   "execution_count": 11,
   "metadata": {
    "collapsed": true
   },
   "outputs": [],
   "source": [
    "df = add_indicator(\"RADIO\", \"esp_verde\", radios_green)"
   ]
  },
  {
   "cell_type": "markdown",
   "metadata": {},
   "source": [
    "## 2. Cantidad de \"puntos de interés\""
   ]
  },
  {
   "cell_type": "markdown",
   "metadata": {},
   "source": [
    "Contamos la cantidad de hospitales y establecimientos educativos por cada radio censal."
   ]
  },
  {
   "cell_type": "code",
   "execution_count": 12,
   "metadata": {
    "collapsed": true
   },
   "outputs": [],
   "source": [
    "hospitales_shp = get_context_shp_path(\"hospitales\")\n",
    "educ_privados_shp = get_context_shp_path(\"Establecimientos Educativos Privados\")\n",
    "educ_publicos_shp = get_context_shp_path(\"Establecimientos Educativos Publicos\")"
   ]
  },
  {
   "cell_type": "code",
   "execution_count": 14,
   "metadata": {
    "collapsed": false
   },
   "outputs": [
    {
     "name": "stdout",
     "output_type": "stream",
     "text": [
      "36 hospitales contados\n"
     ]
    }
   ],
   "source": [
    "hospitales = count_points(hospitales_shp, radio_shp)\n",
    "print sum(hospitales.values()), \"hospitales contados\""
   ]
  },
  {
   "cell_type": "markdown",
   "metadata": {},
   "source": [
    "Agregamos los indicadores a la base"
   ]
  },
  {
   "cell_type": "code",
   "execution_count": 17,
   "metadata": {
    "collapsed": false
   },
   "outputs": [],
   "source": [
    "def add_count_points_indicator(area_levels, indic_names, context_shps):\n",
    "    for area_level in area_levels:\n",
    "        for indic_name, context_shp in zip(indic_names, context_shps):\n",
    "            print \"Counting\", indic_name.ljust(10), \"in\", area_level\n",
    "            shp_path = get_area_level_shp_path(area_level)\n",
    "            df = add_indicator(area_level, indic_name, count_points(context_shp, shp_path))"
   ]
  },
  {
   "cell_type": "code",
   "execution_count": 18,
   "metadata": {
    "collapsed": false
   },
   "outputs": [
    {
     "name": "stdout",
     "output_type": "stream",
     "text": [
      "Counting hospitales in RADIO\n",
      "Counting educ_priv  in RADIO\n",
      "Counting educ_pub   in RADIO\n",
      "Counting hospitales in FRAC\n",
      "Counting educ_priv  in FRAC\n",
      "Counting educ_pub   in FRAC\n",
      "Counting hospitales in DPTO\n",
      "Counting educ_priv  in DPTO\n",
      "Counting educ_pub   in DPTO\n"
     ]
    }
   ],
   "source": [
    "add_count_points_indicator([\"RADIO\", \"FRAC\", \"DPTO\"], [\"hospitales\", \"educ_priv\", \"educ_pub\"],\n",
    "                           [hospitales_shp, educ_privados_shp, educ_publicos_shp])"
   ]
  },
  {
   "cell_type": "markdown",
   "metadata": {},
   "source": [
    "## 3. Distancia media de los habs de un radio censal a puntos de transporte"
   ]
  },
  {
   "cell_type": "code",
   "execution_count": 19,
   "metadata": {
    "collapsed": true
   },
   "outputs": [],
   "source": [
    "def calculate_distance_indicators(df_indicators, id_field, division_shp_name, indicators):\n",
    "    shapes_dict = {shape[0]: shape[1] for shape \n",
    "                   in iter_shp_as_shapely(get_division_path(division_shp_name))}\n",
    "    \n",
    "    for indic_name, indic_shp_name in indicators.iteritems():\n",
    "        print \"Calculating\", indic_name, indic_shp_name\n",
    "        \n",
    "        multipoint = MultiPoint([shape[1].centroid for shape in \n",
    "                                 iter_shp_as_shapely(get_transport_shp_path(indic_shp_name))])\n",
    "\n",
    "        def get_distance(id_shape):\n",
    "            return shapes_dict[id_shape].centroid.distance(multipoint)\n",
    "        \n",
    "        df_indicators[indic_name] = map(get_distance, df_indicators[id_field])    "
   ]
  },
  {
   "cell_type": "code",
   "execution_count": 20,
   "metadata": {
    "collapsed": false
   },
   "outputs": [
    {
     "name": "stdout",
     "output_type": "stream",
     "text": [
      "Calculating d_metrobus metrobus-estaciones\n",
      "Calculating d_ffcc estaciones-ferrocarril\n",
      "Calculating d_subte subte-estaciones\n"
     ]
    }
   ],
   "source": [
    "indicadores = {\"d_subte\": \"subte-estaciones\",\n",
    "               \"d_ffcc\": \"estaciones-ferrocarril\",\n",
    "               \"d_metrobus\": \"metrobus-estaciones\"}\n",
    "indicators_radio = get_or_create_indicators_df(\"RADIO\")\n",
    "calculate_distance_indicators(indicators_radio, \"CO_FRAC_RA\", \"radios_censo_2010\", indicadores)"
   ]
  },
  {
   "cell_type": "markdown",
   "metadata": {},
   "source": [
    "## 4. Incorporación de indicadores precalculados en shapefiles"
   ]
  },
  {
   "cell_type": "code",
   "execution_count": 21,
   "metadata": {
    "collapsed": false
   },
   "outputs": [],
   "source": [
    "df = add_dbf_indicator_by_id(\"RADIO\", \"CABA_INSE\", \"LINK\", \"DECIL\")"
   ]
  }
 ],
 "metadata": {
  "kernelspec": {
   "display_name": "Python 2",
   "language": "python",
   "name": "python2"
  },
  "language_info": {
   "codemirror_mode": {
    "name": "ipython",
    "version": 2
   },
   "file_extension": ".py",
   "mimetype": "text/x-python",
   "name": "python",
   "nbconvert_exporter": "python",
   "pygments_lexer": "ipython2",
   "version": "2.7.10"
  }
 },
 "nbformat": 4,
 "nbformat_minor": 0
}
