{
 "cells": [
  {
   "cell_type": "markdown",
   "metadata": {},
   "source": [
    "# Cálculo de otros indicadores simples"
   ]
  },
  {
   "cell_type": "code",
   "execution_count": 15,
   "metadata": {
    "collapsed": false
   },
   "outputs": [],
   "source": [
    "from scripts.green_land import calculate_green_spaces\n",
    "from scripts.count_points import count_points\n",
    "from scripts.path_finders import get_division_path, get_context_shp_path, get_transport_shp_path\n",
    "from scripts.create_indicators import add_indicator, get_or_create_indicators_df\n",
    "import shapefile\n",
    "from shapely.geometry import MultiPoint\n",
    "from scripts.geo_utils import iter_shp_as_shapely"
   ]
  },
  {
   "cell_type": "code",
   "execution_count": 2,
   "metadata": {
    "collapsed": false
   },
   "outputs": [],
   "source": [
    "radio_shp = get_division_path(\"radios_censo_2010\")\n",
    "fracc_shp = get_division_path(\"fracciones_caba_censo_2010\")\n",
    "#barrio_shp = get_division_path(\"barrios_censo_2010\")\n",
    "comuna_shp = get_division_path(\"comunas_caba_censo_2010\")"
   ]
  },
  {
   "cell_type": "markdown",
   "metadata": {},
   "source": [
    "## 1. Incidencia de espacios verdes"
   ]
  },
  {
   "cell_type": "markdown",
   "metadata": {},
   "source": [
    "Calculamos la incidencia de espacios verdes en cada radio censal."
   ]
  },
  {
   "cell_type": "code",
   "execution_count": 6,
   "metadata": {
    "collapsed": true
   },
   "outputs": [],
   "source": [
    "green_privados_shp = get_context_shp_path(\"espacios-verdes-privados\")\n",
    "green_publicos_shp = get_context_shp_path(\"espacios-verdes-publicos\")"
   ]
  },
  {
   "cell_type": "code",
   "execution_count": 7,
   "metadata": {
    "collapsed": false
   },
   "outputs": [
    {
     "name": "stdout",
     "output_type": "stream",
     "text": []
    }
   ],
   "source": [
    "radios_green = calculate_green_spaces(radio_shp, [green_privados_shp, green_publicos_shp])"
   ]
  },
  {
   "cell_type": "code",
   "execution_count": 8,
   "metadata": {
    "collapsed": false
   },
   "outputs": [
    {
     "data": {
      "text/plain": [
       "0.5412636715077378"
      ]
     },
     "execution_count": 8,
     "metadata": {},
     "output_type": "execute_result"
    }
   ],
   "source": [
    "radios_green[\"1_13_14\"]"
   ]
  },
  {
   "cell_type": "markdown",
   "metadata": {},
   "source": [
    "Agregamos el indicador a la base"
   ]
  },
  {
   "cell_type": "code",
   "execution_count": 9,
   "metadata": {
    "collapsed": true
   },
   "outputs": [],
   "source": [
    "df = add_indicator(\"RADIO\", \"esp_verde\", radios_green)"
   ]
  },
  {
   "cell_type": "markdown",
   "metadata": {},
   "source": [
    "## 2. Cantidad de \"puntos de interés\""
   ]
  },
  {
   "cell_type": "markdown",
   "metadata": {},
   "source": [
    "Contamos la cantidad de hospitales y establecimientos educativos por cada radio censal."
   ]
  },
  {
   "cell_type": "code",
   "execution_count": 3,
   "metadata": {
    "collapsed": true
   },
   "outputs": [],
   "source": [
    "hospitales_shp = get_context_shp_path(\"hospitales\")\n",
    "educ_privados_shp = get_context_shp_path(\"Establecimientos Educativos Privados\")\n",
    "educ_publicos_shp = get_context_shp_path(\"Establecimientos Educativos Publicos\")"
   ]
  },
  {
   "cell_type": "code",
   "execution_count": 4,
   "metadata": {
    "collapsed": false
   },
   "outputs": [],
   "source": [
    "hospitales = count_points(hospitales_shp, radio_shp)"
   ]
  },
  {
   "cell_type": "code",
   "execution_count": 5,
   "metadata": {
    "collapsed": false
   },
   "outputs": [
    {
     "name": "stdout",
     "output_type": "stream",
     "text": [
      "36 hospitales contados\n"
     ]
    }
   ],
   "source": [
    "print sum(hospitales.values()), \"hospitales contados\""
   ]
  },
  {
   "cell_type": "code",
   "execution_count": 6,
   "metadata": {
    "collapsed": true
   },
   "outputs": [],
   "source": [
    "educ_privados = count_points(educ_privados_shp, radio_shp)\n",
    "educ_publicos = count_points(educ_publicos_shp, radio_shp)"
   ]
  },
  {
   "cell_type": "code",
   "execution_count": 7,
   "metadata": {
    "collapsed": false
   },
   "outputs": [
    {
     "name": "stdout",
     "output_type": "stream",
     "text": [
      "982 establecimientos educativos privados contados\n",
      "955 establecimientos educativos públicos contados\n"
     ]
    }
   ],
   "source": [
    "print sum(educ_privados.values()), \"establecimientos educativos privados contados\"\n",
    "print sum(educ_publicos.values()), \"establecimientos educativos públicos contados\""
   ]
  },
  {
   "cell_type": "markdown",
   "metadata": {},
   "source": [
    "Agregamos los indicadores a la base"
   ]
  },
  {
   "cell_type": "code",
   "execution_count": 8,
   "metadata": {
    "collapsed": false
   },
   "outputs": [],
   "source": [
    "df = add_indicator(\"RADIO\", \"hospitales\", hospitales)\n",
    "df = add_indicator(\"RADIO\", \"educ_priv\", educ_privados)\n",
    "df = add_indicator(\"RADIO\", \"educ_pub\", educ_publicos)"
   ]
  },
  {
   "cell_type": "code",
   "execution_count": 9,
   "metadata": {
    "collapsed": true
   },
   "outputs": [],
   "source": [
    "df = add_indicator(\"FRAC\", \"hospitales\", count_points(hospitales_shp, fracc_shp))\n",
    "df = add_indicator(\"FRAC\", \"educ_priv\", count_points(educ_privados_shp, fracc_shp))\n",
    "df = add_indicator(\"FRAC\", \"educ_pub\", count_points(educ_publicos_shp, fracc_shp))"
   ]
  },
  {
   "cell_type": "code",
   "execution_count": 10,
   "metadata": {
    "collapsed": false
   },
   "outputs": [],
   "source": [
    "df = add_indicator(\"DPTO\", \"hospitales\", count_points(hospitales_shp, comuna_shp))\n",
    "df = add_indicator(\"DPTO\", \"educ_priv\", count_points(educ_privados_shp, comuna_shp))\n",
    "df = add_indicator(\"DPTO\", \"educ_pub\", count_points(educ_publicos_shp, comuna_shp))"
   ]
  },
  {
   "cell_type": "markdown",
   "metadata": {},
   "source": [
    "## 3. Distancia media de los habs de un radio censal a puntos de transporte"
   ]
  },
  {
   "cell_type": "code",
   "execution_count": 11,
   "metadata": {
    "collapsed": true
   },
   "outputs": [],
   "source": [
    "def calculate_distance_indicators(df_indicators, id_field, division_shp_name, indicators):\n",
    "    shapes_dict = {shape[0]: shape[1] for shape \n",
    "                   in iter_shp_as_shapely(get_division_path(division_shp_name))}\n",
    "    \n",
    "    for indic_name, indic_shp_name in indicators.iteritems():\n",
    "        print \"Calculating\", indic_name, indic_shp_name\n",
    "        \n",
    "        multipoint = MultiPoint([shape[1].centroid for shape in \n",
    "                                 iter_shp_as_shapely(get_transport_shp_path(indic_shp_name))])\n",
    "\n",
    "        def get_distance(id_shape):\n",
    "            return shapes_dict[id_shape].centroid.distance(multipoint)\n",
    "        \n",
    "        df_indicators[indic_name] = map(get_distance, df_indicators[id_field])    "
   ]
  },
  {
   "cell_type": "code",
   "execution_count": 16,
   "metadata": {
    "collapsed": false
   },
   "outputs": [
    {
     "name": "stdout",
     "output_type": "stream",
     "text": [
      "Calculating d_metrobus metrobus-estaciones\n",
      "Calculating d_ffcc estaciones-ferrocarril\n",
      "Calculating d_subte subte-estaciones\n"
     ]
    }
   ],
   "source": [
    "indicadores = {\"d_subte\": \"subte-estaciones\",\n",
    "               \"d_ffcc\": \"estaciones-ferrocarril\",\n",
    "               \"d_metrobus\": \"metrobus-estaciones\"}\n",
    "indicators_radio = get_or_create_indicators_df(\"RADIO\")\n",
    "calculate_distance_indicators(indicators_radio, \"CO_FRAC_RA\", \"radios_censo_2010\", indicadores)"
   ]
  }
 ],
 "metadata": {
  "kernelspec": {
   "display_name": "Python 2",
   "language": "python",
   "name": "python2"
  },
  "language_info": {
   "codemirror_mode": {
    "name": "ipython",
    "version": 2
   },
   "file_extension": ".py",
   "mimetype": "text/x-python",
   "name": "python",
   "nbconvert_exporter": "python",
   "pygments_lexer": "ipython2",
   "version": "2.7.10"
  }
 },
 "nbformat": 4,
 "nbformat_minor": 0
}
