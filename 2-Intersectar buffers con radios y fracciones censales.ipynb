{
 "cells": [
  {
   "cell_type": "markdown",
   "metadata": {},
   "source": [
    "# Intersectar buffers con radios y fracciones censales"
   ]
  },
  {
   "cell_type": "markdown",
   "metadata": {},
   "source": [
    "Los datos del Censo Nacional 2010 están publicados en forma de radios y fracciones censales. Cada radio o fracción censal puede caer dentro de muchos buffers a la vez. Para componer indicadores publicados a nivel de radio censal en indicadores por buffer, cada buffer tiene que \"saber\" qué radios y fracciones censales tiene dentro suyo y en qué porcentaje de superficie.\n",
    "\n",
    "El supuesto a utilizar a la hora de componer indicadores agregados será el de que la población (tanto en cantidad como en características) se distribuye homogéneamente dentro del radio o fracción. Posteriormente se podrá comparar el resultado entre la composición por radio y por fracción, para chequear si la utilización de la menor unidad de desagregación (el radio) representa una mejora estadísticamente significativa respecto de la utilización de fracciones (que son unidades más grandes, donde uno debería pensar que el supuesto de homogeneidad es más peligroso)."
   ]
  },
  {
   "cell_type": "code",
   "execution_count": 1,
   "metadata": {
    "collapsed": false
   },
   "outputs": [],
   "source": [
    "from scripts import calculate_weights\n",
    "from scripts import geo_utils\n",
    "from scripts.path_finders import get_division_path, get_weights_path, get_division_dir\n",
    "import shapefile"
   ]
  },
  {
   "cell_type": "code",
   "execution_count": 2,
   "metadata": {
    "collapsed": true
   },
   "outputs": [],
   "source": [
    "fracciones_dir = \"shp/divisiones/fracciones_caba_censo_2010\"\n",
    "fracciones_path = \"shp/divisiones/fracciones_caba_censo_2010/fracciones_censo_2010\"\n",
    "subte_buffer500_path = \"shp/transporte/buffers/estaciones_de_subte-buffer500/estaciones_de_subte-buffer500\""
   ]
  },
  {
   "cell_type": "code",
   "execution_count": 3,
   "metadata": {
    "collapsed": false
   },
   "outputs": [],
   "source": [
    "# para hacer pruebas\n",
    "sf_fracciones = shapefile.Reader(fracciones_path)\n",
    "fracciones = geo_utils.get_shapely_shapes(sf_fracciones)\n",
    "\n",
    "sf_subte500 = shapefile.Reader(subte_buffer500_path)\n",
    "estaciones = geo_utils.get_shapely_shapes(sf_subte500)"
   ]
  },
  {
   "cell_type": "code",
   "execution_count": 4,
   "metadata": {
    "collapsed": false
   },
   "outputs": [
    {
     "name": "stdout",
     "output_type": "stream",
     "text": [
      "Cantidad de fracciones censales 351 351\n",
      "Cantidad de estaciones de subte 83\n",
      "Campos disponibles en el shp de estaciones de subte: ID ESTACION LINEA\n"
     ]
    }
   ],
   "source": [
    "print \"Cantidad de fracciones censales\", len(sf_fracciones.records()), len(fracciones)\n",
    "print \"Cantidad de estaciones de subte\", len(estaciones)\n",
    "print \"Campos disponibles en el shp de estaciones de subte:\",\n",
    "for field in sf_subte500.fields[1:]:\n",
    "    print field[0],"
   ]
  },
  {
   "cell_type": "markdown",
   "metadata": {},
   "source": [
    "Primero calculamos las intersecciones de radios censales con barrios, ya que los indicadores del Censo Nacional no se expresan por barrio de la CABA. El principio utilizado será el mismo para los buffers."
   ]
  },
  {
   "cell_type": "code",
   "execution_count": 5,
   "metadata": {
    "collapsed": false
   },
   "outputs": [
    {
     "name": "stdout",
     "output_type": "stream",
     "text": [
      "Calculating intersections between radios_censo_2010 and estaciones_de_subte-buffer1000\n",
      "Calculating intersections between radios_censo_2010 and estaciones_de_subte-buffer750\n",
      "Calculating intersections between radios_censo_2010 and estaciones_de_subte-buffer1500\n"
     ]
    }
   ],
   "source": [
    "radios_dir = get_division_dir(\"radios_censo_2010\")\n",
    "fracciones_dir = get_division_dir(\"fracciones_censo_2010\")\n",
    "# Atención! el shp original de barrios tiene problemas de encoding, si se redescarga hay que corregir \"Nuñez\" en el dbf\n",
    "barrios_shp_path = get_division_path(\"barrios_censo_2010\")\n",
    "empty_shps_dirs = calculate_weights.EMPTY_SHPS_DIR"
   ]
  },
  {
   "cell_type": "code",
   "execution_count": 7,
   "metadata": {
    "collapsed": false
   },
   "outputs": [
    {
     "name": "stdout",
     "output_type": "stream",
     "text": [
      "Calculating intersections between radios_censo_2010 and barrios_censo_2010\n"
     ]
    }
   ],
   "source": [
    "barrios_weights_radios = calculate_weights.calculate_intersect_weights(radios_dir, barrios_shp_path, \n",
    "                                                                       get_weights_path(barrios_shp_path, \"radios\"))"
   ]
  },
  {
   "cell_type": "code",
   "execution_count": 7,
   "metadata": {
    "collapsed": true
   },
   "outputs": [],
   "source": [
    "#fracciones_dir = get_division_dir(\"fracciones_caba_censo_2010\")\n",
    "#barrios_weights_fracc = calculate_weights.calculate_intersect_weights(fracciones_dir, barrios_shp_path)\n",
    "#calculate_weights.save_to_json(barrios_weights_fracc, get_weights_path(barrios_shp_path, \"fracciones\")) "
   ]
  },
  {
   "cell_type": "code",
   "execution_count": 8,
   "metadata": {
    "collapsed": false
   },
   "outputs": [],
   "source": [
    "# para calcular los % de intersección de todos los buffers\n",
    "# esto puede tomar bastante tiempo si se recalculan todos... (varias horas)\n",
    "calculate_weights.main(recalculate=False)"
   ]
  },
  {
   "cell_type": "code",
   "execution_count": null,
   "metadata": {
    "collapsed": true
   },
   "outputs": [],
   "source": []
  }
 ],
 "metadata": {
  "kernelspec": {
   "display_name": "Python 2",
   "language": "python",
   "name": "python2"
  },
  "language_info": {
   "codemirror_mode": {
    "name": "ipython",
    "version": 2
   },
   "file_extension": ".py",
   "mimetype": "text/x-python",
   "name": "python",
   "nbconvert_exporter": "python",
   "pygments_lexer": "ipython2",
   "version": "2.7.10"
  }
 },
 "nbformat": 4,
 "nbformat_minor": 0
}
