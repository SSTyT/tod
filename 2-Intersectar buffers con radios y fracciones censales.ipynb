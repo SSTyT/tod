{
 "cells": [
  {
   "cell_type": "markdown",
   "metadata": {},
   "source": [
    "# Intersectar buffers con radios y fracciones censales"
   ]
  },
  {
   "cell_type": "markdown",
   "metadata": {},
   "source": [
    "Los datos del Censo Nacional 2010 están publicados en forma de radios y fracciones censales. Cada radio o fracción censal puede caer dentro de muchos buffers a la vez. Para componer indicadores publicados a nivel de radio censal en indicadores por buffer, cada buffer tiene que \"saber\" qué radios y fracciones censales tiene dentro suyo y qué porcentaje de su superficie comparten.\n",
    "\n",
    "El supuesto a utilizar a la hora de componer indicadores agregados será el de que la población (tanto en cantidad como en características) se distribuye homogéneamente dentro del radio o fracción."
   ]
  },
  {
   "cell_type": "code",
   "execution_count": 1,
   "metadata": {
    "collapsed": false
   },
   "outputs": [],
   "source": [
    "from scripts import calculate_weights\n",
    "from scripts import geo_utils\n",
    "import scripts.path_finders as pf\n",
    "import shapefile"
   ]
  },
  {
   "cell_type": "markdown",
   "metadata": {},
   "source": [
    "## Calcular las intersecciones de radios censales con barrios"
   ]
  },
  {
   "cell_type": "code",
   "execution_count": 2,
   "metadata": {
    "collapsed": false
   },
   "outputs": [],
   "source": [
    "radios_dir = pf.get_shp(\"RADIO\")\n",
    "fracciones_dir = pf.get_shp(\"FRAC\")\n",
    "\n",
    "# Atención! el shp original de barrios tiene problemas de encoding, \n",
    "# si se redescarga hay que corregir \"Nuñez\" en el dbf\n",
    "barrios_shp_path = pf.get_shp(\"BARRIO\")\n",
    "empty_shps_dirs = calculate_weights.EMPTY_SHPS_DIR"
   ]
  },
  {
   "cell_type": "code",
   "execution_count": 3,
   "metadata": {
    "collapsed": false
   },
   "outputs": [],
   "source": [
    "barrios_weights_radios = calculate_weights.calculate_intersect_weights(radios_dir, barrios_shp_path, \n",
    "                                                                       pf.get_weights_path(barrios_shp_path, \"radios\"))"
   ]
  },
  {
   "cell_type": "code",
   "execution_count": 4,
   "metadata": {
    "collapsed": true
   },
   "outputs": [],
   "source": [
    "calculate_weights.save_to_json(barrios_weights_radios, pf.get_weights_path(barrios_shp_path, \"radios\")) "
   ]
  },
  {
   "cell_type": "markdown",
   "metadata": {},
   "source": [
    "## Calcular las intersecciones de radios censales con todos los buffers"
   ]
  },
  {
   "cell_type": "markdown",
   "metadata": {},
   "source": [
    "Atención! Esta operación puede tardar varias horas, dependiendo de la capacidad computacional utilizada."
   ]
  },
  {
   "cell_type": "code",
   "execution_count": 5,
   "metadata": {
    "collapsed": false
   },
   "outputs": [],
   "source": [
    "# divisiones sobre las cuales se quieren calcular las intersecciones\n",
    "divisions = [\"radios_censo_2010\"]\n",
    "\n",
    "# nombres de las divisiones\n",
    "divisions_names = [\"radios\"]\n",
    "\n",
    "# shapefiles con superficies que deben eliminarse del cálculo\n",
    "empty_shps_dir = [pf.get_shp(\"espacios-verdes-privados\"),\n",
    "                  pf.get_shp(\"espacios-verdes-publicos\")]\n",
    "\n",
    "calculate_weights.main(divisions=divisions,\n",
    "                       division_names=divisions_names,\n",
    "                       empty_shps_dir=empty_shps_dir,\n",
    "                       recalculate=False)"
   ]
  }
 ],
 "metadata": {
  "kernelspec": {
   "display_name": "Python 2",
   "language": "python",
   "name": "python2"
  },
  "language_info": {
   "codemirror_mode": {
    "name": "ipython",
    "version": 2
   },
   "file_extension": ".py",
   "mimetype": "text/x-python",
   "name": "python",
   "nbconvert_exporter": "python",
   "pygments_lexer": "ipython2",
   "version": "2.7.10"
  }
 },
 "nbformat": 4,
 "nbformat_minor": 0
}
