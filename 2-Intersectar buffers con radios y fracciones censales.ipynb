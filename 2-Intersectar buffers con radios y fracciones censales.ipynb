{
 "cells": [
  {
   "cell_type": "markdown",
   "metadata": {},
   "source": [
    "# Intersectar buffers con radios y fracciones censales"
   ]
  },
  {
   "cell_type": "markdown",
   "metadata": {},
   "source": [
    "Los datos del Censo Nacional 2010 están publicados en forma de radios y fracciones censales. Cada radio o fracción censal puede caer dentro de muchos buffers a la vez. Para componer indicadores publicados a nivel de radio censal en indicadores por buffer, cada buffer tiene que \"saber\" qué radios y fracciones censales tiene dentro suyo y en qué porcentaje de superficie.\n",
    "\n",
    "El supuesto a utilizar a la hora de componer indicadores agregados será el de que la población (tanto en cantidad como en características) se distribuye homogéneamente dentro del radio o fracción. Posteriormente se podrá comparar el resultado entre la composición por radio y por fracción, para chequear si la utilización de la menor unidad de desagregación (el radio) representa una mejora estadísticamente significativa respecto de la utilización de fracciones (que son unidades más grandes, donde uno debería pensar que el supuesto de homogeneidad es más peligroso)."
   ]
  },
  {
   "cell_type": "code",
   "execution_count": 6,
   "metadata": {
    "collapsed": false
   },
   "outputs": [],
   "source": [
    "from scripts import calculate_weights\n",
    "from scripts import geo_utils\n",
    "import shapefile"
   ]
  },
  {
   "cell_type": "code",
   "execution_count": 7,
   "metadata": {
    "collapsed": true
   },
   "outputs": [],
   "source": [
    "fracciones_dir = \"shp/divisiones/fracciones_caba_censo_2010\"\n",
    "fracciones_path = \"shp/divisiones/fracciones_caba_censo_2010/fracciones_censo_2010\"\n",
    "subte_buffer500_path = \"shp/transporte/buffers/estaciones_de_subte-buffer500/estaciones_de_subte-buffer500\""
   ]
  },
  {
   "cell_type": "code",
   "execution_count": 8,
   "metadata": {
    "collapsed": false
   },
   "outputs": [],
   "source": [
    "# para hacer pruebas\n",
    "sf_fracciones = shapefile.Reader(fracciones_path)\n",
    "fracciones = geo_utils.get_shapely_shapes(sf_fracciones)\n",
    "\n",
    "sf_subte500 = shapefile.Reader(subte_buffer500_path)\n",
    "estaciones = geo_utils.get_shapely_shapes(sf_subte500)"
   ]
  },
  {
   "cell_type": "code",
   "execution_count": 9,
   "metadata": {
    "collapsed": false
   },
   "outputs": [
    {
     "name": "stdout",
     "output_type": "stream",
     "text": [
      "Calculating intersections between fracciones_caba_censo_2010 and accesibilidad_en_estaciones_de_subte-buffer1000\n",
      "Calculating intersections between radios_censo_2010 and accesibilidad_en_estaciones_de_subte-buffer1000\n",
      "Calculating intersections between fracciones_caba_censo_2010 and accesibilidad_en_estaciones_de_subte-buffer1500\n",
      "Calculating intersections between radios_censo_2010 and accesibilidad_en_estaciones_de_subte-buffer1500\n",
      "Calculating intersections between fracciones_caba_censo_2010 and accesibilidad_en_estaciones_de_subte-buffer2000\n",
      "Calculating intersections between radios_censo_2010 and accesibilidad_en_estaciones_de_subte-buffer2000\n",
      "Calculating intersections between fracciones_caba_censo_2010 and accesibilidad_en_estaciones_de_subte-buffer500\n",
      "Calculating intersections between radios_censo_2010 and accesibilidad_en_estaciones_de_subte-buffer500\n",
      "Calculating intersections between fracciones_caba_censo_2010 and estaciones_de_ferrocarril-buffer1000\n",
      "Calculating intersections between radios_censo_2010 and estaciones_de_ferrocarril-buffer1000\n",
      "Calculating intersections between fracciones_caba_censo_2010 and estaciones_de_ferrocarril-buffer1500\n",
      "Calculating intersections between radios_censo_2010 and estaciones_de_ferrocarril-buffer1500\n",
      "Calculating intersections between fracciones_caba_censo_2010 and estaciones_de_ferrocarril-buffer2000\n",
      "Calculating intersections between radios_censo_2010 and estaciones_de_ferrocarril-buffer2000\n",
      "Calculating intersections between fracciones_caba_censo_2010 and estaciones_de_ferrocarril-buffer500\n",
      "Calculating intersections between radios_censo_2010 and estaciones_de_ferrocarril-buffer500\n",
      "Calculating intersections between fracciones_caba_censo_2010 and estaciones_de_metrobus-buffer1000\n",
      "Calculating intersections between radios_censo_2010 and estaciones_de_metrobus-buffer1000\n",
      "Calculating intersections between fracciones_caba_censo_2010 and estaciones_de_metrobus-buffer1500\n",
      "Calculating intersections between radios_censo_2010 and estaciones_de_metrobus-buffer1500\n",
      "Calculating intersections between fracciones_caba_censo_2010 and estaciones_de_metrobus-buffer2000\n",
      "Calculating intersections between radios_censo_2010 and estaciones_de_metrobus-buffer2000\n",
      "Calculating intersections between fracciones_caba_censo_2010 and estaciones_de_metrobus-buffer500\n",
      "Calculating intersections between radios_censo_2010 and estaciones_de_metrobus-buffer500\n",
      "Calculating intersections between fracciones_caba_censo_2010 and estaciones_de_premetro-buffer1000\n",
      "Calculating intersections between radios_censo_2010 and estaciones_de_premetro-buffer1000\n",
      "Calculating intersections between fracciones_caba_censo_2010 and estaciones_de_premetro-buffer1500\n",
      "Calculating intersections between radios_censo_2010 and estaciones_de_premetro-buffer1500\n",
      "Calculating intersections between fracciones_caba_censo_2010 and estaciones_de_premetro-buffer2000\n",
      "Calculating intersections between radios_censo_2010 and estaciones_de_premetro-buffer2000\n",
      "Calculating intersections between fracciones_caba_censo_2010 and estaciones_de_premetro-buffer500\n",
      "Calculating intersections between radios_censo_2010 and estaciones_de_premetro-buffer500\n",
      "Calculating intersections between fracciones_caba_censo_2010 and estaciones_de_subte-buffer1000\n",
      "Calculating intersections between radios_censo_2010 and estaciones_de_subte-buffer1000\n",
      "Calculating intersections between fracciones_caba_censo_2010 and estaciones_de_subte-buffer1500\n",
      "Calculating intersections between radios_censo_2010 and estaciones_de_subte-buffer1500\n",
      "Calculating intersections between fracciones_caba_censo_2010 and estaciones_de_subte-buffer2000\n",
      "Calculating intersections between radios_censo_2010 and estaciones_de_subte-buffer2000\n",
      "Calculating intersections between fracciones_caba_censo_2010 and estaciones_de_subte-buffer500\n",
      "Calculating intersections between radios_censo_2010 and estaciones_de_subte-buffer500\n",
      "Calculating intersections between fracciones_caba_censo_2010 and ferrocarriles-buffer1000\n",
      "Calculating intersections between radios_censo_2010 and ferrocarriles-buffer1000\n",
      "Calculating intersections between fracciones_caba_censo_2010 and ferrocarriles-buffer1500\n",
      "Calculating intersections between radios_censo_2010 and ferrocarriles-buffer1500\n",
      "Calculating intersections between fracciones_caba_censo_2010 and ferrocarriles-buffer2000\n",
      "Calculating intersections between radios_censo_2010 and ferrocarriles-buffer2000\n",
      "Calculating intersections between fracciones_caba_censo_2010 and ferrocarriles-buffer500\n",
      "Calculating intersections between radios_censo_2010 and ferrocarriles-buffer500\n",
      "Calculating intersections between fracciones_caba_censo_2010 and linea ferrocarril_1991-buffer1000\n",
      "Calculating intersections between radios_censo_2010 and linea ferrocarril_1991-buffer1000\n",
      "Calculating intersections between fracciones_caba_censo_2010 and linea ferrocarril_1991-buffer1500\n",
      "Calculating intersections between radios_censo_2010 and linea ferrocarril_1991-buffer1500\n",
      "Calculating intersections between fracciones_caba_censo_2010 and linea ferrocarril_1991-buffer500\n",
      "Calculating intersections between radios_censo_2010 and linea ferrocarril_1991-buffer500\n",
      "Calculating intersections between fracciones_caba_censo_2010 and recorrido_de_metrobus-buffer1000\n",
      "Calculating intersections between radios_censo_2010 and recorrido_de_metrobus-buffer1000\n",
      "Calculating intersections between fracciones_caba_censo_2010 and recorrido_de_metrobus-buffer1500\n",
      "Calculating intersections between radios_censo_2010 and recorrido_de_metrobus-buffer1500\n",
      "Calculating intersections between fracciones_caba_censo_2010 and recorrido_de_metrobus-buffer2000\n",
      "Calculating intersections between radios_censo_2010 and recorrido_de_metrobus-buffer2000\n",
      "Calculating intersections between fracciones_caba_censo_2010 and red_de_premetro-buffer1000\n",
      "Calculating intersections between radios_censo_2010 and red_de_premetro-buffer1000\n",
      "Calculating intersections between fracciones_caba_censo_2010 and red_de_premetro-buffer1500\n",
      "Calculating intersections between radios_censo_2010 and red_de_premetro-buffer1500\n",
      "Calculating intersections between fracciones_caba_censo_2010 and red_de_premetro-buffer2000\n",
      "Calculating intersections between radios_censo_2010 and red_de_premetro-buffer2000\n",
      "Calculating intersections between fracciones_caba_censo_2010 and red_de_premetro-buffer500\n",
      "Calculating intersections between radios_censo_2010 and red_de_premetro-buffer500\n",
      "Calculating intersections between fracciones_caba_censo_2010 and red_de_subte-buffer1000\n",
      "Calculating intersections between radios_censo_2010 and red_de_subte-buffer1000\n",
      "Calculating intersections between fracciones_caba_censo_2010 and red_de_subte-buffer1500\n",
      "Calculating intersections between radios_censo_2010 and red_de_subte-buffer1500\n",
      "Calculating intersections between fracciones_caba_censo_2010 and red_de_subte-buffer2000\n",
      "Calculating intersections between radios_censo_2010 and red_de_subte-buffer2000\n",
      "Calculating intersections between fracciones_caba_censo_2010 and red_de_subte-buffer500\n",
      "Calculating intersections between radios_censo_2010 and red_de_subte-buffer500\n"
     ]
    }
   ],
   "source": [
    "# para calcular los % de intersección de todos los buffers\n",
    "# esto puede tomar bastante tiempo si se recalculan todos... (varias horas)\n",
    "calculate_weights.main(recalculate=False)"
   ]
  },
  {
   "cell_type": "code",
   "execution_count": null,
   "metadata": {
    "collapsed": true
   },
   "outputs": [],
   "source": []
  }
 ],
 "metadata": {
  "kernelspec": {
   "display_name": "Python 2",
   "language": "python",
   "name": "python2"
  },
  "language_info": {
   "codemirror_mode": {
    "name": "ipython",
    "version": 2
   },
   "file_extension": ".py",
   "mimetype": "text/x-python",
   "name": "python",
   "nbconvert_exporter": "python",
   "pygments_lexer": "ipython2",
   "version": "2.7.10"
  }
 },
 "nbformat": 4,
 "nbformat_minor": 0
}
