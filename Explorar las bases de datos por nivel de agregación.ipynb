{
 "cells": [
  {
   "cell_type": "markdown",
   "metadata": {},
   "source": [
    "## Explorar las bases de datos "
   ]
  },
  {
   "cell_type": "markdown",
   "metadata": {},
   "source": [
    "Este es un notebook auxiliar para explorar las bases de datos en sus distintos niveles de agregación, en su estado actual."
   ]
  },
  {
   "cell_type": "code",
   "execution_count": 21,
   "metadata": {
    "collapsed": true
   },
   "outputs": [],
   "source": [
    "from scripts.create_indicators import get_or_create_indicators_df\n",
    "import pandas as pd"
   ]
  },
  {
   "cell_type": "code",
   "execution_count": 22,
   "metadata": {
    "collapsed": true
   },
   "outputs": [],
   "source": [
    "df_radio = get_or_create_indicators_df(\"RADIO\")\n",
    "df_frac = get_or_create_indicators_df(\"FRAC\")\n",
    "df_comuna = get_or_create_indicators_df(\"DPTO\")\n",
    "df_caba = get_or_create_indicators_df(\"PROV\")"
   ]
  },
  {
   "cell_type": "code",
   "execution_count": 23,
   "metadata": {
    "collapsed": false
   },
   "outputs": [
    {
     "data": {
      "text/plain": [
       "Index([     u'empleo',     u'desocup',       u'inact',    u'ocup_viv',\n",
       "              u'0_14',       u'15_64',      u'mas_65',         u'hab',\n",
       "        u'con_satisf',  u'con_basica',   u'con_insuf', u'serv_satisf',\n",
       "       u'serv_basica',  u'serv_insuf',         u'nbi',     u'hac-149',\n",
       "           u'hac+150',     u'd_subte',  u'd_metrobus',      u'd_ffcc',\n",
       "       u'escolaridad',    u'educ_sup',       u'compu',     u'nse_mex',\n",
       "       u'nse_mex_cat',  u'reach_area',   u'COMERCIAL',  u'INDUSTRIAL',\n",
       "         u'SERVICIOS',       u'OTROS',   u'educ_priv',    u'educ_pub',\n",
       "        u'hospitales',   u'esp_verde',     u'nse_alt', u'RESIDENCIAL',\n",
       "        u'CO_FRAC_RA',        u'AREA',    u'area_km2',     u'hab_km2'],\n",
       "      dtype='object')"
      ]
     },
     "execution_count": 23,
     "metadata": {},
     "output_type": "execute_result"
    }
   ],
   "source": [
    "df_radio.columns"
   ]
  },
  {
   "cell_type": "code",
   "execution_count": 24,
   "metadata": {
    "collapsed": false
   },
   "outputs": [
    {
     "data": {
      "text/plain": [
       "Index([u'AREA', u'CO_FRAC_RA', u'educ_priv', u'educ_pub', u'esp_verde',\n",
       "       u'hospitales'],\n",
       "      dtype='object')"
      ]
     },
     "execution_count": 24,
     "metadata": {},
     "output_type": "execute_result"
    }
   ],
   "source": [
    "trabajo = [\"empleo\", \"desocup\", \"inact\"]\n",
    "edad = [\"0_14\", \"15_64\", \"mas_65\"]\n",
    "vivienda = [\"con_satisf\", \"con_basica\", \"con_insuf\", \"hac+150\", \"hac-149\", \"serv_satisf\",\n",
    "            \"serv_insuf\", \"serv_basica\", \"ocup_viv\"]\n",
    "socioeconomicos = [\"nbi\", \"nse_alt\", \"nse_mex\", \"nse_mex_cat\", \"educ_sup\", \"compu\", \"escolaridad\"]\n",
    "transporte = [\"d_subte\", \"d_metrobus\", \"d_ffcc\", \"reach_area\"]\n",
    "uso_suelo = [\"COMERCIAL\", \"INDUSTRIAL\", \"OTROS\", \"SERVICIOS\", \"RESIDENCIAL\"]\n",
    "densidad = [\"area_km2\", \"hab\", \"hab_km2\"]\n",
    "\n",
    "resto = df_radio.columns - pd.Index((trabajo + edad + edad + vivienda + socioeconomicos + \n",
    "                                     transporte + uso_suelo + densidad))\n",
    "resto"
   ]
  },
  {
   "cell_type": "code",
   "execution_count": 25,
   "metadata": {
    "collapsed": false
   },
   "outputs": [
    {
     "data": {
      "text/html": [
       "<div>\n",
       "<table border=\"1\" class=\"dataframe\">\n",
       "  <thead>\n",
       "    <tr style=\"text-align: right;\">\n",
       "      <th></th>\n",
       "      <th>d_subte</th>\n",
       "      <th>d_metrobus</th>\n",
       "      <th>d_ffcc</th>\n",
       "      <th>reach_area</th>\n",
       "    </tr>\n",
       "  </thead>\n",
       "  <tbody>\n",
       "    <tr>\n",
       "      <th>count</th>\n",
       "      <td>3553.000000</td>\n",
       "      <td>3553.000000</td>\n",
       "      <td>3553.000000</td>\n",
       "      <td>3553.000000</td>\n",
       "    </tr>\n",
       "    <tr>\n",
       "      <th>mean</th>\n",
       "      <td>1271.708194</td>\n",
       "      <td>1455.047060</td>\n",
       "      <td>1062.133840</td>\n",
       "      <td>36.140793</td>\n",
       "    </tr>\n",
       "    <tr>\n",
       "      <th>std</th>\n",
       "      <td>1299.635393</td>\n",
       "      <td>914.847765</td>\n",
       "      <td>533.529527</td>\n",
       "      <td>23.067384</td>\n",
       "    </tr>\n",
       "    <tr>\n",
       "      <th>min</th>\n",
       "      <td>3.346759</td>\n",
       "      <td>30.477260</td>\n",
       "      <td>24.428309</td>\n",
       "      <td>0.282289</td>\n",
       "    </tr>\n",
       "    <tr>\n",
       "      <th>25%</th>\n",
       "      <td>364.462650</td>\n",
       "      <td>696.377684</td>\n",
       "      <td>636.938242</td>\n",
       "      <td>19.327079</td>\n",
       "    </tr>\n",
       "    <tr>\n",
       "      <th>50%</th>\n",
       "      <td>725.517135</td>\n",
       "      <td>1383.497048</td>\n",
       "      <td>1017.863503</td>\n",
       "      <td>35.080862</td>\n",
       "    </tr>\n",
       "    <tr>\n",
       "      <th>75%</th>\n",
       "      <td>1760.983487</td>\n",
       "      <td>2057.858048</td>\n",
       "      <td>1457.335769</td>\n",
       "      <td>50.879613</td>\n",
       "    </tr>\n",
       "    <tr>\n",
       "      <th>max</th>\n",
       "      <td>5864.542096</td>\n",
       "      <td>5317.393474</td>\n",
       "      <td>3217.111978</td>\n",
       "      <td>126.354623</td>\n",
       "    </tr>\n",
       "  </tbody>\n",
       "</table>\n",
       "</div>"
      ],
      "text/plain": [
       "           d_subte   d_metrobus       d_ffcc   reach_area\n",
       "count  3553.000000  3553.000000  3553.000000  3553.000000\n",
       "mean   1271.708194  1455.047060  1062.133840    36.140793\n",
       "std    1299.635393   914.847765   533.529527    23.067384\n",
       "min       3.346759    30.477260    24.428309     0.282289\n",
       "25%     364.462650   696.377684   636.938242    19.327079\n",
       "50%     725.517135  1383.497048  1017.863503    35.080862\n",
       "75%    1760.983487  2057.858048  1457.335769    50.879613\n",
       "max    5864.542096  5317.393474  3217.111978   126.354623"
      ]
     },
     "execution_count": 25,
     "metadata": {},
     "output_type": "execute_result"
    }
   ],
   "source": [
    "df_radio[transporte].describe()"
   ]
  },
  {
   "cell_type": "code",
   "execution_count": 26,
   "metadata": {
    "collapsed": false,
    "scrolled": true
   },
   "outputs": [
    {
     "data": {
      "text/html": [
       "<div>\n",
       "<table border=\"1\" class=\"dataframe\">\n",
       "  <thead>\n",
       "    <tr style=\"text-align: right;\">\n",
       "      <th></th>\n",
       "      <th>COMERCIAL</th>\n",
       "      <th>INDUSTRIAL</th>\n",
       "      <th>OTROS</th>\n",
       "      <th>SERVICIOS</th>\n",
       "      <th>RESIDENCIAL</th>\n",
       "    </tr>\n",
       "  </thead>\n",
       "  <tbody>\n",
       "    <tr>\n",
       "      <th>count</th>\n",
       "      <td>3464.000000</td>\n",
       "      <td>3464.000000</td>\n",
       "      <td>3464.000000</td>\n",
       "      <td>3464.000000</td>\n",
       "      <td>3464.000000</td>\n",
       "    </tr>\n",
       "    <tr>\n",
       "      <th>mean</th>\n",
       "      <td>0.130197</td>\n",
       "      <td>0.008850</td>\n",
       "      <td>0.083755</td>\n",
       "      <td>0.167496</td>\n",
       "      <td>0.609688</td>\n",
       "    </tr>\n",
       "    <tr>\n",
       "      <th>std</th>\n",
       "      <td>0.141649</td>\n",
       "      <td>0.015308</td>\n",
       "      <td>0.095084</td>\n",
       "      <td>0.118842</td>\n",
       "      <td>0.224076</td>\n",
       "    </tr>\n",
       "    <tr>\n",
       "      <th>min</th>\n",
       "      <td>0.000000</td>\n",
       "      <td>0.000000</td>\n",
       "      <td>0.000000</td>\n",
       "      <td>0.000000</td>\n",
       "      <td>0.000000</td>\n",
       "    </tr>\n",
       "    <tr>\n",
       "      <th>25%</th>\n",
       "      <td>0.031025</td>\n",
       "      <td>0.000000</td>\n",
       "      <td>0.030119</td>\n",
       "      <td>0.084742</td>\n",
       "      <td>0.459211</td>\n",
       "    </tr>\n",
       "    <tr>\n",
       "      <th>50%</th>\n",
       "      <td>0.081137</td>\n",
       "      <td>0.003545</td>\n",
       "      <td>0.059400</td>\n",
       "      <td>0.147886</td>\n",
       "      <td>0.645607</td>\n",
       "    </tr>\n",
       "    <tr>\n",
       "      <th>75%</th>\n",
       "      <td>0.184390</td>\n",
       "      <td>0.011459</td>\n",
       "      <td>0.102072</td>\n",
       "      <td>0.224756</td>\n",
       "      <td>0.785329</td>\n",
       "    </tr>\n",
       "    <tr>\n",
       "      <th>max</th>\n",
       "      <td>0.896977</td>\n",
       "      <td>0.195293</td>\n",
       "      <td>1.000000</td>\n",
       "      <td>1.000000</td>\n",
       "      <td>1.000000</td>\n",
       "    </tr>\n",
       "  </tbody>\n",
       "</table>\n",
       "</div>"
      ],
      "text/plain": [
       "         COMERCIAL   INDUSTRIAL        OTROS    SERVICIOS  RESIDENCIAL\n",
       "count  3464.000000  3464.000000  3464.000000  3464.000000  3464.000000\n",
       "mean      0.130197     0.008850     0.083755     0.167496     0.609688\n",
       "std       0.141649     0.015308     0.095084     0.118842     0.224076\n",
       "min       0.000000     0.000000     0.000000     0.000000     0.000000\n",
       "25%       0.031025     0.000000     0.030119     0.084742     0.459211\n",
       "50%       0.081137     0.003545     0.059400     0.147886     0.645607\n",
       "75%       0.184390     0.011459     0.102072     0.224756     0.785329\n",
       "max       0.896977     0.195293     1.000000     1.000000     1.000000"
      ]
     },
     "execution_count": 26,
     "metadata": {},
     "output_type": "execute_result"
    }
   ],
   "source": [
    "df_radio[uso_suelo].describe()"
   ]
  },
  {
   "cell_type": "code",
   "execution_count": 27,
   "metadata": {
    "collapsed": false
   },
   "outputs": [
    {
     "data": {
      "text/html": [
       "<div>\n",
       "<table border=\"1\" class=\"dataframe\">\n",
       "  <thead>\n",
       "    <tr style=\"text-align: right;\">\n",
       "      <th></th>\n",
       "      <th>area_km2</th>\n",
       "      <th>hab</th>\n",
       "      <th>hab_km2</th>\n",
       "    </tr>\n",
       "  </thead>\n",
       "  <tbody>\n",
       "    <tr>\n",
       "      <th>count</th>\n",
       "      <td>3553.000000</td>\n",
       "      <td>3553.000000</td>\n",
       "      <td>3553.000000</td>\n",
       "    </tr>\n",
       "    <tr>\n",
       "      <th>mean</th>\n",
       "      <td>0.056411</td>\n",
       "      <td>813.439628</td>\n",
       "      <td>27482.503390</td>\n",
       "    </tr>\n",
       "    <tr>\n",
       "      <th>std</th>\n",
       "      <td>0.140794</td>\n",
       "      <td>292.546944</td>\n",
       "      <td>19277.901315</td>\n",
       "    </tr>\n",
       "    <tr>\n",
       "      <th>min</th>\n",
       "      <td>0.004468</td>\n",
       "      <td>0.000000</td>\n",
       "      <td>0.000000</td>\n",
       "    </tr>\n",
       "    <tr>\n",
       "      <th>25%</th>\n",
       "      <td>0.018626</td>\n",
       "      <td>647.000000</td>\n",
       "      <td>13188.747628</td>\n",
       "    </tr>\n",
       "    <tr>\n",
       "      <th>50%</th>\n",
       "      <td>0.035542</td>\n",
       "      <td>786.000000</td>\n",
       "      <td>21690.827613</td>\n",
       "    </tr>\n",
       "    <tr>\n",
       "      <th>75%</th>\n",
       "      <td>0.062824</td>\n",
       "      <td>928.000000</td>\n",
       "      <td>38093.732702</td>\n",
       "    </tr>\n",
       "    <tr>\n",
       "      <th>max</th>\n",
       "      <td>3.804692</td>\n",
       "      <td>3945.000000</td>\n",
       "      <td>163216.397275</td>\n",
       "    </tr>\n",
       "  </tbody>\n",
       "</table>\n",
       "</div>"
      ],
      "text/plain": [
       "          area_km2          hab        hab_km2\n",
       "count  3553.000000  3553.000000    3553.000000\n",
       "mean      0.056411   813.439628   27482.503390\n",
       "std       0.140794   292.546944   19277.901315\n",
       "min       0.004468     0.000000       0.000000\n",
       "25%       0.018626   647.000000   13188.747628\n",
       "50%       0.035542   786.000000   21690.827613\n",
       "75%       0.062824   928.000000   38093.732702\n",
       "max       3.804692  3945.000000  163216.397275"
      ]
     },
     "execution_count": 27,
     "metadata": {},
     "output_type": "execute_result"
    }
   ],
   "source": [
    "df_radio[densidad].describe()"
   ]
  },
  {
   "cell_type": "code",
   "execution_count": 28,
   "metadata": {
    "collapsed": false
   },
   "outputs": [
    {
     "data": {
      "text/html": [
       "<div>\n",
       "<table border=\"1\" class=\"dataframe\">\n",
       "  <thead>\n",
       "    <tr style=\"text-align: right;\">\n",
       "      <th></th>\n",
       "      <th>area_km2</th>\n",
       "      <th>hab</th>\n",
       "      <th>hab_km2</th>\n",
       "    </tr>\n",
       "  </thead>\n",
       "  <tbody>\n",
       "    <tr>\n",
       "      <th>count</th>\n",
       "      <td>351.000000</td>\n",
       "      <td>351.000000</td>\n",
       "      <td>351.000000</td>\n",
       "    </tr>\n",
       "    <tr>\n",
       "      <th>mean</th>\n",
       "      <td>0.580781</td>\n",
       "      <td>8234.048433</td>\n",
       "      <td>23213.463342</td>\n",
       "    </tr>\n",
       "    <tr>\n",
       "      <th>std</th>\n",
       "      <td>0.635433</td>\n",
       "      <td>2339.631842</td>\n",
       "      <td>13533.829067</td>\n",
       "    </tr>\n",
       "    <tr>\n",
       "      <th>min</th>\n",
       "      <td>0.085778</td>\n",
       "      <td>25.000000</td>\n",
       "      <td>3.960958</td>\n",
       "    </tr>\n",
       "    <tr>\n",
       "      <th>25%</th>\n",
       "      <td>0.229147</td>\n",
       "      <td>7002.500000</td>\n",
       "      <td>13324.296883</td>\n",
       "    </tr>\n",
       "    <tr>\n",
       "      <th>50%</th>\n",
       "      <td>0.420517</td>\n",
       "      <td>7994.000000</td>\n",
       "      <td>19753.627695</td>\n",
       "    </tr>\n",
       "    <tr>\n",
       "      <th>75%</th>\n",
       "      <td>0.687977</td>\n",
       "      <td>9233.500000</td>\n",
       "      <td>32335.177066</td>\n",
       "    </tr>\n",
       "    <tr>\n",
       "      <th>max</th>\n",
       "      <td>6.311604</td>\n",
       "      <td>24268.000000</td>\n",
       "      <td>64195.863419</td>\n",
       "    </tr>\n",
       "  </tbody>\n",
       "</table>\n",
       "</div>"
      ],
      "text/plain": [
       "         area_km2           hab       hab_km2\n",
       "count  351.000000    351.000000    351.000000\n",
       "mean     0.580781   8234.048433  23213.463342\n",
       "std      0.635433   2339.631842  13533.829067\n",
       "min      0.085778     25.000000      3.960958\n",
       "25%      0.229147   7002.500000  13324.296883\n",
       "50%      0.420517   7994.000000  19753.627695\n",
       "75%      0.687977   9233.500000  32335.177066\n",
       "max      6.311604  24268.000000  64195.863419"
      ]
     },
     "execution_count": 28,
     "metadata": {},
     "output_type": "execute_result"
    }
   ],
   "source": [
    "df_frac[densidad].describe()"
   ]
  },
  {
   "cell_type": "code",
   "execution_count": 29,
   "metadata": {
    "collapsed": false
   },
   "outputs": [
    {
     "name": "stdout",
     "output_type": "stream",
     "text": [
      "Area total radio: 200.428744499\n",
      "Area total fracción: 203.853994556\n",
      "Area total comuna: 203.760735542\n"
     ]
    }
   ],
   "source": [
    "print \"Area total radio:\", df_radio.area_km2.sum() \n",
    "print \"Area total fracción:\", df_frac.area_km2.sum() \n",
    "print \"Area total comuna:\", df_comuna.area_km2.sum()"
   ]
  },
  {
   "cell_type": "code",
   "execution_count": 30,
   "metadata": {
    "collapsed": false,
    "scrolled": true
   },
   "outputs": [
    {
     "name": "stdout",
     "output_type": "stream",
     "text": [
      "Población total radio: 2890151.0\n",
      "Población total fracción: 2890151.0\n",
      "Población total comuna: 2890151.0\n"
     ]
    }
   ],
   "source": [
    "print \"Población total radio:\", df_radio.hab.sum() \n",
    "print \"Población total fracción:\", df_frac.hab.sum() \n",
    "print \"Población total comuna:\", df_comuna.hab.sum()"
   ]
  }
 ],
 "metadata": {
  "kernelspec": {
   "display_name": "Python 2",
   "language": "python",
   "name": "python2"
  },
  "language_info": {
   "codemirror_mode": {
    "name": "ipython",
    "version": 2
   },
   "file_extension": ".py",
   "mimetype": "text/x-python",
   "name": "python",
   "nbconvert_exporter": "python",
   "pygments_lexer": "ipython2",
   "version": "2.7.10"
  }
 },
 "nbformat": 4,
 "nbformat_minor": 0
}
