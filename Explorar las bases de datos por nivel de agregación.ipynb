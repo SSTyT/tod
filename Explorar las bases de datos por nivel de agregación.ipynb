{
 "cells": [
  {
   "cell_type": "markdown",
   "metadata": {},
   "source": [
    "## Explorar las bases de datos "
   ]
  },
  {
   "cell_type": "markdown",
   "metadata": {},
   "source": [
    "Este es un notebook auxiliar para explorar las bases de datos en sus distintos niveles de agregación, en su estado actual."
   ]
  },
  {
   "cell_type": "code",
   "execution_count": 1,
   "metadata": {
    "collapsed": false
   },
   "outputs": [],
   "source": [
    "from scripts.create_indicators import get_or_create_indicators_df\n",
    "import pandas as pd"
   ]
  },
  {
   "cell_type": "code",
   "execution_count": 2,
   "metadata": {
    "collapsed": true
   },
   "outputs": [],
   "source": [
    "df_radio = get_or_create_indicators_df(\"RADIO\")\n",
    "df_frac = get_or_create_indicators_df(\"FRAC\")\n",
    "df_comuna = get_or_create_indicators_df(\"DPTO\")\n",
    "df_caba = get_or_create_indicators_df(\"PROV\")"
   ]
  },
  {
   "cell_type": "code",
   "execution_count": 3,
   "metadata": {
    "collapsed": false
   },
   "outputs": [
    {
     "data": {
      "text/plain": [
       "Index([     u'empleo',     u'desocup',       u'inact',    u'ocup_viv',\n",
       "              u'0_14',       u'15_64',      u'mas_65',         u'hab',\n",
       "        u'con_satisf',  u'con_basica',   u'con_insuf', u'serv_satisf',\n",
       "       u'serv_basica',  u'serv_insuf',         u'nbi',     u'hac-149',\n",
       "           u'hac+150',     u'd_subte',  u'd_metrobus',      u'd_ffcc',\n",
       "       u'escolaridad',    u'educ_sup',       u'compu',     u'nse_mex',\n",
       "       u'nse_mex_cat',  u'reach_area',   u'COMERCIAL',  u'INDUSTRIAL',\n",
       "         u'SERVICIOS',       u'OTROS',   u'educ_priv',    u'educ_pub',\n",
       "        u'hospitales',   u'esp_verde',     u'nse_alt', u'RESIDENCIAL',\n",
       "              u'AREA',    u'area_km2',     u'hab_km2',  u'reach_prop',\n",
       "        u'CO_FRAC_RA'],\n",
       "      dtype='object')"
      ]
     },
     "execution_count": 3,
     "metadata": {},
     "output_type": "execute_result"
    }
   ],
   "source": [
    "df_radio.columns"
   ]
  },
  {
   "cell_type": "code",
   "execution_count": 4,
   "metadata": {
    "collapsed": false
   },
   "outputs": [
    {
     "name": "stderr",
     "output_type": "stream",
     "text": [
      "/Users/abenassi/anaconda/envs/tod/lib/python2.7/site-packages/pandas/core/index.py:1353: FutureWarning: using '-' to provide set differences with Indexes is deprecated, use .difference()\n",
      "  \"use .difference()\",FutureWarning)\n"
     ]
    },
    {
     "data": {
      "text/plain": [
       "Index([      u'AREA', u'CO_FRAC_RA',  u'educ_priv',   u'educ_pub',\n",
       "        u'esp_verde', u'hospitales', u'reach_prop'],\n",
       "      dtype='object')"
      ]
     },
     "execution_count": 4,
     "metadata": {},
     "output_type": "execute_result"
    }
   ],
   "source": [
    "trabajo = [\"empleo\", \"desocup\", \"inact\"]\n",
    "edad = [\"0_14\", \"15_64\", \"mas_65\"]\n",
    "vivienda = [\"con_satisf\", \"con_basica\", \"con_insuf\", \"hac+150\", \"hac-149\", \"serv_satisf\",\n",
    "            \"serv_insuf\", \"serv_basica\", \"ocup_viv\"]\n",
    "socioeconomicos = [\"nbi\", \"nse_alt\", \"nse_mex\", \"nse_mex_cat\", \"educ_sup\", \"compu\", \"escolaridad\"]\n",
    "transporte = [\"d_subte\", \"d_metrobus\", \"d_ffcc\", \"reach_area\"]\n",
    "uso_suelo = [\"COMERCIAL\", \"INDUSTRIAL\", \"OTROS\", \"SERVICIOS\", \"RESIDENCIAL\"]\n",
    "densidad = [\"area_km2\", \"hab\", \"hab_km2\"]\n",
    "\n",
    "resto = df_radio.columns - pd.Index((trabajo + edad + edad + vivienda + socioeconomicos + \n",
    "                                     transporte + uso_suelo + densidad))\n",
    "resto"
   ]
  },
  {
   "cell_type": "code",
   "execution_count": 5,
   "metadata": {
    "collapsed": false
   },
   "outputs": [
    {
     "data": {
      "text/html": [
       "<div>\n",
       "<table border=\"1\" class=\"dataframe\">\n",
       "  <thead>\n",
       "    <tr style=\"text-align: right;\">\n",
       "      <th></th>\n",
       "      <th>d_subte</th>\n",
       "      <th>d_metrobus</th>\n",
       "      <th>d_ffcc</th>\n",
       "      <th>reach_area</th>\n",
       "    </tr>\n",
       "  </thead>\n",
       "  <tbody>\n",
       "    <tr>\n",
       "      <th>count</th>\n",
       "      <td>3553.000000</td>\n",
       "      <td>3553.000000</td>\n",
       "      <td>3553.000000</td>\n",
       "      <td>3553.000000</td>\n",
       "    </tr>\n",
       "    <tr>\n",
       "      <th>mean</th>\n",
       "      <td>1271.708194</td>\n",
       "      <td>1455.047060</td>\n",
       "      <td>1062.133840</td>\n",
       "      <td>36.140793</td>\n",
       "    </tr>\n",
       "    <tr>\n",
       "      <th>std</th>\n",
       "      <td>1299.635393</td>\n",
       "      <td>914.847765</td>\n",
       "      <td>533.529527</td>\n",
       "      <td>23.067384</td>\n",
       "    </tr>\n",
       "    <tr>\n",
       "      <th>min</th>\n",
       "      <td>3.346759</td>\n",
       "      <td>30.477260</td>\n",
       "      <td>24.428309</td>\n",
       "      <td>0.282289</td>\n",
       "    </tr>\n",
       "    <tr>\n",
       "      <th>25%</th>\n",
       "      <td>364.462650</td>\n",
       "      <td>696.377684</td>\n",
       "      <td>636.938242</td>\n",
       "      <td>19.327079</td>\n",
       "    </tr>\n",
       "    <tr>\n",
       "      <th>50%</th>\n",
       "      <td>725.517135</td>\n",
       "      <td>1383.497048</td>\n",
       "      <td>1017.863503</td>\n",
       "      <td>35.080862</td>\n",
       "    </tr>\n",
       "    <tr>\n",
       "      <th>75%</th>\n",
       "      <td>1760.983487</td>\n",
       "      <td>2057.858048</td>\n",
       "      <td>1457.335769</td>\n",
       "      <td>50.879613</td>\n",
       "    </tr>\n",
       "    <tr>\n",
       "      <th>max</th>\n",
       "      <td>5864.542096</td>\n",
       "      <td>5317.393474</td>\n",
       "      <td>3217.111978</td>\n",
       "      <td>126.354623</td>\n",
       "    </tr>\n",
       "  </tbody>\n",
       "</table>\n",
       "</div>"
      ],
      "text/plain": [
       "           d_subte   d_metrobus       d_ffcc   reach_area\n",
       "count  3553.000000  3553.000000  3553.000000  3553.000000\n",
       "mean   1271.708194  1455.047060  1062.133840    36.140793\n",
       "std    1299.635393   914.847765   533.529527    23.067384\n",
       "min       3.346759    30.477260    24.428309     0.282289\n",
       "25%     364.462650   696.377684   636.938242    19.327079\n",
       "50%     725.517135  1383.497048  1017.863503    35.080862\n",
       "75%    1760.983487  2057.858048  1457.335769    50.879613\n",
       "max    5864.542096  5317.393474  3217.111978   126.354623"
      ]
     },
     "execution_count": 5,
     "metadata": {},
     "output_type": "execute_result"
    }
   ],
   "source": [
    "df_radio[transporte].describe()"
   ]
  },
  {
   "cell_type": "code",
   "execution_count": 6,
   "metadata": {
    "collapsed": false,
    "scrolled": true
   },
   "outputs": [
    {
     "data": {
      "text/html": [
       "<div>\n",
       "<table border=\"1\" class=\"dataframe\">\n",
       "  <thead>\n",
       "    <tr style=\"text-align: right;\">\n",
       "      <th></th>\n",
       "      <th>COMERCIAL</th>\n",
       "      <th>INDUSTRIAL</th>\n",
       "      <th>OTROS</th>\n",
       "      <th>SERVICIOS</th>\n",
       "      <th>RESIDENCIAL</th>\n",
       "    </tr>\n",
       "  </thead>\n",
       "  <tbody>\n",
       "    <tr>\n",
       "      <th>count</th>\n",
       "      <td>3460.000000</td>\n",
       "      <td>3460.000000</td>\n",
       "      <td>3460.000000</td>\n",
       "      <td>3460.000000</td>\n",
       "      <td>3460.000000</td>\n",
       "    </tr>\n",
       "    <tr>\n",
       "      <th>mean</th>\n",
       "      <td>0.128588</td>\n",
       "      <td>0.008973</td>\n",
       "      <td>0.089896</td>\n",
       "      <td>0.154533</td>\n",
       "      <td>0.618009</td>\n",
       "    </tr>\n",
       "    <tr>\n",
       "      <th>std</th>\n",
       "      <td>0.138418</td>\n",
       "      <td>0.015800</td>\n",
       "      <td>0.103776</td>\n",
       "      <td>0.104522</td>\n",
       "      <td>0.218268</td>\n",
       "    </tr>\n",
       "    <tr>\n",
       "      <th>min</th>\n",
       "      <td>0.000000</td>\n",
       "      <td>0.000000</td>\n",
       "      <td>0.000000</td>\n",
       "      <td>0.000000</td>\n",
       "      <td>0.000000</td>\n",
       "    </tr>\n",
       "    <tr>\n",
       "      <th>25%</th>\n",
       "      <td>0.031033</td>\n",
       "      <td>0.000000</td>\n",
       "      <td>0.033223</td>\n",
       "      <td>0.081124</td>\n",
       "      <td>0.477187</td>\n",
       "    </tr>\n",
       "    <tr>\n",
       "      <th>50%</th>\n",
       "      <td>0.082502</td>\n",
       "      <td>0.003265</td>\n",
       "      <td>0.064045</td>\n",
       "      <td>0.135726</td>\n",
       "      <td>0.655530</td>\n",
       "    </tr>\n",
       "    <tr>\n",
       "      <th>75%</th>\n",
       "      <td>0.182329</td>\n",
       "      <td>0.011239</td>\n",
       "      <td>0.108427</td>\n",
       "      <td>0.205480</td>\n",
       "      <td>0.787030</td>\n",
       "    </tr>\n",
       "    <tr>\n",
       "      <th>max</th>\n",
       "      <td>0.897467</td>\n",
       "      <td>0.175978</td>\n",
       "      <td>1.000000</td>\n",
       "      <td>1.000000</td>\n",
       "      <td>1.000000</td>\n",
       "    </tr>\n",
       "  </tbody>\n",
       "</table>\n",
       "</div>"
      ],
      "text/plain": [
       "         COMERCIAL   INDUSTRIAL        OTROS    SERVICIOS  RESIDENCIAL\n",
       "count  3460.000000  3460.000000  3460.000000  3460.000000  3460.000000\n",
       "mean      0.128588     0.008973     0.089896     0.154533     0.618009\n",
       "std       0.138418     0.015800     0.103776     0.104522     0.218268\n",
       "min       0.000000     0.000000     0.000000     0.000000     0.000000\n",
       "25%       0.031033     0.000000     0.033223     0.081124     0.477187\n",
       "50%       0.082502     0.003265     0.064045     0.135726     0.655530\n",
       "75%       0.182329     0.011239     0.108427     0.205480     0.787030\n",
       "max       0.897467     0.175978     1.000000     1.000000     1.000000"
      ]
     },
     "execution_count": 6,
     "metadata": {},
     "output_type": "execute_result"
    }
   ],
   "source": [
    "df_radio[uso_suelo].describe()"
   ]
  },
  {
   "cell_type": "code",
   "execution_count": 7,
   "metadata": {
    "collapsed": false
   },
   "outputs": [
    {
     "data": {
      "text/html": [
       "<div>\n",
       "<table border=\"1\" class=\"dataframe\">\n",
       "  <thead>\n",
       "    <tr style=\"text-align: right;\">\n",
       "      <th></th>\n",
       "      <th>area_km2</th>\n",
       "      <th>hab</th>\n",
       "      <th>hab_km2</th>\n",
       "    </tr>\n",
       "  </thead>\n",
       "  <tbody>\n",
       "    <tr>\n",
       "      <th>count</th>\n",
       "      <td>3553.000000</td>\n",
       "      <td>3553.000000</td>\n",
       "      <td>3553.000000</td>\n",
       "    </tr>\n",
       "    <tr>\n",
       "      <th>mean</th>\n",
       "      <td>0.056411</td>\n",
       "      <td>813.439628</td>\n",
       "      <td>27482.503390</td>\n",
       "    </tr>\n",
       "    <tr>\n",
       "      <th>std</th>\n",
       "      <td>0.140794</td>\n",
       "      <td>292.546944</td>\n",
       "      <td>19277.901315</td>\n",
       "    </tr>\n",
       "    <tr>\n",
       "      <th>min</th>\n",
       "      <td>0.004468</td>\n",
       "      <td>0.000000</td>\n",
       "      <td>0.000000</td>\n",
       "    </tr>\n",
       "    <tr>\n",
       "      <th>25%</th>\n",
       "      <td>0.018626</td>\n",
       "      <td>647.000000</td>\n",
       "      <td>13188.747628</td>\n",
       "    </tr>\n",
       "    <tr>\n",
       "      <th>50%</th>\n",
       "      <td>0.035542</td>\n",
       "      <td>786.000000</td>\n",
       "      <td>21690.827613</td>\n",
       "    </tr>\n",
       "    <tr>\n",
       "      <th>75%</th>\n",
       "      <td>0.062824</td>\n",
       "      <td>928.000000</td>\n",
       "      <td>38093.732702</td>\n",
       "    </tr>\n",
       "    <tr>\n",
       "      <th>max</th>\n",
       "      <td>3.804692</td>\n",
       "      <td>3945.000000</td>\n",
       "      <td>163216.397275</td>\n",
       "    </tr>\n",
       "  </tbody>\n",
       "</table>\n",
       "</div>"
      ],
      "text/plain": [
       "          area_km2          hab        hab_km2\n",
       "count  3553.000000  3553.000000    3553.000000\n",
       "mean      0.056411   813.439628   27482.503390\n",
       "std       0.140794   292.546944   19277.901315\n",
       "min       0.004468     0.000000       0.000000\n",
       "25%       0.018626   647.000000   13188.747628\n",
       "50%       0.035542   786.000000   21690.827613\n",
       "75%       0.062824   928.000000   38093.732702\n",
       "max       3.804692  3945.000000  163216.397275"
      ]
     },
     "execution_count": 7,
     "metadata": {},
     "output_type": "execute_result"
    }
   ],
   "source": [
    "df_radio[densidad].describe()"
   ]
  },
  {
   "cell_type": "code",
   "execution_count": 8,
   "metadata": {
    "collapsed": false
   },
   "outputs": [
    {
     "data": {
      "text/html": [
       "<div>\n",
       "<table border=\"1\" class=\"dataframe\">\n",
       "  <thead>\n",
       "    <tr style=\"text-align: right;\">\n",
       "      <th></th>\n",
       "      <th>area_km2</th>\n",
       "      <th>hab</th>\n",
       "      <th>hab_km2</th>\n",
       "    </tr>\n",
       "  </thead>\n",
       "  <tbody>\n",
       "    <tr>\n",
       "      <th>count</th>\n",
       "      <td>351.000000</td>\n",
       "      <td>351.000000</td>\n",
       "      <td>351.000000</td>\n",
       "    </tr>\n",
       "    <tr>\n",
       "      <th>mean</th>\n",
       "      <td>0.580781</td>\n",
       "      <td>8234.048433</td>\n",
       "      <td>23213.463342</td>\n",
       "    </tr>\n",
       "    <tr>\n",
       "      <th>std</th>\n",
       "      <td>0.635433</td>\n",
       "      <td>2339.631842</td>\n",
       "      <td>13533.829067</td>\n",
       "    </tr>\n",
       "    <tr>\n",
       "      <th>min</th>\n",
       "      <td>0.085778</td>\n",
       "      <td>25.000000</td>\n",
       "      <td>3.960958</td>\n",
       "    </tr>\n",
       "    <tr>\n",
       "      <th>25%</th>\n",
       "      <td>0.229147</td>\n",
       "      <td>7002.500000</td>\n",
       "      <td>13324.296883</td>\n",
       "    </tr>\n",
       "    <tr>\n",
       "      <th>50%</th>\n",
       "      <td>0.420517</td>\n",
       "      <td>7994.000000</td>\n",
       "      <td>19753.627695</td>\n",
       "    </tr>\n",
       "    <tr>\n",
       "      <th>75%</th>\n",
       "      <td>0.687977</td>\n",
       "      <td>9233.500000</td>\n",
       "      <td>32335.177066</td>\n",
       "    </tr>\n",
       "    <tr>\n",
       "      <th>max</th>\n",
       "      <td>6.311604</td>\n",
       "      <td>24268.000000</td>\n",
       "      <td>64195.863419</td>\n",
       "    </tr>\n",
       "  </tbody>\n",
       "</table>\n",
       "</div>"
      ],
      "text/plain": [
       "         area_km2           hab       hab_km2\n",
       "count  351.000000    351.000000    351.000000\n",
       "mean     0.580781   8234.048433  23213.463342\n",
       "std      0.635433   2339.631842  13533.829067\n",
       "min      0.085778     25.000000      3.960958\n",
       "25%      0.229147   7002.500000  13324.296883\n",
       "50%      0.420517   7994.000000  19753.627695\n",
       "75%      0.687977   9233.500000  32335.177066\n",
       "max      6.311604  24268.000000  64195.863419"
      ]
     },
     "execution_count": 8,
     "metadata": {},
     "output_type": "execute_result"
    }
   ],
   "source": [
    "df_frac[densidad].describe()"
   ]
  },
  {
   "cell_type": "code",
   "execution_count": 9,
   "metadata": {
    "collapsed": false
   },
   "outputs": [
    {
     "name": "stdout",
     "output_type": "stream",
     "text": [
      "Area total radio: 200.428744499 200428744.499\n",
      "Area total fracción: 203.853994556 203853994.556\n",
      "Area total comuna: 203.760735542 203760735.542\n",
      "Area total caba: 203.760735542 203760735.542\n"
     ]
    }
   ],
   "source": [
    "print \"Area total radio:\", df_radio.area_km2.sum(), df_radio.AREA.sum() \n",
    "print \"Area total fracción:\", df_frac.area_km2.sum(), df_frac.AREA.sum() \n",
    "print \"Area total comuna:\", df_comuna.area_km2.sum(), df_comuna.AREA.sum()\n",
    "print \"Area total caba:\", df_caba.area_km2.sum(), df_caba.AREA.sum()"
   ]
  },
  {
   "cell_type": "code",
   "execution_count": 10,
   "metadata": {
    "collapsed": false,
    "scrolled": true
   },
   "outputs": [
    {
     "name": "stdout",
     "output_type": "stream",
     "text": [
      "Población total radio: 2890151.0\n",
      "Población total fracción: 2890151.0\n",
      "Población total comuna: 2890151.0\n",
      "Población total caba: 2890151.0\n"
     ]
    }
   ],
   "source": [
    "print \"Población total radio:\", df_radio.hab.sum() \n",
    "print \"Población total fracción:\", df_frac.hab.sum() \n",
    "print \"Población total comuna:\", df_comuna.hab.sum()\n",
    "print \"Población total caba:\", df_caba.hab.sum()"
   ]
  },
  {
   "cell_type": "code",
   "execution_count": 11,
   "metadata": {
    "collapsed": false
   },
   "outputs": [
    {
     "name": "stdout",
     "output_type": "stream",
     "text": [
      "Densidad hab/km2 14184.04283\n"
     ]
    }
   ],
   "source": [
    "print \"Densidad hab/km2\", df_caba.hab.sum() / df_caba.area_km2.sum()"
   ]
  },
  {
   "cell_type": "code",
   "execution_count": 12,
   "metadata": {
    "collapsed": false
   },
   "outputs": [
    {
     "data": {
      "text/plain": [
       "Index([     u'empleo',     u'desocup',       u'inact',    u'ocup_viv',\n",
       "              u'0_14',       u'15_64',      u'mas_65',         u'hab',\n",
       "        u'con_satisf',  u'con_basica',   u'con_insuf', u'serv_satisf',\n",
       "       u'serv_basica',  u'serv_insuf',         u'nbi',     u'hac-149',\n",
       "           u'hac+150',     u'd_subte',  u'd_metrobus',      u'd_ffcc',\n",
       "       u'escolaridad',    u'educ_sup',       u'compu',     u'nse_mex',\n",
       "       u'nse_mex_cat',  u'reach_area',   u'COMERCIAL',  u'INDUSTRIAL',\n",
       "         u'SERVICIOS',       u'OTROS',   u'esp_verde',     u'nse_alt',\n",
       "       u'RESIDENCIAL',    u'area_km2',     u'hab_km2',        u'AREA',\n",
       "        u'reach_prop'],\n",
       "      dtype='object')"
      ]
     },
     "execution_count": 12,
     "metadata": {},
     "output_type": "execute_result"
    }
   ],
   "source": [
    "df_caba.columns"
   ]
  },
  {
   "cell_type": "code",
   "execution_count": 13,
   "metadata": {
    "collapsed": false
   },
   "outputs": [
    {
     "data": {
      "text/plain": [
       "Index([    u'COMUNAS',      u'empleo',     u'desocup',       u'inact',\n",
       "          u'ocup_viv',        u'0_14',       u'15_64',      u'mas_65',\n",
       "               u'hab',  u'con_satisf',  u'con_basica',   u'con_insuf',\n",
       "       u'serv_satisf', u'serv_basica',  u'serv_insuf',         u'nbi',\n",
       "           u'hac-149',     u'hac+150',  u'hospitales',   u'educ_priv',\n",
       "          u'educ_pub',    u'area_km2',     u'hab_km2',     u'd_subte',\n",
       "        u'd_metrobus',      u'd_ffcc', u'escolaridad',    u'educ_sup',\n",
       "             u'compu',     u'nse_mex', u'nse_mex_cat',  u'reach_area',\n",
       "         u'COMERCIAL',  u'INDUSTRIAL',   u'SERVICIOS',       u'OTROS',\n",
       "         u'esp_verde',     u'nse_alt', u'RESIDENCIAL',        u'AREA',\n",
       "        u'reach_prop'],\n",
       "      dtype='object')"
      ]
     },
     "execution_count": 13,
     "metadata": {},
     "output_type": "execute_result"
    }
   ],
   "source": [
    "df_comuna.columns"
   ]
  },
  {
   "cell_type": "code",
   "execution_count": 14,
   "metadata": {
    "collapsed": false
   },
   "outputs": [
    {
     "data": {
      "text/plain": [
       "Index([     u'empleo',     u'desocup',       u'inact',    u'ocup_viv',\n",
       "              u'0_14',       u'15_64',      u'mas_65',         u'hab',\n",
       "        u'con_satisf',  u'con_basica',   u'con_insuf', u'serv_satisf',\n",
       "       u'serv_basica',  u'serv_insuf',         u'nbi',     u'hac-149',\n",
       "           u'hac+150',     u'd_subte',  u'd_metrobus',      u'd_ffcc',\n",
       "       u'escolaridad',    u'educ_sup',       u'compu',     u'nse_mex',\n",
       "       u'nse_mex_cat',  u'reach_area',   u'COMERCIAL',  u'INDUSTRIAL',\n",
       "         u'SERVICIOS',       u'OTROS',   u'educ_priv',    u'educ_pub',\n",
       "        u'hospitales',   u'esp_verde',     u'nse_alt', u'RESIDENCIAL',\n",
       "              u'AREA',    u'area_km2',     u'hab_km2',  u'reach_prop',\n",
       "        u'CO_FRAC_RA'],\n",
       "      dtype='object')"
      ]
     },
     "execution_count": 14,
     "metadata": {},
     "output_type": "execute_result"
    }
   ],
   "source": [
    "df_radio.columns"
   ]
  },
  {
   "cell_type": "code",
   "execution_count": 15,
   "metadata": {
    "collapsed": false
   },
   "outputs": [
    {
     "data": {
      "text/html": [
       "<div>\n",
       "<table border=\"1\" class=\"dataframe\">\n",
       "  <thead>\n",
       "    <tr style=\"text-align: right;\">\n",
       "      <th></th>\n",
       "      <th>reach_area</th>\n",
       "      <th>reach_prop</th>\n",
       "    </tr>\n",
       "    <tr>\n",
       "      <th>Código</th>\n",
       "      <th></th>\n",
       "      <th></th>\n",
       "    </tr>\n",
       "  </thead>\n",
       "  <tbody>\n",
       "    <tr>\n",
       "      <th>020010101</th>\n",
       "      <td>39.531283</td>\n",
       "      <td>0.194008</td>\n",
       "    </tr>\n",
       "    <tr>\n",
       "      <th>020010201</th>\n",
       "      <td>20.301866</td>\n",
       "      <td>0.099636</td>\n",
       "    </tr>\n",
       "    <tr>\n",
       "      <th>020010202</th>\n",
       "      <td>11.840268</td>\n",
       "      <td>0.058109</td>\n",
       "    </tr>\n",
       "    <tr>\n",
       "      <th>020010203</th>\n",
       "      <td>11.751906</td>\n",
       "      <td>0.057675</td>\n",
       "    </tr>\n",
       "    <tr>\n",
       "      <th>020010204</th>\n",
       "      <td>20.447229</td>\n",
       "      <td>0.100349</td>\n",
       "    </tr>\n",
       "  </tbody>\n",
       "</table>\n",
       "</div>"
      ],
      "text/plain": [
       "           reach_area  reach_prop\n",
       "Código                           \n",
       "020010101   39.531283    0.194008\n",
       "020010201   20.301866    0.099636\n",
       "020010202   11.840268    0.058109\n",
       "020010203   11.751906    0.057675\n",
       "020010204   20.447229    0.100349"
      ]
     },
     "execution_count": 15,
     "metadata": {},
     "output_type": "execute_result"
    }
   ],
   "source": [
    "df_radio[[\"reach_area\", \"reach_prop\"]].head()"
   ]
  },
  {
   "cell_type": "code",
   "execution_count": 16,
   "metadata": {
    "collapsed": false
   },
   "outputs": [
    {
     "name": "stdout",
     "output_type": "stream",
     "text": [
      "0.10709102565\n",
      "0.113042932757\n",
      "0.107827836977\n",
      "0.10709102565\n"
     ]
    }
   ],
   "source": [
    "def weighted_average(df, field, weight_field):\n",
    "    return ((df[field] * df[weight_field]) / df[weight_field].sum()).sum()\n",
    "\n",
    "print weighted_average(df_radio, \"esp_verde\", \"AREA\")\n",
    "print weighted_average(df_frac, \"esp_verde\", \"AREA\")\n",
    "print weighted_average(df_comuna, \"esp_verde\", \"AREA\")\n",
    "print weighted_average(df_caba, \"esp_verde\", \"AREA\")"
   ]
  },
  {
   "cell_type": "code",
   "execution_count": 18,
   "metadata": {
    "collapsed": false
   },
   "outputs": [
    {
     "data": {
      "text/plain": [
       "3553"
      ]
     },
     "execution_count": 18,
     "metadata": {},
     "output_type": "execute_result"
    }
   ],
   "source": [
    "len(df_radio)"
   ]
  }
 ],
 "metadata": {
  "kernelspec": {
   "display_name": "Python 2",
   "language": "python",
   "name": "python2"
  },
  "language_info": {
   "codemirror_mode": {
    "name": "ipython",
    "version": 2
   },
   "file_extension": ".py",
   "mimetype": "text/x-python",
   "name": "python",
   "nbconvert_exporter": "python",
   "pygments_lexer": "ipython2",
   "version": "2.7.10"
  }
 },
 "nbformat": 4,
 "nbformat_minor": 0
}
