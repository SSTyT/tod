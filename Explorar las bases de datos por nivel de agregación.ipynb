{
 "cells": [
  {
   "cell_type": "markdown",
   "metadata": {},
   "source": [
    "## Explorar las bases de datos "
   ]
  },
  {
   "cell_type": "markdown",
   "metadata": {},
   "source": [
    "Este es un notebook auxiliar para explorar las bases de datos en sus distintos niveles de agregación, en su estado actual."
   ]
  },
  {
   "cell_type": "code",
   "execution_count": 2,
   "metadata": {
    "collapsed": false
   },
   "outputs": [
    {
     "name": "stdout",
     "output_type": "stream",
     "text": [
      "PyTables is not installed. No support for HDF output.\n"
     ]
    }
   ],
   "source": [
    "from scripts.create_indicators import get_or_create_indicators_df\n",
    "import pandas as pd"
   ]
  },
  {
   "cell_type": "code",
   "execution_count": 3,
   "metadata": {
    "collapsed": true
   },
   "outputs": [],
   "source": [
    "df_radio = get_or_create_indicators_df(\"RADIO\")\n",
    "df_frac = get_or_create_indicators_df(\"FRAC\")\n",
    "df_comuna = get_or_create_indicators_df(\"DPTO\")\n",
    "df_caba = get_or_create_indicators_df(\"PROV\")"
   ]
  },
  {
   "cell_type": "code",
   "execution_count": 3,
   "metadata": {
    "collapsed": false
   },
   "outputs": [
    {
     "data": {
      "text/plain": [
       "Index([u'inact', u'ocup_viv', u'0_14', u'15_64', u'mas_65', u'hab',\n",
       "       u'con_satisf', u'con_basica', u'con_insuf', u'serv_satisf',\n",
       "       u'serv_basica', u'serv_insuf', u'nbi', u'hac-149', u'hac+150',\n",
       "       u'd_subte', u'd_metrobus', u'd_ffcc', u'escolaridad', u'educ_sup',\n",
       "       u'compu', u'nse_mex', u'nse_mex_cat', u'reach_area', u'COMERCIAL',\n",
       "       u'INDUSTRIAL', u'SERVICIOS', u'OTROS', u'educ_priv', u'educ_pub',\n",
       "       u'hospitales', u'esp_verde', u'nse_alt', u'RESIDENCIAL', u'hab_km2',\n",
       "       u'reach_prop', u'CO_FRAC_RA', u'empleo', u'DECIL', u'desocup', u'AREA',\n",
       "       u'area_km2'],\n",
       "      dtype='object')"
      ]
     },
     "execution_count": 3,
     "metadata": {},
     "output_type": "execute_result"
    }
   ],
   "source": [
    "df_radio.columns"
   ]
  },
  {
   "cell_type": "code",
   "execution_count": 4,
   "metadata": {
    "collapsed": false
   },
   "outputs": [
    {
     "name": "stderr",
     "output_type": "stream",
     "text": [
      "/Users/abenassi/anaconda/envs/tod/lib/python2.7/site-packages/ipykernel/__main__.py:11: FutureWarning: using '-' to provide set differences with Indexes is deprecated, use .difference()\n"
     ]
    },
    {
     "data": {
      "text/plain": [
       "Index([u'AREA', u'CO_FRAC_RA', u'DECIL', u'educ_priv', u'educ_pub',\n",
       "       u'esp_verde', u'hospitales', u'reach_prop'],\n",
       "      dtype='object')"
      ]
     },
     "execution_count": 4,
     "metadata": {},
     "output_type": "execute_result"
    }
   ],
   "source": [
    "trabajo = [\"empleo\", \"desocup\", \"inact\"]\n",
    "edad = [\"0_14\", \"15_64\", \"mas_65\"]\n",
    "vivienda = [\"con_satisf\", \"con_basica\", \"con_insuf\", \"hac+150\", \"hac-149\", \"serv_satisf\",\n",
    "            \"serv_insuf\", \"serv_basica\", \"ocup_viv\"]\n",
    "socioeconomicos = [\"nbi\", \"nse_alt\", \"nse_mex\", \"nse_mex_cat\", \"educ_sup\", \"compu\", \"escolaridad\"]\n",
    "transporte = [\"d_subte\", \"d_metrobus\", \"d_ffcc\", \"reach_area\"]\n",
    "uso_suelo = [\"COMERCIAL\", \"INDUSTRIAL\", \"OTROS\", \"SERVICIOS\", \"RESIDENCIAL\"]\n",
    "densidad = [\"area_km2\", \"hab\", \"hab_km2\"]\n",
    "\n",
    "resto = df_radio.columns - pd.Index((trabajo + edad + edad + vivienda + socioeconomicos + \n",
    "                                     transporte + uso_suelo + densidad))\n",
    "resto"
   ]
  },
  {
   "cell_type": "code",
   "execution_count": 5,
   "metadata": {
    "collapsed": false
   },
   "outputs": [
    {
     "data": {
      "text/html": [
       "<div>\n",
       "<table border=\"1\" class=\"dataframe\">\n",
       "  <thead>\n",
       "    <tr style=\"text-align: right;\">\n",
       "      <th></th>\n",
       "      <th>d_subte</th>\n",
       "      <th>d_metrobus</th>\n",
       "      <th>d_ffcc</th>\n",
       "      <th>reach_area</th>\n",
       "    </tr>\n",
       "  </thead>\n",
       "  <tbody>\n",
       "    <tr>\n",
       "      <th>count</th>\n",
       "      <td>3554.000000</td>\n",
       "      <td>3554.000000</td>\n",
       "      <td>3554.000000</td>\n",
       "      <td>3554.000000</td>\n",
       "    </tr>\n",
       "    <tr>\n",
       "      <th>mean</th>\n",
       "      <td>1271.350369</td>\n",
       "      <td>1454.637649</td>\n",
       "      <td>1061.834984</td>\n",
       "      <td>36.130624</td>\n",
       "    </tr>\n",
       "    <tr>\n",
       "      <th>std</th>\n",
       "      <td>1299.627568</td>\n",
       "      <td>915.044581</td>\n",
       "      <td>533.751876</td>\n",
       "      <td>23.072104</td>\n",
       "    </tr>\n",
       "    <tr>\n",
       "      <th>min</th>\n",
       "      <td>0.000000</td>\n",
       "      <td>0.000000</td>\n",
       "      <td>0.000000</td>\n",
       "      <td>0.000000</td>\n",
       "    </tr>\n",
       "    <tr>\n",
       "      <th>25%</th>\n",
       "      <td>364.427397</td>\n",
       "      <td>696.015938</td>\n",
       "      <td>636.682819</td>\n",
       "      <td>19.273604</td>\n",
       "    </tr>\n",
       "    <tr>\n",
       "      <th>50%</th>\n",
       "      <td>725.157176</td>\n",
       "      <td>1383.412679</td>\n",
       "      <td>1017.853325</td>\n",
       "      <td>35.059950</td>\n",
       "    </tr>\n",
       "    <tr>\n",
       "      <th>75%</th>\n",
       "      <td>1760.821307</td>\n",
       "      <td>2057.768187</td>\n",
       "      <td>1457.115122</td>\n",
       "      <td>50.870438</td>\n",
       "    </tr>\n",
       "    <tr>\n",
       "      <th>max</th>\n",
       "      <td>5864.542096</td>\n",
       "      <td>5317.393474</td>\n",
       "      <td>3217.111978</td>\n",
       "      <td>126.354623</td>\n",
       "    </tr>\n",
       "  </tbody>\n",
       "</table>\n",
       "</div>"
      ],
      "text/plain": [
       "           d_subte   d_metrobus       d_ffcc   reach_area\n",
       "count  3554.000000  3554.000000  3554.000000  3554.000000\n",
       "mean   1271.350369  1454.637649  1061.834984    36.130624\n",
       "std    1299.627568   915.044581   533.751876    23.072104\n",
       "min       0.000000     0.000000     0.000000     0.000000\n",
       "25%     364.427397   696.015938   636.682819    19.273604\n",
       "50%     725.157176  1383.412679  1017.853325    35.059950\n",
       "75%    1760.821307  2057.768187  1457.115122    50.870438\n",
       "max    5864.542096  5317.393474  3217.111978   126.354623"
      ]
     },
     "execution_count": 5,
     "metadata": {},
     "output_type": "execute_result"
    }
   ],
   "source": [
    "df_radio[transporte].describe()"
   ]
  },
  {
   "cell_type": "code",
   "execution_count": 6,
   "metadata": {
    "collapsed": false,
    "scrolled": true
   },
   "outputs": [
    {
     "data": {
      "text/html": [
       "<div>\n",
       "<table border=\"1\" class=\"dataframe\">\n",
       "  <thead>\n",
       "    <tr style=\"text-align: right;\">\n",
       "      <th></th>\n",
       "      <th>COMERCIAL</th>\n",
       "      <th>INDUSTRIAL</th>\n",
       "      <th>OTROS</th>\n",
       "      <th>SERVICIOS</th>\n",
       "      <th>RESIDENCIAL</th>\n",
       "    </tr>\n",
       "  </thead>\n",
       "  <tbody>\n",
       "    <tr>\n",
       "      <th>count</th>\n",
       "      <td>3461.000000</td>\n",
       "      <td>3461.000000</td>\n",
       "      <td>3461.000000</td>\n",
       "      <td>3461.000000</td>\n",
       "      <td>3461.000000</td>\n",
       "    </tr>\n",
       "    <tr>\n",
       "      <th>mean</th>\n",
       "      <td>0.128551</td>\n",
       "      <td>0.008971</td>\n",
       "      <td>0.089870</td>\n",
       "      <td>0.154489</td>\n",
       "      <td>0.617831</td>\n",
       "    </tr>\n",
       "    <tr>\n",
       "      <th>std</th>\n",
       "      <td>0.138415</td>\n",
       "      <td>0.015799</td>\n",
       "      <td>0.103773</td>\n",
       "      <td>0.104540</td>\n",
       "      <td>0.218489</td>\n",
       "    </tr>\n",
       "    <tr>\n",
       "      <th>min</th>\n",
       "      <td>0.000000</td>\n",
       "      <td>0.000000</td>\n",
       "      <td>0.000000</td>\n",
       "      <td>0.000000</td>\n",
       "      <td>0.000000</td>\n",
       "    </tr>\n",
       "    <tr>\n",
       "      <th>25%</th>\n",
       "      <td>0.030984</td>\n",
       "      <td>0.000000</td>\n",
       "      <td>0.033221</td>\n",
       "      <td>0.080969</td>\n",
       "      <td>0.477172</td>\n",
       "    </tr>\n",
       "    <tr>\n",
       "      <th>50%</th>\n",
       "      <td>0.082479</td>\n",
       "      <td>0.003265</td>\n",
       "      <td>0.064045</td>\n",
       "      <td>0.135713</td>\n",
       "      <td>0.655425</td>\n",
       "    </tr>\n",
       "    <tr>\n",
       "      <th>75%</th>\n",
       "      <td>0.182296</td>\n",
       "      <td>0.011237</td>\n",
       "      <td>0.108401</td>\n",
       "      <td>0.205472</td>\n",
       "      <td>0.787019</td>\n",
       "    </tr>\n",
       "    <tr>\n",
       "      <th>max</th>\n",
       "      <td>0.897467</td>\n",
       "      <td>0.175978</td>\n",
       "      <td>1.000000</td>\n",
       "      <td>1.000000</td>\n",
       "      <td>1.000000</td>\n",
       "    </tr>\n",
       "  </tbody>\n",
       "</table>\n",
       "</div>"
      ],
      "text/plain": [
       "         COMERCIAL   INDUSTRIAL        OTROS    SERVICIOS  RESIDENCIAL\n",
       "count  3461.000000  3461.000000  3461.000000  3461.000000  3461.000000\n",
       "mean      0.128551     0.008971     0.089870     0.154489     0.617831\n",
       "std       0.138415     0.015799     0.103773     0.104540     0.218489\n",
       "min       0.000000     0.000000     0.000000     0.000000     0.000000\n",
       "25%       0.030984     0.000000     0.033221     0.080969     0.477172\n",
       "50%       0.082479     0.003265     0.064045     0.135713     0.655425\n",
       "75%       0.182296     0.011237     0.108401     0.205472     0.787019\n",
       "max       0.897467     0.175978     1.000000     1.000000     1.000000"
      ]
     },
     "execution_count": 6,
     "metadata": {},
     "output_type": "execute_result"
    }
   ],
   "source": [
    "df_radio[uso_suelo].describe()"
   ]
  },
  {
   "cell_type": "code",
   "execution_count": 7,
   "metadata": {
    "collapsed": false
   },
   "outputs": [
    {
     "data": {
      "text/html": [
       "<div>\n",
       "<table border=\"1\" class=\"dataframe\">\n",
       "  <thead>\n",
       "    <tr style=\"text-align: right;\">\n",
       "      <th></th>\n",
       "      <th>area_km2</th>\n",
       "      <th>hab</th>\n",
       "      <th>hab_km2</th>\n",
       "    </tr>\n",
       "  </thead>\n",
       "  <tbody>\n",
       "    <tr>\n",
       "      <th>count</th>\n",
       "      <td>3554.000000</td>\n",
       "      <td>3554.000000</td>\n",
       "      <td>3554.000000</td>\n",
       "    </tr>\n",
       "    <tr>\n",
       "      <th>mean</th>\n",
       "      <td>0.057354</td>\n",
       "      <td>813.210748</td>\n",
       "      <td>27474.770553</td>\n",
       "    </tr>\n",
       "    <tr>\n",
       "      <th>std</th>\n",
       "      <td>0.151590</td>\n",
       "      <td>292.823849</td>\n",
       "      <td>19280.700159</td>\n",
       "    </tr>\n",
       "    <tr>\n",
       "      <th>min</th>\n",
       "      <td>0.004468</td>\n",
       "      <td>0.000000</td>\n",
       "      <td>0.000000</td>\n",
       "    </tr>\n",
       "    <tr>\n",
       "      <th>25%</th>\n",
       "      <td>0.018628</td>\n",
       "      <td>646.250000</td>\n",
       "      <td>13175.152548</td>\n",
       "    </tr>\n",
       "    <tr>\n",
       "      <th>50%</th>\n",
       "      <td>0.035550</td>\n",
       "      <td>786.000000</td>\n",
       "      <td>21654.854300</td>\n",
       "    </tr>\n",
       "    <tr>\n",
       "      <th>75%</th>\n",
       "      <td>0.062851</td>\n",
       "      <td>928.000000</td>\n",
       "      <td>38092.448591</td>\n",
       "    </tr>\n",
       "    <tr>\n",
       "      <th>max</th>\n",
       "      <td>3.804692</td>\n",
       "      <td>3945.000000</td>\n",
       "      <td>163216.397275</td>\n",
       "    </tr>\n",
       "  </tbody>\n",
       "</table>\n",
       "</div>"
      ],
      "text/plain": [
       "          area_km2          hab        hab_km2\n",
       "count  3554.000000  3554.000000    3554.000000\n",
       "mean      0.057354   813.210748   27474.770553\n",
       "std       0.151590   292.823849   19280.700159\n",
       "min       0.004468     0.000000       0.000000\n",
       "25%       0.018628   646.250000   13175.152548\n",
       "50%       0.035550   786.000000   21654.854300\n",
       "75%       0.062851   928.000000   38092.448591\n",
       "max       3.804692  3945.000000  163216.397275"
      ]
     },
     "execution_count": 7,
     "metadata": {},
     "output_type": "execute_result"
    }
   ],
   "source": [
    "df_radio[densidad].describe()"
   ]
  },
  {
   "cell_type": "code",
   "execution_count": 8,
   "metadata": {
    "collapsed": false
   },
   "outputs": [
    {
     "data": {
      "text/html": [
       "<div>\n",
       "<table border=\"1\" class=\"dataframe\">\n",
       "  <thead>\n",
       "    <tr style=\"text-align: right;\">\n",
       "      <th></th>\n",
       "      <th>area_km2</th>\n",
       "      <th>hab</th>\n",
       "      <th>hab_km2</th>\n",
       "    </tr>\n",
       "  </thead>\n",
       "  <tbody>\n",
       "    <tr>\n",
       "      <th>count</th>\n",
       "      <td>351.000000</td>\n",
       "      <td>351.000000</td>\n",
       "      <td>351.000000</td>\n",
       "    </tr>\n",
       "    <tr>\n",
       "      <th>mean</th>\n",
       "      <td>0.580781</td>\n",
       "      <td>8234.048433</td>\n",
       "      <td>23213.463342</td>\n",
       "    </tr>\n",
       "    <tr>\n",
       "      <th>std</th>\n",
       "      <td>0.635433</td>\n",
       "      <td>2339.631842</td>\n",
       "      <td>13533.829067</td>\n",
       "    </tr>\n",
       "    <tr>\n",
       "      <th>min</th>\n",
       "      <td>0.085778</td>\n",
       "      <td>25.000000</td>\n",
       "      <td>3.960958</td>\n",
       "    </tr>\n",
       "    <tr>\n",
       "      <th>25%</th>\n",
       "      <td>0.229147</td>\n",
       "      <td>7002.500000</td>\n",
       "      <td>13324.296883</td>\n",
       "    </tr>\n",
       "    <tr>\n",
       "      <th>50%</th>\n",
       "      <td>0.420517</td>\n",
       "      <td>7994.000000</td>\n",
       "      <td>19753.627695</td>\n",
       "    </tr>\n",
       "    <tr>\n",
       "      <th>75%</th>\n",
       "      <td>0.687977</td>\n",
       "      <td>9233.500000</td>\n",
       "      <td>32335.177066</td>\n",
       "    </tr>\n",
       "    <tr>\n",
       "      <th>max</th>\n",
       "      <td>6.311604</td>\n",
       "      <td>24268.000000</td>\n",
       "      <td>64195.863419</td>\n",
       "    </tr>\n",
       "  </tbody>\n",
       "</table>\n",
       "</div>"
      ],
      "text/plain": [
       "         area_km2           hab       hab_km2\n",
       "count  351.000000    351.000000    351.000000\n",
       "mean     0.580781   8234.048433  23213.463342\n",
       "std      0.635433   2339.631842  13533.829067\n",
       "min      0.085778     25.000000      3.960958\n",
       "25%      0.229147   7002.500000  13324.296883\n",
       "50%      0.420517   7994.000000  19753.627695\n",
       "75%      0.687977   9233.500000  32335.177066\n",
       "max      6.311604  24268.000000  64195.863419"
      ]
     },
     "execution_count": 8,
     "metadata": {},
     "output_type": "execute_result"
    }
   ],
   "source": [
    "df_frac[densidad].describe()"
   ]
  },
  {
   "cell_type": "code",
   "execution_count": 9,
   "metadata": {
    "collapsed": false
   },
   "outputs": [
    {
     "name": "stdout",
     "output_type": "stream",
     "text": [
      "Area total radio: 203.83747579 203837475.79\n",
      "Area total fracción: 203.853994556 203853994.556\n",
      "Area total comuna: 203.760735542 203760735.542\n",
      "Area total caba: 407.521471085 407521471.085\n"
     ]
    }
   ],
   "source": [
    "print \"Area total radio:\", df_radio.area_km2.sum(), df_radio.AREA.sum() \n",
    "print \"Area total fracción:\", df_frac.area_km2.sum(), df_frac.AREA.sum() \n",
    "print \"Area total comuna:\", df_comuna.area_km2.sum(), df_comuna.AREA.sum()\n",
    "print \"Area total caba:\", df_caba.area_km2.sum(), df_caba.AREA.sum()"
   ]
  },
  {
   "cell_type": "code",
   "execution_count": 10,
   "metadata": {
    "collapsed": false,
    "scrolled": true
   },
   "outputs": [
    {
     "name": "stdout",
     "output_type": "stream",
     "text": [
      "Población total radio: 2890151.0\n",
      "Población total fracción: 2890151.0\n",
      "Población total comuna: 2890151.0\n",
      "Población total caba: 2890151.0\n"
     ]
    }
   ],
   "source": [
    "print \"Población total radio:\", df_radio.hab.sum() \n",
    "print \"Población total fracción:\", df_frac.hab.sum() \n",
    "print \"Población total comuna:\", df_comuna.hab.sum()\n",
    "print \"Población total caba:\", df_caba.hab.sum()"
   ]
  },
  {
   "cell_type": "code",
   "execution_count": 11,
   "metadata": {
    "collapsed": false
   },
   "outputs": [
    {
     "name": "stdout",
     "output_type": "stream",
     "text": [
      "Densidad hab/km2 7092.02141498\n"
     ]
    }
   ],
   "source": [
    "print \"Densidad hab/km2\", df_caba.hab.sum() / df_caba.area_km2.sum()"
   ]
  },
  {
   "cell_type": "code",
   "execution_count": 12,
   "metadata": {
    "collapsed": false
   },
   "outputs": [
    {
     "data": {
      "text/plain": [
       "Index([u'empleo', u'desocup', u'inact', u'ocup_viv', u'0_14', u'15_64',\n",
       "       u'mas_65', u'hab', u'con_satisf', u'con_basica', u'con_insuf',\n",
       "       u'serv_satisf', u'serv_basica', u'serv_insuf', u'nbi', u'hac-149',\n",
       "       u'hac+150', u'd_subte', u'd_metrobus', u'd_ffcc', u'escolaridad',\n",
       "       u'educ_sup', u'compu', u'nse_mex', u'nse_mex_cat', u'reach_area',\n",
       "       u'COMERCIAL', u'INDUSTRIAL', u'SERVICIOS', u'OTROS', u'esp_verde',\n",
       "       u'nse_alt', u'RESIDENCIAL', u'area_km2', u'hab_km2', u'AREA',\n",
       "       u'reach_prop', u'DECIL'],\n",
       "      dtype='object')"
      ]
     },
     "execution_count": 12,
     "metadata": {},
     "output_type": "execute_result"
    }
   ],
   "source": [
    "df_caba.columns"
   ]
  },
  {
   "cell_type": "code",
   "execution_count": 13,
   "metadata": {
    "collapsed": false
   },
   "outputs": [
    {
     "data": {
      "text/plain": [
       "Index([u'empleo', u'desocup', u'inact', u'ocup_viv', u'0_14', u'15_64',\n",
       "       u'mas_65', u'hab', u'con_satisf', u'con_basica', u'con_insuf',\n",
       "       u'serv_satisf', u'serv_basica', u'serv_insuf', u'nbi', u'hac-149',\n",
       "       u'hac+150', u'hospitales', u'educ_priv', u'educ_pub', u'hab_km2',\n",
       "       u'd_subte', u'd_metrobus', u'd_ffcc', u'escolaridad', u'educ_sup',\n",
       "       u'compu', u'nse_mex', u'nse_mex_cat', u'reach_area', u'COMERCIAL',\n",
       "       u'INDUSTRIAL', u'SERVICIOS', u'OTROS', u'esp_verde', u'nse_alt',\n",
       "       u'RESIDENCIAL', u'reach_prop', u'COMUNAS', u'AREA', u'area_km2',\n",
       "       u'DECIL'],\n",
       "      dtype='object')"
      ]
     },
     "execution_count": 13,
     "metadata": {},
     "output_type": "execute_result"
    }
   ],
   "source": [
    "df_comuna.columns"
   ]
  },
  {
   "cell_type": "code",
   "execution_count": 14,
   "metadata": {
    "collapsed": false
   },
   "outputs": [
    {
     "data": {
      "text/plain": [
       "Index([u'inact', u'ocup_viv', u'0_14', u'15_64', u'mas_65', u'hab',\n",
       "       u'con_satisf', u'con_basica', u'con_insuf', u'serv_satisf',\n",
       "       u'serv_basica', u'serv_insuf', u'nbi', u'hac-149', u'hac+150',\n",
       "       u'd_subte', u'd_metrobus', u'd_ffcc', u'escolaridad', u'educ_sup',\n",
       "       u'compu', u'nse_mex', u'nse_mex_cat', u'reach_area', u'COMERCIAL',\n",
       "       u'INDUSTRIAL', u'SERVICIOS', u'OTROS', u'educ_priv', u'educ_pub',\n",
       "       u'hospitales', u'esp_verde', u'nse_alt', u'RESIDENCIAL', u'hab_km2',\n",
       "       u'reach_prop', u'CO_FRAC_RA', u'empleo', u'DECIL', u'desocup', u'AREA',\n",
       "       u'area_km2'],\n",
       "      dtype='object')"
      ]
     },
     "execution_count": 14,
     "metadata": {},
     "output_type": "execute_result"
    }
   ],
   "source": [
    "df_radio.columns"
   ]
  },
  {
   "cell_type": "code",
   "execution_count": 15,
   "metadata": {
    "collapsed": false
   },
   "outputs": [
    {
     "data": {
      "text/html": [
       "<div>\n",
       "<table border=\"1\" class=\"dataframe\">\n",
       "  <thead>\n",
       "    <tr style=\"text-align: right;\">\n",
       "      <th></th>\n",
       "      <th>reach_area</th>\n",
       "      <th>reach_prop</th>\n",
       "    </tr>\n",
       "    <tr>\n",
       "      <th>Unnamed: 0</th>\n",
       "      <th></th>\n",
       "      <th></th>\n",
       "    </tr>\n",
       "  </thead>\n",
       "  <tbody>\n",
       "    <tr>\n",
       "      <th>020010101</th>\n",
       "      <td>39.531283</td>\n",
       "      <td>0.194008</td>\n",
       "    </tr>\n",
       "    <tr>\n",
       "      <th>020010201</th>\n",
       "      <td>20.301866</td>\n",
       "      <td>0.099636</td>\n",
       "    </tr>\n",
       "    <tr>\n",
       "      <th>020010202</th>\n",
       "      <td>11.840268</td>\n",
       "      <td>0.058109</td>\n",
       "    </tr>\n",
       "    <tr>\n",
       "      <th>020010203</th>\n",
       "      <td>11.751906</td>\n",
       "      <td>0.057675</td>\n",
       "    </tr>\n",
       "    <tr>\n",
       "      <th>020010204</th>\n",
       "      <td>20.447229</td>\n",
       "      <td>0.100349</td>\n",
       "    </tr>\n",
       "  </tbody>\n",
       "</table>\n",
       "</div>"
      ],
      "text/plain": [
       "            reach_area  reach_prop\n",
       "Unnamed: 0                        \n",
       "020010101    39.531283    0.194008\n",
       "020010201    20.301866    0.099636\n",
       "020010202    11.840268    0.058109\n",
       "020010203    11.751906    0.057675\n",
       "020010204    20.447229    0.100349"
      ]
     },
     "execution_count": 15,
     "metadata": {},
     "output_type": "execute_result"
    }
   ],
   "source": [
    "df_radio[[\"reach_area\", \"reach_prop\"]].head()"
   ]
  },
  {
   "cell_type": "code",
   "execution_count": 16,
   "metadata": {
    "collapsed": false
   },
   "outputs": [
    {
     "name": "stdout",
     "output_type": "stream",
     "text": [
      "0.105300164922\n",
      "0.105295371776\n",
      "0.105189291411\n",
      "0.105300164922\n"
     ]
    }
   ],
   "source": [
    "def weighted_average(df, field, weight_field):\n",
    "    return ((df[field] * df[weight_field]) / df[weight_field].sum()).sum()\n",
    "\n",
    "print weighted_average(df_radio, \"esp_verde\", \"AREA\")\n",
    "print weighted_average(df_frac, \"esp_verde\", \"AREA\")\n",
    "print weighted_average(df_comuna, \"esp_verde\", \"AREA\")\n",
    "print weighted_average(df_caba, \"esp_verde\", \"AREA\")"
   ]
  },
  {
   "cell_type": "code",
   "execution_count": 17,
   "metadata": {
    "collapsed": false
   },
   "outputs": [
    {
     "data": {
      "text/html": [
       "<div>\n",
       "<table border=\"1\" class=\"dataframe\">\n",
       "  <thead>\n",
       "    <tr style=\"text-align: right;\">\n",
       "      <th></th>\n",
       "      <th>RESIDENCIAL</th>\n",
       "      <th>COMERCIAL</th>\n",
       "      <th>SERVICIOS</th>\n",
       "      <th>INDUSTRIAL</th>\n",
       "      <th>OTROS</th>\n",
       "    </tr>\n",
       "    <tr>\n",
       "      <th>Unnamed: 0</th>\n",
       "      <th></th>\n",
       "      <th></th>\n",
       "      <th></th>\n",
       "      <th></th>\n",
       "      <th></th>\n",
       "    </tr>\n",
       "  </thead>\n",
       "  <tbody>\n",
       "    <tr>\n",
       "      <th>020011315</th>\n",
       "      <td>0.218825</td>\n",
       "      <td>0.22494</td>\n",
       "      <td>0.443765</td>\n",
       "      <td>0.11247</td>\n",
       "      <td>0</td>\n",
       "    </tr>\n",
       "    <tr>\n",
       "      <th>020141002</th>\n",
       "      <td>0.000000</td>\n",
       "      <td>0.00000</td>\n",
       "      <td>0.000000</td>\n",
       "      <td>0.00000</td>\n",
       "      <td>0</td>\n",
       "    </tr>\n",
       "  </tbody>\n",
       "</table>\n",
       "</div>"
      ],
      "text/plain": [
       "            RESIDENCIAL  COMERCIAL  SERVICIOS  INDUSTRIAL  OTROS\n",
       "Unnamed: 0                                                      \n",
       "020011315      0.218825    0.22494   0.443765     0.11247      0\n",
       "020141002      0.000000    0.00000   0.000000     0.00000      0"
      ]
     },
     "execution_count": 17,
     "metadata": {},
     "output_type": "execute_result"
    }
   ],
   "source": [
    "df_radio[df_radio[\"hab\"] == 0][[\"RESIDENCIAL\", \"COMERCIAL\", \"SERVICIOS\", \"INDUSTRIAL\", \"OTROS\"]]"
   ]
  },
  {
   "cell_type": "code",
   "execution_count": 18,
   "metadata": {
    "collapsed": true
   },
   "outputs": [],
   "source": [
    "def change_id(value):\n",
    "    co, frac, ra = value.split(\"_\")\n",
    "    return \"02\" + \"\".join([co.zfill(3), frac.zfill(2), ra.zfill(2)])"
   ]
  },
  {
   "cell_type": "code",
   "execution_count": 19,
   "metadata": {
    "collapsed": false
   },
   "outputs": [
    {
     "data": {
      "text/html": [
       "<div>\n",
       "<table border=\"1\" class=\"dataframe\">\n",
       "  <thead>\n",
       "    <tr style=\"text-align: right;\">\n",
       "      <th></th>\n",
       "      <th>inact</th>\n",
       "      <th>ocup_viv</th>\n",
       "      <th>0_14</th>\n",
       "      <th>15_64</th>\n",
       "      <th>mas_65</th>\n",
       "      <th>hab</th>\n",
       "      <th>con_satisf</th>\n",
       "      <th>con_basica</th>\n",
       "      <th>con_insuf</th>\n",
       "      <th>serv_satisf</th>\n",
       "      <th>...</th>\n",
       "      <th>nse_alt</th>\n",
       "      <th>RESIDENCIAL</th>\n",
       "      <th>hab_km2</th>\n",
       "      <th>reach_prop</th>\n",
       "      <th>CO_FRAC_RA</th>\n",
       "      <th>empleo</th>\n",
       "      <th>DECIL</th>\n",
       "      <th>desocup</th>\n",
       "      <th>AREA</th>\n",
       "      <th>area_km2</th>\n",
       "    </tr>\n",
       "    <tr>\n",
       "      <th>Unnamed: 0</th>\n",
       "      <th></th>\n",
       "      <th></th>\n",
       "      <th></th>\n",
       "      <th></th>\n",
       "      <th></th>\n",
       "      <th></th>\n",
       "      <th></th>\n",
       "      <th></th>\n",
       "      <th></th>\n",
       "      <th></th>\n",
       "      <th></th>\n",
       "      <th></th>\n",
       "      <th></th>\n",
       "      <th></th>\n",
       "      <th></th>\n",
       "      <th></th>\n",
       "      <th></th>\n",
       "      <th></th>\n",
       "      <th></th>\n",
       "      <th></th>\n",
       "      <th></th>\n",
       "    </tr>\n",
       "  </thead>\n",
       "  <tbody>\n",
       "  </tbody>\n",
       "</table>\n",
       "<p>0 rows × 42 columns</p>\n",
       "</div>"
      ],
      "text/plain": [
       "Empty DataFrame\n",
       "Columns: [inact, ocup_viv, 0_14, 15_64, mas_65, hab, con_satisf, con_basica, con_insuf, serv_satisf, serv_basica, serv_insuf, nbi, hac-149, hac+150, d_subte, d_metrobus, d_ffcc, escolaridad, educ_sup, compu, nse_mex, nse_mex_cat, reach_area, COMERCIAL, INDUSTRIAL, SERVICIOS, OTROS, educ_priv, educ_pub, hospitales, esp_verde, nse_alt, RESIDENCIAL, hab_km2, reach_prop, CO_FRAC_RA, empleo, DECIL, desocup, AREA, area_km2]\n",
       "Index: []\n",
       "\n",
       "[0 rows x 42 columns]"
      ]
     },
     "execution_count": 19,
     "metadata": {},
     "output_type": "execute_result"
    }
   ],
   "source": [
    "df_radio[pd.isnull(df_radio.desocup)]"
   ]
  },
  {
   "cell_type": "code",
   "execution_count": 20,
   "metadata": {
    "collapsed": false
   },
   "outputs": [],
   "source": [
    "#from scripts.path_finders import get_indicators_path\n",
    "#df_comuna.drop_duplicates(\"COMUNAS\", keep=\"first\").to_csv(get_indicators_path(\"DPTO\"), encoding=\"utf-8\")"
   ]
  },
  {
   "cell_type": "code",
   "execution_count": 21,
   "metadata": {
    "collapsed": false
   },
   "outputs": [
    {
     "data": {
      "text/plain": [
       "(3554, 351, 15)"
      ]
     },
     "execution_count": 21,
     "metadata": {},
     "output_type": "execute_result"
    }
   ],
   "source": [
    "len(df_radio), len(df_frac), len(df_comuna)"
   ]
  },
  {
   "cell_type": "code",
   "execution_count": 28,
   "metadata": {
    "collapsed": true
   },
   "outputs": [],
   "source": [
    "def check_null_values(df, indic):\n",
    "    nulls = df[pd.isnull(df[indic])][indic]\n",
    "    print \"{}/{} ({:.2%}) NaNs in {}\".format(len(nulls), len(df), len(nulls)/float(len(df)), indic)\n",
    "    return nulls"
   ]
  },
  {
   "cell_type": "code",
   "execution_count": 29,
   "metadata": {
    "collapsed": false
   },
   "outputs": [
    {
     "name": "stdout",
     "output_type": "stream",
     "text": [
      "3/3554 (0.08%) NaNs in nse_mex_cat\n"
     ]
    },
    {
     "data": {
      "text/plain": [
       "Unnamed: 0\n",
       "020011302   NaN\n",
       "020041008   NaN\n",
       "020041801   NaN\n",
       "Name: nse_mex_cat, dtype: float64"
      ]
     },
     "execution_count": 29,
     "metadata": {},
     "output_type": "execute_result"
    }
   ],
   "source": [
    "check_null_values(df_radio, \"nse_mex_cat\")"
   ]
  },
  {
   "cell_type": "code",
   "execution_count": 30,
   "metadata": {
    "collapsed": false
   },
   "outputs": [
    {
     "name": "stdout",
     "output_type": "stream",
     "text": [
      "0/3554 (0.00%) NaNs in nse_alt\n"
     ]
    },
    {
     "data": {
      "text/plain": [
       "Series([], Name: nse_alt, dtype: int64)"
      ]
     },
     "execution_count": 30,
     "metadata": {},
     "output_type": "execute_result"
    }
   ],
   "source": [
    "check_null_values(df_radio, \"nse_alt\")"
   ]
  },
  {
   "cell_type": "code",
   "execution_count": 31,
   "metadata": {
    "collapsed": false
   },
   "outputs": [
    {
     "name": "stdout",
     "output_type": "stream",
     "text": [
      "1/3554 (0.03%) NaNs in DECIL\n"
     ]
    },
    {
     "data": {
      "text/plain": [
       "Unnamed: 0\n",
       "020011302   NaN\n",
       "Name: DECIL, dtype: float64"
      ]
     },
     "execution_count": 31,
     "metadata": {},
     "output_type": "execute_result"
    }
   ],
   "source": [
    "check_null_values(df_radio, \"DECIL\")"
   ]
  },
  {
   "cell_type": "code",
   "execution_count": 36,
   "metadata": {
    "collapsed": false
   },
   "outputs": [
    {
     "name": "stdout",
     "output_type": "stream",
     "text": [
      "93/3554 (2.62%) NaNs in RESIDENCIAL\n"
     ]
    },
    {
     "data": {
      "text/plain": [
       "Unnamed: 0\n",
       "020010201   NaN\n",
       "020010203   NaN\n",
       "020010205   NaN\n",
       "020010206   NaN\n",
       "020010207   NaN\n",
       "020010208   NaN\n",
       "020010209   NaN\n",
       "020010210   NaN\n",
       "020010211   NaN\n",
       "020010213   NaN\n",
       "020010214   NaN\n",
       "020010215   NaN\n",
       "020010216   NaN\n",
       "020010217   NaN\n",
       "020010218   NaN\n",
       "020010219   NaN\n",
       "020010301   NaN\n",
       "020010302   NaN\n",
       "020010303   NaN\n",
       "020010304   NaN\n",
       "020010305   NaN\n",
       "020010306   NaN\n",
       "020010307   NaN\n",
       "020010308   NaN\n",
       "020010309   NaN\n",
       "020010310   NaN\n",
       "020010311   NaN\n",
       "020010312   NaN\n",
       "020010313   NaN\n",
       "020010314   NaN\n",
       "             ..\n",
       "020071708   NaN\n",
       "020071709   NaN\n",
       "020071711   NaN\n",
       "020071803   NaN\n",
       "020071805   NaN\n",
       "020071807   NaN\n",
       "020071811   NaN\n",
       "020080106   NaN\n",
       "020080206   NaN\n",
       "020080509   NaN\n",
       "020080511   NaN\n",
       "020080704   NaN\n",
       "020080705   NaN\n",
       "020080707   NaN\n",
       "020080708   NaN\n",
       "020081402   NaN\n",
       "020081502   NaN\n",
       "020081504   NaN\n",
       "020081601   NaN\n",
       "020081602   NaN\n",
       "020081603   NaN\n",
       "020081604   NaN\n",
       "020081605   NaN\n",
       "020081606   NaN\n",
       "020081607   NaN\n",
       "020081608   NaN\n",
       "020081609   NaN\n",
       "020091408   NaN\n",
       "020121903   NaN\n",
       "020132909   NaN\n",
       "Name: RESIDENCIAL, dtype: float64"
      ]
     },
     "execution_count": 36,
     "metadata": {},
     "output_type": "execute_result"
    }
   ],
   "source": [
    "check_null_values(df_radio, \"RESIDENCIAL\")"
   ]
  },
  {
   "cell_type": "code",
   "execution_count": null,
   "metadata": {
    "collapsed": true
   },
   "outputs": [],
   "source": []
  }
 ],
 "metadata": {
  "kernelspec": {
   "display_name": "Python 2",
   "language": "python",
   "name": "python2"
  },
  "language_info": {
   "codemirror_mode": {
    "name": "ipython",
    "version": 2
   },
   "file_extension": ".py",
   "mimetype": "text/x-python",
   "name": "python",
   "nbconvert_exporter": "python",
   "pygments_lexer": "ipython2",
   "version": "2.7.10"
  }
 },
 "nbformat": 4,
 "nbformat_minor": 0
}
