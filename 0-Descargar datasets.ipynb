{
 "cells": [
  {
   "cell_type": "markdown",
   "metadata": {},
   "source": [
    "# Descargar datasets originales"
   ]
  },
  {
   "cell_type": "markdown",
   "metadata": {},
   "source": [
    "Este notebook controla que todos los datasets listados en `Links.xlsx` estén descargados en sus correspondientes directorios dentro de la estructura del repositorio. Descarga los datasets que no estén."
   ]
  },
  {
   "cell_type": "code",
   "execution_count": 36,
   "metadata": {
    "collapsed": true
   },
   "outputs": [],
   "source": [
    "import pandas as pd\n",
    "from scripts.utils import download"
   ]
  },
  {
   "cell_type": "code",
   "execution_count": 37,
   "metadata": {
    "collapsed": false
   },
   "outputs": [],
   "source": [
    "df = pd.read_excel(\"Links.xlsx\")"
   ]
  },
  {
   "cell_type": "code",
   "execution_count": 38,
   "metadata": {
    "collapsed": false
   },
   "outputs": [],
   "source": [
    "def download_resources(df):\n",
    "    \"\"\"Download resources listed in a dataframe with filename, \n",
    "    link, category and subcategory fields.\"\"\"\n",
    "    \n",
    "    for row in df.iterrows():\n",
    "        path = os.path.join(row[1].category)\n",
    "\n",
    "        # add subcategory, if any\n",
    "        if pd.notnull(row[1].subcategory):\n",
    "            path = os.path.join(path, row[1].subcategory)\n",
    "        \n",
    "        # create directory if not existent\n",
    "        if not os.path.isdir(path):\n",
    "            os.mkdir(path)\n",
    "        \n",
    "        files = [filename.split(\".\")[0] for filename in os.listdir(path)]\n",
    "        \n",
    "        # download if nothing similar is there\n",
    "        if row[1].filename.split(\".\")[0] not in files:\n",
    "            path = os.path.join(path, row[1].filename)\n",
    "            download(row[1].link, path)"
   ]
  },
  {
   "cell_type": "code",
   "execution_count": 39,
   "metadata": {
    "collapsed": false
   },
   "outputs": [
    {
     "data": {
      "text/html": [
       "<div>\n",
       "<table border=\"1\" class=\"dataframe\">\n",
       "  <thead>\n",
       "    <tr style=\"text-align: right;\">\n",
       "      <th></th>\n",
       "      <th>filename</th>\n",
       "      <th>link</th>\n",
       "      <th>category</th>\n",
       "      <th>subcategory</th>\n",
       "      <th>parent_link</th>\n",
       "    </tr>\n",
       "  </thead>\n",
       "  <tbody>\n",
       "    <tr>\n",
       "      <th>0</th>\n",
       "      <td>estaciones-ferrocarril.zip</td>\n",
       "      <td>https://recursos-data.buenosaires.gob.ar/ckan2...</td>\n",
       "      <td>shp</td>\n",
       "      <td>transporte</td>\n",
       "      <td>http://data.buenosaires.gob.ar/dataset/lineas-...</td>\n",
       "    </tr>\n",
       "    <tr>\n",
       "      <th>1</th>\n",
       "      <td>estaciones-premetro.zip</td>\n",
       "      <td>https://recursos-data.buenosaires.gob.ar/ckan2...</td>\n",
       "      <td>shp</td>\n",
       "      <td>transporte</td>\n",
       "      <td>http://data.buenosaires.gob.ar/dataset/premetro</td>\n",
       "    </tr>\n",
       "    <tr>\n",
       "      <th>2</th>\n",
       "      <td>linea-ferrocarril.zip</td>\n",
       "      <td>https://recursos-data.buenosaires.gob.ar/ckan2...</td>\n",
       "      <td>shp</td>\n",
       "      <td>transporte</td>\n",
       "      <td>http://data.buenosaires.gob.ar/dataset/lineas-...</td>\n",
       "    </tr>\n",
       "    <tr>\n",
       "      <th>3</th>\n",
       "      <td>metrobus-estaciones.zip</td>\n",
       "      <td>https://recursos-data.buenosaires.gob.ar/ckan2...</td>\n",
       "      <td>shp</td>\n",
       "      <td>transporte</td>\n",
       "      <td>http://data.buenosaires.gob.ar/dataset/metrobus</td>\n",
       "    </tr>\n",
       "    <tr>\n",
       "      <th>4</th>\n",
       "      <td>metrobus-recorrido.zip</td>\n",
       "      <td>https://recursos-data.buenosaires.gob.ar/ckan2...</td>\n",
       "      <td>shp</td>\n",
       "      <td>transporte</td>\n",
       "      <td>http://data.buenosaires.gob.ar/dataset/metrobus</td>\n",
       "    </tr>\n",
       "  </tbody>\n",
       "</table>\n",
       "</div>"
      ],
      "text/plain": [
       "                     filename  \\\n",
       "0  estaciones-ferrocarril.zip   \n",
       "1     estaciones-premetro.zip   \n",
       "2       linea-ferrocarril.zip   \n",
       "3     metrobus-estaciones.zip   \n",
       "4      metrobus-recorrido.zip   \n",
       "\n",
       "                                                link category subcategory  \\\n",
       "0  https://recursos-data.buenosaires.gob.ar/ckan2...      shp  transporte   \n",
       "1  https://recursos-data.buenosaires.gob.ar/ckan2...      shp  transporte   \n",
       "2  https://recursos-data.buenosaires.gob.ar/ckan2...      shp  transporte   \n",
       "3  https://recursos-data.buenosaires.gob.ar/ckan2...      shp  transporte   \n",
       "4  https://recursos-data.buenosaires.gob.ar/ckan2...      shp  transporte   \n",
       "\n",
       "                                         parent_link  \n",
       "0  http://data.buenosaires.gob.ar/dataset/lineas-...  \n",
       "1    http://data.buenosaires.gob.ar/dataset/premetro  \n",
       "2  http://data.buenosaires.gob.ar/dataset/lineas-...  \n",
       "3    http://data.buenosaires.gob.ar/dataset/metrobus  \n",
       "4    http://data.buenosaires.gob.ar/dataset/metrobus  "
      ]
     },
     "execution_count": 39,
     "metadata": {},
     "output_type": "execute_result"
    }
   ],
   "source": [
    "df.head()"
   ]
  },
  {
   "cell_type": "code",
   "execution_count": 40,
   "metadata": {
    "collapsed": true
   },
   "outputs": [],
   "source": [
    "download_resources(df)"
   ]
  },
  {
   "cell_type": "code",
   "execution_count": null,
   "metadata": {
    "collapsed": true
   },
   "outputs": [],
   "source": []
  }
 ],
 "metadata": {
  "kernelspec": {
   "display_name": "Python 2",
   "language": "python",
   "name": "python2"
  },
  "language_info": {
   "codemirror_mode": {
    "name": "ipython",
    "version": 2
   },
   "file_extension": ".py",
   "mimetype": "text/x-python",
   "name": "python",
   "nbconvert_exporter": "python",
   "pygments_lexer": "ipython2",
   "version": "2.7.10"
  }
 },
 "nbformat": 4,
 "nbformat_minor": 0
}
