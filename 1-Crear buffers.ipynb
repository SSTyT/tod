{
 "cells": [
  {
   "cell_type": "markdown",
   "metadata": {},
   "source": [
    "# Crea los buffers de todos los shapefiles dentro de un directorio"
   ]
  },
  {
   "cell_type": "markdown",
   "metadata": {},
   "source": [
    "No todos los shapefiles logran ser buffereados exitosamente, especialmente hay problemas con los que son originalmente líneas. Calcular los buffers de líneas es un proceso que puede tomar tiempo. Para acelerar el proceso de una carpeta con muchos shapefiles se pueden agregar saltear algunos agregándolos a la lista de la variable `skip`."
   ]
  },
  {
   "cell_type": "code",
   "execution_count": 1,
   "metadata": {
    "collapsed": false
   },
   "outputs": [],
   "source": [
    "from scripts import create_buffers"
   ]
  },
  {
   "cell_type": "markdown",
   "metadata": {},
   "source": [
    "Ejemplo: calcular los buffers de 500 metros de las estaciones de subte"
   ]
  },
  {
   "cell_type": "code",
   "execution_count": 2,
   "metadata": {
    "collapsed": false
   },
   "outputs": [],
   "source": [
    "create_buffers.create_buffered_shp(\"shp/transporte/subte-estaciones\", 500, recalculate=True)"
   ]
  },
  {
   "cell_type": "markdown",
   "metadata": {},
   "source": [
    "Calcula los buffers de todos los shapefiles en \"shp/transporte\" y los pone en \"shp/transporte/buffers\""
   ]
  },
  {
   "cell_type": "code",
   "execution_count": 6,
   "metadata": {
    "collapsed": false
   },
   "outputs": [
    {
     "name": "stdout",
     "output_type": "stream",
     "text": [
      "Calculating buffers...\n",
      "\n",
      " estaciones-accesibles\n",
      "buffering estaciones-accesibles with distance 300\n",
      "buffering estaciones-accesibles with distance 500\n",
      "buffering estaciones-accesibles with distance 750\n",
      "buffering estaciones-accesibles with distance 1000\n",
      "buffering estaciones-accesibles with distance 1500\n",
      "buffering estaciones-accesibles with distance 2000\n",
      "\n",
      " estaciones-ferrocarril\n",
      "buffering estaciones-ferrocarril with distance 300\n",
      "buffering estaciones-ferrocarril with distance 500\n",
      "buffering estaciones-ferrocarril with distance 750\n",
      "buffering estaciones-ferrocarril with distance 1000\n",
      "buffering estaciones-ferrocarril with distance 1500\n",
      "buffering estaciones-ferrocarril with distance 2000\n",
      "\n",
      " estaciones-premetro\n",
      "buffering estaciones-premetro with distance 300\n",
      "buffering estaciones-premetro with distance 500\n",
      "buffering estaciones-premetro with distance 750\n",
      "buffering estaciones-premetro with distance 1000\n",
      "buffering estaciones-premetro with distance 1500\n",
      "buffering estaciones-premetro with distance 2000\n",
      "\n",
      " metrobus-estaciones\n",
      "buffering metrobus-estaciones with distance 300\n",
      "buffering metrobus-estaciones with distance 500\n",
      "buffering metrobus-estaciones with distance 750\n",
      "buffering metrobus-estaciones with distance 1000\n",
      "buffering metrobus-estaciones with distance 1500\n",
      "buffering metrobus-estaciones with distance 2000\n",
      "\n",
      " subte-estaciones\n",
      "buffering subte-estaciones with distance 300\n",
      "buffering subte-estaciones with distance 500\n",
      "buffering subte-estaciones with distance 750\n",
      "buffering subte-estaciones with distance 1000\n",
      "buffering subte-estaciones with distance 1500\n",
      "buffering subte-estaciones with distance 2000\n"
     ]
    }
   ],
   "source": [
    "lines_shp_to_skip = [\"recorrido-colectivos\", \"recorridos_de_colectivos\", \"linea-ferrocarril\",\n",
    "                     \"metrobus-recorrido\", \"recorrido-premetro\", \"subte-lineas\"]\n",
    "create_buffers.main(skip=lines_shp_to_skip, \n",
    "                    buffers=[300, 500, 750, 1000, 1500, 2000], recalculate=False)"
   ]
  },
  {
   "cell_type": "code",
   "execution_count": null,
   "metadata": {
    "collapsed": true
   },
   "outputs": [],
   "source": []
  }
 ],
 "metadata": {
  "kernelspec": {
   "display_name": "Python 2",
   "language": "python",
   "name": "python2"
  },
  "language_info": {
   "codemirror_mode": {
    "name": "ipython",
    "version": 2
   },
   "file_extension": ".py",
   "mimetype": "text/x-python",
   "name": "python",
   "nbconvert_exporter": "python",
   "pygments_lexer": "ipython2",
   "version": "2.7.10"
  }
 },
 "nbformat": 4,
 "nbformat_minor": 0
}
