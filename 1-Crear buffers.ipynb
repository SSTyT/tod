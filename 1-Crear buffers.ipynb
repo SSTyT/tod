{
 "cells": [
  {
   "cell_type": "markdown",
   "metadata": {},
   "source": [
    "# Crea los buffers de todos los shapefiles dentro de un directorio"
   ]
  },
  {
   "cell_type": "markdown",
   "metadata": {},
   "source": [
    "En esta etapa se toman los shapefiles de estaciones de modos de transporte (points) y se crean los buffers (círculos de cierto radio en metros alrededor de puntos).\n",
    "\n",
    "El script toma todos los shapefiles que encuentra en una carpeta y crea los buffers, no todos los shapefiles pueden ser buffereados exitosamente, especialmente hay problemas con los que son líneas. Calcular los buffers de líneas es un proceso que puede tomar tiempo (sin embargo no se hace en este caso). Para acelerar el proceso de shps en una carpeta con muchos archivos se pueden saltear algunos agregándolos a la lista de la variable `skip`."
   ]
  },
  {
   "cell_type": "code",
   "execution_count": 4,
   "metadata": {
    "collapsed": false
   },
   "outputs": [],
   "source": [
    "from scripts import create_buffers\n",
    "import scripts.path_finders as pf"
   ]
  },
  {
   "cell_type": "markdown",
   "metadata": {},
   "source": [
    "## Ejemplo: calcular los buffers de 500 metros de las estaciones de subte"
   ]
  },
  {
   "cell_type": "code",
   "execution_count": 7,
   "metadata": {
    "collapsed": false
   },
   "outputs": [],
   "source": [
    "create_buffers.create_buffered_shp(pf.get(\"shp/transporte/subte-estaciones\"), 500, recalculate=True)"
   ]
  },
  {
   "cell_type": "markdown",
   "metadata": {},
   "source": [
    "Calcula los buffers de todos los shapefiles en \"shp/transporte\" y los pone en \"shp/transporte/buffers\""
   ]
  },
  {
   "cell_type": "markdown",
   "metadata": {},
   "source": [
    "## Calcular todos los buffers de shp/transporte"
   ]
  },
  {
   "cell_type": "code",
   "execution_count": 6,
   "metadata": {
    "collapsed": false
   },
   "outputs": [
    {
     "name": "stdout",
     "output_type": "stream",
     "text": [
      "Calculating buffers...\n",
      "\n",
      " estaciones-ferrocarril\n",
      "buffering estaciones-ferrocarril with distance 300\n",
      "buffering estaciones-ferrocarril with distance 500\n",
      "buffering estaciones-ferrocarril with distance 750\n",
      "buffering estaciones-ferrocarril with distance 1000\n",
      "buffering estaciones-ferrocarril with distance 1500\n",
      "buffering estaciones-ferrocarril with distance 2000\n",
      "\n",
      " estaciones-premetro\n",
      "buffering estaciones-premetro with distance 300\n",
      "buffering estaciones-premetro with distance 500\n",
      "buffering estaciones-premetro with distance 750\n",
      "buffering estaciones-premetro with distance 1000\n",
      "buffering estaciones-premetro with distance 1500\n",
      "buffering estaciones-premetro with distance 2000\n",
      "\n",
      " metrobus-estaciones\n",
      "buffering metrobus-estaciones with distance 300\n",
      "buffering metrobus-estaciones with distance 500\n",
      "buffering metrobus-estaciones with distance 750\n",
      "buffering metrobus-estaciones with distance 1000\n",
      "buffering metrobus-estaciones with distance 1500\n",
      "buffering metrobus-estaciones with distance 2000\n",
      "\n",
      " recorrido_metrobus\n",
      "buffering recorrido_metrobus with distance 300\n",
      "buffering recorrido_metrobus with distance 500\n",
      "buffering recorrido_metrobus with distance 750\n",
      "buffering recorrido_metrobus with distance 1000\n",
      "buffering recorrido_metrobus with distance 1500\n",
      "buffering recorrido_metrobus with distance 2000\n",
      "\n",
      " subte-estaciones\n",
      "buffering subte-estaciones with distance 300\n",
      "buffering subte-estaciones with distance 500\n",
      "buffering subte-estaciones with distance 750\n",
      "buffering subte-estaciones with distance 1000\n",
      "buffering subte-estaciones with distance 1500\n",
      "buffering subte-estaciones with distance 2000\n"
     ]
    }
   ],
   "source": [
    "# evitamos los shapefiles de líneas\n",
    "lines_shp_to_skip = [\"recorrido-colectivos\", \"recorridos_de_colectivos\", \"linea-ferrocarril\",\n",
    "                     \"metrobus-recorrido\", \"recorrido-premetro\", \"subte-lineas\", \"recorrido_de_metrobus\"]\n",
    "\n",
    "# limitamos el área de los buffers dentro de la CABA\n",
    "context_shp = pf.get_shp(\"DPTO\")\n",
    "\n",
    "# elegimos los radios de los buffers a crear\n",
    "radius = [300, 500, 750, 1000, 1500, 2000]\n",
    "\n",
    "create_buffers.main(skip=lines_shp_to_skip, \n",
    "                    buffers=radius, \n",
    "                    recalculate=True,\n",
    "                    context_shp=context_shp)"
   ]
  },
  {
   "cell_type": "code",
   "execution_count": null,
   "metadata": {
    "collapsed": true
   },
   "outputs": [],
   "source": []
  }
 ],
 "metadata": {
  "kernelspec": {
   "display_name": "Python 2",
   "language": "python",
   "name": "python2"
  },
  "language_info": {
   "codemirror_mode": {
    "name": "ipython",
    "version": 2
   },
   "file_extension": ".py",
   "mimetype": "text/x-python",
   "name": "python",
   "nbconvert_exporter": "python",
   "pygments_lexer": "ipython2",
   "version": "2.7.10"
  }
 },
 "nbformat": 4,
 "nbformat_minor": 0
}
