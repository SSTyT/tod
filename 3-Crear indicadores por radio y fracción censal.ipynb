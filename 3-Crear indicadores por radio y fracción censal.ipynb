{
 "cells": [
  {
   "cell_type": "markdown",
   "metadata": {},
   "source": [
    "# Creación de indicadores a nivel de radio y fracción censal"
   ]
  },
  {
   "cell_type": "code",
   "execution_count": 310,
   "metadata": {
    "collapsed": false
   },
   "outputs": [],
   "source": [
    "import pyredatam\n",
    "from pyredatam import cpv2010arg\n",
    "import os\n",
    "import pandas as pd\n",
    "import numpy as np\n",
    "from sklearn.decomposition import PCA\n",
    "from scripts.path_finders import get_indicators_path, get_division_path, get_transport_shp_path\n",
    "from scripts.create_indicators import get_data, replace_index, get_or_create_indicators_df, get_data_from_query\n",
    "from scripts.geo_utils import join_df_with_shp, get_shapely_shape, iter_shp_as_shapely\n",
    "%matplotlib inline\n",
    "import matplotlib\n",
    "matplotlib.style.use(\"ggplot\")"
   ]
  },
  {
   "cell_type": "markdown",
   "metadata": {},
   "source": [
    "Cargamos todos los datos necesarios de la base REDATAM en data frames. El método `get_data` descarga los datos de la base del Censo 2010 (es necesario tener Firefox instalado), a menos que ya estén en la carpeta *data/censo*."
   ]
  },
  {
   "cell_type": "code",
   "execution_count": 311,
   "metadata": {
    "collapsed": true
   },
   "outputs": [],
   "source": [
    "variables = [\"PERSONA.CONDACT\", \"VIVIENDA.V02\", \"PERSONA.EDADAGRU\",\n",
    "             \"VIVIENDA.INCALCONS\", \"VIVIENDA.INCALSERV\", \"HOGAR.ALGUNBI\", \"HOGAR.INDHAC\",\n",
    "             \"HOGAR.H19A\", \"HOGAR.H19B\", \"HOGAR.H19C\", \"HOGAR.H19D\", \"HOGAR.H05\", \"HOGAR.H12\"]"
   ]
  },
  {
   "cell_type": "code",
   "execution_count": 312,
   "metadata": {
    "collapsed": false
   },
   "outputs": [],
   "source": [
    "dfs_radio = [get_data(\"RADIO\", variable, redownload=False) for variable in variables]\n",
    "dfs_frac = [get_data(\"FRAC\", variable, redownload=False) for variable in variables]\n",
    "dfs_comuna = [get_data(\"DPTO\", variable, redownload=False) for variable in variables]\n",
    "dfs_caba = [get_data(\"PROV\", variable, redownload=False) for variable in variables]"
   ]
  },
  {
   "cell_type": "code",
   "execution_count": 313,
   "metadata": {
    "collapsed": false
   },
   "outputs": [
    {
     "data": {
      "text/html": [
       "<div>\n",
       "<table border=\"1\" class=\"dataframe\">\n",
       "  <thead>\n",
       "    <tr style=\"text-align: right;\">\n",
       "      <th></th>\n",
       "      <th>Ocupado</th>\n",
       "      <th>Desocupado</th>\n",
       "      <th>Inactivo</th>\n",
       "      <th>Total</th>\n",
       "      <th>COMUNAS</th>\n",
       "    </tr>\n",
       "    <tr>\n",
       "      <th>Código</th>\n",
       "      <th></th>\n",
       "      <th></th>\n",
       "      <th></th>\n",
       "      <th></th>\n",
       "      <th></th>\n",
       "    </tr>\n",
       "  </thead>\n",
       "  <tbody>\n",
       "    <tr>\n",
       "      <th>02001</th>\n",
       "      <td>115106</td>\n",
       "      <td>5478</td>\n",
       "      <td>40224</td>\n",
       "      <td>160808</td>\n",
       "      <td>1</td>\n",
       "    </tr>\n",
       "    <tr>\n",
       "      <th>02002</th>\n",
       "      <td>94799</td>\n",
       "      <td>3703</td>\n",
       "      <td>38033</td>\n",
       "      <td>136535</td>\n",
       "      <td>2</td>\n",
       "    </tr>\n",
       "    <tr>\n",
       "      <th>02003</th>\n",
       "      <td>111137</td>\n",
       "      <td>4974</td>\n",
       "      <td>40042</td>\n",
       "      <td>156153</td>\n",
       "      <td>3</td>\n",
       "    </tr>\n",
       "    <tr>\n",
       "      <th>02004</th>\n",
       "      <td>117188</td>\n",
       "      <td>6758</td>\n",
       "      <td>49626</td>\n",
       "      <td>173572</td>\n",
       "      <td>4</td>\n",
       "    </tr>\n",
       "    <tr>\n",
       "      <th>02005</th>\n",
       "      <td>107804</td>\n",
       "      <td>4481</td>\n",
       "      <td>39007</td>\n",
       "      <td>151292</td>\n",
       "      <td>5</td>\n",
       "    </tr>\n",
       "  </tbody>\n",
       "</table>\n",
       "</div>"
      ],
      "text/plain": [
       "        Ocupado  Desocupado  Inactivo   Total  COMUNAS\n",
       "Código                                                \n",
       "02001    115106        5478     40224  160808        1\n",
       "02002     94799        3703     38033  136535        2\n",
       "02003    111137        4974     40042  156153        3\n",
       "02004    117188        6758     49626  173572        4\n",
       "02005    107804        4481     39007  151292        5"
      ]
     },
     "execution_count": 313,
     "metadata": {},
     "output_type": "execute_result"
    }
   ],
   "source": [
    "dfs_comuna[0].head()"
   ]
  },
  {
   "cell_type": "markdown",
   "metadata": {},
   "source": [
    "## Chequeos de consistencia"
   ]
  },
  {
   "cell_type": "markdown",
   "metadata": {},
   "source": [
    "La cantidad de radios, fracciones, comunas y Ciudades de Buenos Aires (1 sola), debe coincidir para todas las variables censales descargadas."
   ]
  },
  {
   "cell_type": "code",
   "execution_count": 314,
   "metadata": {
    "collapsed": false
   },
   "outputs": [
    {
     "name": "stdout",
     "output_type": "stream",
     "text": [
      "RADIO # de radios [3553, 3553, 3553, 3553, 3553, 3553, 3553, 3553, 3553, 3553, 3553, 3553, 3553]\n",
      "FRAC # de fracciones [351, 351, 351, 351, 351, 351, 351, 351, 351, 351, 351, 351, 351]\n",
      "DPTO # de comunas [15, 15, 15, 15, 15, 15, 15, 15, 15, 15, 15, 15, 15]\n",
      "PROV # de CABAs [1, 1, 1, 1, 1, 1, 1, 1, 1, 1, 1, 1, 1]\n"
     ]
    }
   ],
   "source": [
    "print \"RADIO # de radios\", [len(df_radio) for df_radio in dfs_radio]\n",
    "print \"FRAC # de fracciones\", [len(df_frac) for df_frac in dfs_frac]\n",
    "print \"DPTO # de comunas\", [len(df_comuna) for df_comuna in dfs_comuna]\n",
    "print \"PROV # de CABAs\", [len(df_caba) for df_caba in dfs_caba]"
   ]
  },
  {
   "cell_type": "markdown",
   "metadata": {},
   "source": [
    "La suma del total de cada variable censal debe coincidir en distintos niveles de agregación."
   ]
  },
  {
   "cell_type": "code",
   "execution_count": 315,
   "metadata": {
    "collapsed": false
   },
   "outputs": [
    {
     "name": "stdout",
     "output_type": "stream",
     "text": [
      "PERSONA.CONDACT    2390725.0 2390725.0 2390725.0 2390725.0 True\n",
      "VIVIENDA.V02       1423973.0 1423973.0 1423973.0 1423973.0 True\n",
      "PERSONA.EDADAGRU   2890151.0 2890151.0 2890151.0 2890151.0 True\n",
      "VIVIENDA.INCALCONS 1082998.0 1082998.0 1082998.0 1082998.0 True\n",
      "VIVIENDA.INCALSERV 1082998.0 1082998.0 1082998.0 1082998.0 True\n",
      "HOGAR.ALGUNBI      1150134.0 1150134.0 1150134.0 1150134.0 True\n",
      "HOGAR.INDHAC       1150134.0 1150134.0 1150134.0 1150134.0 True\n",
      "HOGAR.H19A         1150134.0 1150134.0 1150134.0 1150134.0 True\n",
      "HOGAR.H19B         1150134.0 1150134.0 1150134.0 1150134.0 True\n",
      "HOGAR.H19C         1150134.0 1150134.0 1150134.0 1150134.0 True\n",
      "HOGAR.H19D         1150134.0 1150134.0 1150134.0 1150134.0 True\n",
      "HOGAR.H05          1150134.0 1150134.0 1150134.0 1150134.0 True\n",
      "HOGAR.H12          1140209.0 1140209.0 1140209.0 1140209.0 True\n"
     ]
    }
   ],
   "source": [
    "for df_frac, df_radio, df_comuna, df_caba, variable in zip(dfs_frac, dfs_radio, dfs_comuna, dfs_caba, variables):\n",
    "    \n",
    "    total_frac = sum(df_frac[\"Total\"])\n",
    "    total_radio = sum(df_radio[\"Total\"])\n",
    "    total_comuna = sum(df_comuna[\"Total\"])\n",
    "    total_caba = sum(df_caba[\"Total\"])\n",
    "    \n",
    "    print variable.ljust(18), total_radio, total_frac, total_comuna, total_caba, \n",
    "    print total_radio == total_frac == total_comuna == total_caba"
   ]
  },
  {
   "cell_type": "markdown",
   "metadata": {},
   "source": [
    "## Creación de indicadores censales"
   ]
  },
  {
   "cell_type": "code",
   "execution_count": 316,
   "metadata": {
    "collapsed": false
   },
   "outputs": [],
   "source": [
    "indicators_radio = get_or_create_indicators_df(\"RADIO\", dfs_radio[0])\n",
    "indicators_frac = get_or_create_indicators_df(\"FRAC\", dfs_frac[0])\n",
    "indicators_comuna = get_or_create_indicators_df(\"DPTO\", dfs_comuna[0])\n",
    "indicators_caba = get_or_create_indicators_df(\"PROV\", dfs_caba[0])"
   ]
  },
  {
   "cell_type": "code",
   "execution_count": 317,
   "metadata": {
    "collapsed": false
   },
   "outputs": [
    {
     "data": {
      "text/html": [
       "<div>\n",
       "<table border=\"1\" class=\"dataframe\">\n",
       "  <thead>\n",
       "    <tr style=\"text-align: right;\">\n",
       "      <th></th>\n",
       "      <th>empleo</th>\n",
       "      <th>desocup</th>\n",
       "      <th>inact</th>\n",
       "      <th>ocup_viv</th>\n",
       "      <th>0_14</th>\n",
       "      <th>15_64</th>\n",
       "      <th>mas_65</th>\n",
       "      <th>hab</th>\n",
       "      <th>con_satisf</th>\n",
       "      <th>con_basica</th>\n",
       "      <th>...</th>\n",
       "      <th>COMERCIAL</th>\n",
       "      <th>INDUSTRIAL</th>\n",
       "      <th>SERVICIOS</th>\n",
       "      <th>OTROS</th>\n",
       "      <th>CO_FRAC_RA</th>\n",
       "      <th>educ_priv</th>\n",
       "      <th>educ_pub</th>\n",
       "      <th>hospitales</th>\n",
       "      <th>esp_verde</th>\n",
       "      <th>nse_alt</th>\n",
       "    </tr>\n",
       "    <tr>\n",
       "      <th>Código</th>\n",
       "      <th></th>\n",
       "      <th></th>\n",
       "      <th></th>\n",
       "      <th></th>\n",
       "      <th></th>\n",
       "      <th></th>\n",
       "      <th></th>\n",
       "      <th></th>\n",
       "      <th></th>\n",
       "      <th></th>\n",
       "      <th></th>\n",
       "      <th></th>\n",
       "      <th></th>\n",
       "      <th></th>\n",
       "      <th></th>\n",
       "      <th></th>\n",
       "      <th></th>\n",
       "      <th></th>\n",
       "      <th></th>\n",
       "      <th></th>\n",
       "      <th></th>\n",
       "    </tr>\n",
       "  </thead>\n",
       "  <tbody>\n",
       "    <tr>\n",
       "      <th>020010101</th>\n",
       "      <td>0.652778</td>\n",
       "      <td>0.035897</td>\n",
       "      <td>0.118056</td>\n",
       "      <td>0.703704</td>\n",
       "      <td>0.142857</td>\n",
       "      <td>0.824405</td>\n",
       "      <td>0.032738</td>\n",
       "      <td>336</td>\n",
       "      <td>0.447368</td>\n",
       "      <td>0.289474</td>\n",
       "      <td>...</td>\n",
       "      <td>0.600394</td>\n",
       "      <td>0</td>\n",
       "      <td>0.273966</td>\n",
       "      <td>0.12564</td>\n",
       "      <td>1_1_1</td>\n",
       "      <td>4</td>\n",
       "      <td>3</td>\n",
       "      <td>0</td>\n",
       "      <td>0.084804</td>\n",
       "      <td>5</td>\n",
       "    </tr>\n",
       "    <tr>\n",
       "      <th>020010201</th>\n",
       "      <td>0.680851</td>\n",
       "      <td>0.050847</td>\n",
       "      <td>0.300912</td>\n",
       "      <td>0.905405</td>\n",
       "      <td>0.311715</td>\n",
       "      <td>0.661088</td>\n",
       "      <td>0.027197</td>\n",
       "      <td>478</td>\n",
       "      <td>0.074627</td>\n",
       "      <td>0.492537</td>\n",
       "      <td>...</td>\n",
       "      <td>0.000000</td>\n",
       "      <td>0</td>\n",
       "      <td>1.000000</td>\n",
       "      <td>0.00000</td>\n",
       "      <td>1_2_1</td>\n",
       "      <td>0</td>\n",
       "      <td>0</td>\n",
       "      <td>0</td>\n",
       "      <td>0.117467</td>\n",
       "      <td>6</td>\n",
       "    </tr>\n",
       "    <tr>\n",
       "      <th>020010202</th>\n",
       "      <td>0.615094</td>\n",
       "      <td>0.084270</td>\n",
       "      <td>0.347170</td>\n",
       "      <td>0.950000</td>\n",
       "      <td>0.339152</td>\n",
       "      <td>0.648379</td>\n",
       "      <td>0.012469</td>\n",
       "      <td>401</td>\n",
       "      <td>0.087719</td>\n",
       "      <td>0.482456</td>\n",
       "      <td>...</td>\n",
       "      <td>NaN</td>\n",
       "      <td>NaN</td>\n",
       "      <td>NaN</td>\n",
       "      <td>NaN</td>\n",
       "      <td>1_2_2</td>\n",
       "      <td>0</td>\n",
       "      <td>0</td>\n",
       "      <td>0</td>\n",
       "      <td>0.000000</td>\n",
       "      <td>6</td>\n",
       "    </tr>\n",
       "    <tr>\n",
       "      <th>020010203</th>\n",
       "      <td>0.639485</td>\n",
       "      <td>0.102410</td>\n",
       "      <td>0.334764</td>\n",
       "      <td>0.942308</td>\n",
       "      <td>0.308605</td>\n",
       "      <td>0.673591</td>\n",
       "      <td>0.017804</td>\n",
       "      <td>337</td>\n",
       "      <td>0.081633</td>\n",
       "      <td>0.438776</td>\n",
       "      <td>...</td>\n",
       "      <td>NaN</td>\n",
       "      <td>NaN</td>\n",
       "      <td>NaN</td>\n",
       "      <td>NaN</td>\n",
       "      <td>1_2_3</td>\n",
       "      <td>0</td>\n",
       "      <td>0</td>\n",
       "      <td>0</td>\n",
       "      <td>0.000000</td>\n",
       "      <td>6</td>\n",
       "    </tr>\n",
       "    <tr>\n",
       "      <th>020010204</th>\n",
       "      <td>0.727500</td>\n",
       "      <td>0.058252</td>\n",
       "      <td>0.280000</td>\n",
       "      <td>0.924370</td>\n",
       "      <td>0.335548</td>\n",
       "      <td>0.649502</td>\n",
       "      <td>0.014950</td>\n",
       "      <td>602</td>\n",
       "      <td>0.118182</td>\n",
       "      <td>0.600000</td>\n",
       "      <td>...</td>\n",
       "      <td>0.000000</td>\n",
       "      <td>0</td>\n",
       "      <td>1.000000</td>\n",
       "      <td>0.00000</td>\n",
       "      <td>1_2_4</td>\n",
       "      <td>0</td>\n",
       "      <td>1</td>\n",
       "      <td>0</td>\n",
       "      <td>0.000000</td>\n",
       "      <td>6</td>\n",
       "    </tr>\n",
       "  </tbody>\n",
       "</table>\n",
       "<p>5 rows × 36 columns</p>\n",
       "</div>"
      ],
      "text/plain": [
       "             empleo   desocup     inact  ocup_viv      0_14     15_64  \\\n",
       "Código                                                                  \n",
       "020010101  0.652778  0.035897  0.118056  0.703704  0.142857  0.824405   \n",
       "020010201  0.680851  0.050847  0.300912  0.905405  0.311715  0.661088   \n",
       "020010202  0.615094  0.084270  0.347170  0.950000  0.339152  0.648379   \n",
       "020010203  0.639485  0.102410  0.334764  0.942308  0.308605  0.673591   \n",
       "020010204  0.727500  0.058252  0.280000  0.924370  0.335548  0.649502   \n",
       "\n",
       "             mas_65  hab  con_satisf  con_basica   ...     COMERCIAL  \\\n",
       "Código                                             ...                 \n",
       "020010101  0.032738  336    0.447368    0.289474   ...      0.600394   \n",
       "020010201  0.027197  478    0.074627    0.492537   ...      0.000000   \n",
       "020010202  0.012469  401    0.087719    0.482456   ...           NaN   \n",
       "020010203  0.017804  337    0.081633    0.438776   ...           NaN   \n",
       "020010204  0.014950  602    0.118182    0.600000   ...      0.000000   \n",
       "\n",
       "           INDUSTRIAL  SERVICIOS    OTROS  CO_FRAC_RA  educ_priv  educ_pub  \\\n",
       "Código                                                                       \n",
       "020010101           0   0.273966  0.12564       1_1_1          4         3   \n",
       "020010201           0   1.000000  0.00000       1_2_1          0         0   \n",
       "020010202         NaN        NaN      NaN       1_2_2          0         0   \n",
       "020010203         NaN        NaN      NaN       1_2_3          0         0   \n",
       "020010204           0   1.000000  0.00000       1_2_4          0         1   \n",
       "\n",
       "           hospitales  esp_verde  nse_alt  \n",
       "Código                                     \n",
       "020010101           0   0.084804        5  \n",
       "020010201           0   0.117467        6  \n",
       "020010202           0   0.000000        6  \n",
       "020010203           0   0.000000        6  \n",
       "020010204           0   0.000000        6  \n",
       "\n",
       "[5 rows x 36 columns]"
      ]
     },
     "execution_count": 317,
     "metadata": {},
     "output_type": "execute_result"
    }
   ],
   "source": [
    "indicators_radio.head()"
   ]
  },
  {
   "cell_type": "code",
   "execution_count": 318,
   "metadata": {
    "collapsed": false
   },
   "outputs": [
    {
     "data": {
      "text/html": [
       "<div>\n",
       "<table border=\"1\" class=\"dataframe\">\n",
       "  <thead>\n",
       "    <tr style=\"text-align: right;\">\n",
       "      <th></th>\n",
       "      <th>empleo</th>\n",
       "      <th>desocup</th>\n",
       "      <th>inact</th>\n",
       "      <th>ocup_viv</th>\n",
       "      <th>0_14</th>\n",
       "      <th>15_64</th>\n",
       "      <th>mas_65</th>\n",
       "      <th>hab</th>\n",
       "      <th>con_satisf</th>\n",
       "      <th>con_basica</th>\n",
       "      <th>con_insuf</th>\n",
       "      <th>serv_satisf</th>\n",
       "      <th>serv_basica</th>\n",
       "      <th>serv_insuf</th>\n",
       "      <th>nbi</th>\n",
       "      <th>hac-149</th>\n",
       "      <th>hac+150</th>\n",
       "      <th>terr_14</th>\n",
       "      <th>CO_FRACC</th>\n",
       "    </tr>\n",
       "    <tr>\n",
       "      <th>Código</th>\n",
       "      <th></th>\n",
       "      <th></th>\n",
       "      <th></th>\n",
       "      <th></th>\n",
       "      <th></th>\n",
       "      <th></th>\n",
       "      <th></th>\n",
       "      <th></th>\n",
       "      <th></th>\n",
       "      <th></th>\n",
       "      <th></th>\n",
       "      <th></th>\n",
       "      <th></th>\n",
       "      <th></th>\n",
       "      <th></th>\n",
       "      <th></th>\n",
       "      <th></th>\n",
       "      <th></th>\n",
       "      <th></th>\n",
       "    </tr>\n",
       "  </thead>\n",
       "  <tbody>\n",
       "    <tr>\n",
       "      <th>0200101</th>\n",
       "      <td>0.652778</td>\n",
       "      <td>0.035897</td>\n",
       "      <td>0.118056</td>\n",
       "      <td>0.703704</td>\n",
       "      <td>0.142857</td>\n",
       "      <td>0.824405</td>\n",
       "      <td>0.032738</td>\n",
       "      <td>336</td>\n",
       "      <td>0.447368</td>\n",
       "      <td>0.289474</td>\n",
       "      <td>0.263158</td>\n",
       "      <td>0.894737</td>\n",
       "      <td>0.026316</td>\n",
       "      <td>0.078947</td>\n",
       "      <td>0.292308</td>\n",
       "      <td>0.661538</td>\n",
       "      <td>0.338462</td>\n",
       "      <td>NaN</td>\n",
       "      <td>001_1</td>\n",
       "    </tr>\n",
       "    <tr>\n",
       "      <th>0200102</th>\n",
       "      <td>0.694599</td>\n",
       "      <td>0.072142</td>\n",
       "      <td>0.272439</td>\n",
       "      <td>0.953185</td>\n",
       "      <td>0.298408</td>\n",
       "      <td>0.686116</td>\n",
       "      <td>0.015476</td>\n",
       "      <td>11243</td>\n",
       "      <td>0.118538</td>\n",
       "      <td>0.477843</td>\n",
       "      <td>0.403619</td>\n",
       "      <td>0.884417</td>\n",
       "      <td>0.027326</td>\n",
       "      <td>0.088257</td>\n",
       "      <td>0.290628</td>\n",
       "      <td>0.436078</td>\n",
       "      <td>0.563922</td>\n",
       "      <td>NaN</td>\n",
       "      <td>001_2</td>\n",
       "    </tr>\n",
       "    <tr>\n",
       "      <th>0200103</th>\n",
       "      <td>0.728815</td>\n",
       "      <td>0.066722</td>\n",
       "      <td>0.239014</td>\n",
       "      <td>0.929540</td>\n",
       "      <td>0.321379</td>\n",
       "      <td>0.669561</td>\n",
       "      <td>0.009060</td>\n",
       "      <td>15894</td>\n",
       "      <td>0.066384</td>\n",
       "      <td>0.305085</td>\n",
       "      <td>0.628531</td>\n",
       "      <td>0.776836</td>\n",
       "      <td>0.050847</td>\n",
       "      <td>0.172316</td>\n",
       "      <td>0.348619</td>\n",
       "      <td>0.346892</td>\n",
       "      <td>0.653108</td>\n",
       "      <td>NaN</td>\n",
       "      <td>001_3</td>\n",
       "    </tr>\n",
       "    <tr>\n",
       "      <th>0200104</th>\n",
       "      <td>0.667888</td>\n",
       "      <td>0.033735</td>\n",
       "      <td>0.293582</td>\n",
       "      <td>0.588288</td>\n",
       "      <td>0.131198</td>\n",
       "      <td>0.650685</td>\n",
       "      <td>0.218117</td>\n",
       "      <td>10366</td>\n",
       "      <td>0.935988</td>\n",
       "      <td>0.054824</td>\n",
       "      <td>0.009188</td>\n",
       "      <td>0.993874</td>\n",
       "      <td>0.001531</td>\n",
       "      <td>0.004594</td>\n",
       "      <td>0.024396</td>\n",
       "      <td>0.903126</td>\n",
       "      <td>0.096874</td>\n",
       "      <td>NaN</td>\n",
       "      <td>001_4</td>\n",
       "    </tr>\n",
       "    <tr>\n",
       "      <th>0200105</th>\n",
       "      <td>0.632911</td>\n",
       "      <td>0.040000</td>\n",
       "      <td>0.286498</td>\n",
       "      <td>0.592682</td>\n",
       "      <td>0.124492</td>\n",
       "      <td>0.657739</td>\n",
       "      <td>0.217769</td>\n",
       "      <td>5414</td>\n",
       "      <td>0.926010</td>\n",
       "      <td>0.067181</td>\n",
       "      <td>0.006809</td>\n",
       "      <td>0.998184</td>\n",
       "      <td>0.000454</td>\n",
       "      <td>0.001362</td>\n",
       "      <td>0.006170</td>\n",
       "      <td>0.919788</td>\n",
       "      <td>0.080212</td>\n",
       "      <td>NaN</td>\n",
       "      <td>001_5</td>\n",
       "    </tr>\n",
       "  </tbody>\n",
       "</table>\n",
       "</div>"
      ],
      "text/plain": [
       "           empleo   desocup     inact  ocup_viv      0_14     15_64    mas_65  \\\n",
       "Código                                                                          \n",
       "0200101  0.652778  0.035897  0.118056  0.703704  0.142857  0.824405  0.032738   \n",
       "0200102  0.694599  0.072142  0.272439  0.953185  0.298408  0.686116  0.015476   \n",
       "0200103  0.728815  0.066722  0.239014  0.929540  0.321379  0.669561  0.009060   \n",
       "0200104  0.667888  0.033735  0.293582  0.588288  0.131198  0.650685  0.218117   \n",
       "0200105  0.632911  0.040000  0.286498  0.592682  0.124492  0.657739  0.217769   \n",
       "\n",
       "           hab  con_satisf  con_basica  con_insuf  serv_satisf  serv_basica  \\\n",
       "Código                                                                        \n",
       "0200101    336    0.447368    0.289474   0.263158     0.894737     0.026316   \n",
       "0200102  11243    0.118538    0.477843   0.403619     0.884417     0.027326   \n",
       "0200103  15894    0.066384    0.305085   0.628531     0.776836     0.050847   \n",
       "0200104  10366    0.935988    0.054824   0.009188     0.993874     0.001531   \n",
       "0200105   5414    0.926010    0.067181   0.006809     0.998184     0.000454   \n",
       "\n",
       "         serv_insuf       nbi   hac-149   hac+150  terr_14 CO_FRACC  \n",
       "Código                                                               \n",
       "0200101    0.078947  0.292308  0.661538  0.338462      NaN    001_1  \n",
       "0200102    0.088257  0.290628  0.436078  0.563922      NaN    001_2  \n",
       "0200103    0.172316  0.348619  0.346892  0.653108      NaN    001_3  \n",
       "0200104    0.004594  0.024396  0.903126  0.096874      NaN    001_4  \n",
       "0200105    0.001362  0.006170  0.919788  0.080212      NaN    001_5  "
      ]
     },
     "execution_count": 318,
     "metadata": {},
     "output_type": "execute_result"
    }
   ],
   "source": [
    "indicators_frac.head()"
   ]
  },
  {
   "cell_type": "code",
   "execution_count": 319,
   "metadata": {
    "collapsed": false
   },
   "outputs": [],
   "source": [
    "def calculate_indicators_CONDACT(df_indicators, df_condact, df_edadgru):\n",
    "    pobl_14_mas = df_edadgru[\"Total\"] - df_edadgru[\"0 - 14\"]\n",
    "    pea = df_condact[\"Ocupado\"] + df_condact[\"Desocupado\"]\n",
    "    df_indicators[\"empleo\"] = df_condact[\"Ocupado\"] / pobl_14_mas\n",
    "    df_indicators[\"desocup\"] = df_condact[\"Desocupado\"] / pea\n",
    "    df_indicators[\"inact\"] = df_condact[\"Inactivo\"] / pobl_14_mas\n",
    "\n",
    "def calculate_indicators_V02(df_indicators, df):\n",
    "    df_indicators[\"ocup_viv\"] = df[\"Con personas presentes\"] / df[\"Total\"]\n",
    "\n",
    "def calculate_indicators_EDADGRU(df_indicators, df):\n",
    "    df_indicators[\"0_14\"] = df[\"0 - 14\"] / df[\"Total\"]\n",
    "    df_indicators[\"15_64\"] = df[\"15 - 64\"] / df[\"Total\"]\n",
    "    df_indicators[\"mas_65\"] = df[\"65 y más\".decode(\"utf-8\")] / df[\"Total\"]\n",
    "    df_indicators[\"hab\"] = df[\"Total\"]\n",
    "\n",
    "def calculate_indicators_INCALCONS(df_indicators, df):\n",
    "    df_indicators[\"con_satisf\"] = df[\"Satisfactoria\"] / df[\"Total\"]\n",
    "    df_indicators[\"con_basica\"] = df[\"Básica\".decode(\"utf-8\")] / df[\"Total\"]\n",
    "    df_indicators[\"con_insuf\"] = df[\"Insuficiente\"] / df[\"Total\"]\n",
    "\n",
    "def calculate_indicators_INCALSERV(df_indicators, df):\n",
    "    df_indicators[\"serv_satisf\"] = df[\"Satisfactoria\"] / df[\"Total\"]\n",
    "    df_indicators[\"serv_basica\"] = df[\"Básica\".decode(\"utf-8\")] / df[\"Total\"]\n",
    "    df_indicators[\"serv_insuf\"] = df[\"Insuficiente\"] / df[\"Total\"]\n",
    "\n",
    "def calculate_indicators_ALGUNBI(df_indicators, df):\n",
    "    df_indicators[\"nbi\"] = df[\"Hogares con NBI\"] / df[\"Total\"]\n",
    "\n",
    "def calculate_indicators_INDHAC(df_indicators, df):\n",
    "    df_indicators[\"hac-149\"] = sum((df[\"Hasta   0.50 personas por cuarto\"],\n",
    "                                                df[\"0.51  -  0.99  personas por cuarto\"],\n",
    "                                                df[\"1.00  -  1.49  personas por cuarto\"])) / df[\"Total\"]\n",
    "    \n",
    "    df_indicators[\"hac+150\"] = sum((df[\"1.50  -  1.99  personas por cuarto\"],\n",
    "                                                df[\"2.00  -  3.00  personas por cuarto\"],\n",
    "                                                df[\"Más de  3.00 personas por cuarto\".decode(\"utf-8\")])) / df[\"Total\"]"
   ]
  },
  {
   "cell_type": "code",
   "execution_count": 320,
   "metadata": {
    "collapsed": false
   },
   "outputs": [],
   "source": [
    "def calculate_indicators(dfs, df_indicators):\n",
    "    calculate_indicators_CONDACT(df_indicators, dfs[0], dfs[2])\n",
    "    calculate_indicators_V02(df_indicators, dfs[1])\n",
    "    calculate_indicators_EDADGRU(df_indicators, dfs[2])\n",
    "    calculate_indicators_INCALCONS(df_indicators, dfs[3])\n",
    "    calculate_indicators_INCALSERV(df_indicators, dfs[4])\n",
    "    calculate_indicators_ALGUNBI(df_indicators, dfs[5])\n",
    "    calculate_indicators_INDHAC(df_indicators, dfs[6])\n",
    "\n",
    "calculate_indicators(dfs_radio, indicators_radio)\n",
    "calculate_indicators(dfs_frac, indicators_frac)\n",
    "calculate_indicators(dfs_comuna, indicators_comuna)\n",
    "calculate_indicators(dfs_caba, indicators_caba)"
   ]
  },
  {
   "cell_type": "code",
   "execution_count": 321,
   "metadata": {
    "collapsed": false
   },
   "outputs": [
    {
     "data": {
      "text/html": [
       "<div>\n",
       "<table border=\"1\" class=\"dataframe\">\n",
       "  <thead>\n",
       "    <tr style=\"text-align: right;\">\n",
       "      <th></th>\n",
       "      <th>empleo</th>\n",
       "      <th>desocup</th>\n",
       "      <th>inact</th>\n",
       "      <th>ocup_viv</th>\n",
       "      <th>0_14</th>\n",
       "      <th>15_64</th>\n",
       "      <th>mas_65</th>\n",
       "      <th>hab</th>\n",
       "      <th>con_satisf</th>\n",
       "      <th>con_basica</th>\n",
       "      <th>con_insuf</th>\n",
       "      <th>serv_satisf</th>\n",
       "      <th>serv_basica</th>\n",
       "      <th>serv_insuf</th>\n",
       "      <th>nbi</th>\n",
       "      <th>hac-149</th>\n",
       "      <th>hac+150</th>\n",
       "      <th>terr_14</th>\n",
       "      <th>CO_FRACC</th>\n",
       "    </tr>\n",
       "    <tr>\n",
       "      <th>Código</th>\n",
       "      <th></th>\n",
       "      <th></th>\n",
       "      <th></th>\n",
       "      <th></th>\n",
       "      <th></th>\n",
       "      <th></th>\n",
       "      <th></th>\n",
       "      <th></th>\n",
       "      <th></th>\n",
       "      <th></th>\n",
       "      <th></th>\n",
       "      <th></th>\n",
       "      <th></th>\n",
       "      <th></th>\n",
       "      <th></th>\n",
       "      <th></th>\n",
       "      <th></th>\n",
       "      <th></th>\n",
       "      <th></th>\n",
       "    </tr>\n",
       "  </thead>\n",
       "  <tbody>\n",
       "    <tr>\n",
       "      <th>0200101</th>\n",
       "      <td>0.652778</td>\n",
       "      <td>0.035897</td>\n",
       "      <td>0.118056</td>\n",
       "      <td>0.703704</td>\n",
       "      <td>0.142857</td>\n",
       "      <td>0.824405</td>\n",
       "      <td>0.032738</td>\n",
       "      <td>336</td>\n",
       "      <td>0.447368</td>\n",
       "      <td>0.289474</td>\n",
       "      <td>0.263158</td>\n",
       "      <td>0.894737</td>\n",
       "      <td>0.026316</td>\n",
       "      <td>0.078947</td>\n",
       "      <td>0.292308</td>\n",
       "      <td>0.661538</td>\n",
       "      <td>0.338462</td>\n",
       "      <td>NaN</td>\n",
       "      <td>001_1</td>\n",
       "    </tr>\n",
       "    <tr>\n",
       "      <th>0200102</th>\n",
       "      <td>0.694599</td>\n",
       "      <td>0.072142</td>\n",
       "      <td>0.272439</td>\n",
       "      <td>0.953185</td>\n",
       "      <td>0.298408</td>\n",
       "      <td>0.686116</td>\n",
       "      <td>0.015476</td>\n",
       "      <td>11243</td>\n",
       "      <td>0.118538</td>\n",
       "      <td>0.477843</td>\n",
       "      <td>0.403619</td>\n",
       "      <td>0.884417</td>\n",
       "      <td>0.027326</td>\n",
       "      <td>0.088257</td>\n",
       "      <td>0.290628</td>\n",
       "      <td>0.436078</td>\n",
       "      <td>0.563922</td>\n",
       "      <td>NaN</td>\n",
       "      <td>001_2</td>\n",
       "    </tr>\n",
       "    <tr>\n",
       "      <th>0200103</th>\n",
       "      <td>0.728815</td>\n",
       "      <td>0.066722</td>\n",
       "      <td>0.239014</td>\n",
       "      <td>0.929540</td>\n",
       "      <td>0.321379</td>\n",
       "      <td>0.669561</td>\n",
       "      <td>0.009060</td>\n",
       "      <td>15894</td>\n",
       "      <td>0.066384</td>\n",
       "      <td>0.305085</td>\n",
       "      <td>0.628531</td>\n",
       "      <td>0.776836</td>\n",
       "      <td>0.050847</td>\n",
       "      <td>0.172316</td>\n",
       "      <td>0.348619</td>\n",
       "      <td>0.346892</td>\n",
       "      <td>0.653108</td>\n",
       "      <td>NaN</td>\n",
       "      <td>001_3</td>\n",
       "    </tr>\n",
       "    <tr>\n",
       "      <th>0200104</th>\n",
       "      <td>0.667888</td>\n",
       "      <td>0.033735</td>\n",
       "      <td>0.293582</td>\n",
       "      <td>0.588288</td>\n",
       "      <td>0.131198</td>\n",
       "      <td>0.650685</td>\n",
       "      <td>0.218117</td>\n",
       "      <td>10366</td>\n",
       "      <td>0.935988</td>\n",
       "      <td>0.054824</td>\n",
       "      <td>0.009188</td>\n",
       "      <td>0.993874</td>\n",
       "      <td>0.001531</td>\n",
       "      <td>0.004594</td>\n",
       "      <td>0.024396</td>\n",
       "      <td>0.903126</td>\n",
       "      <td>0.096874</td>\n",
       "      <td>NaN</td>\n",
       "      <td>001_4</td>\n",
       "    </tr>\n",
       "    <tr>\n",
       "      <th>0200105</th>\n",
       "      <td>0.632911</td>\n",
       "      <td>0.040000</td>\n",
       "      <td>0.286498</td>\n",
       "      <td>0.592682</td>\n",
       "      <td>0.124492</td>\n",
       "      <td>0.657739</td>\n",
       "      <td>0.217769</td>\n",
       "      <td>5414</td>\n",
       "      <td>0.926010</td>\n",
       "      <td>0.067181</td>\n",
       "      <td>0.006809</td>\n",
       "      <td>0.998184</td>\n",
       "      <td>0.000454</td>\n",
       "      <td>0.001362</td>\n",
       "      <td>0.006170</td>\n",
       "      <td>0.919788</td>\n",
       "      <td>0.080212</td>\n",
       "      <td>NaN</td>\n",
       "      <td>001_5</td>\n",
       "    </tr>\n",
       "  </tbody>\n",
       "</table>\n",
       "</div>"
      ],
      "text/plain": [
       "           empleo   desocup     inact  ocup_viv      0_14     15_64    mas_65  \\\n",
       "Código                                                                          \n",
       "0200101  0.652778  0.035897  0.118056  0.703704  0.142857  0.824405  0.032738   \n",
       "0200102  0.694599  0.072142  0.272439  0.953185  0.298408  0.686116  0.015476   \n",
       "0200103  0.728815  0.066722  0.239014  0.929540  0.321379  0.669561  0.009060   \n",
       "0200104  0.667888  0.033735  0.293582  0.588288  0.131198  0.650685  0.218117   \n",
       "0200105  0.632911  0.040000  0.286498  0.592682  0.124492  0.657739  0.217769   \n",
       "\n",
       "           hab  con_satisf  con_basica  con_insuf  serv_satisf  serv_basica  \\\n",
       "Código                                                                        \n",
       "0200101    336    0.447368    0.289474   0.263158     0.894737     0.026316   \n",
       "0200102  11243    0.118538    0.477843   0.403619     0.884417     0.027326   \n",
       "0200103  15894    0.066384    0.305085   0.628531     0.776836     0.050847   \n",
       "0200104  10366    0.935988    0.054824   0.009188     0.993874     0.001531   \n",
       "0200105   5414    0.926010    0.067181   0.006809     0.998184     0.000454   \n",
       "\n",
       "         serv_insuf       nbi   hac-149   hac+150  terr_14 CO_FRACC  \n",
       "Código                                                               \n",
       "0200101    0.078947  0.292308  0.661538  0.338462      NaN    001_1  \n",
       "0200102    0.088257  0.290628  0.436078  0.563922      NaN    001_2  \n",
       "0200103    0.172316  0.348619  0.346892  0.653108      NaN    001_3  \n",
       "0200104    0.004594  0.024396  0.903126  0.096874      NaN    001_4  \n",
       "0200105    0.001362  0.006170  0.919788  0.080212      NaN    001_5  "
      ]
     },
     "execution_count": 321,
     "metadata": {},
     "output_type": "execute_result"
    }
   ],
   "source": [
    "indicators_frac.head()"
   ]
  },
  {
   "cell_type": "code",
   "execution_count": 322,
   "metadata": {
    "collapsed": false
   },
   "outputs": [
    {
     "data": {
      "text/html": [
       "<div>\n",
       "<table border=\"1\" class=\"dataframe\">\n",
       "  <thead>\n",
       "    <tr style=\"text-align: right;\">\n",
       "      <th></th>\n",
       "      <th>empleo</th>\n",
       "      <th>desocup</th>\n",
       "      <th>inact</th>\n",
       "      <th>ocup_viv</th>\n",
       "      <th>0_14</th>\n",
       "      <th>15_64</th>\n",
       "      <th>mas_65</th>\n",
       "      <th>hab</th>\n",
       "      <th>con_satisf</th>\n",
       "      <th>con_basica</th>\n",
       "      <th>...</th>\n",
       "      <th>COMERCIAL</th>\n",
       "      <th>INDUSTRIAL</th>\n",
       "      <th>SERVICIOS</th>\n",
       "      <th>OTROS</th>\n",
       "      <th>CO_FRAC_RA</th>\n",
       "      <th>educ_priv</th>\n",
       "      <th>educ_pub</th>\n",
       "      <th>hospitales</th>\n",
       "      <th>esp_verde</th>\n",
       "      <th>nse_alt</th>\n",
       "    </tr>\n",
       "    <tr>\n",
       "      <th>Código</th>\n",
       "      <th></th>\n",
       "      <th></th>\n",
       "      <th></th>\n",
       "      <th></th>\n",
       "      <th></th>\n",
       "      <th></th>\n",
       "      <th></th>\n",
       "      <th></th>\n",
       "      <th></th>\n",
       "      <th></th>\n",
       "      <th></th>\n",
       "      <th></th>\n",
       "      <th></th>\n",
       "      <th></th>\n",
       "      <th></th>\n",
       "      <th></th>\n",
       "      <th></th>\n",
       "      <th></th>\n",
       "      <th></th>\n",
       "      <th></th>\n",
       "      <th></th>\n",
       "    </tr>\n",
       "  </thead>\n",
       "  <tbody>\n",
       "    <tr>\n",
       "      <th>020010101</th>\n",
       "      <td>0.652778</td>\n",
       "      <td>0.035897</td>\n",
       "      <td>0.118056</td>\n",
       "      <td>0.703704</td>\n",
       "      <td>0.142857</td>\n",
       "      <td>0.824405</td>\n",
       "      <td>0.032738</td>\n",
       "      <td>336</td>\n",
       "      <td>0.447368</td>\n",
       "      <td>0.289474</td>\n",
       "      <td>...</td>\n",
       "      <td>0.600394</td>\n",
       "      <td>0</td>\n",
       "      <td>0.273966</td>\n",
       "      <td>0.12564</td>\n",
       "      <td>1_1_1</td>\n",
       "      <td>4</td>\n",
       "      <td>3</td>\n",
       "      <td>0</td>\n",
       "      <td>0.084804</td>\n",
       "      <td>5</td>\n",
       "    </tr>\n",
       "    <tr>\n",
       "      <th>020010201</th>\n",
       "      <td>0.680851</td>\n",
       "      <td>0.050847</td>\n",
       "      <td>0.300912</td>\n",
       "      <td>0.905405</td>\n",
       "      <td>0.311715</td>\n",
       "      <td>0.661088</td>\n",
       "      <td>0.027197</td>\n",
       "      <td>478</td>\n",
       "      <td>0.074627</td>\n",
       "      <td>0.492537</td>\n",
       "      <td>...</td>\n",
       "      <td>0.000000</td>\n",
       "      <td>0</td>\n",
       "      <td>1.000000</td>\n",
       "      <td>0.00000</td>\n",
       "      <td>1_2_1</td>\n",
       "      <td>0</td>\n",
       "      <td>0</td>\n",
       "      <td>0</td>\n",
       "      <td>0.117467</td>\n",
       "      <td>6</td>\n",
       "    </tr>\n",
       "    <tr>\n",
       "      <th>020010202</th>\n",
       "      <td>0.615094</td>\n",
       "      <td>0.084270</td>\n",
       "      <td>0.347170</td>\n",
       "      <td>0.950000</td>\n",
       "      <td>0.339152</td>\n",
       "      <td>0.648379</td>\n",
       "      <td>0.012469</td>\n",
       "      <td>401</td>\n",
       "      <td>0.087719</td>\n",
       "      <td>0.482456</td>\n",
       "      <td>...</td>\n",
       "      <td>NaN</td>\n",
       "      <td>NaN</td>\n",
       "      <td>NaN</td>\n",
       "      <td>NaN</td>\n",
       "      <td>1_2_2</td>\n",
       "      <td>0</td>\n",
       "      <td>0</td>\n",
       "      <td>0</td>\n",
       "      <td>0.000000</td>\n",
       "      <td>6</td>\n",
       "    </tr>\n",
       "    <tr>\n",
       "      <th>020010203</th>\n",
       "      <td>0.639485</td>\n",
       "      <td>0.102410</td>\n",
       "      <td>0.334764</td>\n",
       "      <td>0.942308</td>\n",
       "      <td>0.308605</td>\n",
       "      <td>0.673591</td>\n",
       "      <td>0.017804</td>\n",
       "      <td>337</td>\n",
       "      <td>0.081633</td>\n",
       "      <td>0.438776</td>\n",
       "      <td>...</td>\n",
       "      <td>NaN</td>\n",
       "      <td>NaN</td>\n",
       "      <td>NaN</td>\n",
       "      <td>NaN</td>\n",
       "      <td>1_2_3</td>\n",
       "      <td>0</td>\n",
       "      <td>0</td>\n",
       "      <td>0</td>\n",
       "      <td>0.000000</td>\n",
       "      <td>6</td>\n",
       "    </tr>\n",
       "    <tr>\n",
       "      <th>020010204</th>\n",
       "      <td>0.727500</td>\n",
       "      <td>0.058252</td>\n",
       "      <td>0.280000</td>\n",
       "      <td>0.924370</td>\n",
       "      <td>0.335548</td>\n",
       "      <td>0.649502</td>\n",
       "      <td>0.014950</td>\n",
       "      <td>602</td>\n",
       "      <td>0.118182</td>\n",
       "      <td>0.600000</td>\n",
       "      <td>...</td>\n",
       "      <td>0.000000</td>\n",
       "      <td>0</td>\n",
       "      <td>1.000000</td>\n",
       "      <td>0.00000</td>\n",
       "      <td>1_2_4</td>\n",
       "      <td>0</td>\n",
       "      <td>1</td>\n",
       "      <td>0</td>\n",
       "      <td>0.000000</td>\n",
       "      <td>6</td>\n",
       "    </tr>\n",
       "  </tbody>\n",
       "</table>\n",
       "<p>5 rows × 36 columns</p>\n",
       "</div>"
      ],
      "text/plain": [
       "             empleo   desocup     inact  ocup_viv      0_14     15_64  \\\n",
       "Código                                                                  \n",
       "020010101  0.652778  0.035897  0.118056  0.703704  0.142857  0.824405   \n",
       "020010201  0.680851  0.050847  0.300912  0.905405  0.311715  0.661088   \n",
       "020010202  0.615094  0.084270  0.347170  0.950000  0.339152  0.648379   \n",
       "020010203  0.639485  0.102410  0.334764  0.942308  0.308605  0.673591   \n",
       "020010204  0.727500  0.058252  0.280000  0.924370  0.335548  0.649502   \n",
       "\n",
       "             mas_65  hab  con_satisf  con_basica   ...     COMERCIAL  \\\n",
       "Código                                             ...                 \n",
       "020010101  0.032738  336    0.447368    0.289474   ...      0.600394   \n",
       "020010201  0.027197  478    0.074627    0.492537   ...      0.000000   \n",
       "020010202  0.012469  401    0.087719    0.482456   ...           NaN   \n",
       "020010203  0.017804  337    0.081633    0.438776   ...           NaN   \n",
       "020010204  0.014950  602    0.118182    0.600000   ...      0.000000   \n",
       "\n",
       "           INDUSTRIAL  SERVICIOS    OTROS  CO_FRAC_RA  educ_priv  educ_pub  \\\n",
       "Código                                                                       \n",
       "020010101           0   0.273966  0.12564       1_1_1          4         3   \n",
       "020010201           0   1.000000  0.00000       1_2_1          0         0   \n",
       "020010202         NaN        NaN      NaN       1_2_2          0         0   \n",
       "020010203         NaN        NaN      NaN       1_2_3          0         0   \n",
       "020010204           0   1.000000  0.00000       1_2_4          0         1   \n",
       "\n",
       "           hospitales  esp_verde  nse_alt  \n",
       "Código                                     \n",
       "020010101           0   0.084804        5  \n",
       "020010201           0   0.117467        6  \n",
       "020010202           0   0.000000        6  \n",
       "020010203           0   0.000000        6  \n",
       "020010204           0   0.000000        6  \n",
       "\n",
       "[5 rows x 36 columns]"
      ]
     },
     "execution_count": 322,
     "metadata": {},
     "output_type": "execute_result"
    }
   ],
   "source": [
    "indicators_radio.head()"
   ]
  },
  {
   "cell_type": "code",
   "execution_count": 323,
   "metadata": {
    "collapsed": false
   },
   "outputs": [
    {
     "data": {
      "text/html": [
       "<div>\n",
       "<table border=\"1\" class=\"dataframe\">\n",
       "  <thead>\n",
       "    <tr style=\"text-align: right;\">\n",
       "      <th></th>\n",
       "      <th>COMUNAS</th>\n",
       "      <th>empleo</th>\n",
       "      <th>desocup</th>\n",
       "      <th>inact</th>\n",
       "      <th>ocup_viv</th>\n",
       "      <th>0_14</th>\n",
       "      <th>15_64</th>\n",
       "      <th>mas_65</th>\n",
       "      <th>hab</th>\n",
       "      <th>con_satisf</th>\n",
       "      <th>con_basica</th>\n",
       "      <th>con_insuf</th>\n",
       "      <th>serv_satisf</th>\n",
       "      <th>serv_basica</th>\n",
       "      <th>serv_insuf</th>\n",
       "      <th>nbi</th>\n",
       "      <th>hac-149</th>\n",
       "      <th>hac+150</th>\n",
       "    </tr>\n",
       "    <tr>\n",
       "      <th>Código</th>\n",
       "      <th></th>\n",
       "      <th></th>\n",
       "      <th></th>\n",
       "      <th></th>\n",
       "      <th></th>\n",
       "      <th></th>\n",
       "      <th></th>\n",
       "      <th></th>\n",
       "      <th></th>\n",
       "      <th></th>\n",
       "      <th></th>\n",
       "      <th></th>\n",
       "      <th></th>\n",
       "      <th></th>\n",
       "      <th></th>\n",
       "      <th></th>\n",
       "      <th></th>\n",
       "      <th></th>\n",
       "    </tr>\n",
       "  </thead>\n",
       "  <tbody>\n",
       "    <tr>\n",
       "      <th>02001</th>\n",
       "      <td>1</td>\n",
       "      <td>0.660940</td>\n",
       "      <td>0.045429</td>\n",
       "      <td>0.230967</td>\n",
       "      <td>0.599215</td>\n",
       "      <td>0.154119</td>\n",
       "      <td>0.704424</td>\n",
       "      <td>0.141457</td>\n",
       "      <td>205886</td>\n",
       "      <td>0.754696</td>\n",
       "      <td>0.135260</td>\n",
       "      <td>0.110043</td>\n",
       "      <td>0.949451</td>\n",
       "      <td>0.007300</td>\n",
       "      <td>0.043249</td>\n",
       "      <td>0.158983</td>\n",
       "      <td>0.762265</td>\n",
       "      <td>0.237735</td>\n",
       "    </tr>\n",
       "    <tr>\n",
       "      <th>02002</th>\n",
       "      <td>2</td>\n",
       "      <td>0.674582</td>\n",
       "      <td>0.037593</td>\n",
       "      <td>0.270640</td>\n",
       "      <td>0.656395</td>\n",
       "      <td>0.110187</td>\n",
       "      <td>0.691848</td>\n",
       "      <td>0.197965</td>\n",
       "      <td>157932</td>\n",
       "      <td>0.918893</td>\n",
       "      <td>0.070327</td>\n",
       "      <td>0.010780</td>\n",
       "      <td>0.991731</td>\n",
       "      <td>0.001467</td>\n",
       "      <td>0.006801</td>\n",
       "      <td>0.020463</td>\n",
       "      <td>0.913787</td>\n",
       "      <td>0.086213</td>\n",
       "    </tr>\n",
       "    <tr>\n",
       "      <th>02003</th>\n",
       "      <td>3</td>\n",
       "      <td>0.697068</td>\n",
       "      <td>0.042838</td>\n",
       "      <td>0.251149</td>\n",
       "      <td>0.747373</td>\n",
       "      <td>0.149848</td>\n",
       "      <td>0.690034</td>\n",
       "      <td>0.160118</td>\n",
       "      <td>187537</td>\n",
       "      <td>0.856028</td>\n",
       "      <td>0.100007</td>\n",
       "      <td>0.043965</td>\n",
       "      <td>0.981377</td>\n",
       "      <td>0.002910</td>\n",
       "      <td>0.015713</td>\n",
       "      <td>0.118774</td>\n",
       "      <td>0.795227</td>\n",
       "      <td>0.204773</td>\n",
       "    </tr>\n",
       "    <tr>\n",
       "      <th>02004</th>\n",
       "      <td>4</td>\n",
       "      <td>0.679359</td>\n",
       "      <td>0.054524</td>\n",
       "      <td>0.287690</td>\n",
       "      <td>0.840267</td>\n",
       "      <td>0.209613</td>\n",
       "      <td>0.661541</td>\n",
       "      <td>0.128846</td>\n",
       "      <td>218245</td>\n",
       "      <td>0.728660</td>\n",
       "      <td>0.183396</td>\n",
       "      <td>0.087945</td>\n",
       "      <td>0.948177</td>\n",
       "      <td>0.016518</td>\n",
       "      <td>0.035304</td>\n",
       "      <td>0.126584</td>\n",
       "      <td>0.727461</td>\n",
       "      <td>0.272539</td>\n",
       "    </tr>\n",
       "    <tr>\n",
       "      <th>02005</th>\n",
       "      <td>5</td>\n",
       "      <td>0.704394</td>\n",
       "      <td>0.039907</td>\n",
       "      <td>0.254873</td>\n",
       "      <td>0.789499</td>\n",
       "      <td>0.145024</td>\n",
       "      <td>0.682914</td>\n",
       "      <td>0.172062</td>\n",
       "      <td>179005</td>\n",
       "      <td>0.883648</td>\n",
       "      <td>0.092044</td>\n",
       "      <td>0.024308</td>\n",
       "      <td>0.986822</td>\n",
       "      <td>0.002813</td>\n",
       "      <td>0.010365</td>\n",
       "      <td>0.060537</td>\n",
       "      <td>0.855477</td>\n",
       "      <td>0.144523</td>\n",
       "    </tr>\n",
       "  </tbody>\n",
       "</table>\n",
       "</div>"
      ],
      "text/plain": [
       "        COMUNAS    empleo   desocup     inact  ocup_viv      0_14     15_64  \\\n",
       "Código                                                                        \n",
       "02001         1  0.660940  0.045429  0.230967  0.599215  0.154119  0.704424   \n",
       "02002         2  0.674582  0.037593  0.270640  0.656395  0.110187  0.691848   \n",
       "02003         3  0.697068  0.042838  0.251149  0.747373  0.149848  0.690034   \n",
       "02004         4  0.679359  0.054524  0.287690  0.840267  0.209613  0.661541   \n",
       "02005         5  0.704394  0.039907  0.254873  0.789499  0.145024  0.682914   \n",
       "\n",
       "          mas_65     hab  con_satisf  con_basica  con_insuf  serv_satisf  \\\n",
       "Código                                                                     \n",
       "02001   0.141457  205886    0.754696    0.135260   0.110043     0.949451   \n",
       "02002   0.197965  157932    0.918893    0.070327   0.010780     0.991731   \n",
       "02003   0.160118  187537    0.856028    0.100007   0.043965     0.981377   \n",
       "02004   0.128846  218245    0.728660    0.183396   0.087945     0.948177   \n",
       "02005   0.172062  179005    0.883648    0.092044   0.024308     0.986822   \n",
       "\n",
       "        serv_basica  serv_insuf       nbi   hac-149   hac+150  \n",
       "Código                                                         \n",
       "02001      0.007300    0.043249  0.158983  0.762265  0.237735  \n",
       "02002      0.001467    0.006801  0.020463  0.913787  0.086213  \n",
       "02003      0.002910    0.015713  0.118774  0.795227  0.204773  \n",
       "02004      0.016518    0.035304  0.126584  0.727461  0.272539  \n",
       "02005      0.002813    0.010365  0.060537  0.855477  0.144523  "
      ]
     },
     "execution_count": 323,
     "metadata": {},
     "output_type": "execute_result"
    }
   ],
   "source": [
    "indicators_comuna.head()"
   ]
  },
  {
   "cell_type": "code",
   "execution_count": 324,
   "metadata": {
    "collapsed": false
   },
   "outputs": [
    {
     "data": {
      "text/html": [
       "<div>\n",
       "<table border=\"1\" class=\"dataframe\">\n",
       "  <thead>\n",
       "    <tr style=\"text-align: right;\">\n",
       "      <th></th>\n",
       "      <th>empleo</th>\n",
       "      <th>desocup</th>\n",
       "      <th>inact</th>\n",
       "      <th>ocup_viv</th>\n",
       "      <th>0_14</th>\n",
       "      <th>15_64</th>\n",
       "      <th>mas_65</th>\n",
       "      <th>hab</th>\n",
       "      <th>con_satisf</th>\n",
       "      <th>con_basica</th>\n",
       "      <th>con_insuf</th>\n",
       "      <th>serv_satisf</th>\n",
       "      <th>serv_basica</th>\n",
       "      <th>serv_insuf</th>\n",
       "      <th>nbi</th>\n",
       "      <th>hac-149</th>\n",
       "      <th>hac+150</th>\n",
       "    </tr>\n",
       "    <tr>\n",
       "      <th>Código</th>\n",
       "      <th></th>\n",
       "      <th></th>\n",
       "      <th></th>\n",
       "      <th></th>\n",
       "      <th></th>\n",
       "      <th></th>\n",
       "      <th></th>\n",
       "      <th></th>\n",
       "      <th></th>\n",
       "      <th></th>\n",
       "      <th></th>\n",
       "      <th></th>\n",
       "      <th></th>\n",
       "      <th></th>\n",
       "      <th></th>\n",
       "      <th></th>\n",
       "      <th></th>\n",
       "    </tr>\n",
       "  </thead>\n",
       "  <tbody>\n",
       "    <tr>\n",
       "      <th>02</th>\n",
       "      <td>0.68422</td>\n",
       "      <td>0.042921</td>\n",
       "      <td>0.273963</td>\n",
       "      <td>0.760547</td>\n",
       "      <td>0.16349</td>\n",
       "      <td>0.67248</td>\n",
       "      <td>0.16403</td>\n",
       "      <td>2890151</td>\n",
       "      <td>0.856398</td>\n",
       "      <td>0.109963</td>\n",
       "      <td>0.033639</td>\n",
       "      <td>0.980572</td>\n",
       "      <td>0.005062</td>\n",
       "      <td>0.014366</td>\n",
       "      <td>0.059798</td>\n",
       "      <td>0.844103</td>\n",
       "      <td>0.155897</td>\n",
       "    </tr>\n",
       "  </tbody>\n",
       "</table>\n",
       "</div>"
      ],
      "text/plain": [
       "         empleo   desocup     inact  ocup_viv     0_14    15_64   mas_65  \\\n",
       "Código                                                                     \n",
       "02      0.68422  0.042921  0.273963  0.760547  0.16349  0.67248  0.16403   \n",
       "\n",
       "            hab  con_satisf  con_basica  con_insuf  serv_satisf  serv_basica  \\\n",
       "Código                                                                         \n",
       "02      2890151    0.856398    0.109963   0.033639     0.980572     0.005062   \n",
       "\n",
       "        serv_insuf       nbi   hac-149   hac+150  \n",
       "Código                                            \n",
       "02        0.014366  0.059798  0.844103  0.155897  "
      ]
     },
     "execution_count": 324,
     "metadata": {},
     "output_type": "execute_result"
    }
   ],
   "source": [
    "indicators_caba.head()"
   ]
  },
  {
   "cell_type": "markdown",
   "metadata": {},
   "source": [
    "## Creación de otros indicadores"
   ]
  },
  {
   "cell_type": "markdown",
   "metadata": {},
   "source": [
    "### 2. Indicador de nivel socioeconómico"
   ]
  },
  {
   "cell_type": "markdown",
   "metadata": {},
   "source": [
    "#### 2.a) Versión DOT México"
   ]
  },
  {
   "cell_type": "markdown",
   "metadata": {},
   "source": [
    "*Índice de escolaridad*"
   ]
  },
  {
   "cell_type": "code",
   "execution_count": 328,
   "metadata": {
    "collapsed": false
   },
   "outputs": [],
   "source": [
    "df_asist_educ = get_data(\"RADIO\", \"PERSONA.P08\", \"PERSONA.EDAD < 18\")"
   ]
  },
  {
   "cell_type": "code",
   "execution_count": 329,
   "metadata": {
    "collapsed": false
   },
   "outputs": [],
   "source": [
    "def calculate_escolaridad_indicator(df_indicators, df_asist_educ):\n",
    "    df_indicators[\"escolaridad\"] = df_asist_educ[\"Asiste\"] / df_asist_educ[\"Total\"]"
   ]
  },
  {
   "cell_type": "code",
   "execution_count": 330,
   "metadata": {
    "collapsed": false
   },
   "outputs": [],
   "source": [
    "calculate_escolaridad_indicator(indicators_radio, df_asist_educ)"
   ]
  },
  {
   "cell_type": "code",
   "execution_count": 331,
   "metadata": {
    "collapsed": false
   },
   "outputs": [
    {
     "data": {
      "text/plain": [
       "Código\n",
       "020010101    0.843137\n",
       "020010201    0.867647\n",
       "020010202    0.862595\n",
       "020010203    0.843137\n",
       "020010204    0.903382\n",
       "Name: escolaridad, dtype: float64"
      ]
     },
     "execution_count": 331,
     "metadata": {},
     "output_type": "execute_result"
    }
   ],
   "source": [
    "indicators_radio[\"escolaridad\"].head()"
   ]
  },
  {
   "cell_type": "markdown",
   "metadata": {},
   "source": [
    "*Índice de educación superior*"
   ]
  },
  {
   "cell_type": "code",
   "execution_count": 332,
   "metadata": {
    "collapsed": false
   },
   "outputs": [],
   "source": [
    "df_educ_sup = get_data(\"RADIO\", \"PERSONA.P09\", \"PERSONA.EDAD > 25 AND PERSONA.P10 = 1\")"
   ]
  },
  {
   "cell_type": "code",
   "execution_count": 333,
   "metadata": {
    "collapsed": false
   },
   "outputs": [],
   "source": [
    "def calculate_educ_sup_indicator(df_indicators, df_educ_sup):\n",
    "    df_indicators[\"educ_sup\"] = (df_educ_sup[\"Universitario\"] + df_educ_sup[\"Post universitario\"]) / df_educ_sup[\"Total\"]"
   ]
  },
  {
   "cell_type": "code",
   "execution_count": 334,
   "metadata": {
    "collapsed": false
   },
   "outputs": [],
   "source": [
    "calculate_educ_sup_indicator(indicators_radio, df_educ_sup)"
   ]
  },
  {
   "cell_type": "code",
   "execution_count": 335,
   "metadata": {
    "collapsed": false
   },
   "outputs": [
    {
     "data": {
      "text/plain": [
       "Código\n",
       "020010101    0.102362\n",
       "020010201    0.056911\n",
       "020010202    0.022222\n",
       "020010203    0.039474\n",
       "020010204    0.008929\n",
       "Name: educ_sup, dtype: float64"
      ]
     },
     "execution_count": 335,
     "metadata": {},
     "output_type": "execute_result"
    }
   ],
   "source": [
    "indicators_radio[\"educ_sup\"].head()"
   ]
  },
  {
   "cell_type": "markdown",
   "metadata": {},
   "source": [
    "*Índice de computadora*"
   ]
  },
  {
   "cell_type": "code",
   "execution_count": 336,
   "metadata": {
    "collapsed": true
   },
   "outputs": [],
   "source": [
    "df_compu = get_data(\"RADIO\", \"HOGAR.H19B\", \"HOGAR.H19A = 1 OR HOGAR.H19B = 1 OR HOGAR.H19C = 1 OR HOGAR.H19D = 1\")"
   ]
  },
  {
   "cell_type": "code",
   "execution_count": 337,
   "metadata": {
    "collapsed": false
   },
   "outputs": [],
   "source": [
    "def calculate_compu_indicator(df_indicators, df_compu):\n",
    "    df_indicators[\"compu\"] = df_compu[\"Sí\".decode(\"utf-8\")] / df_compu[\"Total\"]"
   ]
  },
  {
   "cell_type": "code",
   "execution_count": 338,
   "metadata": {
    "collapsed": true
   },
   "outputs": [],
   "source": [
    "calculate_compu_indicator(indicators_radio, df_compu)"
   ]
  },
  {
   "cell_type": "code",
   "execution_count": 339,
   "metadata": {
    "collapsed": false
   },
   "outputs": [
    {
     "data": {
      "text/plain": [
       "Código\n",
       "020010101    0.500000\n",
       "020010201    0.280000\n",
       "020010202    0.192000\n",
       "020010203    0.438776\n",
       "020010204    0.432258\n",
       "Name: compu, dtype: float64"
      ]
     },
     "execution_count": 339,
     "metadata": {},
     "output_type": "execute_result"
    }
   ],
   "source": [
    "indicators_radio[\"compu\"].head()"
   ]
  },
  {
   "cell_type": "markdown",
   "metadata": {},
   "source": [
    "**Índice de Nivel Socio-Económico**"
   ]
  },
  {
   "cell_type": "code",
   "execution_count": 340,
   "metadata": {
    "collapsed": true
   },
   "outputs": [],
   "source": [
    "df_nse_mexico = indicators_radio[[\"educ_sup\", \"escolaridad\", \"compu\"]]"
   ]
  },
  {
   "cell_type": "code",
   "execution_count": 341,
   "metadata": {
    "collapsed": false
   },
   "outputs": [
    {
     "data": {
      "text/html": [
       "<div>\n",
       "<table border=\"1\" class=\"dataframe\">\n",
       "  <thead>\n",
       "    <tr style=\"text-align: right;\">\n",
       "      <th></th>\n",
       "      <th>educ_sup</th>\n",
       "      <th>escolaridad</th>\n",
       "      <th>compu</th>\n",
       "    </tr>\n",
       "    <tr>\n",
       "      <th>Código</th>\n",
       "      <th></th>\n",
       "      <th></th>\n",
       "      <th></th>\n",
       "    </tr>\n",
       "  </thead>\n",
       "  <tbody>\n",
       "    <tr>\n",
       "      <th>020010101</th>\n",
       "      <td>0.102362</td>\n",
       "      <td>0.843137</td>\n",
       "      <td>0.500000</td>\n",
       "    </tr>\n",
       "    <tr>\n",
       "      <th>020010201</th>\n",
       "      <td>0.056911</td>\n",
       "      <td>0.867647</td>\n",
       "      <td>0.280000</td>\n",
       "    </tr>\n",
       "    <tr>\n",
       "      <th>020010202</th>\n",
       "      <td>0.022222</td>\n",
       "      <td>0.862595</td>\n",
       "      <td>0.192000</td>\n",
       "    </tr>\n",
       "    <tr>\n",
       "      <th>020010203</th>\n",
       "      <td>0.039474</td>\n",
       "      <td>0.843137</td>\n",
       "      <td>0.438776</td>\n",
       "    </tr>\n",
       "    <tr>\n",
       "      <th>020010204</th>\n",
       "      <td>0.008929</td>\n",
       "      <td>0.903382</td>\n",
       "      <td>0.432258</td>\n",
       "    </tr>\n",
       "  </tbody>\n",
       "</table>\n",
       "</div>"
      ],
      "text/plain": [
       "           educ_sup  escolaridad     compu\n",
       "Código                                    \n",
       "020010101  0.102362     0.843137  0.500000\n",
       "020010201  0.056911     0.867647  0.280000\n",
       "020010202  0.022222     0.862595  0.192000\n",
       "020010203  0.039474     0.843137  0.438776\n",
       "020010204  0.008929     0.903382  0.432258"
      ]
     },
     "execution_count": 341,
     "metadata": {},
     "output_type": "execute_result"
    }
   ],
   "source": [
    "df_nse_mexico.head()"
   ]
  },
  {
   "cell_type": "code",
   "execution_count": 342,
   "metadata": {
    "collapsed": false
   },
   "outputs": [
    {
     "data": {
      "text/html": [
       "<div>\n",
       "<table border=\"1\" class=\"dataframe\">\n",
       "  <thead>\n",
       "    <tr style=\"text-align: right;\">\n",
       "      <th></th>\n",
       "      <th>educ_sup</th>\n",
       "      <th>escolaridad</th>\n",
       "      <th>compu</th>\n",
       "    </tr>\n",
       "  </thead>\n",
       "  <tbody>\n",
       "    <tr>\n",
       "      <th>educ_sup</th>\n",
       "      <td>1.000000</td>\n",
       "      <td>0.496032</td>\n",
       "      <td>0.792191</td>\n",
       "    </tr>\n",
       "    <tr>\n",
       "      <th>escolaridad</th>\n",
       "      <td>0.496032</td>\n",
       "      <td>1.000000</td>\n",
       "      <td>0.648060</td>\n",
       "    </tr>\n",
       "    <tr>\n",
       "      <th>compu</th>\n",
       "      <td>0.792191</td>\n",
       "      <td>0.648060</td>\n",
       "      <td>1.000000</td>\n",
       "    </tr>\n",
       "  </tbody>\n",
       "</table>\n",
       "</div>"
      ],
      "text/plain": [
       "             educ_sup  escolaridad     compu\n",
       "educ_sup     1.000000     0.496032  0.792191\n",
       "escolaridad  0.496032     1.000000  0.648060\n",
       "compu        0.792191     0.648060  1.000000"
      ]
     },
     "execution_count": 342,
     "metadata": {},
     "output_type": "execute_result"
    }
   ],
   "source": [
    "# correlación entre los tres índices\n",
    "df_nse_mexico.corr()"
   ]
  },
  {
   "cell_type": "code",
   "execution_count": 343,
   "metadata": {
    "collapsed": false
   },
   "outputs": [],
   "source": [
    "df_nse_mexico_clean = df_nse_mexico.dropna()"
   ]
  },
  {
   "cell_type": "code",
   "execution_count": 344,
   "metadata": {
    "collapsed": false
   },
   "outputs": [
    {
     "data": {
      "text/plain": [
       "PCA(copy=True, n_components=3, whiten=False)"
      ]
     },
     "execution_count": 344,
     "metadata": {},
     "output_type": "execute_result"
    }
   ],
   "source": [
    "pca = PCA(n_components=3)\n",
    "pca.fit(df_nse_mexico_clean)"
   ]
  },
  {
   "cell_type": "code",
   "execution_count": 345,
   "metadata": {
    "collapsed": false
   },
   "outputs": [
    {
     "data": {
      "text/plain": [
       "array([ 0.88315721,  0.10113534,  0.01570745])"
      ]
     },
     "execution_count": 345,
     "metadata": {},
     "output_type": "execute_result"
    }
   ],
   "source": [
    "pca.explained_variance_ratio_"
   ]
  },
  {
   "cell_type": "code",
   "execution_count": 346,
   "metadata": {
    "collapsed": false
   },
   "outputs": [
    {
     "data": {
      "text/plain": [
       "array([[ 0.76120783,  0.10759338,  0.63952037],\n",
       "       [ 0.64799446, -0.16542885, -0.74346249],\n",
       "       [-0.02580348, -0.98033513,  0.19564565]])"
      ]
     },
     "execution_count": 346,
     "metadata": {},
     "output_type": "execute_result"
    }
   ],
   "source": [
    "params_pc1 = pca.components_[0]\n",
    "pca.components_"
   ]
  },
  {
   "cell_type": "code",
   "execution_count": 347,
   "metadata": {
    "collapsed": false
   },
   "outputs": [
    {
     "name": "stderr",
     "output_type": "stream",
     "text": [
      "/Users/abenassi/anaconda/envs/tod/lib/python2.7/site-packages/ipykernel/__main__.py:1: SettingWithCopyWarning: \n",
      "A value is trying to be set on a copy of a slice from a DataFrame.\n",
      "Try using .loc[row_indexer,col_indexer] = value instead\n",
      "\n",
      "See the the caveats in the documentation: http://pandas.pydata.org/pandas-docs/stable/indexing.html#indexing-view-versus-copy\n",
      "  if __name__ == '__main__':\n",
      "/Users/abenassi/anaconda/envs/tod/lib/python2.7/site-packages/ipykernel/__main__.py:4: SettingWithCopyWarning: \n",
      "A value is trying to be set on a copy of a slice from a DataFrame.\n",
      "Try using .loc[row_indexer,col_indexer] = value instead\n",
      "\n",
      "See the the caveats in the documentation: http://pandas.pydata.org/pandas-docs/stable/indexing.html#indexing-view-versus-copy\n"
     ]
    }
   ],
   "source": [
    "df_nse_mexico_clean[\"nse_mex\"] = df_nse_mexico_clean.dot(params_pc1)\n",
    "df_nse_mexico_clean[\"nse_mex_av\"] = (df_nse_mexico_clean[\"educ_sup\"] + \n",
    "                                     df_nse_mexico_clean[\"escolaridad\"] + \n",
    "                                     df_nse_mexico_clean[\"compu\"]) / 3"
   ]
  },
  {
   "cell_type": "code",
   "execution_count": 348,
   "metadata": {
    "collapsed": false
   },
   "outputs": [
    {
     "data": {
      "text/html": [
       "<div>\n",
       "<table border=\"1\" class=\"dataframe\">\n",
       "  <thead>\n",
       "    <tr style=\"text-align: right;\">\n",
       "      <th></th>\n",
       "      <th>educ_sup</th>\n",
       "      <th>escolaridad</th>\n",
       "      <th>compu</th>\n",
       "      <th>nse_mex</th>\n",
       "      <th>nse_mex_av</th>\n",
       "    </tr>\n",
       "  </thead>\n",
       "  <tbody>\n",
       "    <tr>\n",
       "      <th>educ_sup</th>\n",
       "      <td>1.000000</td>\n",
       "      <td>0.496032</td>\n",
       "      <td>0.792132</td>\n",
       "      <td>0.960914</td>\n",
       "      <td>0.941003</td>\n",
       "    </tr>\n",
       "    <tr>\n",
       "      <th>escolaridad</th>\n",
       "      <td>0.496032</td>\n",
       "      <td>1.000000</td>\n",
       "      <td>0.648060</td>\n",
       "      <td>0.603323</td>\n",
       "      <td>0.671367</td>\n",
       "    </tr>\n",
       "    <tr>\n",
       "      <th>compu</th>\n",
       "      <td>0.792132</td>\n",
       "      <td>0.648060</td>\n",
       "      <td>1.000000</td>\n",
       "      <td>0.929909</td>\n",
       "      <td>0.944568</td>\n",
       "    </tr>\n",
       "    <tr>\n",
       "      <th>nse_mex</th>\n",
       "      <td>0.960914</td>\n",
       "      <td>0.603323</td>\n",
       "      <td>0.929909</td>\n",
       "      <td>1.000000</td>\n",
       "      <td>0.995746</td>\n",
       "    </tr>\n",
       "    <tr>\n",
       "      <th>nse_mex_av</th>\n",
       "      <td>0.941003</td>\n",
       "      <td>0.671367</td>\n",
       "      <td>0.944568</td>\n",
       "      <td>0.995746</td>\n",
       "      <td>1.000000</td>\n",
       "    </tr>\n",
       "  </tbody>\n",
       "</table>\n",
       "</div>"
      ],
      "text/plain": [
       "             educ_sup  escolaridad     compu   nse_mex  nse_mex_av\n",
       "educ_sup     1.000000     0.496032  0.792132  0.960914    0.941003\n",
       "escolaridad  0.496032     1.000000  0.648060  0.603323    0.671367\n",
       "compu        0.792132     0.648060  1.000000  0.929909    0.944568\n",
       "nse_mex      0.960914     0.603323  0.929909  1.000000    0.995746\n",
       "nse_mex_av   0.941003     0.671367  0.944568  0.995746    1.000000"
      ]
     },
     "execution_count": 348,
     "metadata": {},
     "output_type": "execute_result"
    }
   ],
   "source": [
    "df_nse_mexico_clean.corr()"
   ]
  },
  {
   "cell_type": "code",
   "execution_count": 349,
   "metadata": {
    "collapsed": false
   },
   "outputs": [],
   "source": [
    "serie = df_nse_mexico_clean[\"nse_mex\"]"
   ]
  },
  {
   "cell_type": "code",
   "execution_count": 350,
   "metadata": {
    "collapsed": false
   },
   "outputs": [
    {
     "data": {
      "text/plain": [
       "(0.14404460380765413,\n",
       " 0.77192848760959687,\n",
       " 1.3242231523148409,\n",
       " 0.16859693550102667)"
      ]
     },
     "execution_count": 350,
     "metadata": {},
     "output_type": "execute_result"
    }
   ],
   "source": [
    "step = (serie.max() - serie.min()) / 7\n",
    "serie.min(), serie.mean(), serie.max(), step"
   ]
  },
  {
   "cell_type": "code",
   "execution_count": 351,
   "metadata": {
    "collapsed": false
   },
   "outputs": [
    {
     "name": "stdout",
     "output_type": "stream",
     "text": [
      "Hay 7 categorías: [ 0.1440446   0.31264154  0.48123847  0.64983541  0.81843235  0.98702928\n",
      "  1.15562622  1.32422315]\n"
     ]
    },
    {
     "data": {
      "text/plain": [
       "Código\n",
       "020152109    4\n",
       "020152110    5\n",
       "020152111    6\n",
       "020152112    4\n",
       "020152113    4\n",
       "Name: nse_mex, dtype: category\n",
       "Categories (7, int64): [1 < 2 < 3 < 4 < 5 < 6 < 7]"
      ]
     },
     "execution_count": 351,
     "metadata": {},
     "output_type": "execute_result"
    }
   ],
   "source": [
    "bins = np.arange(serie.min(), serie.max()*1.01, step)\n",
    "print \"Hay\", len(bins) - 1, \"categorías:\", bins\n",
    "nse_mex_categories = pd.cut(serie, bins, labels=range(1, 8))\n",
    "nse_mex_categories.tail()"
   ]
  },
  {
   "cell_type": "code",
   "execution_count": 352,
   "metadata": {
    "collapsed": false
   },
   "outputs": [],
   "source": [
    "indicators_radio[\"nse_mex_cat\"] = nse_mex_categories"
   ]
  },
  {
   "cell_type": "code",
   "execution_count": 353,
   "metadata": {
    "collapsed": false
   },
   "outputs": [
    {
     "data": {
      "text/html": [
       "<div>\n",
       "<table border=\"1\" class=\"dataframe\">\n",
       "  <thead>\n",
       "    <tr style=\"text-align: right;\">\n",
       "      <th></th>\n",
       "      <th>empleo</th>\n",
       "      <th>desocup</th>\n",
       "      <th>inact</th>\n",
       "      <th>ocup_viv</th>\n",
       "      <th>0_14</th>\n",
       "      <th>15_64</th>\n",
       "      <th>mas_65</th>\n",
       "      <th>hab</th>\n",
       "      <th>con_satisf</th>\n",
       "      <th>con_basica</th>\n",
       "      <th>...</th>\n",
       "      <th>COMERCIAL</th>\n",
       "      <th>INDUSTRIAL</th>\n",
       "      <th>SERVICIOS</th>\n",
       "      <th>OTROS</th>\n",
       "      <th>CO_FRAC_RA</th>\n",
       "      <th>educ_priv</th>\n",
       "      <th>educ_pub</th>\n",
       "      <th>hospitales</th>\n",
       "      <th>esp_verde</th>\n",
       "      <th>nse_alt</th>\n",
       "    </tr>\n",
       "    <tr>\n",
       "      <th>Código</th>\n",
       "      <th></th>\n",
       "      <th></th>\n",
       "      <th></th>\n",
       "      <th></th>\n",
       "      <th></th>\n",
       "      <th></th>\n",
       "      <th></th>\n",
       "      <th></th>\n",
       "      <th></th>\n",
       "      <th></th>\n",
       "      <th></th>\n",
       "      <th></th>\n",
       "      <th></th>\n",
       "      <th></th>\n",
       "      <th></th>\n",
       "      <th></th>\n",
       "      <th></th>\n",
       "      <th></th>\n",
       "      <th></th>\n",
       "      <th></th>\n",
       "      <th></th>\n",
       "    </tr>\n",
       "  </thead>\n",
       "  <tbody>\n",
       "    <tr>\n",
       "      <th>020010101</th>\n",
       "      <td>0.652778</td>\n",
       "      <td>0.035897</td>\n",
       "      <td>0.118056</td>\n",
       "      <td>0.703704</td>\n",
       "      <td>0.142857</td>\n",
       "      <td>0.824405</td>\n",
       "      <td>0.032738</td>\n",
       "      <td>336</td>\n",
       "      <td>0.447368</td>\n",
       "      <td>0.289474</td>\n",
       "      <td>...</td>\n",
       "      <td>0.600394</td>\n",
       "      <td>0</td>\n",
       "      <td>0.273966</td>\n",
       "      <td>0.12564</td>\n",
       "      <td>1_1_1</td>\n",
       "      <td>4</td>\n",
       "      <td>3</td>\n",
       "      <td>0</td>\n",
       "      <td>0.084804</td>\n",
       "      <td>5</td>\n",
       "    </tr>\n",
       "    <tr>\n",
       "      <th>020010201</th>\n",
       "      <td>0.680851</td>\n",
       "      <td>0.050847</td>\n",
       "      <td>0.300912</td>\n",
       "      <td>0.905405</td>\n",
       "      <td>0.311715</td>\n",
       "      <td>0.661088</td>\n",
       "      <td>0.027197</td>\n",
       "      <td>478</td>\n",
       "      <td>0.074627</td>\n",
       "      <td>0.492537</td>\n",
       "      <td>...</td>\n",
       "      <td>0.000000</td>\n",
       "      <td>0</td>\n",
       "      <td>1.000000</td>\n",
       "      <td>0.00000</td>\n",
       "      <td>1_2_1</td>\n",
       "      <td>0</td>\n",
       "      <td>0</td>\n",
       "      <td>0</td>\n",
       "      <td>0.117467</td>\n",
       "      <td>6</td>\n",
       "    </tr>\n",
       "    <tr>\n",
       "      <th>020010202</th>\n",
       "      <td>0.615094</td>\n",
       "      <td>0.084270</td>\n",
       "      <td>0.347170</td>\n",
       "      <td>0.950000</td>\n",
       "      <td>0.339152</td>\n",
       "      <td>0.648379</td>\n",
       "      <td>0.012469</td>\n",
       "      <td>401</td>\n",
       "      <td>0.087719</td>\n",
       "      <td>0.482456</td>\n",
       "      <td>...</td>\n",
       "      <td>NaN</td>\n",
       "      <td>NaN</td>\n",
       "      <td>NaN</td>\n",
       "      <td>NaN</td>\n",
       "      <td>1_2_2</td>\n",
       "      <td>0</td>\n",
       "      <td>0</td>\n",
       "      <td>0</td>\n",
       "      <td>0.000000</td>\n",
       "      <td>6</td>\n",
       "    </tr>\n",
       "    <tr>\n",
       "      <th>020010203</th>\n",
       "      <td>0.639485</td>\n",
       "      <td>0.102410</td>\n",
       "      <td>0.334764</td>\n",
       "      <td>0.942308</td>\n",
       "      <td>0.308605</td>\n",
       "      <td>0.673591</td>\n",
       "      <td>0.017804</td>\n",
       "      <td>337</td>\n",
       "      <td>0.081633</td>\n",
       "      <td>0.438776</td>\n",
       "      <td>...</td>\n",
       "      <td>NaN</td>\n",
       "      <td>NaN</td>\n",
       "      <td>NaN</td>\n",
       "      <td>NaN</td>\n",
       "      <td>1_2_3</td>\n",
       "      <td>0</td>\n",
       "      <td>0</td>\n",
       "      <td>0</td>\n",
       "      <td>0.000000</td>\n",
       "      <td>6</td>\n",
       "    </tr>\n",
       "    <tr>\n",
       "      <th>020010204</th>\n",
       "      <td>0.727500</td>\n",
       "      <td>0.058252</td>\n",
       "      <td>0.280000</td>\n",
       "      <td>0.924370</td>\n",
       "      <td>0.335548</td>\n",
       "      <td>0.649502</td>\n",
       "      <td>0.014950</td>\n",
       "      <td>602</td>\n",
       "      <td>0.118182</td>\n",
       "      <td>0.600000</td>\n",
       "      <td>...</td>\n",
       "      <td>0.000000</td>\n",
       "      <td>0</td>\n",
       "      <td>1.000000</td>\n",
       "      <td>0.00000</td>\n",
       "      <td>1_2_4</td>\n",
       "      <td>0</td>\n",
       "      <td>1</td>\n",
       "      <td>0</td>\n",
       "      <td>0.000000</td>\n",
       "      <td>6</td>\n",
       "    </tr>\n",
       "  </tbody>\n",
       "</table>\n",
       "<p>5 rows × 36 columns</p>\n",
       "</div>"
      ],
      "text/plain": [
       "             empleo   desocup     inact  ocup_viv      0_14     15_64  \\\n",
       "Código                                                                  \n",
       "020010101  0.652778  0.035897  0.118056  0.703704  0.142857  0.824405   \n",
       "020010201  0.680851  0.050847  0.300912  0.905405  0.311715  0.661088   \n",
       "020010202  0.615094  0.084270  0.347170  0.950000  0.339152  0.648379   \n",
       "020010203  0.639485  0.102410  0.334764  0.942308  0.308605  0.673591   \n",
       "020010204  0.727500  0.058252  0.280000  0.924370  0.335548  0.649502   \n",
       "\n",
       "             mas_65  hab  con_satisf  con_basica   ...     COMERCIAL  \\\n",
       "Código                                             ...                 \n",
       "020010101  0.032738  336    0.447368    0.289474   ...      0.600394   \n",
       "020010201  0.027197  478    0.074627    0.492537   ...      0.000000   \n",
       "020010202  0.012469  401    0.087719    0.482456   ...           NaN   \n",
       "020010203  0.017804  337    0.081633    0.438776   ...           NaN   \n",
       "020010204  0.014950  602    0.118182    0.600000   ...      0.000000   \n",
       "\n",
       "           INDUSTRIAL  SERVICIOS    OTROS  CO_FRAC_RA  educ_priv  educ_pub  \\\n",
       "Código                                                                       \n",
       "020010101           0   0.273966  0.12564       1_1_1          4         3   \n",
       "020010201           0   1.000000  0.00000       1_2_1          0         0   \n",
       "020010202         NaN        NaN      NaN       1_2_2          0         0   \n",
       "020010203         NaN        NaN      NaN       1_2_3          0         0   \n",
       "020010204           0   1.000000  0.00000       1_2_4          0         1   \n",
       "\n",
       "           hospitales  esp_verde  nse_alt  \n",
       "Código                                     \n",
       "020010101           0   0.084804        5  \n",
       "020010201           0   0.117467        6  \n",
       "020010202           0   0.000000        6  \n",
       "020010203           0   0.000000        6  \n",
       "020010204           0   0.000000        6  \n",
       "\n",
       "[5 rows x 36 columns]"
      ]
     },
     "execution_count": 353,
     "metadata": {},
     "output_type": "execute_result"
    }
   ],
   "source": [
    "indicators_radio.head()"
   ]
  },
  {
   "cell_type": "markdown",
   "metadata": {},
   "source": [
    "#### 2.b) Versión alternativa"
   ]
  },
  {
   "cell_type": "code",
   "execution_count": 354,
   "metadata": {
    "collapsed": true
   },
   "outputs": [],
   "source": [
    "nse_alt = pd.DataFrame(index=indicators_radio.index)"
   ]
  },
  {
   "cell_type": "markdown",
   "metadata": {},
   "source": [
    "*Criterio 1*"
   ]
  },
  {
   "cell_type": "markdown",
   "metadata": {},
   "source": [
    "*Criterio 2*"
   ]
  },
  {
   "cell_type": "markdown",
   "metadata": {},
   "source": [
    "% de jefes de hogar con estudios universitarios o post-universitarios"
   ]
  },
  {
   "cell_type": "code",
   "execution_count": 355,
   "metadata": {
    "collapsed": true
   },
   "outputs": [],
   "source": [
    "query_educ_jefes = \"\"\"\n",
    "RUNDEF programa \n",
    "    SELECTION INLINE,\n",
    "        PROV 02\n",
    "\n",
    "DEFINE RADIO.COUNTER\n",
    "    AS COUNT HOGAR\n",
    "    TYPE INTEGER\n",
    "\n",
    "DEFINE HOGAR.EDUCJEFE \n",
    "    AS PERSONA.P09\n",
    "    FOR PERSONA.P01 = 1 \n",
    "    RANGE 1-9\n",
    "    TYPE INTEGER\n",
    "    VARLABEL \"Nivel educativo del jefe del hogar\"\n",
    "\n",
    "DEFINE HOGAR.JEFETER\n",
    "    AS PERSONA.P10\n",
    "    FOR PERSONA.P01 = 1 \n",
    "    RANGE 1-2\n",
    "    TYPE INTEGER\n",
    "    VARLABEL \"Jefe de hogar terminó el nivel educativo\" \n",
    "    \n",
    "DEFINE HOGAR.JEFEUNIV\n",
    "    AS ((HOGAR.EDUCJEFE = 7 AND HOGAR.JEFETER = 1) OR HOGAR.EDUCJEFE = 8)\n",
    "    TYPE INTEGER\n",
    "    RANGE 0-1\n",
    "\n",
    "TABLE T1\n",
    "    AS AREALIST \n",
    "    OF RADIO, RADIO.COUNTER, HOGAR.JEFEUNIV\n",
    "\"\"\""
   ]
  },
  {
   "cell_type": "code",
   "execution_count": 356,
   "metadata": {
    "collapsed": false
   },
   "outputs": [
    {
     "data": {
      "text/html": [
       "<div>\n",
       "<table border=\"1\" class=\"dataframe\">\n",
       "  <thead>\n",
       "    <tr style=\"text-align: right;\">\n",
       "      <th></th>\n",
       "      <th>COUNTER</th>\n",
       "      <th>0</th>\n",
       "      <th>1</th>\n",
       "      <th>Total</th>\n",
       "      <th>CO_FRAC_RA</th>\n",
       "    </tr>\n",
       "    <tr>\n",
       "      <th>Código</th>\n",
       "      <th></th>\n",
       "      <th></th>\n",
       "      <th></th>\n",
       "      <th></th>\n",
       "      <th></th>\n",
       "    </tr>\n",
       "  </thead>\n",
       "  <tbody>\n",
       "    <tr>\n",
       "      <th>020010101</th>\n",
       "      <td>93</td>\n",
       "      <td>81</td>\n",
       "      <td>7</td>\n",
       "      <td>88</td>\n",
       "      <td>1_1_1</td>\n",
       "    </tr>\n",
       "    <tr>\n",
       "      <th>020010201</th>\n",
       "      <td>162</td>\n",
       "      <td>154</td>\n",
       "      <td>4</td>\n",
       "      <td>158</td>\n",
       "      <td>1_2_1</td>\n",
       "    </tr>\n",
       "    <tr>\n",
       "      <th>020010202</th>\n",
       "      <td>132</td>\n",
       "      <td>126</td>\n",
       "      <td>2</td>\n",
       "      <td>128</td>\n",
       "      <td>1_2_2</td>\n",
       "    </tr>\n",
       "    <tr>\n",
       "      <th>020010203</th>\n",
       "      <td>104</td>\n",
       "      <td>100</td>\n",
       "      <td>1</td>\n",
       "      <td>101</td>\n",
       "      <td>1_2_3</td>\n",
       "    </tr>\n",
       "    <tr>\n",
       "      <th>020010204</th>\n",
       "      <td>164</td>\n",
       "      <td>158</td>\n",
       "      <td>0</td>\n",
       "      <td>158</td>\n",
       "      <td>1_2_4</td>\n",
       "    </tr>\n",
       "  </tbody>\n",
       "</table>\n",
       "</div>"
      ],
      "text/plain": [
       "           COUNTER    0  1  Total CO_FRAC_RA\n",
       "Código                                      \n",
       "020010101       93   81  7     88      1_1_1\n",
       "020010201      162  154  4    158      1_2_1\n",
       "020010202      132  126  2    128      1_2_2\n",
       "020010203      104  100  1    101      1_2_3\n",
       "020010204      164  158  0    158      1_2_4"
      ]
     },
     "execution_count": 356,
     "metadata": {},
     "output_type": "execute_result"
    }
   ],
   "source": [
    "df_educ_jefes = get_data_from_query(\"RADIO\", query_educ_jefes, redownload=False)\n",
    "df_educ_jefes.head()"
   ]
  },
  {
   "cell_type": "code",
   "execution_count": 357,
   "metadata": {
    "collapsed": false
   },
   "outputs": [
    {
     "name": "stdout",
     "output_type": "stream",
     "text": [
      "1141371.0 1152599.0 0.990258537445\n"
     ]
    }
   ],
   "source": [
    "hogares_contestaron = df_educ_jefes[\"Total\"].sum()\n",
    "hogares_totales = df_educ_jefes[\"COUNTER\"].sum()\n",
    "print hogares_contestaron, hogares_totales, hogares_contestaron / hogares_totales"
   ]
  },
  {
   "cell_type": "code",
   "execution_count": 358,
   "metadata": {
    "collapsed": false
   },
   "outputs": [
    {
     "data": {
      "text/html": [
       "<div>\n",
       "<table border=\"1\" class=\"dataframe\">\n",
       "  <thead>\n",
       "    <tr style=\"text-align: right;\">\n",
       "      <th></th>\n",
       "      <th>COUNTER</th>\n",
       "      <th>0</th>\n",
       "      <th>1</th>\n",
       "      <th>Total</th>\n",
       "      <th>CO_FRAC_RA</th>\n",
       "      <th>ratio</th>\n",
       "    </tr>\n",
       "    <tr>\n",
       "      <th>Código</th>\n",
       "      <th></th>\n",
       "      <th></th>\n",
       "      <th></th>\n",
       "      <th></th>\n",
       "      <th></th>\n",
       "      <th></th>\n",
       "    </tr>\n",
       "  </thead>\n",
       "  <tbody>\n",
       "    <tr>\n",
       "      <th>020010101</th>\n",
       "      <td>93</td>\n",
       "      <td>81</td>\n",
       "      <td>7</td>\n",
       "      <td>88</td>\n",
       "      <td>1_1_1</td>\n",
       "      <td>0.079545</td>\n",
       "    </tr>\n",
       "    <tr>\n",
       "      <th>020010201</th>\n",
       "      <td>162</td>\n",
       "      <td>154</td>\n",
       "      <td>4</td>\n",
       "      <td>158</td>\n",
       "      <td>1_2_1</td>\n",
       "      <td>0.025316</td>\n",
       "    </tr>\n",
       "    <tr>\n",
       "      <th>020010202</th>\n",
       "      <td>132</td>\n",
       "      <td>126</td>\n",
       "      <td>2</td>\n",
       "      <td>128</td>\n",
       "      <td>1_2_2</td>\n",
       "      <td>0.015625</td>\n",
       "    </tr>\n",
       "    <tr>\n",
       "      <th>020010203</th>\n",
       "      <td>104</td>\n",
       "      <td>100</td>\n",
       "      <td>1</td>\n",
       "      <td>101</td>\n",
       "      <td>1_2_3</td>\n",
       "      <td>0.009901</td>\n",
       "    </tr>\n",
       "    <tr>\n",
       "      <th>020010204</th>\n",
       "      <td>164</td>\n",
       "      <td>158</td>\n",
       "      <td>0</td>\n",
       "      <td>158</td>\n",
       "      <td>1_2_4</td>\n",
       "      <td>0.000000</td>\n",
       "    </tr>\n",
       "  </tbody>\n",
       "</table>\n",
       "</div>"
      ],
      "text/plain": [
       "           COUNTER    0  1  Total CO_FRAC_RA     ratio\n",
       "Código                                                \n",
       "020010101       93   81  7     88      1_1_1  0.079545\n",
       "020010201      162  154  4    158      1_2_1  0.025316\n",
       "020010202      132  126  2    128      1_2_2  0.015625\n",
       "020010203      104  100  1    101      1_2_3  0.009901\n",
       "020010204      164  158  0    158      1_2_4  0.000000"
      ]
     },
     "execution_count": 358,
     "metadata": {},
     "output_type": "execute_result"
    }
   ],
   "source": [
    "df_educ_jefes[\"ratio\"] = df_educ_jefes[\"1\"] / df_educ_jefes[\"Total\"]\n",
    "df_educ_jefes.head()"
   ]
  },
  {
   "cell_type": "code",
   "execution_count": 359,
   "metadata": {
    "collapsed": false
   },
   "outputs": [
    {
     "data": {
      "text/plain": [
       "0.23612392464851481"
      ]
     },
     "execution_count": 359,
     "metadata": {},
     "output_type": "execute_result"
    }
   ],
   "source": [
    "df_educ_jefes[\"1\"].sum() / df_educ_jefes[\"Total\"].sum()"
   ]
  },
  {
   "cell_type": "code",
   "execution_count": 360,
   "metadata": {
    "collapsed": false
   },
   "outputs": [
    {
     "data": {
      "text/plain": [
       "array([[<matplotlib.axes._subplots.AxesSubplot object at 0x10f703cd0>]], dtype=object)"
      ]
     },
     "execution_count": 360,
     "metadata": {},
     "output_type": "execute_result"
    },
    {
     "data": {
      "image/png": "[encoded data removed]",
      "text/plain": [
       "<matplotlib.figure.Figure at 0x113700ed0>"
      ]
     },
     "metadata": {},
     "output_type": "display_data"
    }
   ],
   "source": [
    "df_educ_jefes.hist(\"ratio\", bins=18)"
   ]
  },
  {
   "cell_type": "markdown",
   "metadata": {},
   "source": [
    "% de hogares con servicio doméstico con cama"
   ]
  },
  {
   "cell_type": "code",
   "execution_count": 361,
   "metadata": {
    "collapsed": true
   },
   "outputs": [],
   "source": [
    "query_serv_dom = \"\"\"\n",
    "RUNDEF programa \n",
    "    SELECTION INLINE,\n",
    "        PROV 02\n",
    "\n",
    "DEFINE RADIO.COUNTER\n",
    "    AS COUNT HOGAR\n",
    "    TYPE INTEGER\n",
    "\n",
    "DEFINE HOGAR.SDOMCANT\n",
    "    AS COUNT PERSONA\n",
    "    FOR (PERSONA.P01 = 9)\n",
    "    TYPE INTEGER\n",
    "\n",
    "DEFINE HOGAR.SERVDOM\n",
    "    AS HOGAR.SDOMCANT > 0\n",
    "    TYPE INTEGER\n",
    "    RANGE 0-1\n",
    "    \n",
    "TABLE T1\n",
    "    AS AREALIST \n",
    "    OF RADIO, RADIO.COUNTER, HOGAR.SERVDOM\n",
    "\"\"\""
   ]
  },
  {
   "cell_type": "code",
   "execution_count": 362,
   "metadata": {
    "collapsed": false
   },
   "outputs": [
    {
     "data": {
      "text/html": [
       "<div>\n",
       "<table border=\"1\" class=\"dataframe\">\n",
       "  <thead>\n",
       "    <tr style=\"text-align: right;\">\n",
       "      <th></th>\n",
       "      <th>COUNTER</th>\n",
       "      <th>0</th>\n",
       "      <th>1</th>\n",
       "      <th>Total</th>\n",
       "      <th>CO_FRAC_RA</th>\n",
       "    </tr>\n",
       "    <tr>\n",
       "      <th>Código</th>\n",
       "      <th></th>\n",
       "      <th></th>\n",
       "      <th></th>\n",
       "      <th></th>\n",
       "      <th></th>\n",
       "    </tr>\n",
       "  </thead>\n",
       "  <tbody>\n",
       "    <tr>\n",
       "      <th>020010101</th>\n",
       "      <td>93</td>\n",
       "      <td>93</td>\n",
       "      <td>0</td>\n",
       "      <td>93</td>\n",
       "      <td>1_1_1</td>\n",
       "    </tr>\n",
       "    <tr>\n",
       "      <th>020010201</th>\n",
       "      <td>162</td>\n",
       "      <td>162</td>\n",
       "      <td>0</td>\n",
       "      <td>162</td>\n",
       "      <td>1_2_1</td>\n",
       "    </tr>\n",
       "    <tr>\n",
       "      <th>020010202</th>\n",
       "      <td>132</td>\n",
       "      <td>132</td>\n",
       "      <td>0</td>\n",
       "      <td>132</td>\n",
       "      <td>1_2_2</td>\n",
       "    </tr>\n",
       "    <tr>\n",
       "      <th>020010203</th>\n",
       "      <td>104</td>\n",
       "      <td>104</td>\n",
       "      <td>0</td>\n",
       "      <td>104</td>\n",
       "      <td>1_2_3</td>\n",
       "    </tr>\n",
       "    <tr>\n",
       "      <th>020010204</th>\n",
       "      <td>164</td>\n",
       "      <td>164</td>\n",
       "      <td>0</td>\n",
       "      <td>164</td>\n",
       "      <td>1_2_4</td>\n",
       "    </tr>\n",
       "  </tbody>\n",
       "</table>\n",
       "</div>"
      ],
      "text/plain": [
       "           COUNTER    0  1  Total CO_FRAC_RA\n",
       "Código                                      \n",
       "020010101       93   93  0     93      1_1_1\n",
       "020010201      162  162  0    162      1_2_1\n",
       "020010202      132  132  0    132      1_2_2\n",
       "020010203      104  104  0    104      1_2_3\n",
       "020010204      164  164  0    164      1_2_4"
      ]
     },
     "execution_count": 362,
     "metadata": {},
     "output_type": "execute_result"
    }
   ],
   "source": [
    "df_serv_dom = get_data_from_query(\"RADIO\", query_serv_dom, redownload=False)\n",
    "df_serv_dom.head()"
   ]
  },
  {
   "cell_type": "code",
   "execution_count": 363,
   "metadata": {
    "collapsed": false
   },
   "outputs": [
    {
     "name": "stdout",
     "output_type": "stream",
     "text": [
      "1152599.0 1152599.0 1.0\n"
     ]
    }
   ],
   "source": [
    "hogares_contestaron = df_serv_dom[\"Total\"].sum()\n",
    "hogares_totales = df_serv_dom[\"COUNTER\"].sum()\n",
    "print hogares_contestaron, hogares_totales, hogares_contestaron / hogares_totales"
   ]
  },
  {
   "cell_type": "code",
   "execution_count": 364,
   "metadata": {
    "collapsed": false
   },
   "outputs": [
    {
     "data": {
      "text/html": [
       "<div>\n",
       "<table border=\"1\" class=\"dataframe\">\n",
       "  <thead>\n",
       "    <tr style=\"text-align: right;\">\n",
       "      <th></th>\n",
       "      <th>COUNTER</th>\n",
       "      <th>0</th>\n",
       "      <th>1</th>\n",
       "      <th>Total</th>\n",
       "      <th>CO_FRAC_RA</th>\n",
       "      <th>ratio</th>\n",
       "    </tr>\n",
       "    <tr>\n",
       "      <th>Código</th>\n",
       "      <th></th>\n",
       "      <th></th>\n",
       "      <th></th>\n",
       "      <th></th>\n",
       "      <th></th>\n",
       "      <th></th>\n",
       "    </tr>\n",
       "  </thead>\n",
       "  <tbody>\n",
       "    <tr>\n",
       "      <th>020010101</th>\n",
       "      <td>93</td>\n",
       "      <td>93</td>\n",
       "      <td>0</td>\n",
       "      <td>93</td>\n",
       "      <td>1_1_1</td>\n",
       "      <td>0</td>\n",
       "    </tr>\n",
       "    <tr>\n",
       "      <th>020010201</th>\n",
       "      <td>162</td>\n",
       "      <td>162</td>\n",
       "      <td>0</td>\n",
       "      <td>162</td>\n",
       "      <td>1_2_1</td>\n",
       "      <td>0</td>\n",
       "    </tr>\n",
       "    <tr>\n",
       "      <th>020010202</th>\n",
       "      <td>132</td>\n",
       "      <td>132</td>\n",
       "      <td>0</td>\n",
       "      <td>132</td>\n",
       "      <td>1_2_2</td>\n",
       "      <td>0</td>\n",
       "    </tr>\n",
       "    <tr>\n",
       "      <th>020010203</th>\n",
       "      <td>104</td>\n",
       "      <td>104</td>\n",
       "      <td>0</td>\n",
       "      <td>104</td>\n",
       "      <td>1_2_3</td>\n",
       "      <td>0</td>\n",
       "    </tr>\n",
       "    <tr>\n",
       "      <th>020010204</th>\n",
       "      <td>164</td>\n",
       "      <td>164</td>\n",
       "      <td>0</td>\n",
       "      <td>164</td>\n",
       "      <td>1_2_4</td>\n",
       "      <td>0</td>\n",
       "    </tr>\n",
       "  </tbody>\n",
       "</table>\n",
       "</div>"
      ],
      "text/plain": [
       "           COUNTER    0  1  Total CO_FRAC_RA  ratio\n",
       "Código                                             \n",
       "020010101       93   93  0     93      1_1_1      0\n",
       "020010201      162  162  0    162      1_2_1      0\n",
       "020010202      132  132  0    132      1_2_2      0\n",
       "020010203      104  104  0    104      1_2_3      0\n",
       "020010204      164  164  0    164      1_2_4      0"
      ]
     },
     "execution_count": 364,
     "metadata": {},
     "output_type": "execute_result"
    }
   ],
   "source": [
    "df_serv_dom[\"ratio\"] = df_serv_dom[\"1\"] / df_serv_dom[\"Total\"]\n",
    "df_serv_dom.head()"
   ]
  },
  {
   "cell_type": "code",
   "execution_count": 365,
   "metadata": {
    "collapsed": false
   },
   "outputs": [
    {
     "data": {
      "text/plain": [
       "0.0086370021143519996"
      ]
     },
     "execution_count": 365,
     "metadata": {},
     "output_type": "execute_result"
    }
   ],
   "source": [
    "df_serv_dom[\"1\"].sum() / df_serv_dom[\"Total\"].sum()"
   ]
  },
  {
   "cell_type": "code",
   "execution_count": 366,
   "metadata": {
    "collapsed": false
   },
   "outputs": [
    {
     "data": {
      "text/plain": [
       "array([[<matplotlib.axes._subplots.AxesSubplot object at 0x1158f80d0>]], dtype=object)"
      ]
     },
     "execution_count": 366,
     "metadata": {},
     "output_type": "execute_result"
    },
    {
     "data": {
      "image/png": "[encoded data removed]",
      "text/plain": [
       "<matplotlib.figure.Figure at 0x10feff450>"
      ]
     },
     "metadata": {},
     "output_type": "display_data"
    }
   ],
   "source": [
    "df_serv_dom.hist(\"ratio\", bins=20)"
   ]
  },
  {
   "cell_type": "markdown",
   "metadata": {},
   "source": [
    "% de personas de 14 a 25 años sin secundario, que asiste al secundario"
   ]
  },
  {
   "cell_type": "code",
   "execution_count": 367,
   "metadata": {
    "collapsed": true
   },
   "outputs": [],
   "source": [
    "query_asist_sec = \"\"\"\n",
    "RUNDEF programa \n",
    "    SELECTION INLINE,\n",
    "        PROV 02\n",
    "\n",
    "DEFINE RADIO.COUNTER\n",
    "    AS COUNT PERSONA\n",
    "    TYPE INTEGER\n",
    "\n",
    "DEFINE PERSONA.ASISTSEC\n",
    "    AS PERSONA.P08\n",
    "    FOR ((PERSONA.P09 = 1 OR PERSONA.P09 = 2 OR PERSONA.P09 = 3\n",
    "         OR (PERSONA.P09 = 4 AND PERSONA.P08 = 1)) AND PERSONA.EDAD >= 14 AND\n",
    "         PERSONA.EDAD <= 25)\n",
    "    TYPE INTEGER\n",
    "    RANGE 1-3\n",
    "    \n",
    "TABLE T1\n",
    "    AS AREALIST \n",
    "    OF RADIO, RADIO.COUNTER, PERSONA.ASISTSEC\n",
    "\"\"\""
   ]
  },
  {
   "cell_type": "code",
   "execution_count": 368,
   "metadata": {
    "collapsed": false
   },
   "outputs": [
    {
     "data": {
      "text/html": [
       "<div>\n",
       "<table border=\"1\" class=\"dataframe\">\n",
       "  <thead>\n",
       "    <tr style=\"text-align: right;\">\n",
       "      <th></th>\n",
       "      <th>COUNTER</th>\n",
       "      <th>1</th>\n",
       "      <th>2</th>\n",
       "      <th>Total</th>\n",
       "      <th>CO_FRAC_RA</th>\n",
       "    </tr>\n",
       "    <tr>\n",
       "      <th>Código</th>\n",
       "      <th></th>\n",
       "      <th></th>\n",
       "      <th></th>\n",
       "      <th></th>\n",
       "      <th></th>\n",
       "    </tr>\n",
       "  </thead>\n",
       "  <tbody>\n",
       "    <tr>\n",
       "      <th>020010101</th>\n",
       "      <td>336</td>\n",
       "      <td>20</td>\n",
       "      <td>8</td>\n",
       "      <td>28</td>\n",
       "      <td>1_1_1</td>\n",
       "    </tr>\n",
       "    <tr>\n",
       "      <th>020010201</th>\n",
       "      <td>478</td>\n",
       "      <td>51</td>\n",
       "      <td>21</td>\n",
       "      <td>72</td>\n",
       "      <td>1_2_1</td>\n",
       "    </tr>\n",
       "    <tr>\n",
       "      <th>020010202</th>\n",
       "      <td>401</td>\n",
       "      <td>34</td>\n",
       "      <td>21</td>\n",
       "      <td>55</td>\n",
       "      <td>1_2_2</td>\n",
       "    </tr>\n",
       "    <tr>\n",
       "      <th>020010203</th>\n",
       "      <td>337</td>\n",
       "      <td>38</td>\n",
       "      <td>11</td>\n",
       "      <td>49</td>\n",
       "      <td>1_2_3</td>\n",
       "    </tr>\n",
       "    <tr>\n",
       "      <th>020010204</th>\n",
       "      <td>602</td>\n",
       "      <td>79</td>\n",
       "      <td>19</td>\n",
       "      <td>98</td>\n",
       "      <td>1_2_4</td>\n",
       "    </tr>\n",
       "  </tbody>\n",
       "</table>\n",
       "</div>"
      ],
      "text/plain": [
       "           COUNTER   1   2  Total CO_FRAC_RA\n",
       "Código                                      \n",
       "020010101      336  20   8     28      1_1_1\n",
       "020010201      478  51  21     72      1_2_1\n",
       "020010202      401  34  21     55      1_2_2\n",
       "020010203      337  38  11     49      1_2_3\n",
       "020010204      602  79  19     98      1_2_4"
      ]
     },
     "execution_count": 368,
     "metadata": {},
     "output_type": "execute_result"
    }
   ],
   "source": [
    "df_asist_sec = get_data_from_query(\"RADIO\", query_asist_sec, redownload=False)\n",
    "df_asist_sec.head()"
   ]
  },
  {
   "cell_type": "code",
   "execution_count": 369,
   "metadata": {
    "collapsed": false
   },
   "outputs": [
    {
     "name": "stdout",
     "output_type": "stream",
     "text": [
      "172687.0 2890151.0 0.0597501653028\n"
     ]
    }
   ],
   "source": [
    "universo_relevante = df_asist_sec[\"Total\"].sum()\n",
    "personas_totales = df_asist_sec[\"COUNTER\"].sum()\n",
    "print universo_relevante, personas_totales, universo_relevante / personas_totales"
   ]
  },
  {
   "cell_type": "code",
   "execution_count": 370,
   "metadata": {
    "collapsed": false
   },
   "outputs": [
    {
     "data": {
      "text/html": [
       "<div>\n",
       "<table border=\"1\" class=\"dataframe\">\n",
       "  <thead>\n",
       "    <tr style=\"text-align: right;\">\n",
       "      <th></th>\n",
       "      <th>COUNTER</th>\n",
       "      <th>1</th>\n",
       "      <th>2</th>\n",
       "      <th>Total</th>\n",
       "      <th>CO_FRAC_RA</th>\n",
       "      <th>ratio</th>\n",
       "    </tr>\n",
       "    <tr>\n",
       "      <th>Código</th>\n",
       "      <th></th>\n",
       "      <th></th>\n",
       "      <th></th>\n",
       "      <th></th>\n",
       "      <th></th>\n",
       "      <th></th>\n",
       "    </tr>\n",
       "  </thead>\n",
       "  <tbody>\n",
       "    <tr>\n",
       "      <th>020010101</th>\n",
       "      <td>336</td>\n",
       "      <td>20</td>\n",
       "      <td>8</td>\n",
       "      <td>28</td>\n",
       "      <td>1_1_1</td>\n",
       "      <td>0.714286</td>\n",
       "    </tr>\n",
       "    <tr>\n",
       "      <th>020010201</th>\n",
       "      <td>478</td>\n",
       "      <td>51</td>\n",
       "      <td>21</td>\n",
       "      <td>72</td>\n",
       "      <td>1_2_1</td>\n",
       "      <td>0.708333</td>\n",
       "    </tr>\n",
       "    <tr>\n",
       "      <th>020010202</th>\n",
       "      <td>401</td>\n",
       "      <td>34</td>\n",
       "      <td>21</td>\n",
       "      <td>55</td>\n",
       "      <td>1_2_2</td>\n",
       "      <td>0.618182</td>\n",
       "    </tr>\n",
       "    <tr>\n",
       "      <th>020010203</th>\n",
       "      <td>337</td>\n",
       "      <td>38</td>\n",
       "      <td>11</td>\n",
       "      <td>49</td>\n",
       "      <td>1_2_3</td>\n",
       "      <td>0.775510</td>\n",
       "    </tr>\n",
       "    <tr>\n",
       "      <th>020010204</th>\n",
       "      <td>602</td>\n",
       "      <td>79</td>\n",
       "      <td>19</td>\n",
       "      <td>98</td>\n",
       "      <td>1_2_4</td>\n",
       "      <td>0.806122</td>\n",
       "    </tr>\n",
       "  </tbody>\n",
       "</table>\n",
       "</div>"
      ],
      "text/plain": [
       "           COUNTER   1   2  Total CO_FRAC_RA     ratio\n",
       "Código                                                \n",
       "020010101      336  20   8     28      1_1_1  0.714286\n",
       "020010201      478  51  21     72      1_2_1  0.708333\n",
       "020010202      401  34  21     55      1_2_2  0.618182\n",
       "020010203      337  38  11     49      1_2_3  0.775510\n",
       "020010204      602  79  19     98      1_2_4  0.806122"
      ]
     },
     "execution_count": 370,
     "metadata": {},
     "output_type": "execute_result"
    }
   ],
   "source": [
    "df_asist_sec[\"ratio\"] = df_asist_sec[\"1\"] / df_asist_sec[\"Total\"]\n",
    "df_asist_sec.head()"
   ]
  },
  {
   "cell_type": "code",
   "execution_count": 371,
   "metadata": {
    "collapsed": false
   },
   "outputs": [
    {
     "data": {
      "text/plain": [
       "0.87295511532425718"
      ]
     },
     "execution_count": 371,
     "metadata": {},
     "output_type": "execute_result"
    }
   ],
   "source": [
    "df_asist_sec[\"1\"].sum() / df_asist_sec[\"Total\"].sum()"
   ]
  },
  {
   "cell_type": "code",
   "execution_count": 372,
   "metadata": {
    "collapsed": false
   },
   "outputs": [
    {
     "data": {
      "text/plain": [
       "array([[<matplotlib.axes._subplots.AxesSubplot object at 0x114e4abd0>]], dtype=object)"
      ]
     },
     "execution_count": 372,
     "metadata": {},
     "output_type": "execute_result"
    },
    {
     "data": {
      "image/png": "[encoded data removed]",
      "text/plain": [
       "<matplotlib.figure.Figure at 0x1158f2f10>"
      ]
     },
     "metadata": {},
     "output_type": "display_data"
    }
   ],
   "source": [
    "df_asist_sec.hist(\"ratio\", bins=20)"
   ]
  },
  {
   "cell_type": "markdown",
   "metadata": {},
   "source": [
    "*Criterio 3*"
   ]
  },
  {
   "cell_type": "markdown",
   "metadata": {},
   "source": [
    "% de hogares con \"piso precario\""
   ]
  },
  {
   "cell_type": "code",
   "execution_count": 373,
   "metadata": {
    "collapsed": false
   },
   "outputs": [
    {
     "data": {
      "text/html": [
       "<div>\n",
       "<table border=\"1\" class=\"dataframe\">\n",
       "  <thead>\n",
       "    <tr style=\"text-align: right;\">\n",
       "      <th></th>\n",
       "      <th>Cerámica, baldosa, mosaico, mármol, madera o alfombrado</th>\n",
       "      <th>Cemento o ladrillo fijo</th>\n",
       "      <th>Tierra o ladrillo suelto</th>\n",
       "      <th>Otro</th>\n",
       "      <th>Total</th>\n",
       "      <th>CO_FRAC_RA</th>\n",
       "      <th>ratio</th>\n",
       "    </tr>\n",
       "    <tr>\n",
       "      <th>Código</th>\n",
       "      <th></th>\n",
       "      <th></th>\n",
       "      <th></th>\n",
       "      <th></th>\n",
       "      <th></th>\n",
       "      <th></th>\n",
       "      <th></th>\n",
       "    </tr>\n",
       "  </thead>\n",
       "  <tbody>\n",
       "    <tr>\n",
       "      <th>020010101</th>\n",
       "      <td>43</td>\n",
       "      <td>20</td>\n",
       "      <td>0</td>\n",
       "      <td>2</td>\n",
       "      <td>65</td>\n",
       "      <td>1_1_1</td>\n",
       "      <td>0.030769</td>\n",
       "    </tr>\n",
       "    <tr>\n",
       "      <th>020010201</th>\n",
       "      <td>47</td>\n",
       "      <td>95</td>\n",
       "      <td>14</td>\n",
       "      <td>5</td>\n",
       "      <td>161</td>\n",
       "      <td>1_2_1</td>\n",
       "      <td>0.118012</td>\n",
       "    </tr>\n",
       "    <tr>\n",
       "      <th>020010202</th>\n",
       "      <td>46</td>\n",
       "      <td>80</td>\n",
       "      <td>2</td>\n",
       "      <td>0</td>\n",
       "      <td>128</td>\n",
       "      <td>1_2_2</td>\n",
       "      <td>0.015625</td>\n",
       "    </tr>\n",
       "    <tr>\n",
       "      <th>020010203</th>\n",
       "      <td>29</td>\n",
       "      <td>73</td>\n",
       "      <td>1</td>\n",
       "      <td>1</td>\n",
       "      <td>104</td>\n",
       "      <td>1_2_3</td>\n",
       "      <td>0.019231</td>\n",
       "    </tr>\n",
       "    <tr>\n",
       "      <th>020010204</th>\n",
       "      <td>69</td>\n",
       "      <td>91</td>\n",
       "      <td>2</td>\n",
       "      <td>1</td>\n",
       "      <td>163</td>\n",
       "      <td>1_2_4</td>\n",
       "      <td>0.018405</td>\n",
       "    </tr>\n",
       "  </tbody>\n",
       "</table>\n",
       "</div>"
      ],
      "text/plain": [
       "           Cerámica, baldosa, mosaico, mármol, madera o alfombrado  \\\n",
       "Código                                                               \n",
       "020010101                                                 43         \n",
       "020010201                                                 47         \n",
       "020010202                                                 46         \n",
       "020010203                                                 29         \n",
       "020010204                                                 69         \n",
       "\n",
       "           Cemento o ladrillo fijo  Tierra o ladrillo suelto  Otro  Total  \\\n",
       "Código                                                                      \n",
       "020010101                       20                         0     2     65   \n",
       "020010201                       95                        14     5    161   \n",
       "020010202                       80                         2     0    128   \n",
       "020010203                       73                         1     1    104   \n",
       "020010204                       91                         2     1    163   \n",
       "\n",
       "          CO_FRAC_RA     ratio  \n",
       "Código                          \n",
       "020010101      1_1_1  0.030769  \n",
       "020010201      1_2_1  0.118012  \n",
       "020010202      1_2_2  0.015625  \n",
       "020010203      1_2_3  0.019231  \n",
       "020010204      1_2_4  0.018405  "
      ]
     },
     "execution_count": 373,
     "metadata": {},
     "output_type": "execute_result"
    }
   ],
   "source": [
    "df_piso = dfs_radio[11]\n",
    "df_piso[\"ratio\"] = (df_piso[\"Tierra o ladrillo suelto\"] + df_piso[\"Otro\"]) / df_piso[\"Total\"]\n",
    "df_piso.head()"
   ]
  },
  {
   "cell_type": "code",
   "execution_count": 374,
   "metadata": {
    "collapsed": false
   },
   "outputs": [
    {
     "data": {
      "text/plain": [
       "0.0071113452867231121"
      ]
     },
     "execution_count": 374,
     "metadata": {},
     "output_type": "execute_result"
    }
   ],
   "source": [
    "(df_piso[\"Tierra o ladrillo suelto\"].sum() + df_piso[\"Otro\"].sum()) / df_piso[\"Total\"].sum()"
   ]
  },
  {
   "cell_type": "code",
   "execution_count": 375,
   "metadata": {
    "collapsed": false
   },
   "outputs": [
    {
     "data": {
      "text/plain": [
       "(0.77777777777777779, 0.0070729021688079267, 0.0)"
      ]
     },
     "execution_count": 375,
     "metadata": {},
     "output_type": "execute_result"
    }
   ],
   "source": [
    "df_piso[\"ratio\"].max(), df_piso[\"ratio\"].mean(), df_piso[\"ratio\"].min()"
   ]
  },
  {
   "cell_type": "code",
   "execution_count": 376,
   "metadata": {
    "collapsed": false
   },
   "outputs": [
    {
     "data": {
      "text/plain": [
       "array([[<matplotlib.axes._subplots.AxesSubplot object at 0x112d13850>]], dtype=object)"
      ]
     },
     "execution_count": 376,
     "metadata": {},
     "output_type": "execute_result"
    },
    {
     "data": {
      "image/png": "[encoded data removed]",
      "text/plain": [
       "<matplotlib.figure.Figure at 0x114e30050>"
      ]
     },
     "metadata": {},
     "output_type": "display_data"
    }
   ],
   "source": [
    "df_piso[df_piso[\"ratio\"] < 0.05].hist(\"ratio\", bins=100)"
   ]
  },
  {
   "cell_type": "markdown",
   "metadata": {},
   "source": [
    "% de personas entre 18 y 29 años que usa computadora"
   ]
  },
  {
   "cell_type": "code",
   "execution_count": 377,
   "metadata": {
    "collapsed": false
   },
   "outputs": [],
   "source": [
    "query_joven_compu = \"\"\"\n",
    "RUNDEF programa \n",
    "    SELECTION INLINE,\n",
    "        PROV 02\n",
    "\n",
    "DEFINE RADIO.COUNTER\n",
    "    AS COUNT PERSONA\n",
    "    TYPE INTEGER\n",
    "\n",
    "DEFINE PERSONA.USACOMPU\n",
    "    AS PERSONA.P12\n",
    "    FOR (PERSONA.EDAD >= 18 AND PERSONA.EDAD <= 29)\n",
    "    TYPE INTEGER\n",
    "    RANGE 1-2\n",
    "    \n",
    "TABLE T1\n",
    "    AS AREALIST \n",
    "    OF RADIO, RADIO.COUNTER, PERSONA.USACOMPU\n",
    "\"\"\""
   ]
  },
  {
   "cell_type": "code",
   "execution_count": 378,
   "metadata": {
    "collapsed": false
   },
   "outputs": [
    {
     "data": {
      "text/html": [
       "<div>\n",
       "<table border=\"1\" class=\"dataframe\">\n",
       "  <thead>\n",
       "    <tr style=\"text-align: right;\">\n",
       "      <th></th>\n",
       "      <th>COUNTER</th>\n",
       "      <th>1</th>\n",
       "      <th>2</th>\n",
       "      <th>Total</th>\n",
       "      <th>CO_FRAC_RA</th>\n",
       "    </tr>\n",
       "    <tr>\n",
       "      <th>Código</th>\n",
       "      <th></th>\n",
       "      <th></th>\n",
       "      <th></th>\n",
       "      <th></th>\n",
       "      <th></th>\n",
       "    </tr>\n",
       "  </thead>\n",
       "  <tbody>\n",
       "    <tr>\n",
       "      <th>020010101</th>\n",
       "      <td>336</td>\n",
       "      <td>46</td>\n",
       "      <td>14</td>\n",
       "      <td>60</td>\n",
       "      <td>1_1_1</td>\n",
       "    </tr>\n",
       "    <tr>\n",
       "      <th>020010201</th>\n",
       "      <td>478</td>\n",
       "      <td>91</td>\n",
       "      <td>45</td>\n",
       "      <td>136</td>\n",
       "      <td>1_2_1</td>\n",
       "    </tr>\n",
       "    <tr>\n",
       "      <th>020010202</th>\n",
       "      <td>401</td>\n",
       "      <td>58</td>\n",
       "      <td>47</td>\n",
       "      <td>105</td>\n",
       "      <td>1_2_2</td>\n",
       "    </tr>\n",
       "    <tr>\n",
       "      <th>020010203</th>\n",
       "      <td>337</td>\n",
       "      <td>64</td>\n",
       "      <td>25</td>\n",
       "      <td>89</td>\n",
       "      <td>1_2_3</td>\n",
       "    </tr>\n",
       "    <tr>\n",
       "      <th>020010204</th>\n",
       "      <td>602</td>\n",
       "      <td>124</td>\n",
       "      <td>35</td>\n",
       "      <td>159</td>\n",
       "      <td>1_2_4</td>\n",
       "    </tr>\n",
       "  </tbody>\n",
       "</table>\n",
       "</div>"
      ],
      "text/plain": [
       "           COUNTER    1   2  Total CO_FRAC_RA\n",
       "Código                                       \n",
       "020010101      336   46  14     60      1_1_1\n",
       "020010201      478   91  45    136      1_2_1\n",
       "020010202      401   58  47    105      1_2_2\n",
       "020010203      337   64  25     89      1_2_3\n",
       "020010204      602  124  35    159      1_2_4"
      ]
     },
     "execution_count": 378,
     "metadata": {},
     "output_type": "execute_result"
    }
   ],
   "source": [
    "df_joven_compu = get_data_from_query(\"RADIO\", query_joven_compu, redownload=False)\n",
    "df_joven_compu.head()"
   ]
  },
  {
   "cell_type": "code",
   "execution_count": 379,
   "metadata": {
    "collapsed": false
   },
   "outputs": [
    {
     "name": "stdout",
     "output_type": "stream",
     "text": [
      "540727.0 2890151.0 0.187092992719\n"
     ]
    }
   ],
   "source": [
    "universo_relevante = df_joven_compu[\"Total\"].sum()\n",
    "personas_totales = df_joven_compu[\"COUNTER\"].sum()\n",
    "print universo_relevante, personas_totales, universo_relevante / personas_totales"
   ]
  },
  {
   "cell_type": "code",
   "execution_count": 380,
   "metadata": {
    "collapsed": false
   },
   "outputs": [
    {
     "data": {
      "text/html": [
       "<div>\n",
       "<table border=\"1\" class=\"dataframe\">\n",
       "  <thead>\n",
       "    <tr style=\"text-align: right;\">\n",
       "      <th></th>\n",
       "      <th>COUNTER</th>\n",
       "      <th>1</th>\n",
       "      <th>2</th>\n",
       "      <th>Total</th>\n",
       "      <th>CO_FRAC_RA</th>\n",
       "      <th>ratio</th>\n",
       "    </tr>\n",
       "    <tr>\n",
       "      <th>Código</th>\n",
       "      <th></th>\n",
       "      <th></th>\n",
       "      <th></th>\n",
       "      <th></th>\n",
       "      <th></th>\n",
       "      <th></th>\n",
       "    </tr>\n",
       "  </thead>\n",
       "  <tbody>\n",
       "    <tr>\n",
       "      <th>020010101</th>\n",
       "      <td>336</td>\n",
       "      <td>46</td>\n",
       "      <td>14</td>\n",
       "      <td>60</td>\n",
       "      <td>1_1_1</td>\n",
       "      <td>0.766667</td>\n",
       "    </tr>\n",
       "    <tr>\n",
       "      <th>020010201</th>\n",
       "      <td>478</td>\n",
       "      <td>91</td>\n",
       "      <td>45</td>\n",
       "      <td>136</td>\n",
       "      <td>1_2_1</td>\n",
       "      <td>0.669118</td>\n",
       "    </tr>\n",
       "    <tr>\n",
       "      <th>020010202</th>\n",
       "      <td>401</td>\n",
       "      <td>58</td>\n",
       "      <td>47</td>\n",
       "      <td>105</td>\n",
       "      <td>1_2_2</td>\n",
       "      <td>0.552381</td>\n",
       "    </tr>\n",
       "    <tr>\n",
       "      <th>020010203</th>\n",
       "      <td>337</td>\n",
       "      <td>64</td>\n",
       "      <td>25</td>\n",
       "      <td>89</td>\n",
       "      <td>1_2_3</td>\n",
       "      <td>0.719101</td>\n",
       "    </tr>\n",
       "    <tr>\n",
       "      <th>020010204</th>\n",
       "      <td>602</td>\n",
       "      <td>124</td>\n",
       "      <td>35</td>\n",
       "      <td>159</td>\n",
       "      <td>1_2_4</td>\n",
       "      <td>0.779874</td>\n",
       "    </tr>\n",
       "  </tbody>\n",
       "</table>\n",
       "</div>"
      ],
      "text/plain": [
       "           COUNTER    1   2  Total CO_FRAC_RA     ratio\n",
       "Código                                                 \n",
       "020010101      336   46  14     60      1_1_1  0.766667\n",
       "020010201      478   91  45    136      1_2_1  0.669118\n",
       "020010202      401   58  47    105      1_2_2  0.552381\n",
       "020010203      337   64  25     89      1_2_3  0.719101\n",
       "020010204      602  124  35    159      1_2_4  0.779874"
      ]
     },
     "execution_count": 380,
     "metadata": {},
     "output_type": "execute_result"
    }
   ],
   "source": [
    "df_joven_compu[\"ratio\"] = df_joven_compu[\"1\"] / df_joven_compu[\"Total\"]\n",
    "df_joven_compu.head()"
   ]
  },
  {
   "cell_type": "code",
   "execution_count": 381,
   "metadata": {
    "collapsed": false
   },
   "outputs": [
    {
     "data": {
      "text/plain": [
       "0.89974608258881095"
      ]
     },
     "execution_count": 381,
     "metadata": {},
     "output_type": "execute_result"
    }
   ],
   "source": [
    "df_joven_compu[\"1\"].sum() / df_joven_compu[\"Total\"].sum()"
   ]
  },
  {
   "cell_type": "code",
   "execution_count": 382,
   "metadata": {
    "collapsed": false
   },
   "outputs": [
    {
     "data": {
      "text/plain": [
       "array([[<matplotlib.axes._subplots.AxesSubplot object at 0x1131a7810>]], dtype=object)"
      ]
     },
     "execution_count": 382,
     "metadata": {},
     "output_type": "execute_result"
    },
    {
     "data": {
      "image/png": "[encoded data removed]",
      "text/plain": [
       "<matplotlib.figure.Figure at 0x10cca4c10>"
      ]
     },
     "metadata": {},
     "output_type": "display_data"
    }
   ],
   "source": [
    "df_joven_compu.hist(\"ratio\", bins=20)"
   ]
  },
  {
   "cell_type": "markdown",
   "metadata": {},
   "source": [
    "*Criterio 4*"
   ]
  },
  {
   "cell_type": "markdown",
   "metadata": {},
   "source": [
    "% de personas con desagüe a hoyo o pozo"
   ]
  },
  {
   "cell_type": "code",
   "execution_count": 383,
   "metadata": {
    "collapsed": true
   },
   "outputs": [],
   "source": [
    "df_desague = dfs_radio[12]"
   ]
  },
  {
   "cell_type": "code",
   "execution_count": 384,
   "metadata": {
    "collapsed": false
   },
   "outputs": [
    {
     "data": {
      "text/html": [
       "<div>\n",
       "<table border=\"1\" class=\"dataframe\">\n",
       "  <thead>\n",
       "    <tr style=\"text-align: right;\">\n",
       "      <th></th>\n",
       "      <th>A red pública (cloaca)</th>\n",
       "      <th>A cámara séptica y pozo ciego</th>\n",
       "      <th>Sólo a pozo ciego</th>\n",
       "      <th>A hoyo, excavación en la tierra, etc.</th>\n",
       "      <th>Total</th>\n",
       "      <th>CO_FRAC_RA</th>\n",
       "      <th>ratio</th>\n",
       "    </tr>\n",
       "    <tr>\n",
       "      <th>Código</th>\n",
       "      <th></th>\n",
       "      <th></th>\n",
       "      <th></th>\n",
       "      <th></th>\n",
       "      <th></th>\n",
       "      <th></th>\n",
       "      <th></th>\n",
       "    </tr>\n",
       "  </thead>\n",
       "  <tbody>\n",
       "    <tr>\n",
       "      <th>020010101</th>\n",
       "      <td>60</td>\n",
       "      <td>3</td>\n",
       "      <td>1</td>\n",
       "      <td>1</td>\n",
       "      <td>65</td>\n",
       "      <td>1_1_1</td>\n",
       "      <td>0.030769</td>\n",
       "    </tr>\n",
       "    <tr>\n",
       "      <th>020010201</th>\n",
       "      <td>124</td>\n",
       "      <td>2</td>\n",
       "      <td>8</td>\n",
       "      <td>0</td>\n",
       "      <td>134</td>\n",
       "      <td>1_2_1</td>\n",
       "      <td>0.059701</td>\n",
       "    </tr>\n",
       "    <tr>\n",
       "      <th>020010202</th>\n",
       "      <td>111</td>\n",
       "      <td>9</td>\n",
       "      <td>6</td>\n",
       "      <td>0</td>\n",
       "      <td>126</td>\n",
       "      <td>1_2_2</td>\n",
       "      <td>0.047619</td>\n",
       "    </tr>\n",
       "    <tr>\n",
       "      <th>020010203</th>\n",
       "      <td>87</td>\n",
       "      <td>9</td>\n",
       "      <td>3</td>\n",
       "      <td>0</td>\n",
       "      <td>99</td>\n",
       "      <td>1_2_3</td>\n",
       "      <td>0.030303</td>\n",
       "    </tr>\n",
       "    <tr>\n",
       "      <th>020010204</th>\n",
       "      <td>155</td>\n",
       "      <td>5</td>\n",
       "      <td>2</td>\n",
       "      <td>0</td>\n",
       "      <td>162</td>\n",
       "      <td>1_2_4</td>\n",
       "      <td>0.012346</td>\n",
       "    </tr>\n",
       "  </tbody>\n",
       "</table>\n",
       "</div>"
      ],
      "text/plain": [
       "           A red pública (cloaca)  A cámara séptica y pozo ciego  \\\n",
       "Código                                                             \n",
       "020010101                      60                              3   \n",
       "020010201                     124                              2   \n",
       "020010202                     111                              9   \n",
       "020010203                      87                              9   \n",
       "020010204                     155                              5   \n",
       "\n",
       "           Sólo a pozo ciego  A hoyo, excavación en la tierra, etc.  Total  \\\n",
       "Código                                                                       \n",
       "020010101                  1                                      1     65   \n",
       "020010201                  8                                      0    134   \n",
       "020010202                  6                                      0    126   \n",
       "020010203                  3                                      0     99   \n",
       "020010204                  2                                      0    162   \n",
       "\n",
       "          CO_FRAC_RA     ratio  \n",
       "Código                          \n",
       "020010101      1_1_1  0.030769  \n",
       "020010201      1_2_1  0.059701  \n",
       "020010202      1_2_2  0.047619  \n",
       "020010203      1_2_3  0.030303  \n",
       "020010204      1_2_4  0.012346  "
      ]
     },
     "execution_count": 384,
     "metadata": {},
     "output_type": "execute_result"
    }
   ],
   "source": [
    "df_desague[\"ratio\"] = (df_desague[\"Sólo a pozo ciego\".decode(\"utf-8\")] + \n",
    "                       df_desague[\"A hoyo, excavación en la tierra, etc.\".decode(\"utf-8\")]) / df_desague[\"Total\"]\n",
    "df_desague.head()"
   ]
  },
  {
   "cell_type": "code",
   "execution_count": 385,
   "metadata": {
    "collapsed": false
   },
   "outputs": [
    {
     "data": {
      "text/plain": [
       "0.0040159304127576614"
      ]
     },
     "execution_count": 385,
     "metadata": {},
     "output_type": "execute_result"
    }
   ],
   "source": [
    "(df_desague[\"Sólo a pozo ciego\".decode(\"utf-8\")].sum() + \n",
    " df_desague[\"A hoyo, excavación en la tierra, etc.\".decode(\"utf-8\")].sum()) / df_desague[\"Total\"].sum()"
   ]
  },
  {
   "cell_type": "code",
   "execution_count": 386,
   "metadata": {
    "collapsed": false
   },
   "outputs": [
    {
     "data": {
      "text/plain": [
       "(0.75839999999999996, 0.0036487894407812569, 0.0)"
      ]
     },
     "execution_count": 386,
     "metadata": {},
     "output_type": "execute_result"
    }
   ],
   "source": [
    "df_desague[\"ratio\"].max(), df_desague[\"ratio\"].mean(), df_desague[\"ratio\"].min()"
   ]
  },
  {
   "cell_type": "code",
   "execution_count": 387,
   "metadata": {
    "collapsed": false
   },
   "outputs": [
    {
     "data": {
      "text/plain": [
       "array([[<matplotlib.axes._subplots.AxesSubplot object at 0x114c05650>]], dtype=object)"
      ]
     },
     "execution_count": 387,
     "metadata": {},
     "output_type": "execute_result"
    },
    {
     "data": {
      "image/png": "[encoded data removed]",
      "text/plain": [
       "<matplotlib.figure.Figure at 0x10fcbc490>"
      ]
     },
     "metadata": {},
     "output_type": "display_data"
    }
   ],
   "source": [
    "df_desague[df_desague[\"ratio\"] < 0.02].hist(\"ratio\", bins=20)"
   ]
  },
  {
   "cell_type": "markdown",
   "metadata": {},
   "source": [
    "% de hogares con jefes con educación secundaria completa"
   ]
  },
  {
   "cell_type": "code",
   "execution_count": 388,
   "metadata": {
    "collapsed": true
   },
   "outputs": [],
   "source": [
    "query_jefe_secun = \"\"\"\n",
    "RUNDEF programa \n",
    "    SELECTION INLINE,\n",
    "        PROV 02\n",
    "\n",
    "DEFINE RADIO.COUNTER\n",
    "    AS COUNT HOGAR\n",
    "    TYPE INTEGER\n",
    "\n",
    "DEFINE HOGAR.EDUCJEFE \n",
    "    AS PERSONA.P09\n",
    "    FOR PERSONA.P01 = 1 \n",
    "    RANGE 1-9\n",
    "    TYPE INTEGER\n",
    "    VARLABEL \"Nivel educativo del jefe del hogar\" \n",
    "\n",
    "DEFINE HOGAR.JEFETER\n",
    "    AS PERSONA.P10\n",
    "    FOR PERSONA.P01 = 1 \n",
    "    RANGE 1-2\n",
    "    TYPE INTEGER\n",
    "    VARLABEL \"Jefe de hogar terminó el nivel educativo\" \n",
    "\n",
    "DEFINE HOGAR.JEFEUNIV\n",
    "    AS (HOGAR.EDUCJEFE = 8 OR HOGAR.EDUCJEFE = 7 OR HOGAR.EDUCJEFE = 6 OR\n",
    "        ((HOGAR.EDUCJEFE = 5 OR HOGAR.EDUCJEFE = 4) AND HOGAR.JEFETER = 1))\n",
    "    TYPE INTEGER\n",
    "    RANGE 0-1\n",
    "\n",
    "TABLE T1\n",
    "    AS AREALIST \n",
    "    OF RADIO, RADIO.COUNTER, HOGAR.JEFEUNIV\n",
    "\"\"\""
   ]
  },
  {
   "cell_type": "code",
   "execution_count": 389,
   "metadata": {
    "collapsed": false
   },
   "outputs": [
    {
     "data": {
      "text/html": [
       "<div>\n",
       "<table border=\"1\" class=\"dataframe\">\n",
       "  <thead>\n",
       "    <tr style=\"text-align: right;\">\n",
       "      <th></th>\n",
       "      <th>COUNTER</th>\n",
       "      <th>0</th>\n",
       "      <th>1</th>\n",
       "      <th>Total</th>\n",
       "      <th>CO_FRAC_RA</th>\n",
       "    </tr>\n",
       "    <tr>\n",
       "      <th>Código</th>\n",
       "      <th></th>\n",
       "      <th></th>\n",
       "      <th></th>\n",
       "      <th></th>\n",
       "      <th></th>\n",
       "    </tr>\n",
       "  </thead>\n",
       "  <tbody>\n",
       "    <tr>\n",
       "      <th>020010101</th>\n",
       "      <td>93</td>\n",
       "      <td>41</td>\n",
       "      <td>47</td>\n",
       "      <td>88</td>\n",
       "      <td>1_1_1</td>\n",
       "    </tr>\n",
       "    <tr>\n",
       "      <th>020010201</th>\n",
       "      <td>162</td>\n",
       "      <td>108</td>\n",
       "      <td>50</td>\n",
       "      <td>158</td>\n",
       "      <td>1_2_1</td>\n",
       "    </tr>\n",
       "    <tr>\n",
       "      <th>020010202</th>\n",
       "      <td>132</td>\n",
       "      <td>90</td>\n",
       "      <td>38</td>\n",
       "      <td>128</td>\n",
       "      <td>1_2_2</td>\n",
       "    </tr>\n",
       "    <tr>\n",
       "      <th>020010203</th>\n",
       "      <td>104</td>\n",
       "      <td>66</td>\n",
       "      <td>35</td>\n",
       "      <td>101</td>\n",
       "      <td>1_2_3</td>\n",
       "    </tr>\n",
       "    <tr>\n",
       "      <th>020010204</th>\n",
       "      <td>164</td>\n",
       "      <td>112</td>\n",
       "      <td>46</td>\n",
       "      <td>158</td>\n",
       "      <td>1_2_4</td>\n",
       "    </tr>\n",
       "  </tbody>\n",
       "</table>\n",
       "</div>"
      ],
      "text/plain": [
       "           COUNTER    0   1  Total CO_FRAC_RA\n",
       "Código                                       \n",
       "020010101       93   41  47     88      1_1_1\n",
       "020010201      162  108  50    158      1_2_1\n",
       "020010202      132   90  38    128      1_2_2\n",
       "020010203      104   66  35    101      1_2_3\n",
       "020010204      164  112  46    158      1_2_4"
      ]
     },
     "execution_count": 389,
     "metadata": {},
     "output_type": "execute_result"
    }
   ],
   "source": [
    "df_jefe_secun = get_data_from_query(\"RADIO\", query_jefe_secun, redownload=False)\n",
    "df_jefe_secun.head()"
   ]
  },
  {
   "cell_type": "code",
   "execution_count": 390,
   "metadata": {
    "collapsed": false
   },
   "outputs": [
    {
     "name": "stdout",
     "output_type": "stream",
     "text": [
      "1141371.0 1152599.0 0.990258537445\n"
     ]
    }
   ],
   "source": [
    "universo_relevante = df_jefe_secun[\"Total\"].sum()\n",
    "hogares_totales = df_jefe_secun[\"COUNTER\"].sum()\n",
    "print universo_relevante, hogares_totales, universo_relevante / hogares_totales"
   ]
  },
  {
   "cell_type": "code",
   "execution_count": 391,
   "metadata": {
    "collapsed": false
   },
   "outputs": [
    {
     "data": {
      "text/html": [
       "<div>\n",
       "<table border=\"1\" class=\"dataframe\">\n",
       "  <thead>\n",
       "    <tr style=\"text-align: right;\">\n",
       "      <th></th>\n",
       "      <th>COUNTER</th>\n",
       "      <th>0</th>\n",
       "      <th>1</th>\n",
       "      <th>Total</th>\n",
       "      <th>CO_FRAC_RA</th>\n",
       "      <th>ratio</th>\n",
       "    </tr>\n",
       "    <tr>\n",
       "      <th>Código</th>\n",
       "      <th></th>\n",
       "      <th></th>\n",
       "      <th></th>\n",
       "      <th></th>\n",
       "      <th></th>\n",
       "      <th></th>\n",
       "    </tr>\n",
       "  </thead>\n",
       "  <tbody>\n",
       "    <tr>\n",
       "      <th>020010101</th>\n",
       "      <td>93</td>\n",
       "      <td>41</td>\n",
       "      <td>47</td>\n",
       "      <td>88</td>\n",
       "      <td>1_1_1</td>\n",
       "      <td>0.534091</td>\n",
       "    </tr>\n",
       "    <tr>\n",
       "      <th>020010201</th>\n",
       "      <td>162</td>\n",
       "      <td>108</td>\n",
       "      <td>50</td>\n",
       "      <td>158</td>\n",
       "      <td>1_2_1</td>\n",
       "      <td>0.316456</td>\n",
       "    </tr>\n",
       "    <tr>\n",
       "      <th>020010202</th>\n",
       "      <td>132</td>\n",
       "      <td>90</td>\n",
       "      <td>38</td>\n",
       "      <td>128</td>\n",
       "      <td>1_2_2</td>\n",
       "      <td>0.296875</td>\n",
       "    </tr>\n",
       "    <tr>\n",
       "      <th>020010203</th>\n",
       "      <td>104</td>\n",
       "      <td>66</td>\n",
       "      <td>35</td>\n",
       "      <td>101</td>\n",
       "      <td>1_2_3</td>\n",
       "      <td>0.346535</td>\n",
       "    </tr>\n",
       "    <tr>\n",
       "      <th>020010204</th>\n",
       "      <td>164</td>\n",
       "      <td>112</td>\n",
       "      <td>46</td>\n",
       "      <td>158</td>\n",
       "      <td>1_2_4</td>\n",
       "      <td>0.291139</td>\n",
       "    </tr>\n",
       "  </tbody>\n",
       "</table>\n",
       "</div>"
      ],
      "text/plain": [
       "           COUNTER    0   1  Total CO_FRAC_RA     ratio\n",
       "Código                                                 \n",
       "020010101       93   41  47     88      1_1_1  0.534091\n",
       "020010201      162  108  50    158      1_2_1  0.316456\n",
       "020010202      132   90  38    128      1_2_2  0.296875\n",
       "020010203      104   66  35    101      1_2_3  0.346535\n",
       "020010204      164  112  46    158      1_2_4  0.291139"
      ]
     },
     "execution_count": 391,
     "metadata": {},
     "output_type": "execute_result"
    }
   ],
   "source": [
    "df_jefe_secun[\"ratio\"] = df_jefe_secun[\"1\"] / df_jefe_secun[\"Total\"]\n",
    "df_jefe_secun.head()"
   ]
  },
  {
   "cell_type": "code",
   "execution_count": 392,
   "metadata": {
    "collapsed": false
   },
   "outputs": [
    {
     "name": "stdout",
     "output_type": "stream",
     "text": [
      "0.716206211652\n"
     ]
    }
   ],
   "source": [
    "print df_jefe_secun[\"1\"].sum() / df_jefe_secun[\"Total\"].sum()"
   ]
  },
  {
   "cell_type": "code",
   "execution_count": 393,
   "metadata": {
    "collapsed": false
   },
   "outputs": [
    {
     "data": {
      "text/plain": [
       "array([[<matplotlib.axes._subplots.AxesSubplot object at 0x113765790>]], dtype=object)"
      ]
     },
     "execution_count": 393,
     "metadata": {},
     "output_type": "execute_result"
    },
    {
     "data": {
      "image/png": "[encoded data removed]",
      "text/plain": [
       "<matplotlib.figure.Figure at 0x1142d5510>"
      ]
     },
     "metadata": {},
     "output_type": "display_data"
    }
   ],
   "source": [
    "df_jefe_secun.hist(\"ratio\", bins=20)"
   ]
  },
  {
   "cell_type": "code",
   "execution_count": 394,
   "metadata": {
    "collapsed": false
   },
   "outputs": [],
   "source": [
    "from scripts.nse import NSE\n",
    "\n",
    "indicators = {\n",
    "    \"con_satisf\": (0.6, indicators_radio[\"con_satisf\"]),\n",
    "    \"pers_domestico\": (0.03, df_serv_dom[\"ratio\"]),\n",
    "    \"asist_secundario\": (0.6, df_asist_sec[\"ratio\"]),\n",
    "    \"jefes_univ\": (0.4, df_educ_jefes[\"ratio\"]),\n",
    "    \"piso_c3\": (0.01, df_piso[\"ratio\"]),\n",
    "    \"piso_c4\": (0.99, df_piso[\"ratio\"]),\n",
    "    \"joven_compu\": (0.85, df_joven_compu[\"ratio\"]),\n",
    "    \"desague\": (0.1, df_desague[\"ratio\"]),\n",
    "    \"jefe_secun\": (0.85, df_jefe_secun[\"ratio\"])\n",
    "}\n",
    "\n",
    "nse = NSE(indicators)\n",
    "nse.calc(nse_alt)"
   ]
  },
  {
   "cell_type": "code",
   "execution_count": 395,
   "metadata": {
    "collapsed": false
   },
   "outputs": [
    {
     "data": {
      "text/plain": [
       "nse_alt\n",
       "1    0.048813\n",
       "2    0.112873\n",
       "3    0.592083\n",
       "4    0.108028\n",
       "5    0.081543\n",
       "6    0.042207\n",
       "7    0.014453\n",
       "Name: hab, dtype: float64"
      ]
     },
     "execution_count": 395,
     "metadata": {},
     "output_type": "execute_result"
    }
   ],
   "source": [
    "nse_alt[\"hab\"] = indicators_radio[\"hab\"]\n",
    "total = pd.pivot_table(nse_alt, values='hab', columns=[\"nse_alt\"], aggfunc=np.sum).sum()\n",
    "parcial = pd.pivot_table(nse_alt, values='hab', columns=[\"nse_alt\"], aggfunc=np.sum)\n",
    "serie_per = parcial / total\n",
    "serie_per\n",
    "#serie_per.plot()"
   ]
  },
  {
   "cell_type": "code",
   "execution_count": 396,
   "metadata": {
    "collapsed": false,
    "scrolled": false
   },
   "outputs": [
    {
     "data": {
      "image/png": "[encoded data removed]",
      "text/plain": [
       "<matplotlib.figure.Figure at 0x116c90ed0>"
      ]
     },
     "metadata": {},
     "output_type": "display_data"
    },
    {
     "data": {
      "image/png": "[encoded data removed]",
      "text/plain": [
       "<matplotlib.figure.Figure at 0x1158fb6d0>"
      ]
     },
     "metadata": {},
     "output_type": "display_data"
    }
   ],
   "source": [
    "hists = np.append(nse_alt.hist([\"c1\", \"c3\"], bins=2, range=(1, 3), figsize=(12, 4))[0],\n",
    "                  nse_alt.hist([\"c2\", \"c4\"], bins=4, range=(1, 5), figsize=(12, 4))[0])\n",
    "hists = [hist.set_ylim((0, len(nse_alt))) for hist in hists]"
   ]
  },
  {
   "cell_type": "code",
   "execution_count": 397,
   "metadata": {
    "collapsed": false
   },
   "outputs": [
    {
     "data": {
      "text/plain": [
       "(0, 3553)"
      ]
     },
     "execution_count": 397,
     "metadata": {},
     "output_type": "execute_result"
    },
    {
     "data": {
      "image/png": "[encoded data removed]",
      "text/plain": [
       "<matplotlib.figure.Figure at 0x116cef3d0>"
      ]
     },
     "metadata": {},
     "output_type": "display_data"
    }
   ],
   "source": [
    "nse_alt.hist(\"nse_alt\", bins=7, range=(1, 8))[0][0].set_ylim((0, len(nse_alt)))"
   ]
  },
  {
   "cell_type": "code",
   "execution_count": 398,
   "metadata": {
    "collapsed": false
   },
   "outputs": [],
   "source": [
    "indicators_radio[\"nse_alt\"] = nse_alt[\"nse_alt\"]"
   ]
  },
  {
   "cell_type": "markdown",
   "metadata": {},
   "source": [
    "## Guardar indicadores en csv"
   ]
  },
  {
   "cell_type": "code",
   "execution_count": 399,
   "metadata": {
    "collapsed": false
   },
   "outputs": [],
   "source": [
    "indicators_radio.to_csv(get_indicators_path(\"RADIO\"), encoding=\"utf-8\")\n",
    "indicators_frac.to_csv(get_indicators_path(\"FRAC\"), encoding=\"utf-8\")\n",
    "indicators_comuna.to_csv(get_indicators_path(\"DPTO\"), encoding=\"utf-8\")\n",
    "indicators_caba.to_csv(get_indicators_path(\"PROV\"), encoding=\"utf-8\")"
   ]
  },
  {
   "cell_type": "markdown",
   "metadata": {},
   "source": [
    "## Añadir indicadores a sus shapefiles"
   ]
  },
  {
   "cell_type": "code",
   "execution_count": 400,
   "metadata": {
    "collapsed": false
   },
   "outputs": [],
   "source": [
    "join_df_with_shp(get_division_path(\"radios_censo_2010\"), indicators_radio.set_index(\"CO_FRAC_RA\"), \"indicadores\")\n",
    "join_df_with_shp(get_division_path(\"fracciones_caba_censo_2010\"), indicators_frac.set_index(\"CO_FRACC\"), \"indicadores\")\n",
    "join_df_with_shp(get_division_path(\"comunas_caba_censo_2010\"), indicators_comuna.set_index(\"COMUNAS\"), \"indicadores\")"
   ]
  }
 ],
 "metadata": {
  "kernelspec": {
   "display_name": "Python 2",
   "language": "python",
   "name": "python2"
  },
  "language_info": {
   "codemirror_mode": {
    "name": "ipython",
    "version": 2
   },
   "file_extension": ".py",
   "mimetype": "text/x-python",
   "name": "python",
   "nbconvert_exporter": "python",
   "pygments_lexer": "ipython2",
   "version": "2.7.10"
  }
 },
 "nbformat": 4,
 "nbformat_minor": 0
}
