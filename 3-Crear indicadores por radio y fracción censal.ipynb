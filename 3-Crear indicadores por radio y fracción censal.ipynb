{
 "cells": [
  {
   "cell_type": "code",
   "execution_count": 4,
   "metadata": {
    "collapsed": false
   },
   "outputs": [],
   "source": [
    "import pyredatam\n",
    "from pyredatam import cpv2010arg\n",
    "import os\n",
    "import pandas as pd\n",
    "from scripts.path_finders import get_indicators_path\n",
    "from scripts.create_indicators import get_data, replace_index"
   ]
  },
  {
   "cell_type": "markdown",
   "metadata": {},
   "source": [
    "Cargamos todos los datos necesarios de la base REDATAM en data frames."
   ]
  },
  {
   "cell_type": "code",
   "execution_count": 5,
   "metadata": {
    "collapsed": true
   },
   "outputs": [],
   "source": [
    "variables = [\"PERSONA.CONDACT\", \"VIVIENDA.V02\", \"PERSONA.EDADAGRU\",\n",
    "             \"VIVIENDA.INCALCONS\", \"VIVIENDA.INCALSERV\", \"HOGAR.ALGUNBI\",\n",
    "             \"HOGAR.INDHAC\"]"
   ]
  },
  {
   "cell_type": "code",
   "execution_count": 6,
   "metadata": {
    "collapsed": false
   },
   "outputs": [],
   "source": [
    "dfs_frac = [get_data(\"FRAC\", variable) for variable in variables]\n",
    "dfs_radio = [get_data(\"RADIO\", variable) for variable in variables]"
   ]
  },
  {
   "cell_type": "code",
   "execution_count": 7,
   "metadata": {
    "collapsed": false
   },
   "outputs": [],
   "source": [
    "dfs_frac = [replace_index(df, 7) for df in dfs_frac]\n",
    "dfs_radio = [replace_index(df, 9) for df in dfs_radio]"
   ]
  },
  {
   "cell_type": "markdown",
   "metadata": {},
   "source": [
    "## Chequeos de consistencia"
   ]
  },
  {
   "cell_type": "code",
   "execution_count": 8,
   "metadata": {
    "collapsed": false
   },
   "outputs": [
    {
     "data": {
      "text/plain": [
       "[351, 351, 351, 351, 351, 351, 351]"
      ]
     },
     "execution_count": 8,
     "metadata": {},
     "output_type": "execute_result"
    }
   ],
   "source": [
    "[len(df_frac) for df_frac in dfs_frac]"
   ]
  },
  {
   "cell_type": "code",
   "execution_count": 9,
   "metadata": {
    "collapsed": false
   },
   "outputs": [
    {
     "data": {
      "text/plain": [
       "[3553, 3553, 3553, 3553, 3553, 3553, 3553]"
      ]
     },
     "execution_count": 9,
     "metadata": {},
     "output_type": "execute_result"
    }
   ],
   "source": [
    "[len(df_radio) for df_radio in dfs_radio]"
   ]
  },
  {
   "cell_type": "markdown",
   "metadata": {},
   "source": [
    "Los totales de los datos deben coincidir"
   ]
  },
  {
   "cell_type": "code",
   "execution_count": 10,
   "metadata": {
    "collapsed": false
   },
   "outputs": [
    {
     "name": "stdout",
     "output_type": "stream",
     "text": [
      "PERSONA.CONDACT    2390725.0 2390725.0 True\n",
      "VIVIENDA.V02       1423973.0 1423973.0 True\n",
      "PERSONA.EDADAGRU   2890151.0 2890151.0 True\n",
      "VIVIENDA.INCALCONS 1082998.0 1082998.0 True\n",
      "VIVIENDA.INCALSERV 1082998.0 1082998.0 True\n",
      "HOGAR.ALGUNBI      1150134.0 1150134.0 True\n",
      "HOGAR.INDHAC       1150134.0 1150134.0 True\n"
     ]
    }
   ],
   "source": [
    "for df_frac, df_radio, variable in zip(dfs_frac, dfs_radio, variables):\n",
    "    total_frac = sum(df_frac[\"Total\"])\n",
    "    total_radio = sum(df_radio[\"Total\"])\n",
    "    print variable.ljust(18), total_frac, total_radio, total_frac == total_radio"
   ]
  },
  {
   "cell_type": "markdown",
   "metadata": {},
   "source": [
    "## Creación de indicadores"
   ]
  },
  {
   "cell_type": "code",
   "execution_count": 11,
   "metadata": {
    "collapsed": true
   },
   "outputs": [],
   "source": [
    "def get_indicators_df(area_level, id_len=7):\n",
    "    path = get_indicators_path(area_level)\n",
    "    \n",
    "    if not os.path.isfile(path):\n",
    "        return None\n",
    "    else:\n",
    "        df = pd.read_csv(path, encoding=\"utf-8\")\n",
    "        df = replace_index(df, id_len)\n",
    "        return df\n",
    "\n",
    "def get_or_create_indicators_df(area_level, df_example, id_len=7):\n",
    "    df = get_indicators_df(area_level, id_len)\n",
    "    if df is not None:\n",
    "        return df\n",
    "    else:\n",
    "        return pd.DataFrame(index=df_example.index)    "
   ]
  },
  {
   "cell_type": "code",
   "execution_count": 12,
   "metadata": {
    "collapsed": false
   },
   "outputs": [],
   "source": [
    "indicators_frac = get_or_create_indicators_df(\"FRAC\", dfs_frac[0], 7)\n",
    "indicators_radio = get_or_create_indicators_df(\"RADIO\", dfs_radio[0], 9)"
   ]
  },
  {
   "cell_type": "code",
   "execution_count": 13,
   "metadata": {
    "collapsed": false
   },
   "outputs": [],
   "source": [
    "def calculate_indicators_CONDACT(df_indicators, df):\n",
    "    df_indicators[\"tasa_empleo\"] = df[\"Ocupado\"] / df[\"Total\"]\n",
    "    df_indicators[\"tasa_desocupacion\"] = df[\"Desocupado\"] / (df[\"Ocupado\"] + df[\"Desocupado\"])\n",
    "    df_indicators[\"tasa_inactividad\"] = df[\"Inactivo\"] / df[\"Total\"]\n",
    "\n",
    "def calculate_indicators_V02(df_indicators, df):\n",
    "    df_indicators[\"tasa_ocupacion_viviendas\"] = df[\"Con personas presentes\"] / df[\"Total\"]\n",
    "\n",
    "def calculate_indicators_EDADGRU(df_indicators, df):\n",
    "    df_indicators[\"0_14\"] = df[\"0 - 14\"] / df[\"Total\"]\n",
    "    df_indicators[\"15_64\"] = df[\"15 - 64\"] / df[\"Total\"]\n",
    "    df_indicators[\"mas_65\"] = df[\"65 y más\".decode(\"utf-8\")] / df[\"Total\"]\n",
    "    df_indicators[\"habitantes\"] = df[\"Total\"]\n",
    "\n",
    "def calculate_indicators_INCALCONS(df_indicators, df):\n",
    "    df_indicators[\"calidad_constructiva_satisfactoria\"] = df[\"Satisfactoria\"] / df[\"Total\"]\n",
    "    df_indicators[\"calidad_constructiva_basica\"] = df[\"Básica\".decode(\"utf-8\")] / df[\"Total\"]\n",
    "    df_indicators[\"calidad_constructiva_insuficiente\"] = df[\"Insuficiente\"] / df[\"Total\"]\n",
    "\n",
    "def calculate_indicators_INCALSERV(df_indicators, df):\n",
    "    df_indicators[\"conexion_servicios_satisfactoria\"] = df[\"Satisfactoria\"] / df[\"Total\"]\n",
    "    df_indicators[\"conexion_servicios_basica\"] = df[\"Básica\".decode(\"utf-8\")] / df[\"Total\"]\n",
    "    df_indicators[\"conexion_servicios_insuficiente\"] = df[\"Insuficiente\"] / df[\"Total\"]\n",
    "\n",
    "def calculate_indicators_ALGUNBI(df_indicators, df):\n",
    "    df_indicators[\"nbi\"] = df[\"Hogares con NBI\"] / df[\"Total\"]\n",
    "\n",
    "def calculate_indicators_INDHAC(df_indicators, df):\n",
    "    df_indicators[\"hacinamiento_hasta_1_49\"] = sum((df[\"Hasta   0.50 personas por cuarto\"],\n",
    "                                                df[\"0.51  -  0.99  personas por cuarto\"],\n",
    "                                                df[\"1.00  -  1.49  personas por cuarto\"])) / df[\"Total\"]\n",
    "    \n",
    "    df_indicators[\"hacinamiento_hasta_1_49\"] = sum((df[\"1.50  -  1.99  personas por cuarto\"],\n",
    "                                                df[\"2.00  -  3.00  personas por cuarto\"],\n",
    "                                                df[\"Más de  3.00 personas por cuarto\".decode(\"utf-8\")])) / df[\"Total\"]"
   ]
  },
  {
   "cell_type": "code",
   "execution_count": 14,
   "metadata": {
    "collapsed": false
   },
   "outputs": [
    {
     "name": "stdout",
     "output_type": "stream",
     "text": [
      "Calculating indicators of PERSONA.CONDACT with calculate_indicators_CONDACT\n",
      "Calculating indicators of VIVIENDA.V02 with calculate_indicators_V02\n",
      "Calculating indicators of PERSONA.EDADAGRU with calculate_indicators_EDADGRU\n",
      "Calculating indicators of VIVIENDA.INCALCONS with calculate_indicators_INCALCONS\n",
      "Calculating indicators of VIVIENDA.INCALSERV with calculate_indicators_INCALSERV\n",
      "Calculating indicators of HOGAR.ALGUNBI with calculate_indicators_ALGUNBI\n",
      "Calculating indicators of HOGAR.INDHAC with calculate_indicators_INDHAC\n",
      "Calculating indicators of PERSONA.CONDACT with calculate_indicators_CONDACT\n",
      "Calculating indicators of VIVIENDA.V02 with calculate_indicators_V02\n",
      "Calculating indicators of PERSONA.EDADAGRU with calculate_indicators_EDADGRU\n",
      "Calculating indicators of VIVIENDA.INCALCONS with calculate_indicators_INCALCONS\n",
      "Calculating indicators of VIVIENDA.INCALSERV with calculate_indicators_INCALSERV\n",
      "Calculating indicators of HOGAR.ALGUNBI with calculate_indicators_ALGUNBI\n",
      "Calculating indicators of HOGAR.INDHAC with calculate_indicators_INDHAC\n"
     ]
    }
   ],
   "source": [
    "calc_methods = [calculate_indicators_CONDACT, calculate_indicators_V02, calculate_indicators_EDADGRU,\n",
    "                calculate_indicators_INCALCONS, calculate_indicators_INCALSERV, calculate_indicators_ALGUNBI,\n",
    "                calculate_indicators_INDHAC]\n",
    "\n",
    "def calculate_indicators(calc_methods, dfs, df_indicators):\n",
    "    for calc_method, df, variable in zip(calc_methods, dfs, variables):\n",
    "        print \"Calculating indicators of\", variable, \"with\", calc_method.__name__\n",
    "        calc_method(df_indicators, df)\n",
    "\n",
    "calculate_indicators(calc_methods, dfs_frac, indicators_frac)\n",
    "calculate_indicators(calc_methods, dfs_radio, indicators_radio)"
   ]
  },
  {
   "cell_type": "code",
   "execution_count": 15,
   "metadata": {
    "collapsed": false
   },
   "outputs": [
    {
     "data": {
      "text/html": [
       "<div>\n",
       "<table border=\"1\" class=\"dataframe\">\n",
       "  <thead>\n",
       "    <tr style=\"text-align: right;\">\n",
       "      <th></th>\n",
       "      <th>tasa_empleo</th>\n",
       "      <th>tasa_desocupacion</th>\n",
       "      <th>tasa_inactividad</th>\n",
       "      <th>tasa_ocupacion_viviendas</th>\n",
       "      <th>CO_FRACC</th>\n",
       "      <th>0_14</th>\n",
       "      <th>15_64</th>\n",
       "      <th>mas_65</th>\n",
       "      <th>calidad_constructiva_satisfactoria</th>\n",
       "      <th>calidad_constructiva_basica</th>\n",
       "      <th>calidad_constructiva_insuficiente</th>\n",
       "      <th>conexion_servicios_satisfactoria</th>\n",
       "      <th>conexion_servicios_basica</th>\n",
       "      <th>conexion_servicios_insuficiente</th>\n",
       "      <th>nbi</th>\n",
       "      <th>hacinamiento_hasta_1_49</th>\n",
       "      <th>habitantes</th>\n",
       "    </tr>\n",
       "    <tr>\n",
       "      <th>Código</th>\n",
       "      <th></th>\n",
       "      <th></th>\n",
       "      <th></th>\n",
       "      <th></th>\n",
       "      <th></th>\n",
       "      <th></th>\n",
       "      <th></th>\n",
       "      <th></th>\n",
       "      <th></th>\n",
       "      <th></th>\n",
       "      <th></th>\n",
       "      <th></th>\n",
       "      <th></th>\n",
       "      <th></th>\n",
       "      <th></th>\n",
       "      <th></th>\n",
       "      <th></th>\n",
       "    </tr>\n",
       "  </thead>\n",
       "  <tbody>\n",
       "    <tr>\n",
       "      <th>0200101</th>\n",
       "      <td>0.820961</td>\n",
       "      <td>0.035897</td>\n",
       "      <td>0.148472</td>\n",
       "      <td>0.703704</td>\n",
       "      <td>001_1</td>\n",
       "      <td>0.142857</td>\n",
       "      <td>0.824405</td>\n",
       "      <td>0.032738</td>\n",
       "      <td>0.447368</td>\n",
       "      <td>0.289474</td>\n",
       "      <td>0.263158</td>\n",
       "      <td>0.894737</td>\n",
       "      <td>0.026316</td>\n",
       "      <td>0.078947</td>\n",
       "      <td>0.292308</td>\n",
       "      <td>0.338462</td>\n",
       "      <td>336</td>\n",
       "    </tr>\n",
       "    <tr>\n",
       "      <th>0200102</th>\n",
       "      <td>0.680283</td>\n",
       "      <td>0.072142</td>\n",
       "      <td>0.266824</td>\n",
       "      <td>0.953185</td>\n",
       "      <td>001_2</td>\n",
       "      <td>0.298408</td>\n",
       "      <td>0.686116</td>\n",
       "      <td>0.015476</td>\n",
       "      <td>0.118538</td>\n",
       "      <td>0.477843</td>\n",
       "      <td>0.403619</td>\n",
       "      <td>0.884417</td>\n",
       "      <td>0.027326</td>\n",
       "      <td>0.088257</td>\n",
       "      <td>0.290628</td>\n",
       "      <td>0.563922</td>\n",
       "      <td>11243</td>\n",
       "    </tr>\n",
       "    <tr>\n",
       "      <th>0200103</th>\n",
       "      <td>0.714571</td>\n",
       "      <td>0.066722</td>\n",
       "      <td>0.234342</td>\n",
       "      <td>0.929540</td>\n",
       "      <td>001_3</td>\n",
       "      <td>0.321379</td>\n",
       "      <td>0.669561</td>\n",
       "      <td>0.009060</td>\n",
       "      <td>0.066384</td>\n",
       "      <td>0.305085</td>\n",
       "      <td>0.628531</td>\n",
       "      <td>0.776836</td>\n",
       "      <td>0.050847</td>\n",
       "      <td>0.172316</td>\n",
       "      <td>0.348619</td>\n",
       "      <td>0.653108</td>\n",
       "      <td>15894</td>\n",
       "    </tr>\n",
       "    <tr>\n",
       "      <th>0200104</th>\n",
       "      <td>0.678205</td>\n",
       "      <td>0.033735</td>\n",
       "      <td>0.298117</td>\n",
       "      <td>0.588288</td>\n",
       "      <td>001_4</td>\n",
       "      <td>0.131198</td>\n",
       "      <td>0.650685</td>\n",
       "      <td>0.218117</td>\n",
       "      <td>0.935988</td>\n",
       "      <td>0.054824</td>\n",
       "      <td>0.009188</td>\n",
       "      <td>0.993874</td>\n",
       "      <td>0.001531</td>\n",
       "      <td>0.004594</td>\n",
       "      <td>0.024396</td>\n",
       "      <td>0.096874</td>\n",
       "      <td>10366</td>\n",
       "    </tr>\n",
       "    <tr>\n",
       "      <th>0200105</th>\n",
       "      <td>0.669195</td>\n",
       "      <td>0.040000</td>\n",
       "      <td>0.302922</td>\n",
       "      <td>0.592682</td>\n",
       "      <td>001_5</td>\n",
       "      <td>0.124492</td>\n",
       "      <td>0.657739</td>\n",
       "      <td>0.217769</td>\n",
       "      <td>0.926010</td>\n",
       "      <td>0.067181</td>\n",
       "      <td>0.006809</td>\n",
       "      <td>0.998184</td>\n",
       "      <td>0.000454</td>\n",
       "      <td>0.001362</td>\n",
       "      <td>0.006170</td>\n",
       "      <td>0.080212</td>\n",
       "      <td>5414</td>\n",
       "    </tr>\n",
       "  </tbody>\n",
       "</table>\n",
       "</div>"
      ],
      "text/plain": [
       "         tasa_empleo  tasa_desocupacion  tasa_inactividad  \\\n",
       "Código                                                      \n",
       "0200101     0.820961           0.035897          0.148472   \n",
       "0200102     0.680283           0.072142          0.266824   \n",
       "0200103     0.714571           0.066722          0.234342   \n",
       "0200104     0.678205           0.033735          0.298117   \n",
       "0200105     0.669195           0.040000          0.302922   \n",
       "\n",
       "         tasa_ocupacion_viviendas CO_FRACC      0_14     15_64    mas_65  \\\n",
       "Código                                                                     \n",
       "0200101                  0.703704    001_1  0.142857  0.824405  0.032738   \n",
       "0200102                  0.953185    001_2  0.298408  0.686116  0.015476   \n",
       "0200103                  0.929540    001_3  0.321379  0.669561  0.009060   \n",
       "0200104                  0.588288    001_4  0.131198  0.650685  0.218117   \n",
       "0200105                  0.592682    001_5  0.124492  0.657739  0.217769   \n",
       "\n",
       "         calidad_constructiva_satisfactoria  calidad_constructiva_basica  \\\n",
       "Código                                                                     \n",
       "0200101                            0.447368                     0.289474   \n",
       "0200102                            0.118538                     0.477843   \n",
       "0200103                            0.066384                     0.305085   \n",
       "0200104                            0.935988                     0.054824   \n",
       "0200105                            0.926010                     0.067181   \n",
       "\n",
       "         calidad_constructiva_insuficiente  conexion_servicios_satisfactoria  \\\n",
       "Código                                                                         \n",
       "0200101                           0.263158                          0.894737   \n",
       "0200102                           0.403619                          0.884417   \n",
       "0200103                           0.628531                          0.776836   \n",
       "0200104                           0.009188                          0.993874   \n",
       "0200105                           0.006809                          0.998184   \n",
       "\n",
       "         conexion_servicios_basica  conexion_servicios_insuficiente       nbi  \\\n",
       "Código                                                                          \n",
       "0200101                   0.026316                         0.078947  0.292308   \n",
       "0200102                   0.027326                         0.088257  0.290628   \n",
       "0200103                   0.050847                         0.172316  0.348619   \n",
       "0200104                   0.001531                         0.004594  0.024396   \n",
       "0200105                   0.000454                         0.001362  0.006170   \n",
       "\n",
       "         hacinamiento_hasta_1_49  habitantes  \n",
       "Código                                        \n",
       "0200101                 0.338462         336  \n",
       "0200102                 0.563922       11243  \n",
       "0200103                 0.653108       15894  \n",
       "0200104                 0.096874       10366  \n",
       "0200105                 0.080212        5414  "
      ]
     },
     "execution_count": 15,
     "metadata": {},
     "output_type": "execute_result"
    }
   ],
   "source": [
    "indicators_frac.head()"
   ]
  },
  {
   "cell_type": "code",
   "execution_count": 16,
   "metadata": {
    "collapsed": false
   },
   "outputs": [
    {
     "data": {
      "text/html": [
       "<div>\n",
       "<table border=\"1\" class=\"dataframe\">\n",
       "  <thead>\n",
       "    <tr style=\"text-align: right;\">\n",
       "      <th></th>\n",
       "      <th>tasa_empleo</th>\n",
       "      <th>tasa_desocupacion</th>\n",
       "      <th>tasa_inactividad</th>\n",
       "      <th>tasa_ocupacion_viviendas</th>\n",
       "      <th>CO_FRAC_RA</th>\n",
       "      <th>0_14</th>\n",
       "      <th>15_64</th>\n",
       "      <th>mas_65</th>\n",
       "      <th>calidad_constructiva_satisfactoria</th>\n",
       "      <th>calidad_constructiva_basica</th>\n",
       "      <th>calidad_constructiva_insuficiente</th>\n",
       "      <th>conexion_servicios_satisfactoria</th>\n",
       "      <th>conexion_servicios_basica</th>\n",
       "      <th>conexion_servicios_insuficiente</th>\n",
       "      <th>nbi</th>\n",
       "      <th>hacinamiento_hasta_1_49</th>\n",
       "      <th>habitantes</th>\n",
       "    </tr>\n",
       "    <tr>\n",
       "      <th>Código</th>\n",
       "      <th></th>\n",
       "      <th></th>\n",
       "      <th></th>\n",
       "      <th></th>\n",
       "      <th></th>\n",
       "      <th></th>\n",
       "      <th></th>\n",
       "      <th></th>\n",
       "      <th></th>\n",
       "      <th></th>\n",
       "      <th></th>\n",
       "      <th></th>\n",
       "      <th></th>\n",
       "      <th></th>\n",
       "      <th></th>\n",
       "      <th></th>\n",
       "      <th></th>\n",
       "    </tr>\n",
       "  </thead>\n",
       "  <tbody>\n",
       "    <tr>\n",
       "      <th>020010101</th>\n",
       "      <td>0.820961</td>\n",
       "      <td>0.035897</td>\n",
       "      <td>0.148472</td>\n",
       "      <td>0.703704</td>\n",
       "      <td>1_1_1</td>\n",
       "      <td>0.142857</td>\n",
       "      <td>0.824405</td>\n",
       "      <td>0.032738</td>\n",
       "      <td>0.447368</td>\n",
       "      <td>0.289474</td>\n",
       "      <td>0.263158</td>\n",
       "      <td>0.894737</td>\n",
       "      <td>0.026316</td>\n",
       "      <td>0.078947</td>\n",
       "      <td>0.292308</td>\n",
       "      <td>0.338462</td>\n",
       "      <td>336</td>\n",
       "    </tr>\n",
       "    <tr>\n",
       "      <th>020010201</th>\n",
       "      <td>0.668657</td>\n",
       "      <td>0.050847</td>\n",
       "      <td>0.295522</td>\n",
       "      <td>0.905405</td>\n",
       "      <td>1_2_1</td>\n",
       "      <td>0.311715</td>\n",
       "      <td>0.661088</td>\n",
       "      <td>0.027197</td>\n",
       "      <td>0.074627</td>\n",
       "      <td>0.492537</td>\n",
       "      <td>0.432836</td>\n",
       "      <td>0.776119</td>\n",
       "      <td>0.007463</td>\n",
       "      <td>0.216418</td>\n",
       "      <td>0.267081</td>\n",
       "      <td>0.434783</td>\n",
       "      <td>478</td>\n",
       "    </tr>\n",
       "    <tr>\n",
       "      <th>020010202</th>\n",
       "      <td>0.603704</td>\n",
       "      <td>0.084270</td>\n",
       "      <td>0.340741</td>\n",
       "      <td>0.950000</td>\n",
       "      <td>1_2_2</td>\n",
       "      <td>0.339152</td>\n",
       "      <td>0.648379</td>\n",
       "      <td>0.012469</td>\n",
       "      <td>0.087719</td>\n",
       "      <td>0.482456</td>\n",
       "      <td>0.429825</td>\n",
       "      <td>0.842105</td>\n",
       "      <td>0.078947</td>\n",
       "      <td>0.078947</td>\n",
       "      <td>0.195312</td>\n",
       "      <td>0.578125</td>\n",
       "      <td>401</td>\n",
       "    </tr>\n",
       "    <tr>\n",
       "      <th>020010203</th>\n",
       "      <td>0.610656</td>\n",
       "      <td>0.102410</td>\n",
       "      <td>0.319672</td>\n",
       "      <td>0.942308</td>\n",
       "      <td>1_2_3</td>\n",
       "      <td>0.308605</td>\n",
       "      <td>0.673591</td>\n",
       "      <td>0.017804</td>\n",
       "      <td>0.081633</td>\n",
       "      <td>0.438776</td>\n",
       "      <td>0.479592</td>\n",
       "      <td>0.857143</td>\n",
       "      <td>0.071429</td>\n",
       "      <td>0.071429</td>\n",
       "      <td>0.240385</td>\n",
       "      <td>0.557692</td>\n",
       "      <td>337</td>\n",
       "    </tr>\n",
       "    <tr>\n",
       "      <th>020010204</th>\n",
       "      <td>0.691211</td>\n",
       "      <td>0.058252</td>\n",
       "      <td>0.266033</td>\n",
       "      <td>0.924370</td>\n",
       "      <td>1_2_4</td>\n",
       "      <td>0.335548</td>\n",
       "      <td>0.649502</td>\n",
       "      <td>0.014950</td>\n",
       "      <td>0.118182</td>\n",
       "      <td>0.600000</td>\n",
       "      <td>0.281818</td>\n",
       "      <td>0.927273</td>\n",
       "      <td>0.045455</td>\n",
       "      <td>0.027273</td>\n",
       "      <td>0.141104</td>\n",
       "      <td>0.521472</td>\n",
       "      <td>602</td>\n",
       "    </tr>\n",
       "  </tbody>\n",
       "</table>\n",
       "</div>"
      ],
      "text/plain": [
       "           tasa_empleo  tasa_desocupacion  tasa_inactividad  \\\n",
       "Código                                                        \n",
       "020010101     0.820961           0.035897          0.148472   \n",
       "020010201     0.668657           0.050847          0.295522   \n",
       "020010202     0.603704           0.084270          0.340741   \n",
       "020010203     0.610656           0.102410          0.319672   \n",
       "020010204     0.691211           0.058252          0.266033   \n",
       "\n",
       "           tasa_ocupacion_viviendas CO_FRAC_RA      0_14     15_64    mas_65  \\\n",
       "Código                                                                         \n",
       "020010101                  0.703704      1_1_1  0.142857  0.824405  0.032738   \n",
       "020010201                  0.905405      1_2_1  0.311715  0.661088  0.027197   \n",
       "020010202                  0.950000      1_2_2  0.339152  0.648379  0.012469   \n",
       "020010203                  0.942308      1_2_3  0.308605  0.673591  0.017804   \n",
       "020010204                  0.924370      1_2_4  0.335548  0.649502  0.014950   \n",
       "\n",
       "           calidad_constructiva_satisfactoria  calidad_constructiva_basica  \\\n",
       "Código                                                                       \n",
       "020010101                            0.447368                     0.289474   \n",
       "020010201                            0.074627                     0.492537   \n",
       "020010202                            0.087719                     0.482456   \n",
       "020010203                            0.081633                     0.438776   \n",
       "020010204                            0.118182                     0.600000   \n",
       "\n",
       "           calidad_constructiva_insuficiente  \\\n",
       "Código                                         \n",
       "020010101                           0.263158   \n",
       "020010201                           0.432836   \n",
       "020010202                           0.429825   \n",
       "020010203                           0.479592   \n",
       "020010204                           0.281818   \n",
       "\n",
       "           conexion_servicios_satisfactoria  conexion_servicios_basica  \\\n",
       "Código                                                                   \n",
       "020010101                          0.894737                   0.026316   \n",
       "020010201                          0.776119                   0.007463   \n",
       "020010202                          0.842105                   0.078947   \n",
       "020010203                          0.857143                   0.071429   \n",
       "020010204                          0.927273                   0.045455   \n",
       "\n",
       "           conexion_servicios_insuficiente       nbi  hacinamiento_hasta_1_49  \\\n",
       "Código                                                                          \n",
       "020010101                         0.078947  0.292308                 0.338462   \n",
       "020010201                         0.216418  0.267081                 0.434783   \n",
       "020010202                         0.078947  0.195312                 0.578125   \n",
       "020010203                         0.071429  0.240385                 0.557692   \n",
       "020010204                         0.027273  0.141104                 0.521472   \n",
       "\n",
       "           habitantes  \n",
       "Código                 \n",
       "020010101         336  \n",
       "020010201         478  \n",
       "020010202         401  \n",
       "020010203         337  \n",
       "020010204         602  "
      ]
     },
     "execution_count": 16,
     "metadata": {},
     "output_type": "execute_result"
    }
   ],
   "source": [
    "indicators_radio.head()"
   ]
  },
  {
   "cell_type": "code",
   "execution_count": 17,
   "metadata": {
    "collapsed": false
   },
   "outputs": [],
   "source": [
    "indicators_frac.to_csv(get_indicators_path(\"FRAC\"), encoding=\"utf-8\")\n",
    "indicators_radio.to_csv(get_indicators_path(\"RADIO\"), encoding=\"utf-8\")"
   ]
  },
  {
   "cell_type": "code",
   "execution_count": null,
   "metadata": {
    "collapsed": true
   },
   "outputs": [],
   "source": []
  }
 ],
 "metadata": {
  "kernelspec": {
   "display_name": "Python 2",
   "language": "python",
   "name": "python2"
  },
  "language_info": {
   "codemirror_mode": {
    "name": "ipython",
    "version": 2
   },
   "file_extension": ".py",
   "mimetype": "text/x-python",
   "name": "python",
   "nbconvert_exporter": "python",
   "pygments_lexer": "ipython2",
   "version": "2.7.10"
  }
 },
 "nbformat": 4,
 "nbformat_minor": 0
}
