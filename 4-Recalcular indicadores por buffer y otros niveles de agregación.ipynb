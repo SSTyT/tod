{
 "cells": [
  {
   "cell_type": "markdown",
   "metadata": {},
   "source": [
    "# Recalcular indicadores por buffer y para niveles de agregación superiores"
   ]
  },
  {
   "cell_type": "code",
   "execution_count": 35,
   "metadata": {
    "collapsed": false
   },
   "outputs": [],
   "source": [
    "import shapefile\n",
    "from scripts import utils\n",
    "from scripts import recalculate_indicators\n",
    "import pandas as pd\n",
    "from scripts.path_finders import get_weights_path\n",
    "from scripts.create_indicators import get_or_create_indicators_df\n",
    "from scripts.geo_utils import join_df_with_shp\n",
    "from scripts.path_finders import get_division_path"
   ]
  },
  {
   "cell_type": "markdown",
   "metadata": {},
   "source": [
    "## 1. Recalcular indicadores de radios censales para cada buffer"
   ]
  },
  {
   "cell_type": "markdown",
   "metadata": {},
   "source": [
    "Los indicadores calculados por buffer son un promedio ponderado de los indicadores de radios censales que intersectan el buffer. Recalculamos los indicadores para todos los shapefiles generados con buffers de puntos de transporte."
   ]
  },
  {
   "cell_type": "code",
   "execution_count": 36,
   "metadata": {
    "collapsed": false
   },
   "outputs": [
    {
     "name": "stdout",
     "output_type": "stream",
     "text": [
      "Calculating accesibilidad_en_estaciones_de_subte-buffer1000 indicators\n",
      "Calculating accesibilidad_en_estaciones_de_subte-buffer1500 indicators\n",
      "Calculating accesibilidad_en_estaciones_de_subte-buffer2000 indicators\n",
      "Calculating accesibilidad_en_estaciones_de_subte-buffer300 indicators\n",
      "Calculating accesibilidad_en_estaciones_de_subte-buffer500 indicators\n",
      "Calculating accesibilidad_en_estaciones_de_subte-buffer750 indicators\n",
      "Calculating estaciones_de_ferrocarril-buffer1000 indicators\n",
      "Calculating estaciones_de_ferrocarril-buffer1500 indicators\n",
      "Calculating estaciones_de_ferrocarril-buffer2000 indicators\n",
      "Calculating estaciones_de_ferrocarril-buffer300 indicators\n",
      "Calculating estaciones_de_ferrocarril-buffer500 indicators\n",
      "Calculating estaciones_de_ferrocarril-buffer750 indicators\n",
      "Calculating estaciones_de_metrobus-buffer1000 indicators\n",
      "Calculating estaciones_de_metrobus-buffer1500 indicators\n",
      "Calculating estaciones_de_metrobus-buffer2000 indicators\n",
      "Calculating estaciones_de_metrobus-buffer300 indicators\n",
      "Calculating estaciones_de_metrobus-buffer500 indicators\n",
      "Calculating estaciones_de_metrobus-buffer750 indicators\n",
      "Calculating estaciones_de_premetro-buffer1000 indicators\n",
      "Calculating estaciones_de_premetro-buffer1500 indicators\n",
      "Calculating estaciones_de_premetro-buffer2000 indicators\n",
      "Calculating estaciones_de_premetro-buffer300 indicators\n",
      "Calculating estaciones_de_premetro-buffer500 indicators\n",
      "Calculating estaciones_de_premetro-buffer750 indicators\n",
      "Calculating estaciones_de_subte-buffer1000 indicators\n",
      "Calculating estaciones_de_subte-buffer1500 indicators\n",
      "Calculating estaciones_de_subte-buffer2000 indicators\n",
      "Calculating estaciones_de_subte-buffer300 indicators\n",
      "Calculating estaciones_de_subte-buffer500 indicators\n",
      "Calculating estaciones_de_subte-buffer750 indicators\n"
     ]
    }
   ],
   "source": [
    "# se omiten aquellos indicadores que son cuentas, y por lo tanto su agregación no es una media\n",
    "omit_fields = [\"hospitales\", \"educ_priv\", \"educ_pub\"]\n",
    "recalculate_indicators.main(skip=[\"14_10_2\"], recalculate=False, area_level=\"RADIO\", \n",
    "                            subcategory=\"buffers\", omit_fields=omit_fields)"
   ]
  },
  {
   "cell_type": "markdown",
   "metadata": {},
   "source": [
    "## 2. Calcular indicadores para niveles de agregación superiores"
   ]
  },
  {
   "cell_type": "markdown",
   "metadata": {},
   "source": [
    "Algunos indicadores fueron calculados sólo para un nivel de agregación, pero podrían agregarse para los niveles subsiguientes (los indicadores calculados por radio censal, pueden agregarse por fracción, comuna o barrio). Antes de crear los shps finales, se recalcularán aquellos indicadores que sólo estén presentes en un nivel de agregación pero pueden estar en otros."
   ]
  },
  {
   "cell_type": "code",
   "execution_count": 37,
   "metadata": {
    "collapsed": true
   },
   "outputs": [],
   "source": [
    "indicators_radio = get_or_create_indicators_df(\"RADIO\")\n",
    "indicators_frac = get_or_create_indicators_df(\"FRAC\")\n",
    "indicators_comuna = get_or_create_indicators_df(\"DPTO\")"
   ]
  },
  {
   "cell_type": "code",
   "execution_count": 38,
   "metadata": {
    "collapsed": false
   },
   "outputs": [],
   "source": [
    "def get_id_frac(id_radio):\n",
    "    comuna, frac, ra = id_radio.split(\"_\")\n",
    "    return \"_\".join([comuna.zfill(3), frac])\n",
    "\n",
    "def get_id_comuna(id_radio):\n",
    "    comuna, frac, ra = id_radio.split(\"_\")\n",
    "    return comuna\n",
    "\n",
    "indicators_radio[\"CO_FRACC\"] = map(get_id_frac, indicators_radio[\"CO_FRAC_RA\"])\n",
    "indicators_radio[\"COMUNA\"] = map(get_id_comuna, indicators_radio[\"CO_FRAC_RA\"])"
   ]
  },
  {
   "cell_type": "code",
   "execution_count": 39,
   "metadata": {
    "collapsed": true
   },
   "outputs": [],
   "source": [
    "dfr = indicators_radio.copy()\n",
    "\n",
    "hab_frac = indicators_radio.groupby(by=\"CO_FRACC\").sum()[\"hab\"]\n",
    "hab_co = indicators_radio.groupby(by=\"COMUNA\").sum()[\"hab\"]"
   ]
  },
  {
   "cell_type": "code",
   "execution_count": 40,
   "metadata": {
    "collapsed": false
   },
   "outputs": [
    {
     "name": "stdout",
     "output_type": "stream",
     "text": [
      "2890151.0 2890151.0\n"
     ]
    }
   ],
   "source": [
    "print hab_frac.sum(), hab_co.sum()"
   ]
  },
  {
   "cell_type": "code",
   "execution_count": 41,
   "metadata": {
    "collapsed": false
   },
   "outputs": [],
   "source": [
    "dfr[\"hab_co\"] = indicators_radio[\"COMUNA\"].map(hab_co.to_dict())\n",
    "dfr[\"hab_frac\"] = indicators_radio[\"CO_FRACC\"].map(hab_frac.to_dict())"
   ]
  },
  {
   "cell_type": "code",
   "execution_count": 42,
   "metadata": {
    "collapsed": false
   },
   "outputs": [
    {
     "name": "stdout",
     "output_type": "stream",
     "text": [
      "3553\n",
      "2890151.0 2890151.0 2890151.0\n"
     ]
    }
   ],
   "source": [
    "print len(dfr)\n",
    "total_hab1 = dfr[\"hab\"].sum()\n",
    "total_hab2 = dfr.groupby(by=\"CO_FRACC\").sum()[\"hab\"].sum()\n",
    "total_hab3 = dfr.groupby(by=\"COMUNA\").sum()[\"hab\"].sum()\n",
    "print total_hab1, total_hab2, total_hab3 "
   ]
  },
  {
   "cell_type": "code",
   "execution_count": 43,
   "metadata": {
    "collapsed": false
   },
   "outputs": [],
   "source": [
    "dfr[\"pond_frac\"] = dfr[\"hab\"] / dfr[\"hab_frac\"]\n",
    "dfr[\"pond_co\"] = dfr[\"hab\"] / dfr[\"hab_co\"]"
   ]
  },
  {
   "cell_type": "code",
   "execution_count": 44,
   "metadata": {
    "collapsed": false
   },
   "outputs": [
    {
     "name": "stdout",
     "output_type": "stream",
     "text": [
      "351.0\n",
      "15.0\n"
     ]
    }
   ],
   "source": [
    "print dfr.groupby(\"CO_FRACC\").sum()[\"pond_frac\"].sum()\n",
    "print dfr.groupby(\"COMUNA\").sum()[\"pond_co\"].sum()"
   ]
  },
  {
   "cell_type": "code",
   "execution_count": 45,
   "metadata": {
    "collapsed": false
   },
   "outputs": [],
   "source": [
    "omit_fields = [\"educ_priv\", \"educ_pub\", \"hospitales\", \"CO_FRAC_RA\", \"COMUNA\", \"CO_FRACC\"]\n",
    "\n",
    "# recalculamos indicadores de radio por fracción censal\n",
    "for indic in indicators_radio.columns:\n",
    "    if indic not in omit_fields and indic not in indicators_frac.columns:\n",
    "        dfr[\"temp\"] = dfr[\"pond_frac\"] * dfr[indic]\n",
    "        indic_dict = dfr.groupby(by=\"CO_FRACC\").sum()[\"temp\"].to_dict()\n",
    "        indicators_frac[indic] = indicators_frac[\"CO_FRACC\"].map(indic_dict) \n",
    "\n",
    "# recalculamos indicadores de radio por fracción censal\n",
    "for indic in indicators_radio.columns:\n",
    "    if indic not in omit_fields and indic not in indicators_comuna.columns:\n",
    "        dfr[\"temp\"] = dfr[\"pond_co\"] * dfr[indic]\n",
    "        indic_dict = dfr.groupby(by=\"COMUNA\").sum()[\"temp\"].to_dict()\n",
    "        indicators_comuna[indic] = indicators_comuna[\"COMUNAS\"].map(indic_dict) "
   ]
  },
  {
   "cell_type": "markdown",
   "metadata": {},
   "source": [
    "## 3. Crear shapefiles de los indicadores"
   ]
  },
  {
   "cell_type": "code",
   "execution_count": 46,
   "metadata": {
    "collapsed": false
   },
   "outputs": [],
   "source": [
    "join_df_with_shp(get_division_path(\"radios_censo_2010\"), indicators_radio.set_index(\"CO_FRAC_RA\"), \"indicadores\")\n",
    "join_df_with_shp(get_division_path(\"fracciones_caba_censo_2010\"), indicators_frac.set_index(\"CO_FRACC\"), \"indicadores\")\n",
    "join_df_with_shp(get_division_path(\"comunas_caba_censo_2010\"), indicators_comuna.set_index(\"COMUNAS\"), \"indicadores\")"
   ]
  },
  {
   "cell_type": "markdown",
   "metadata": {},
   "source": [
    "## 4. Recalcular indicadores por barrio"
   ]
  },
  {
   "cell_type": "markdown",
   "metadata": {
    "collapsed": true
   },
   "source": [
    "Los barrios son unidades geográficas no construidas como conjuntos de radios o fracciones censales, de manera que el recálculo de indicadores para este nivel de agregación no se puede hacer con joins basados en un sistema de ids. Para este caso, utilizamos un procedimiento similar al del recálculo de indicadores por buffer."
   ]
  },
  {
   "cell_type": "code",
   "execution_count": 47,
   "metadata": {
    "collapsed": true
   },
   "outputs": [],
   "source": [
    "barrios_shp_dir = \"shp/divisiones/barrios_censo_2010\""
   ]
  },
  {
   "cell_type": "code",
   "execution_count": 48,
   "metadata": {
    "collapsed": false
   },
   "outputs": [],
   "source": [
    "recalculate_indicators.recalculate_indicators(barrios_shp_dir, \"RADIO\", skip=[\"14_10_2\"])"
   ]
  },
  {
   "cell_type": "markdown",
   "metadata": {
    "collapsed": true
   },
   "source": [
    "Chequeamos que la cantidad de población calculada por barrio sea consistente con el total de la CABA."
   ]
  },
  {
   "cell_type": "code",
   "execution_count": 49,
   "metadata": {
    "collapsed": false
   },
   "outputs": [],
   "source": [
    "shp_indic_barrios = \"indicadores/barrios_censo_2010/barrios_censo_2010\"\n",
    "shp_indic_comunas = \"indicadores/comunas_censo_2010/comunas_censo_2010\"\n",
    "shp_indic_fracciones = \"indicadores/fracciones_censo_2010/fracciones_censo_2010\"\n",
    "shp_indic_radios = \"indicadores/radios_censo_2010/radios_censo_2010\""
   ]
  },
  {
   "cell_type": "code",
   "execution_count": 50,
   "metadata": {
    "collapsed": false
   },
   "outputs": [],
   "source": [
    "def total_caba_population(shp_indicators):\n",
    "    sf = shapefile.Reader(shp_indicators)\n",
    "    pop_index = [field[0] for field in sf.fields[1:]].index(\"hab\")\n",
    "    return sum((record[pop_index] for record in sf.iterRecords() if record[pop_index] is not None))"
   ]
  },
  {
   "cell_type": "code",
   "execution_count": 51,
   "metadata": {
    "collapsed": false
   },
   "outputs": [
    {
     "name": "stdout",
     "output_type": "stream",
     "text": [
      "2889007.41538\n",
      "2890151.0\n",
      "2890151.0\n",
      "2890151.0\n",
      "Margen de error -0.000395683345081\n"
     ]
    }
   ],
   "source": [
    "print total_caba_population(shp_indic_barrios)\n",
    "print total_caba_population(shp_indic_comunas)\n",
    "print total_caba_population(shp_indic_fracciones)\n",
    "print total_caba_population(shp_indic_radios)\n",
    "\n",
    "print \"Margen de error\", total_caba_population(shp_indic_barrios) / total_caba_population(shp_indic_comunas) - 1"
   ]
  },
  {
   "cell_type": "code",
   "execution_count": null,
   "metadata": {
    "collapsed": true
   },
   "outputs": [],
   "source": []
  },
  {
   "cell_type": "code",
   "execution_count": null,
   "metadata": {
    "collapsed": true
   },
   "outputs": [],
   "source": []
  }
 ],
 "metadata": {
  "kernelspec": {
   "display_name": "Python 2",
   "language": "python",
   "name": "python2"
  },
  "language_info": {
   "codemirror_mode": {
    "name": "ipython",
    "version": 2
   },
   "file_extension": ".py",
   "mimetype": "text/x-python",
   "name": "python",
   "nbconvert_exporter": "python",
   "pygments_lexer": "ipython2",
   "version": "2.7.10"
  }
 },
 "nbformat": 4,
 "nbformat_minor": 0
}
