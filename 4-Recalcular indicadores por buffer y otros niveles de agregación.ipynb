{
 "cells": [
  {
   "cell_type": "markdown",
   "metadata": {},
   "source": [
    "# Recalcular indicadores por buffer y para niveles de agregación superiores"
   ]
  },
  {
   "cell_type": "code",
   "execution_count": 1,
   "metadata": {
    "collapsed": false
   },
   "outputs": [
    {
     "name": "stdout",
     "output_type": "stream",
     "text": [
      "PyTables is not installed. No support for HDF output.\n"
     ]
    }
   ],
   "source": [
    "import shapefile\n",
    "from scripts import utils\n",
    "from scripts import recalculate_indicators\n",
    "import pandas as pd\n",
    "from scripts.path_finders import get_weights_path, get_indicators_path, get_indicators_shp_path\n",
    "from scripts.create_indicators import get_or_create_indicators_df\n",
    "from scripts.geo_utils import join_df_with_shp\n",
    "from scripts.path_finders import get_division_path\n",
    "from scripts.data_loaders import read_dbf"
   ]
  },
  {
   "cell_type": "markdown",
   "metadata": {},
   "source": [
    "## 1. Recalcular indicadores de radios censales para cada buffer"
   ]
  },
  {
   "cell_type": "markdown",
   "metadata": {},
   "source": [
    "Los indicadores calculados por buffer son un promedio ponderado de los indicadores de radios censales que intersectan el buffer. Recalculamos los indicadores para todos los shapefiles generados con buffers de puntos de transporte."
   ]
  },
  {
   "cell_type": "code",
   "execution_count": 2,
   "metadata": {
    "collapsed": false
   },
   "outputs": [
    {
     "name": "stdout",
     "output_type": "stream",
     "text": [
      "Calculating estaciones_de_ferrocarril-buffer1000 indicators\n",
      "Calculating estaciones_de_ferrocarril-buffer1500 indicators\n",
      "Calculating estaciones_de_ferrocarril-buffer2000 indicators\n",
      "Calculating estaciones_de_ferrocarril-buffer300 indicators\n",
      "Calculating estaciones_de_ferrocarril-buffer500 indicators\n",
      "Calculating estaciones_de_ferrocarril-buffer750 indicators\n",
      "Calculating estaciones_de_metrobus-buffer1000 indicators\n",
      "Calculating estaciones_de_metrobus-buffer1500 indicators\n",
      "Calculating estaciones_de_metrobus-buffer2000 indicators\n",
      "Calculating estaciones_de_metrobus-buffer300 indicators\n",
      "Calculating estaciones_de_metrobus-buffer500 indicators\n",
      "Calculating estaciones_de_metrobus-buffer750 indicators\n",
      "Calculating estaciones_de_premetro-buffer1000 indicators\n",
      "Calculating estaciones_de_premetro-buffer1500 indicators\n",
      "Calculating estaciones_de_premetro-buffer2000 indicators\n",
      "Calculating estaciones_de_premetro-buffer300 indicators\n",
      "Calculating estaciones_de_premetro-buffer500 indicators\n",
      "Calculating estaciones_de_premetro-buffer750 indicators\n",
      "Calculating estaciones_de_subte-buffer1000 indicators\n",
      "Calculating estaciones_de_subte-buffer1500 indicators\n",
      "Calculating estaciones_de_subte-buffer2000 indicators\n",
      "Calculating estaciones_de_subte-buffer300 indicators\n",
      "Calculating estaciones_de_subte-buffer500 indicators\n",
      "Calculating estaciones_de_subte-buffer750 indicators\n"
     ]
    }
   ],
   "source": [
    "# se omiten aquellos indicadores que son cuentas, y por lo tanto su agregación no es una media\n",
    "omit_fields = [\"hospitales\", \"educ_priv\", \"educ_pub\"]\n",
    "by_area = [\"COMERCIAL\", \"INDUSTRIAL\", \"SERVICIOS\", \"OTROS\", \"RESIDENCIAL\"]\n",
    "recalculate_indicators.main(recalculate=True, area_level=\"RADIO\", \n",
    "                            subcategory=\"buffers\", omit_fields=omit_fields, by_area=by_area)"
   ]
  },
  {
   "cell_type": "markdown",
   "metadata": {},
   "source": [
    "## 2. Calcular indicadores para niveles de agregación superiores"
   ]
  },
  {
   "cell_type": "markdown",
   "metadata": {},
   "source": [
    "Algunos indicadores fueron calculados sólo para un nivel de agregación, pero podrían agregarse para los niveles subsiguientes (los indicadores calculados por radio censal, pueden agregarse por fracción, comuna o barrio). Antes de crear los shps finales, se recalcularán aquellos indicadores que sólo estén presentes en un nivel de agregación pero pueden estar en otros."
   ]
  },
  {
   "cell_type": "code",
   "execution_count": 18,
   "metadata": {
    "collapsed": true
   },
   "outputs": [],
   "source": [
    "indicators_radio = get_or_create_indicators_df(\"RADIO\")\n",
    "indicators_frac = get_or_create_indicators_df(\"FRAC\")\n",
    "indicators_comuna = get_or_create_indicators_df(\"DPTO\")\n",
    "indicators_caba = get_or_create_indicators_df(\"PROV\")"
   ]
  },
  {
   "cell_type": "code",
   "execution_count": 19,
   "metadata": {
    "collapsed": false
   },
   "outputs": [],
   "source": [
    "indicators_comuna = indicators_comuna[indicators_comuna.index != \"COMERCIAL\"]"
   ]
  },
  {
   "cell_type": "code",
   "execution_count": 20,
   "metadata": {
    "collapsed": false
   },
   "outputs": [],
   "source": [
    "def get_id_frac(id_radio):\n",
    "    comuna, frac, ra = id_radio.split(\"_\")\n",
    "    return \"_\".join([comuna.zfill(3), frac])\n",
    "\n",
    "def get_id_comuna(id_radio):\n",
    "    return unicode(id_radio.split(\"_\")[0])\n",
    "\n",
    "indicators_radio[\"CO_FRACC\"] = map(get_id_frac, indicators_radio[\"CO_FRAC_RA\"])\n",
    "indicators_radio[\"COMUNAS\"] = map(get_id_comuna, indicators_radio[\"CO_FRAC_RA\"])\n",
    "indicators_radio[\"PROV\"] = \"02\""
   ]
  },
  {
   "cell_type": "code",
   "execution_count": 21,
   "metadata": {
    "collapsed": true
   },
   "outputs": [],
   "source": [
    "def to_string(x):\n",
    "    if type(x) == str or type(x) == unicode:\n",
    "        return x\n",
    "    else:\n",
    "        return str(int(x))"
   ]
  },
  {
   "cell_type": "code",
   "execution_count": 22,
   "metadata": {
    "collapsed": false
   },
   "outputs": [],
   "source": [
    "def reaggregate_indicators(df_from, df_to, id_area_level, omit_fields, area_indics=None,\n",
    "                           recalc_indics=None, pop_field=\"hab\", area_field=\"AREA\"):\n",
    "    area_indics = area_indics or []\n",
    "    recalc_indics = recalc_indics or []\n",
    "    \n",
    "    # make a copy, so intermediate data is not stored in the data frame\n",
    "    dfr = df_from.copy()\n",
    "    \n",
    "    hab_to = dfr.groupby(by=id_area_level).sum()[pop_field]\n",
    "    dfr[\"hab_to\"] = dfr[id_area_level].map(hab_to.to_dict())\n",
    "    dfr[\"pond_hab_to\"] = dfr[pop_field] / dfr[\"hab_to\"]\n",
    "\n",
    "    area_to = dfr.groupby(by=id_area_level).sum()[area_field]\n",
    "    dfr[\"area_to\"] = dfr[id_area_level].map(area_to.to_dict())\n",
    "    dfr[\"pond_area_to\"] = dfr[area_field] / dfr[\"area_to\"]\n",
    "    \n",
    "    \n",
    "    for indic in df_from.columns:\n",
    "        if indic not in omit_fields and (indic not in df_to.columns or \n",
    "                                         pd.isnull(df_to[indic]).all() or\n",
    "                                         indic in recalc_indics):\n",
    "\n",
    "            if indic in area_indics:\n",
    "                dfr[\"temp\"] = dfr[\"pond_area_to\"] * dfr[indic]\n",
    "            else:\n",
    "                dfr[\"temp\"] = dfr[\"pond_hab_to\"] * dfr[indic]\n",
    "            indic_dict = dfr.groupby(by=id_area_level).sum()[\"temp\"].to_dict()\n",
    "\n",
    "            if id_area_level in df_to.columns:\n",
    "                # ensure ids are strings\n",
    "                df_to.loc[:,id_area_level] = df_to.loc[:,id_area_level].apply(lambda x: to_string(x))\n",
    "                df_to[indic] = df_to[id_area_level].map(indic_dict) \n",
    "\n",
    "            else:\n",
    "                df_to[indic] = dfr.groupby(by=id_area_level).sum()[\"temp\"]\n",
    "            #print df_to[[indic, id_area_level]]\n",
    "\n",
    "omit_fields = [\"educ_priv\", \"educ_pub\", \"hospitales\", \"CO_FRAC_RA\", \"COMUNAS\", \"CO_FRACC\", \"PROV\", \"AREA\", \"area_km2\"]\n",
    "area_indics = [\"esp_verde\", \"RESIDENCIAL\", \"COMERCIAL\", \"INDUSTRIAL\", \"SERVICIOS\", \"OTROS\"]\n",
    "recalc_indics = [\"esp_verde\", \"RESIDENCIAL\", \"COMERCIAL\", \"INDUSTRIAL\", \"SERVICIOS\", \"OTROS\", \n",
    "                 \"reach_prop\", \"reach_area\", \"nse_mex\"]\n",
    "\n",
    "reaggregate_indicators(indicators_radio, indicators_frac, \"CO_FRACC\", omit_fields, area_indics, recalc_indics)\n",
    "reaggregate_indicators(indicators_radio, indicators_comuna, \"COMUNAS\", omit_fields, area_indics, recalc_indics)\n",
    "reaggregate_indicators(indicators_radio, indicators_caba, \"PROV\", omit_fields, area_indics, recalc_indics)"
   ]
  },
  {
   "cell_type": "code",
   "execution_count": 23,
   "metadata": {
    "collapsed": false
   },
   "outputs": [],
   "source": [
    "indicators_frac.to_csv(get_indicators_path(\"FRAC\"), encoding=\"utf-8\")\n",
    "indicators_comuna.to_csv(get_indicators_path(\"DPTO\"), encoding=\"utf-8\")\n",
    "indicators_caba.to_csv(get_indicators_path(\"PROV\"), encoding=\"utf-8\")"
   ]
  },
  {
   "cell_type": "markdown",
   "metadata": {},
   "source": [
    "## 3. Crear shapefiles de los indicadores"
   ]
  },
  {
   "cell_type": "code",
   "execution_count": 24,
   "metadata": {
    "collapsed": false
   },
   "outputs": [],
   "source": [
    "join_df_with_shp(get_division_path(\"radios_censo_2010\"), indicators_radio.set_index(\"CO_FRAC_RA\"), \"indicadores\")\n",
    "join_df_with_shp(get_division_path(\"fracciones_caba_censo_2010\"), indicators_frac.set_index(\"CO_FRACC\"), \"indicadores\")\n",
    "join_df_with_shp(get_division_path(\"comunas_caba_censo_2010\"), indicators_comuna.set_index(\"COMUNAS\"), \"indicadores\")"
   ]
  },
  {
   "cell_type": "markdown",
   "metadata": {},
   "source": [
    "## 4. Recalcular indicadores por barrio"
   ]
  },
  {
   "cell_type": "markdown",
   "metadata": {
    "collapsed": true
   },
   "source": [
    "Los barrios son unidades geográficas no construidas como conjuntos de radios o fracciones censales, de manera que el recálculo de indicadores para este nivel de agregación no se puede hacer con joins basados en un sistema de ids. Para este caso, utilizamos un procedimiento similar al del recálculo de indicadores por buffer."
   ]
  },
  {
   "cell_type": "code",
   "execution_count": 25,
   "metadata": {
    "collapsed": true
   },
   "outputs": [],
   "source": [
    "from scripts.data_loaders import get_weights"
   ]
  },
  {
   "cell_type": "code",
   "execution_count": 26,
   "metadata": {
    "collapsed": true
   },
   "outputs": [],
   "source": [
    "barrios_shp_dir = \"shp/divisiones/barrios_censo_2010\""
   ]
  },
  {
   "cell_type": "code",
   "execution_count": 27,
   "metadata": {
    "collapsed": false
   },
   "outputs": [],
   "source": [
    "recalculate_indicators.recalculate_indicators(barrios_shp_dir, area_level=\"RADIO\", \n",
    "                                              omit_fields=omit_fields, by_area=by_area)"
   ]
  },
  {
   "cell_type": "markdown",
   "metadata": {
    "collapsed": true
   },
   "source": [
    "Chequeamos que la cantidad de población calculada por barrio sea consistente con el total de la CABA."
   ]
  },
  {
   "cell_type": "code",
   "execution_count": 28,
   "metadata": {
    "collapsed": false
   },
   "outputs": [],
   "source": [
    "shp_indic_barrios = \"indicadores/barrios_censo_2010/barrios_censo_2010\"\n",
    "shp_indic_comunas = \"indicadores/comunas_censo_2010/comunas_censo_2010\"\n",
    "shp_indic_fracciones = \"indicadores/fracciones_censo_2010/fracciones_censo_2010\"\n",
    "shp_indic_radios = \"indicadores/radios_censo_2010/radios_censo_2010\""
   ]
  },
  {
   "cell_type": "code",
   "execution_count": 29,
   "metadata": {
    "collapsed": false
   },
   "outputs": [],
   "source": [
    "def total_caba_population(shp_indicators):\n",
    "    sf = shapefile.Reader(shp_indicators)\n",
    "    pop_index = [field[0] for field in sf.fields[1:]].index(\"hab\")\n",
    "    return sum((record[pop_index] for record in sf.iterRecords() if record[pop_index] is not None))"
   ]
  },
  {
   "cell_type": "code",
   "execution_count": 30,
   "metadata": {
    "collapsed": false
   },
   "outputs": [
    {
     "name": "stdout",
     "output_type": "stream",
     "text": [
      "2889007.41538\n",
      "2890151.0\n",
      "2890151.0\n",
      "2890151.0\n",
      "Margen de error -0.000395683345081\n"
     ]
    }
   ],
   "source": [
    "print total_caba_population(shp_indic_barrios)\n",
    "print total_caba_population(shp_indic_comunas)\n",
    "print total_caba_population(shp_indic_fracciones)\n",
    "print total_caba_population(shp_indic_radios)\n",
    "\n",
    "print \"Margen de error\", total_caba_population(shp_indic_barrios) / total_caba_population(shp_indic_comunas) - 1"
   ]
  },
  {
   "cell_type": "markdown",
   "metadata": {},
   "source": [
    "## 5. Chequear qué indicadores tienen missings en cada nivel de agregación"
   ]
  },
  {
   "cell_type": "code",
   "execution_count": null,
   "metadata": {
    "collapsed": true
   },
   "outputs": [],
   "source": []
  },
  {
   "cell_type": "code",
   "execution_count": 31,
   "metadata": {
    "collapsed": true
   },
   "outputs": [],
   "source": [
    "import json"
   ]
  },
  {
   "cell_type": "code",
   "execution_count": 32,
   "metadata": {
    "collapsed": false
   },
   "outputs": [],
   "source": [
    "with open(\"prueba.json\", \"wb\") as f:\n",
    "    json.dump(json.dumps({\"hola\": \"prueba\"}), f) "
   ]
  },
  {
   "cell_type": "code",
   "execution_count": null,
   "metadata": {
    "collapsed": true
   },
   "outputs": [],
   "source": []
  }
 ],
 "metadata": {
  "kernelspec": {
   "display_name": "Python 2",
   "language": "python",
   "name": "python2"
  },
  "language_info": {
   "codemirror_mode": {
    "name": "ipython",
    "version": 2
   },
   "file_extension": ".py",
   "mimetype": "text/x-python",
   "name": "python",
   "nbconvert_exporter": "python",
   "pygments_lexer": "ipython2",
   "version": "2.7.10"
  }
 },
 "nbformat": 4,
 "nbformat_minor": 0
}
